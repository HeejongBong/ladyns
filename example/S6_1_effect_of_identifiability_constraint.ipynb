{
 "cells": [
  {
   "cell_type": "code",
   "execution_count": 3,
   "metadata": {},
   "outputs": [],
   "source": [
    "# from IPython.core.display import display,HTML\n",
    "# display(HTML('<style> div.prompt {display:default} </style>'))"
   ]
  },
  {
   "cell_type": "code",
   "execution_count": 1,
   "metadata": {},
   "outputs": [],
   "source": [
    "import os, importlib, sys, time, h5py"
   ]
  },
  {
   "cell_type": "code",
   "execution_count": 2,
   "metadata": {},
   "outputs": [],
   "source": [
    "import numpy as np\n",
    "from scipy import linalg, stats, ndimage, io\n",
    "from scipy.sparse import diags"
   ]
  },
  {
   "cell_type": "code",
   "execution_count": 3,
   "metadata": {},
   "outputs": [],
   "source": [
    "import matplotlib.pyplot as plt\n",
    "from matplotlib import rc\n",
    "rc('font',**{'family':'sans-serif','sans-serif':['Helvetica'], 'size':13})\n",
    "## for Palatino and other serif fonts use:\n",
    "# rc('font',**{'family':'serif','serif':['Palatino']})\n",
    "rc('text', usetex=True)"
   ]
  },
  {
   "cell_type": "code",
   "execution_count": 4,
   "metadata": {},
   "outputs": [],
   "source": [
    "import ladyns as ldn\n",
    "import ladyns.inference as inf\n",
    "import ladyns.optimize.core as core"
   ]
  },
  {
   "cell_type": "code",
   "execution_count": 5,
   "metadata": {},
   "outputs": [
    {
     "data": {
      "text/plain": [
       "<module 'miccs.miccs' from '/home/hbong/miniconda3/lib/python3.7/site-packages/miccs/miccs.py'>"
      ]
     },
     "execution_count": 5,
     "metadata": {},
     "output_type": "execute_result"
    }
   ],
   "source": [
    "importlib.reload(ldn)\n",
    "importlib.reload(inf)\n",
    "importlib.reload(core)"
   ]
  },
  {
   "cell_type": "markdown",
   "metadata": {},
   "source": [
    "# 0. simulation from model + LFP"
   ]
  },
  {
   "cell_type": "code",
   "execution_count": 6,
   "metadata": {},
   "outputs": [],
   "source": [
    "save_dir = \"../temp\"\n",
    "if not os.path.exists(save_dir):\n",
    "    os.makedirs(save_dir)"
   ]
  },
  {
   "cell_type": "markdown",
   "metadata": {},
   "source": [
    "## load data"
   ]
  },
  {
   "cell_type": "code",
   "execution_count": 7,
   "metadata": {},
   "outputs": [],
   "source": [
    "data_dir = \"../data/\"\n",
    "file_name = ['lfp_bred_1.mat', 'lfp_bred_2.mat', 'lfp_bred_3.mat']\n",
    "rec_time = [0, 0.5]"
   ]
  },
  {
   "cell_type": "code",
   "execution_count": 8,
   "metadata": {
    "scrolled": true
   },
   "outputs": [],
   "source": [
    "data = [\n",
    "    np.concatenate([io.loadmat('%s/%s'%(data_dir, fname))['v4_bred']\n",
    "                    for fname in file_name], 0)[:,:,:100:2].T,\n",
    "    np.concatenate([io.loadmat('%s/%s'%(data_dir, fname))['pfc_bred']\n",
    "                    for fname in file_name], 0)[:,:,:100:2].T]"
   ]
  },
  {
   "cell_type": "code",
   "execution_count": 9,
   "metadata": {},
   "outputs": [
    {
     "data": {
      "text/plain": [
       "((50, 25, 3000), (50, 25, 3000))"
      ]
     },
     "execution_count": 9,
     "metadata": {},
     "output_type": "execute_result"
    }
   ],
   "source": [
    "data[0].shape, data[1].shape"
   ]
  },
  {
   "cell_type": "code",
   "execution_count": 10,
   "metadata": {},
   "outputs": [],
   "source": [
    "dims = [data[0].shape[1], data[1].shape[1]]\n",
    "num_time = data[0].shape[0]\n",
    "obs_trial = data[0].shape[2]"
   ]
  },
  {
   "cell_type": "markdown",
   "metadata": {},
   "source": [
    "## load LaDynS run on data"
   ]
  },
  {
   "cell_type": "code",
   "execution_count": 11,
   "metadata": {},
   "outputs": [],
   "source": [
    "result_exp = np.load('%s/result_exp.npz'%save_dir)\n",
    "Sigma_exp = result_exp['Sigma_est']\n",
    "weight_exp = result_exp['weight_est']"
   ]
  },
  {
   "cell_type": "markdown",
   "metadata": {},
   "source": [
    "## cross precision"
   ]
  },
  {
   "cell_type": "code",
   "execution_count": 12,
   "metadata": {},
   "outputs": [],
   "source": [
    "num_blobs = 3"
   ]
  },
  {
   "cell_type": "code",
   "execution_count": 13,
   "metadata": {},
   "outputs": [],
   "source": [
    "times = np.array([[1, 1, 12], [21, 18, 6], [32, 37, 9]])"
   ]
  },
  {
   "cell_type": "code",
   "execution_count": 14,
   "metadata": {},
   "outputs": [],
   "source": [
    "H0 = np.zeros((times.shape[0], num_time, num_time))\n",
    "for i, (time_0, time_1, duration) in enumerate(times):\n",
    "    H0[i, time_0:time_0+duration, time_1:time_1+duration] \\\n",
    "    = np.abs(np.arange(duration)-np.arange(duration)[:,None]) < 2"
   ]
  },
  {
   "cell_type": "code",
   "execution_count": 15,
   "metadata": {},
   "outputs": [
    {
     "data": {
      "text/plain": [
       "(0.0, 1.0, 0.0, 1.0)"
      ]
     },
     "execution_count": 15,
     "metadata": {},
     "output_type": "execute_result"
    },
    {
     "data": {
      "image/png": "[encoded data removed]",
      "text/plain": [
       "<Figure size 288x216 with 2 Axes>"
      ]
     },
     "metadata": {
      "needs_background": "light"
     },
     "output_type": "display_data"
    }
   ],
   "source": [
    "import matplotlib.gridspec as gridspec\n",
    "plt.figure(figsize=(4,3))\n",
    "gridspec.GridSpec(1,4); plt.subplot2grid((1,4), (0,0), colspan=3, rowspan=1)\n",
    "ldn.imshow(np.sum(H0, 0), time=[0,50], identity=True, vmax=1)\n",
    "plt.ylabel(r'series 1 at time $t$'); plt.xlabel(r'series 2 at time $s$')\n",
    "ax = plt.subplot2grid((1,4), (0,3))\n",
    "ax.axis('off')"
   ]
  },
  {
   "cell_type": "markdown",
   "metadata": {},
   "source": [
    "## latent direction"
   ]
  },
  {
   "cell_type": "code",
   "execution_count": 20,
   "metadata": {},
   "outputs": [],
   "source": [
    "mu = [np.mean(dat, -1) for dat in data]\n",
    "covs = [\n",
    "    np.matmul(dat - m[...,None], dat - m[...,None], axes=[(1,2),(2,1),(1,2)])/obs_trial\n",
    "    for dat, m in zip(data, mu)]"
   ]
  },
  {
   "cell_type": "code",
   "execution_count": 21,
   "metadata": {},
   "outputs": [],
   "source": [
    "weights_exp = [np.array(weight_exp[:num_time]),\n",
    "               np.array(weight_exp[num_time:])]\n",
    "betas_exp = [(cov @ w[...,None])[...,0] for cov ,w in zip(covs, weights_exp)]"
   ]
  },
  {
   "cell_type": "markdown",
   "metadata": {},
   "source": [
    "## latent precision"
   ]
  },
  {
   "cell_type": "code",
   "execution_count": 22,
   "metadata": {},
   "outputs": [],
   "source": [
    "sighat = Sigma_exp.copy()\n",
    "sighat_1 = sighat[:num_time,:num_time]\n",
    "sighat_2 = sighat[num_time:,num_time:]"
   ]
  },
  {
   "cell_type": "code",
   "execution_count": 23,
   "metadata": {},
   "outputs": [],
   "source": [
    "Y_mm_1 = np.concatenate([[0], np.cumsum(np.sqrt(-2*np.log(\n",
    "    sighat_1[np.arange(1,num_time), np.arange(0,num_time-1)])))])\n",
    "Y_mm_2 = np.concatenate([[0], np.cumsum(np.sqrt(-2*np.log(\n",
    "    sighat_2[np.arange(1,num_time), np.arange(0,num_time-1)])))])"
   ]
  },
  {
   "cell_type": "code",
   "execution_count": 24,
   "metadata": {},
   "outputs": [],
   "source": [
    "sigmm_1 = np.exp(-(np.square(Y_mm_1[:,None] - Y_mm_1[None,:])/2))\n",
    "sigmm_2 = np.exp(-(np.square(Y_mm_2[:,None] - Y_mm_2[None,:])/2))"
   ]
  },
  {
   "cell_type": "code",
   "execution_count": 25,
   "metadata": {},
   "outputs": [],
   "source": [
    "precs_auto = [linalg.inv(S + 0.5 * np.eye(num_time))\n",
    "              for S in [sigmm_1, sigmm_2]] "
   ]
  },
  {
   "cell_type": "code",
   "execution_count": 26,
   "metadata": {},
   "outputs": [],
   "source": [
    "snr = 0.006\n",
    "prec_latent = np.array(np.block([\n",
    "    [precs_auto[0], -snr*np.sum(H0,0)],\n",
    "    [-snr*np.sum(H0,0).T, precs_auto[1]]\n",
    "]))\n",
    "cov_latent = linalg.inv(prec_latent)"
   ]
  },
  {
   "cell_type": "code",
   "execution_count": 27,
   "metadata": {},
   "outputs": [],
   "source": [
    "cov_latent = cov_latent + np.real(np.min(linalg.eig(Sigma_exp)[0]) - np.min(linalg.eig(cov_latent)[0]))*np.eye(2*num_time)\n",
    "sd_latent = np.sqrt(np.diag(cov_latent))\n",
    "corr_latent = cov_latent / sd_latent / sd_latent[:,None]\n",
    "chol_latent = linalg.cholesky(corr_latent)"
   ]
  },
  {
   "cell_type": "markdown",
   "metadata": {},
   "source": [
    "## simulate"
   ]
  },
  {
   "cell_type": "code",
   "execution_count": 29,
   "metadata": {},
   "outputs": [],
   "source": [
    "obs_trial = data[0].shape[2]\n",
    "num_trial = 3000"
   ]
  },
  {
   "cell_type": "code",
   "execution_count": 30,
   "metadata": {},
   "outputs": [],
   "source": [
    "dummy = [dat[:,:,np.random.choice(obs_trial, num_trial, replace=False)]\n",
    "         for dat, dim in zip(data, dims)]\n",
    "ldummy = [np.squeeze(np.matmul(dir_i[:,None,:], dumm - np.mean(dumm, -1, keepdims=True)))\n",
    "          for dir_i, dumm in zip(weights_exp, dummy)]\n",
    "\n",
    "# cov_ldummy = np.cov(ldummy[0], ldummy[1])\n",
    "# sd_ldummy = np.sqrt(np.diag(cov_ldummy))\n",
    "\n",
    "latent_variables = (chol_latent.T @ np.random.normal(0, 1, (2*num_time, num_trial)))\n",
    "\n",
    "# ATTN: identifiability constraint not satisfied here (compare with 3_1_simulation.ipynb)\n",
    "pops = [dummy[0] + betas_exp[0][:,:,None] * (latent_variables[:num_time,None,:]),\n",
    "        dummy[1] + betas_exp[1][:,:,None] * (latent_variables[num_time:,None,:])]"
   ]
  },
  {
   "cell_type": "code",
   "execution_count": 34,
   "metadata": {
    "scrolled": true
   },
   "outputs": [
    {
     "data": {
      "text/plain": [
       "<matplotlib.colorbar.Colorbar at 0x7fd034f56210>"
      ]
     },
     "execution_count": 34,
     "metadata": {},
     "output_type": "execute_result"
    },
    {
     "data": {
      "image/png": "[encoded data removed]",
      "text/plain": [
       "<Figure size 864x288 with 5 Axes>"
      ]
     },
     "metadata": {
      "needs_background": "light"
     },
     "output_type": "display_data"
    }
   ],
   "source": [
    "plt.figure(figsize=(12, 4))\n",
    "plt.subplot(1,3,1); ldn.imshow(chol_latent.T @ chol_latent)\n",
    "plt.subplot(1,3,2); ldn.imshow(np.array(betas_exp[0])); plt.colorbar()\n",
    "plt.subplot(1,3,3); ldn.imshow(np.array(betas_exp[1])); plt.colorbar()"
   ]
  },
  {
   "cell_type": "code",
   "execution_count": 35,
   "metadata": {},
   "outputs": [
    {
     "data": {
      "text/plain": [
       "[<matplotlib.lines.Line2D at 0x7fd034b98b50>]"
      ]
     },
     "execution_count": 35,
     "metadata": {},
     "output_type": "execute_result"
    },
    {
     "data": {
      "image/png": "[encoded data removed]",
      "text/plain": [
       "<Figure size 432x288 with 1 Axes>"
      ]
     },
     "metadata": {
      "needs_background": "light"
     },
     "output_type": "display_data"
    }
   ],
   "source": [
    "plt.plot(pops[0][:,0,0])\n",
    "plt.plot(pops[1][:,0,0])"
   ]
  },
  {
   "cell_type": "markdown",
   "metadata": {},
   "source": [
    "# 1. crossvalidation"
   ]
  },
  {
   "cell_type": "code",
   "execution_count": 36,
   "metadata": {},
   "outputs": [],
   "source": [
    "offset_cross=10\n",
    "offset_auto=10\n",
    "lambdas= np.vstack([\n",
    "    np.exp(np.linspace(np.log(0.1), np.log(0.001), 11)), #np.full((11,), 0.06), ## lambdas_cross\n",
    "    np.zeros(11), ## lambdas_auto\n",
    "    np.full((11,), 0.5), ## lambdas_diag\n",
    "    np.zeros(11)]) ## lambdas_ridge"
   ]
  },
  {
   "cell_type": "code",
   "execution_count": 37,
   "metadata": {},
   "outputs": [],
   "source": [
    "time_graph_cross = (np.abs(np.subtract(*np.where(\n",
    "    np.full([num_time,num_time],True)))\n",
    "       .reshape([num_time,num_time])) < offset_cross)\n",
    "time_graph_auto = (np.abs(np.subtract(*np.where(\n",
    "    np.full([num_time,num_time],True)))\n",
    "       .reshape([num_time,num_time])) < offset_auto)"
   ]
  },
  {
   "cell_type": "code",
   "execution_count": 121,
   "metadata": {},
   "outputs": [],
   "source": [
    "rec_time = [0,50]"
   ]
  },
  {
   "cell_type": "code",
   "execution_count": 122,
   "metadata": {},
   "outputs": [],
   "source": [
    "b_time = np.linspace(rec_time[0], rec_time[1], num_time)\n",
    "l_time = np.linspace(rec_time[0], rec_time[1], 2*num_time-1)"
   ]
  },
  {
   "cell_type": "markdown",
   "metadata": {},
   "source": [
    "## RIC"
   ]
  },
  {
   "cell_type": "code",
   "execution_count": 39,
   "metadata": {},
   "outputs": [],
   "source": [
    "num_cv = 10"
   ]
  },
  {
   "cell_type": "code",
   "execution_count": 40,
   "metadata": {},
   "outputs": [
    {
     "name": "stdout",
     "output_type": "stream",
     "text": [
      "1-th iter, nll: 67.475576, change: 0.076374, lapse: 0.557242\n",
      "2-th iter, nll: 67.424162, change: 0.007312, lapse: 0.494008\n",
      "3-th iter, nll: 67.384980, change: 0.004884, lapse: 0.481781\n",
      "4-th iter, nll: 67.353451, change: 0.003537, lapse: 0.460041\n",
      "5-th iter, nll: 67.327275, change: 0.002893, lapse: 0.460006\n",
      "6-th iter, nll: 67.305103, change: 0.002614, lapse: 0.447937\n",
      "7-th iter, nll: 67.286055, change: 0.002399, lapse: 0.435414\n",
      "8-th iter, nll: 67.269517, change: 0.002217, lapse: 0.425923\n",
      "9-th iter, nll: 67.255041, change: 0.002065, lapse: 0.425771\n",
      "10-th iter, nll: 67.242285, change: 0.001932, lapse: 0.415669\n",
      "11-th iter, nll: 67.230982, change: 0.001810, lapse: 0.410752\n",
      "12-th iter, nll: 67.220918, change: 0.001697, lapse: 0.409891\n",
      "13-th iter, nll: 67.211920, change: 0.001591, lapse: 0.397973\n",
      "14-th iter, nll: 67.203846, change: 0.001497, lapse: 0.395564\n",
      "15-th iter, nll: 67.196576, change: 0.001413, lapse: 0.395175\n",
      "16-th iter, nll: 67.190012, change: 0.001335, lapse: 0.385670\n",
      "17-th iter, nll: 67.184068, change: 0.001261, lapse: 0.384840\n",
      "18-th iter, nll: 67.178674, change: 0.001191, lapse: 0.384817\n",
      "19-th iter, nll: 67.173768, change: 0.001126, lapse: 0.374559\n",
      "20-th iter, nll: 67.169297, change: 0.001065, lapse: 0.375992\n",
      "21-th iter, nll: 67.165215, change: 0.001008, lapse: 0.374202\n",
      "22-th iter, nll: 67.161482, change: 0.000955, lapse: 0.373584\n",
      "1-th iter, nll: 67.158063, change: 0.000905, lapse: 0.371636\n",
      "1-th iter, nll: 67.154879, change: 0.009387, lapse: 0.371943\n",
      "2-th iter, nll: 67.152005, change: 0.000809, lapse: 0.369518\n",
      "1-th iter, nll: 67.148632, change: 0.014671, lapse: 0.365123\n",
      "2-th iter, nll: 67.146207, change: 0.000739, lapse: 0.354273\n",
      "1-th iter, nll: 67.142696, change: 0.009430, lapse: 0.355208\n",
      "2-th iter, nll: 67.140638, change: 0.000675, lapse: 0.356174\n",
      "1-th iter, nll: 67.137360, change: 0.006488, lapse: 0.356802\n",
      "2-th iter, nll: 67.135605, change: 0.000616, lapse: 0.346781\n",
      "1-th iter, nll: 67.132713, change: 0.004593, lapse: 0.346270\n",
      "2-th iter, nll: 67.131211, change: 0.000565, lapse: 0.344577\n",
      "1-th iter, nll: 67.128677, change: 0.003592, lapse: 0.347836\n",
      "2-th iter, nll: 67.127386, change: 0.000517, lapse: 0.332995\n",
      "1-th iter, nll: 67.125223, change: 0.002478, lapse: 0.335167\n",
      "2-th iter, nll: 67.124110, change: 0.000477, lapse: 0.330885\n",
      "1-th iter, nll: 67.122304, change: 0.001807, lapse: 0.335665\n",
      "2-th iter, nll: 67.121342, change: 0.000438, lapse: 0.320833\n",
      "1-th iter, nll: 67.119860, change: 0.001224, lapse: 0.325068\n",
      "2-th iter, nll: 67.119026, change: 0.000405, lapse: 0.432009\n",
      "1-th iter, nll: 67.158063, change: 0.000905, lapse: 0.364081\n",
      "1-th iter, nll: 67.154927, change: 0.000859, lapse: 0.363684\n",
      "1-th iter, nll: 67.149404, change: 0.009135, lapse: 0.356660\n",
      "2-th iter, nll: 67.146965, change: 0.000752, lapse: 0.356644\n",
      "1-th iter, nll: 67.144580, change: 0.026154, lapse: 0.354742\n",
      "2-th iter, nll: 67.142502, change: 0.000687, lapse: 0.355458\n",
      "1-th iter, nll: 67.139998, change: 0.041952, lapse: 0.356757\n",
      "2-th iter, nll: 67.138216, change: 0.000626, lapse: 0.345820\n",
      "1-th iter, nll: 67.135661, change: 0.052187, lapse: 0.354448\n",
      "2-th iter, nll: 67.134126, change: 0.000573, lapse: 0.351310\n",
      "1-th iter, nll: 67.131580, change: 0.058838, lapse: 0.358061\n",
      "2-th iter, nll: 67.130253, change: 0.000526, lapse: 0.331481\n",
      "1-th iter, nll: 67.127930, change: 0.063118, lapse: 0.381471\n",
      "2-th iter, nll: 67.126777, change: 0.000489, lapse: 0.333917\n",
      "1-th iter, nll: 67.124802, change: 0.065705, lapse: 0.391807\n",
      "2-th iter, nll: 67.123797, change: 0.000454, lapse: 0.320342\n",
      "1-th iter, nll: 67.122177, change: 0.067235, lapse: 0.392859\n",
      "2-th iter, nll: 67.121296, change: 0.000417, lapse: 0.330324\n",
      "1-th iter, nll: 67.119987, change: 0.068102, lapse: 0.398753\n",
      "2-th iter, nll: 67.119214, change: 0.000384, lapse: 0.310181\n",
      "1-th iter, nll: 67.158063, change: 0.000905, lapse: 0.365853\n",
      "1-th iter, nll: 67.154927, change: 0.001052, lapse: 0.366005\n",
      "2-th iter, nll: 67.152046, change: 0.000819, lapse: 0.366862\n",
      "1-th iter, nll: 67.148836, change: 0.024617, lapse: 0.365617\n",
      "2-th iter, nll: 67.146388, change: 0.000752, lapse: 0.353804\n",
      "1-th iter, nll: 67.143012, change: 0.044239, lapse: 0.379135\n",
      "2-th iter, nll: 67.140922, change: 0.000686, lapse: 0.359212\n",
      "1-th iter, nll: 67.137738, change: 0.060906, lapse: 0.356139\n",
      "2-th iter, nll: 67.135947, change: 0.000628, lapse: 0.342488\n",
      "1-th iter, nll: 67.133019, change: 0.072704, lapse: 0.379193\n",
      "2-th iter, nll: 67.131477, change: 0.000584, lapse: 0.343001\n",
      "1-th iter, nll: 67.128852, change: 0.079531, lapse: 0.380489\n",
      "2-th iter, nll: 67.127517, change: 0.000545, lapse: 0.331670\n",
      "1-th iter, nll: 67.125310, change: 0.084409, lapse: 0.389773\n",
      "2-th iter, nll: 67.124149, change: 0.000512, lapse: 0.331192\n",
      "1-th iter, nll: 67.122337, change: 0.087538, lapse: 0.381268\n",
      "2-th iter, nll: 67.121323, change: 0.000479, lapse: 0.319156\n",
      "1-th iter, nll: 67.119848, change: 0.089641, lapse: 0.386015\n",
      "2-th iter, nll: 67.118959, change: 0.000449, lapse: 0.320446\n",
      "1-th iter, nll: 67.117766, change: 0.091070, lapse: 0.386521\n",
      "2-th iter, nll: 67.116983, change: 0.000423, lapse: 0.313748\n",
      "1-th iter, nll: 67.158063, change: 0.000905, lapse: 0.377230\n",
      "1-th iter, nll: 67.154927, change: 0.000859, lapse: 0.365443\n",
      "1-th iter, nll: 67.149230, change: 0.011441, lapse: 0.362498\n",
      "2-th iter, nll: 67.146789, change: 0.000753, lapse: 0.353806\n",
      "1-th iter, nll: 67.143709, change: 0.024071, lapse: 0.356942\n",
      "2-th iter, nll: 67.141627, change: 0.000685, lapse: 0.356385\n",
      "1-th iter, nll: 67.138468, change: 0.036614, lapse: 0.354616\n",
      "2-th iter, nll: 67.136685, change: 0.000626, lapse: 0.343856\n",
      "1-th iter, nll: 67.133567, change: 0.046926, lapse: 0.365682\n",
      "2-th iter, nll: 67.132030, change: 0.000575, lapse: 0.342622\n",
      "1-th iter, nll: 67.129075, change: 0.054121, lapse: 0.344890\n",
      "2-th iter, nll: 67.127742, change: 0.000530, lapse: 0.333326\n",
      "1-th iter, nll: 67.125020, change: 0.058605, lapse: 0.359802\n",
      "2-th iter, nll: 67.123862, change: 0.000486, lapse: 0.332126\n",
      "1-th iter, nll: 67.121458, change: 0.061382, lapse: 0.350683\n",
      "2-th iter, nll: 67.120446, change: 0.000445, lapse: 0.324288\n",
      "1-th iter, nll: 67.118403, change: 0.063082, lapse: 0.381191\n",
      "2-th iter, nll: 67.117516, change: 0.000408, lapse: 0.322020\n",
      "1-th iter, nll: 67.115850, change: 0.064106, lapse: 0.410926\n",
      "2-th iter, nll: 67.115068, change: 0.000376, lapse: 0.312212\n",
      "1-th iter, nll: 67.158063, change: 0.000905, lapse: 0.364020\n",
      "1-th iter, nll: 67.154927, change: 0.000859, lapse: 0.365311\n",
      "1-th iter, nll: 67.149400, change: 0.009160, lapse: 0.356585\n",
      "2-th iter, nll: 67.146961, change: 0.000752, lapse: 0.354612\n",
      "1-th iter, nll: 67.144353, change: 0.027370, lapse: 0.355143\n",
      "2-th iter, nll: 67.142268, change: 0.000687, lapse: 0.354404\n",
      "1-th iter, nll: 67.139501, change: 0.045318, lapse: 0.355933\n",
      "2-th iter, nll: 67.137713, change: 0.000629, lapse: 0.343658\n",
      "1-th iter, nll: 67.134974, change: 0.056656, lapse: 0.354693\n",
      "2-th iter, nll: 67.133434, change: 0.000578, lapse: 0.342833\n",
      "1-th iter, nll: 67.130874, change: 0.063923, lapse: 0.355167\n",
      "2-th iter, nll: 67.129541, change: 0.000533, lapse: 0.331849\n",
      "1-th iter, nll: 67.127274, change: 0.068321, lapse: 0.370001\n",
      "2-th iter, nll: 67.126116, change: 0.000494, lapse: 0.340728\n",
      "1-th iter, nll: 67.124178, change: 0.071477, lapse: 0.372266\n",
      "2-th iter, nll: 67.123166, change: 0.000458, lapse: 0.321286\n",
      "1-th iter, nll: 67.121537, change: 0.073156, lapse: 0.374843\n",
      "2-th iter, nll: 67.120649, change: 0.000425, lapse: 0.320530\n",
      "1-th iter, nll: 67.119303, change: 0.074129, lapse: 0.368931\n",
      "2-th iter, nll: 67.118520, change: 0.000396, lapse: 0.312414\n",
      "1-th iter, nll: 67.158063, change: 0.000905, lapse: 0.366697\n",
      "1-th iter, nll: 67.154927, change: 0.000859, lapse: 0.376297\n",
      "1-th iter, nll: 67.149404, change: 0.009135, lapse: 0.351026\n",
      "2-th iter, nll: 67.146965, change: 0.000752, lapse: 0.350588\n",
      "1-th iter, nll: 67.144625, change: 0.023396, lapse: 0.352442\n",
      "2-th iter, nll: 67.142549, change: 0.000686, lapse: 0.353041\n",
      "1-th iter, nll: 67.140221, change: 0.036238, lapse: 0.353147\n",
      "2-th iter, nll: 67.138442, change: 0.000619, lapse: 0.343872\n",
      "1-th iter, nll: 67.135817, change: 0.047491, lapse: 0.355909\n",
      "2-th iter, nll: 67.134281, change: 0.000560, lapse: 0.355218\n",
      "1-th iter, nll: 67.131560, change: 0.054530, lapse: 0.355271\n",
      "2-th iter, nll: 67.130230, change: 0.000507, lapse: 0.333664\n",
      "1-th iter, nll: 67.127676, change: 0.058708, lapse: 0.362398\n"
     ]
    },
    {
     "name": "stdout",
     "output_type": "stream",
     "text": [
      "2-th iter, nll: 67.126518, change: 0.000464, lapse: 0.334945\n",
      "1-th iter, nll: 67.124289, change: 0.061250, lapse: 0.361887\n",
      "2-th iter, nll: 67.123277, change: 0.000428, lapse: 0.320883\n",
      "1-th iter, nll: 67.121419, change: 0.062794, lapse: 0.380987\n",
      "2-th iter, nll: 67.120531, change: 0.000397, lapse: 0.321201\n",
      "1-th iter, nll: 67.119029, change: 0.063671, lapse: 0.380954\n",
      "2-th iter, nll: 67.118247, change: 0.000370, lapse: 0.312943\n",
      "1-th iter, nll: 67.158063, change: 0.000905, lapse: 0.363616\n",
      "1-th iter, nll: 67.154927, change: 0.000859, lapse: 0.364963\n",
      "1-th iter, nll: 67.149404, change: 0.009135, lapse: 0.353889\n",
      "2-th iter, nll: 67.146965, change: 0.000752, lapse: 0.355020\n",
      "1-th iter, nll: 67.144663, change: 0.023329, lapse: 0.354148\n",
      "2-th iter, nll: 67.142592, change: 0.000686, lapse: 0.359675\n",
      "1-th iter, nll: 67.140270, change: 0.039113, lapse: 0.355595\n",
      "2-th iter, nll: 67.138501, change: 0.000632, lapse: 0.342376\n",
      "1-th iter, nll: 67.136163, change: 0.050336, lapse: 0.356047\n",
      "2-th iter, nll: 67.134645, change: 0.000583, lapse: 0.341129\n",
      "1-th iter, nll: 67.132405, change: 0.057257, lapse: 0.357117\n",
      "2-th iter, nll: 67.131095, change: 0.000539, lapse: 0.332295\n",
      "1-th iter, nll: 67.129032, change: 0.061472, lapse: 0.356736\n",
      "2-th iter, nll: 67.127897, change: 0.000503, lapse: 0.330929\n",
      "1-th iter, nll: 67.126082, change: 0.063989, lapse: 0.368561\n",
      "2-th iter, nll: 67.125095, change: 0.000468, lapse: 0.322847\n",
      "1-th iter, nll: 67.123559, change: 0.065440, lapse: 0.377453\n",
      "2-th iter, nll: 67.122697, change: 0.000437, lapse: 0.321177\n",
      "1-th iter, nll: 67.121426, change: 0.066223, lapse: 0.379226\n",
      "2-th iter, nll: 67.120670, change: 0.000408, lapse: 0.312622\n",
      "1-th iter, nll: 67.158063, change: 0.000905, lapse: 0.371126\n",
      "1-th iter, nll: 67.154927, change: 0.000859, lapse: 0.367629\n",
      "1-th iter, nll: 67.149241, change: 0.014749, lapse: 0.367428\n",
      "2-th iter, nll: 67.146802, change: 0.000752, lapse: 0.357644\n",
      "1-th iter, nll: 67.144013, change: 0.031059, lapse: 0.359055\n",
      "2-th iter, nll: 67.141938, change: 0.000687, lapse: 0.358017\n",
      "1-th iter, nll: 67.139086, change: 0.042914, lapse: 0.356798\n",
      "2-th iter, nll: 67.137311, change: 0.000628, lapse: 0.344766\n",
      "1-th iter, nll: 67.134459, change: 0.052428, lapse: 0.358288\n",
      "2-th iter, nll: 67.132933, change: 0.000577, lapse: 0.343565\n",
      "1-th iter, nll: 67.130296, change: 0.055384, lapse: 0.372236\n",
      "2-th iter, nll: 67.128974, change: 0.000532, lapse: 0.339839\n",
      "1-th iter, nll: 67.126649, change: 0.059197, lapse: 0.376487\n",
      "2-th iter, nll: 67.125498, change: 0.000493, lapse: 0.335441\n",
      "1-th iter, nll: 67.123553, change: 0.061376, lapse: 0.373467\n",
      "2-th iter, nll: 67.122546, change: 0.000458, lapse: 0.324056\n",
      "1-th iter, nll: 67.120950, change: 0.062578, lapse: 0.378308\n",
      "2-th iter, nll: 67.120067, change: 0.000427, lapse: 0.326044\n",
      "1-th iter, nll: 67.118773, change: 0.063171, lapse: 0.400700\n",
      "2-th iter, nll: 67.117995, change: 0.000398, lapse: 0.313761\n",
      "1-th iter, nll: 67.158063, change: 0.000905, lapse: 0.369078\n",
      "1-th iter, nll: 67.154927, change: 0.000859, lapse: 0.369842\n",
      "1-th iter, nll: 67.149404, change: 0.009135, lapse: 0.360201\n",
      "2-th iter, nll: 67.146965, change: 0.000752, lapse: 0.357762\n",
      "1-th iter, nll: 67.144481, change: 0.021322, lapse: 0.356433\n",
      "2-th iter, nll: 67.142407, change: 0.000686, lapse: 0.356408\n",
      "1-th iter, nll: 67.139732, change: 0.032673, lapse: 0.370133\n",
      "2-th iter, nll: 67.137956, change: 0.000628, lapse: 0.346536\n",
      "1-th iter, nll: 67.135416, change: 0.043301, lapse: 0.359502\n",
      "2-th iter, nll: 67.133887, change: 0.000576, lapse: 0.346681\n",
      "1-th iter, nll: 67.131605, change: 0.049891, lapse: 0.370460\n",
      "2-th iter, nll: 67.130283, change: 0.000530, lapse: 0.332767\n",
      "1-th iter, nll: 67.128216, change: 0.054244, lapse: 0.383208\n",
      "2-th iter, nll: 67.127067, change: 0.000489, lapse: 0.336662\n",
      "1-th iter, nll: 67.125225, change: 0.056267, lapse: 0.399229\n",
      "2-th iter, nll: 67.124222, change: 0.000450, lapse: 0.327013\n",
      "1-th iter, nll: 67.122620, change: 0.057559, lapse: 0.402837\n",
      "2-th iter, nll: 67.121739, change: 0.000414, lapse: 0.324182\n",
      "1-th iter, nll: 67.120394, change: 0.058716, lapse: 0.404901\n",
      "2-th iter, nll: 67.119617, change: 0.000384, lapse: 0.313924\n",
      "1-th iter, nll: 67.158063, change: 0.000905, lapse: 0.369341\n",
      "1-th iter, nll: 67.154927, change: 0.000859, lapse: 0.368448\n",
      "1-th iter, nll: 67.149404, change: 0.009135, lapse: 0.367911\n",
      "2-th iter, nll: 67.146965, change: 0.000752, lapse: 0.361161\n",
      "1-th iter, nll: 67.144530, change: 0.019154, lapse: 0.358870\n",
      "2-th iter, nll: 67.142453, change: 0.000683, lapse: 0.358565\n",
      "1-th iter, nll: 67.139967, change: 0.026547, lapse: 0.359995\n",
      "2-th iter, nll: 67.138189, change: 0.000622, lapse: 0.346310\n",
      "1-th iter, nll: 67.135776, change: 0.037735, lapse: 0.346852\n",
      "2-th iter, nll: 67.134243, change: 0.000571, lapse: 0.347719\n",
      "1-th iter, nll: 67.131949, change: 0.045166, lapse: 0.345595\n",
      "2-th iter, nll: 67.130623, change: 0.000525, lapse: 0.335044\n",
      "1-th iter, nll: 67.128551, change: 0.049872, lapse: 0.359822\n",
      "2-th iter, nll: 67.127398, change: 0.000487, lapse: 0.335186\n",
      "1-th iter, nll: 67.125618, change: 0.052851, lapse: 0.351164\n",
      "2-th iter, nll: 67.124610, change: 0.000453, lapse: 0.322298\n",
      "1-th iter, nll: 67.123121, change: 0.054733, lapse: 0.363653\n",
      "2-th iter, nll: 67.122236, change: 0.000420, lapse: 0.326749\n",
      "1-th iter, nll: 67.121013, change: 0.055924, lapse: 0.369899\n",
      "2-th iter, nll: 67.120233, change: 0.000391, lapse: 0.323154\n"
     ]
    }
   ],
   "source": [
    "Omegas_cv = np.zeros([num_cv, lambdas.shape[-1], 2*num_time, 2*num_time])\n",
    "weights_cv = []\n",
    "\n",
    "for iter_cv in np.arange(num_cv):\n",
    "    start_cv = time.time()\n",
    "    \n",
    "    # random sample\n",
    "    trial_sample = np.random.choice(num_trial, num_trial, False)\n",
    "    data_bst = [pops[0], pops[1][:,:,trial_sample]]\n",
    "\n",
    "    for iter_est, (lambda_cross, lambda_auto, lambda_diag, lambda_ridge) \\\n",
    "    in enumerate(zip(*lambdas)): \n",
    "        if iter_cv > 0:\n",
    "            init_arg = {'Omega_init': Omegas_cv[0,iter_est],\n",
    "                        'weight_init': weights_cv[iter_est]}\n",
    "        elif iter_est > 0:\n",
    "            init_arg = {'Omega_init': Omegas_cv[0,iter_est-1],\n",
    "                        'weight_init': weights_cv[iter_est-1]}\n",
    "        else:\n",
    "            init_arg = dict()\n",
    "\n",
    "        Omega_est, Sigma_est, latent_est, weight_est \\\n",
    "        = ldn.fit(data_bst, lambda_diag, lambda_cross, offset_cross,\n",
    "                   lambda_auto, offset_auto, \n",
    "                   ths_glasso=1e-6, ths_lasso=1e-6, verbose=True,\n",
    "                   **init_arg)\n",
    "        \n",
    "        # save result\n",
    "        Omegas_cv[iter_cv, iter_est] = Omega_est\n",
    "        if iter_cv == 0:\n",
    "            weights_cv.append(weight_est)\n",
    "\n",
    "    sys.__stdout__.write(\"%d-th cv finished, lapse: %.3fsec.\\n\"\n",
    "                         %(iter_cv+1, time.time()-start_cv))\n",
    "    sys.__stdout__.flush()"
   ]
  },
  {
   "cell_type": "code",
   "execution_count": 41,
   "metadata": {},
   "outputs": [
    {
     "data": {
      "image/png": "[encoded data removed]",
      "text/plain": [
       "<Figure size 864x648 with 11 Axes>"
      ]
     },
     "metadata": {
      "needs_background": "light"
     },
     "output_type": "display_data"
    }
   ],
   "source": [
    "plt.figure(figsize=(12,3*np.ceil(lambdas.shape[-1]/4)))\n",
    "for iter_lambda, (lambda_cross, lambda_auto, lambda_diag, lambda_ridge) \\\n",
    "in enumerate(zip(*lambdas)):\n",
    "    plt.subplot(np.ceil(lambdas.shape[-1]/4), 4, iter_lambda+1)\n",
    "    ldn.imshow(Omegas_cv[0, iter_lambda,:num_time,num_time:], identity=True)\n",
    "    plt.title(r'$\\lambda_{cross} = %f$'%lambda_cross)"
   ]
  },
  {
   "cell_type": "code",
   "execution_count": 42,
   "metadata": {},
   "outputs": [],
   "source": [
    "fds_cv = np.sum(Omegas_cv[:,:,:num_time,num_time:]!=0,(0,-2,-1))/num_cv\n",
    "fdrs_cv = np.sum(Omegas_cv[:,:,:num_time,num_time:]!=0,(0,-2,-1))/np.sum(time_graph_cross)/num_cv"
   ]
  },
  {
   "cell_type": "code",
   "execution_count": 43,
   "metadata": {},
   "outputs": [
    {
     "data": {
      "text/plain": [
       "Text(0, 0.5, 'mean false discovery')"
      ]
     },
     "execution_count": 43,
     "metadata": {},
     "output_type": "execute_result"
    },
    {
     "data": {
      "image/png": "[encoded data removed]",
      "text/plain": [
       "<Figure size 360x288 with 1 Axes>"
      ]
     },
     "metadata": {
      "needs_background": "light"
     },
     "output_type": "display_data"
    }
   ],
   "source": [
    "plt.figure(figsize=(5,4))\n",
    "plt.plot(lambdas[0], fds_cv)\n",
    "plt.plot(lambdas[0], np.full(lambdas[0].shape, 0.05*np.sum(time_graph_cross)), color='black', linestyle=':')\n",
    "plt.xlabel(r\"$\\lambda_{cross}$\")\n",
    "plt.ylabel(r\"mean false discovery\")"
   ]
  },
  {
   "cell_type": "markdown",
   "metadata": {},
   "source": [
    "# cv result"
   ]
  },
  {
   "cell_type": "code",
   "execution_count": 44,
   "metadata": {},
   "outputs": [],
   "source": [
    "id_cv = np.argmax(fdrs_cv[fdrs_cv < 0.05])"
   ]
  },
  {
   "cell_type": "code",
   "execution_count": 45,
   "metadata": {},
   "outputs": [
    {
     "data": {
      "text/plain": [
       "(0.025118864315095805, 0.0, 0.5, 0.0)"
      ]
     },
     "execution_count": 45,
     "metadata": {},
     "output_type": "execute_result"
    }
   ],
   "source": [
    "lambda_cross, lambda_auto, lambda_diag, lambda_ridge = lambdas.T[id_cv]\n",
    "lambda_cross, lambda_auto, lambda_diag, lambda_ridge"
   ]
  },
  {
   "cell_type": "code",
   "execution_count": 46,
   "metadata": {},
   "outputs": [],
   "source": [
    "lambda_graph = np.array(np.block(\n",
    "    [[(1+lambda_auto)*(time_graph_auto-np.eye(num_time)) + (1+lambda_diag)*np.eye(num_time), (1+lambda_cross)*time_graph_cross],\n",
    "     [(1+lambda_cross)*time_graph_cross, (1+lambda_auto)*(time_graph_auto-np.eye(num_time)) + (1+lambda_diag)*np.eye(num_time)]])) -1"
   ]
  },
  {
   "cell_type": "code",
   "execution_count": 47,
   "metadata": {},
   "outputs": [
    {
     "data": {
      "image/png": "[encoded data removed]",
      "text/plain": [
       "<Figure size 432x288 with 1 Axes>"
      ]
     },
     "metadata": {
      "needs_background": "light"
     },
     "output_type": "display_data"
    }
   ],
   "source": [
    "ldn.imshow(lambda_graph)"
   ]
  },
  {
   "cell_type": "code",
   "execution_count": 48,
   "metadata": {},
   "outputs": [],
   "source": [
    "# initialization by CCA\n",
    "S_xt = np.cov(*[dat.transpose([1,0,2]).reshape([d,-1])\n",
    "            for dat, d in zip(data, dims)])\n",
    "S_1 = S_xt[:dims[0],:dims[0]]\n",
    "S_12 = S_xt[:dims[0],dims[0]:]\n",
    "S_2 = S_xt[dims[0]:,dims[0]:]\n",
    "\n",
    "U_1= linalg.inv(linalg.sqrtm(S_1))\n",
    "U_2 = linalg.inv(linalg.sqrtm(S_2))\n",
    "\n",
    "u, s, vh = np.linalg.svd(U_1 @ S_12 @ U_2)\n",
    "weight_init = [(U_1 @ u[:,0]).copy() for _ in np.arange(num_time)] \\\n",
    "            + [ (U_2 @ vh[0]).copy() for _ in np.arange(num_time)]"
   ]
  },
  {
   "cell_type": "code",
   "execution_count": 49,
   "metadata": {
    "scrolled": true
   },
   "outputs": [
    {
     "name": "stdout",
     "output_type": "stream",
     "text": [
      "1-th iter, nll: 67.465311, change: 0.076373, lapse: 0.553924\n",
      "2-th iter, nll: 67.413662, change: 0.007327, lapse: 0.499112\n",
      "3-th iter, nll: 67.374276, change: 0.004892, lapse: 0.490577\n",
      "4-th iter, nll: 67.342582, change: 0.003549, lapse: 0.471709\n",
      "5-th iter, nll: 67.316279, change: 0.002898, lapse: 0.463782\n",
      "6-th iter, nll: 67.294013, change: 0.002617, lapse: 0.446999\n",
      "7-th iter, nll: 67.274901, change: 0.002401, lapse: 0.433986\n",
      "8-th iter, nll: 67.258324, change: 0.002218, lapse: 0.421714\n",
      "9-th iter, nll: 67.243830, change: 0.002065, lapse: 0.422608\n",
      "10-th iter, nll: 67.231073, change: 0.001931, lapse: 0.410863\n",
      "11-th iter, nll: 67.219785, change: 0.001808, lapse: 0.409978\n",
      "12-th iter, nll: 67.209747, change: 0.001694, lapse: 0.417175\n",
      "13-th iter, nll: 67.200785, change: 0.001587, lapse: 0.399963\n",
      "14-th iter, nll: 67.192753, change: 0.001493, lapse: 0.406616\n",
      "15-th iter, nll: 67.185532, change: 0.001409, lapse: 0.396761\n",
      "16-th iter, nll: 67.179020, change: 0.001329, lapse: 0.383057\n",
      "17-th iter, nll: 67.173133, change: 0.001255, lapse: 0.383042\n",
      "18-th iter, nll: 67.167797, change: 0.001185, lapse: 0.383144\n",
      "19-th iter, nll: 67.162951, change: 0.001120, lapse: 0.372849\n",
      "20-th iter, nll: 67.158541, change: 0.001058, lapse: 0.373094\n",
      "21-th iter, nll: 67.154521, change: 0.001001, lapse: 0.370683\n",
      "22-th iter, nll: 67.150849, change: 0.000947, lapse: 0.369012\n"
     ]
    }
   ],
   "source": [
    "Omega_est, Sigma_est, latent_est, weight_est \\\n",
    "= ldn.fit(pops, lambda_diag, lambda_cross, offset_cross,\n",
    "          lambda_auto, offset_auto, \n",
    "          ths_glasso=1e-6, ths_lasso=1e-6, verbose=True)"
   ]
  },
  {
   "cell_type": "code",
   "execution_count": 51,
   "metadata": {},
   "outputs": [],
   "source": [
    "dspr_est = 2*Omega_est - Omega_est @ Sigma_est @ Omega_est"
   ]
  },
  {
   "cell_type": "markdown",
   "metadata": {},
   "source": [
    "## plots"
   ]
  },
  {
   "cell_type": "code",
   "execution_count": 124,
   "metadata": {},
   "outputs": [
    {
     "data": {
      "text/plain": [
       "Text(0.5, 0, 'series 2 at time $s$')"
      ]
     },
     "execution_count": 124,
     "metadata": {},
     "output_type": "execute_result"
    },
    {
     "data": {
      "image/png": "[encoded data removed]",
      "text/plain": [
       "<Figure size 288x216 with 2 Axes>"
      ]
     },
     "metadata": {
      "needs_background": "light"
     },
     "output_type": "display_data"
    }
   ],
   "source": [
    "plt.figure(figsize=(4,3))\n",
    "ldn.imshow(Omega_est[:num_time,num_time:], time=[0,50], identity=True)\n",
    "plt.fill_between((b_time[offset_cross], rec_time[1]), \n",
    "                (rec_time[0], rec_time[0]), \n",
    "                (rec_time[0], rec_time[1]-b_time[offset_cross]+rec_time[0]), color='lightgray')\n",
    "plt.fill_between((rec_time[0], rec_time[1]-b_time[offset_cross]+rec_time[0]), \n",
    "                (b_time[offset_cross], rec_time[1]), \n",
    "                (rec_time[1], rec_time[1]), color='lightgray')\n",
    "plt.clim(-0.006,0.006); cbar = plt.colorbar(ticks=[-0.006, -0.003, 0.0, 0.003, 0.006])\n",
    "cbar.ax.set_yticklabels(['-6e-3','-3e-3','0','3e-3','6e-3'])\n",
    "ax.set_xlim(rec_time[0], rec_time[1]); ax.set_ylim(rec_time[1], rec_time[0])\n",
    "plt.ylabel(r'series 1 at time $t$'); plt.xlabel(r'series 2 at time $s$')"
   ]
  },
  {
   "cell_type": "code",
   "execution_count": 55,
   "metadata": {},
   "outputs": [
    {
     "data": {
      "text/plain": [
       "<matplotlib.colorbar.Colorbar at 0x7fd0345e41d0>"
      ]
     },
     "execution_count": 55,
     "metadata": {},
     "output_type": "execute_result"
    },
    {
     "data": {
      "image/png": "[encoded data removed]",
      "text/plain": [
       "<Figure size 288x216 with 2 Axes>"
      ]
     },
     "metadata": {
      "needs_background": "light"
     },
     "output_type": "display_data"
    }
   ],
   "source": [
    "plt.figure(figsize=(4,3))\n",
    "ldn.imshow(Sigma_est[:num_time,num_time:], time=[0,50], identity=True)\n",
    "plt.ylabel(r'series 1 at time $t$'); plt.xlabel(r'series 2 at time $s$')\n",
    "plt.colorbar()"
   ]
  },
  {
   "cell_type": "markdown",
   "metadata": {},
   "source": [
    "# 2. Permutation test"
   ]
  },
  {
   "cell_type": "code",
   "execution_count": 56,
   "metadata": {},
   "outputs": [],
   "source": [
    "num_perm = 200"
   ]
  },
  {
   "cell_type": "code",
   "execution_count": 57,
   "metadata": {},
   "outputs": [],
   "source": [
    "init_arg = {'Omega_init': Omegas_cv[0,id_cv],\n",
    "            'weight_init': weights_cv[id_cv]}"
   ]
  },
  {
   "cell_type": "code",
   "execution_count": 58,
   "metadata": {
    "scrolled": true
   },
   "outputs": [
    {
     "name": "stdout",
     "output_type": "stream",
     "text": [
      "1-th iter, nll: 67.135773, change: 0.058112, lapse: 0.593369\n",
      "2-th iter, nll: 67.120668, change: 0.002493, lapse: 0.440557\n",
      "3-th iter, nll: 67.109942, change: 0.001845, lapse: 0.415908\n",
      "4-th iter, nll: 67.101452, change: 0.001532, lapse: 0.402876\n",
      "5-th iter, nll: 67.094357, change: 0.001354, lapse: 0.402587\n",
      "6-th iter, nll: 67.088246, change: 0.001261, lapse: 0.394134\n",
      "7-th iter, nll: 67.082884, change: 0.001198, lapse: 0.399112\n",
      "8-th iter, nll: 67.078123, change: 0.001140, lapse: 0.379359\n",
      "9-th iter, nll: 67.073861, change: 0.001086, lapse: 0.381099\n",
      "10-th iter, nll: 67.070020, change: 0.001033, lapse: 0.378350\n",
      "11-th iter, nll: 67.066543, change: 0.000983, lapse: 0.367085\n",
      "1-th iter, nll: 67.062757, change: 0.023981, lapse: 0.367989\n",
      "2-th iter, nll: 67.059895, change: 0.000890, lapse: 0.366906\n",
      "1-th iter, nll: 67.057702, change: 0.023502, lapse: 0.366170\n",
      "2-th iter, nll: 67.055280, change: 0.000831, lapse: 0.358629\n",
      "1-th iter, nll: 67.053227, change: 0.013625, lapse: 0.356686\n",
      "2-th iter, nll: 67.051171, change: 0.000771, lapse: 0.357867\n",
      "1-th iter, nll: 67.048049, change: 0.036079, lapse: 0.360646\n",
      "2-th iter, nll: 67.046311, change: 0.000708, lapse: 0.355406\n",
      "1-th iter, nll: 67.043627, change: 0.058800, lapse: 0.354649\n",
      "2-th iter, nll: 67.042129, change: 0.000687, lapse: 0.343364\n",
      "1-th iter, nll: 67.042570, change: 0.025810, lapse: 0.348587\n",
      "2-th iter, nll: 67.041259, change: 0.000632, lapse: 0.347476\n",
      "1-th iter, nll: 67.039451, change: 0.038056, lapse: 0.347700\n",
      "2-th iter, nll: 67.038312, change: 0.000588, lapse: 0.347469\n",
      "1-th iter, nll: 67.038270, change: 0.035945, lapse: 0.334520\n",
      "2-th iter, nll: 67.037271, change: 0.000557, lapse: 0.333103\n",
      "1-th iter, nll: 67.036317, change: 0.007130, lapse: 0.332600\n",
      "2-th iter, nll: 67.035442, change: 0.000523, lapse: 0.331814\n",
      "1-th iter, nll: 67.034357, change: 0.019046, lapse: 0.333095\n",
      "2-th iter, nll: 67.033587, change: 0.000491, lapse: 0.322227\n",
      "1-th iter, nll: 67.032998, change: 0.021270, lapse: 0.320807\n",
      "2-th iter, nll: 67.032316, change: 0.000465, lapse: 0.320676\n",
      "1-th iter, nll: 67.031540, change: 0.013103, lapse: 0.320410\n",
      "2-th iter, nll: 67.030935, change: 0.000438, lapse: 0.321357\n",
      "1-th iter, nll: 67.030588, change: 0.015607, lapse: 0.312625\n",
      "2-th iter, nll: 67.030056, change: 0.000408, lapse: 0.311539\n",
      "1-th iter, nll: 67.029475, change: 0.016734, lapse: 0.311897\n",
      "2-th iter, nll: 67.028995, change: 0.000388, lapse: 0.312581\n",
      "1-th iter, nll: 67.027839, change: 0.030842, lapse: 0.312716\n",
      "2-th iter, nll: 67.027419, change: 0.000353, lapse: 0.311517\n",
      "1-th iter, nll: 67.027461, change: 0.023321, lapse: 0.300731\n",
      "2-th iter, nll: 67.027083, change: 0.000335, lapse: 0.299375\n",
      "1-th iter, nll: 67.026990, change: 0.021640, lapse: 0.299294\n",
      "2-th iter, nll: 67.026653, change: 0.000329, lapse: 0.299242\n",
      "1-th iter, nll: 67.025672, change: 0.031054, lapse: 0.301141\n",
      "2-th iter, nll: 67.025367, change: 0.000312, lapse: 0.298575\n",
      "1-th iter, nll: 67.025908, change: 0.030879, lapse: 0.298892\n",
      "2-th iter, nll: 67.025634, change: 0.000281, lapse: 0.300165\n",
      "1-th iter, nll: 67.024508, change: 0.028052, lapse: 0.300501\n",
      "2-th iter, nll: 67.024266, change: 0.000263, lapse: 0.289177\n",
      "1-th iter, nll: 67.024581, change: 0.019754, lapse: 0.292151\n",
      "2-th iter, nll: 67.024359, change: 0.000250, lapse: 0.290429\n",
      "1-th iter, nll: 67.024111, change: 0.025563, lapse: 0.298813\n",
      "2-th iter, nll: 67.023909, change: 0.000248, lapse: 0.288399\n",
      "1-th iter, nll: 67.024060, change: 0.015767, lapse: 0.278051\n",
      "2-th iter, nll: 67.023880, change: 0.000232, lapse: 0.285977\n",
      "1-th iter, nll: 67.023121, change: 0.027147, lapse: 0.285087\n",
      "2-th iter, nll: 67.022959, change: 0.000220, lapse: 0.286017\n",
      "1-th iter, nll: 67.021993, change: 0.035190, lapse: 0.320177\n",
      "2-th iter, nll: 67.021843, change: 0.000197, lapse: 0.266941\n",
      "1-th iter, nll: 67.022357, change: 0.032433, lapse: 0.298885\n",
      "2-th iter, nll: 67.022224, change: 0.000192, lapse: 0.275982\n",
      "1-th iter, nll: 67.021794, change: 0.021304, lapse: 0.265638\n",
      "2-th iter, nll: 67.021670, change: 0.000182, lapse: 0.275647\n",
      "1-th iter, nll: 67.022390, change: 0.028959, lapse: 0.286915\n",
      "2-th iter, nll: 67.022279, change: 0.000174, lapse: 0.265401\n",
      "1-th iter, nll: 67.021697, change: 0.025116, lapse: 0.278074\n",
      "2-th iter, nll: 67.021597, change: 0.000169, lapse: 0.265372\n",
      "1-th iter, nll: 67.021363, change: 0.031336, lapse: 0.288958\n",
      "2-th iter, nll: 67.021270, change: 0.000160, lapse: 0.266665\n",
      "1-th iter, nll: 67.021342, change: 0.024430, lapse: 0.330701\n",
      "2-th iter, nll: 67.021255, change: 0.000155, lapse: 0.266903\n",
      "1-th iter, nll: 67.021703, change: 0.022886, lapse: 0.279064\n",
      "2-th iter, nll: 67.021627, change: 0.000149, lapse: 0.265867\n",
      "1-th iter, nll: 67.019057, change: 0.053121, lapse: 0.312903\n",
      "2-th iter, nll: 67.018979, change: 0.000149, lapse: 0.266086\n",
      "1-th iter, nll: 67.020324, change: 0.044156, lapse: 0.310364\n",
      "2-th iter, nll: 67.020256, change: 0.000139, lapse: 0.265662\n",
      "1-th iter, nll: 67.021205, change: 0.029615, lapse: 0.287537\n",
      "2-th iter, nll: 67.021147, change: 0.000130, lapse: 0.264504\n",
      "1-th iter, nll: 67.020398, change: 0.028225, lapse: 0.311761\n",
      "2-th iter, nll: 67.020342, change: 0.000121, lapse: 0.255356\n",
      "1-th iter, nll: 67.021108, change: 0.025297, lapse: 0.307568\n",
      "2-th iter, nll: 67.021060, change: 0.000119, lapse: 0.254366\n",
      "1-th iter, nll: 67.021097, change: 0.010108, lapse: 0.255667\n",
      "2-th iter, nll: 67.021053, change: 0.000116, lapse: 0.274936\n",
      "1-th iter, nll: 67.020286, change: 0.033711, lapse: 0.321188\n",
      "2-th iter, nll: 67.020243, change: 0.000111, lapse: 0.265884\n",
      "1-th iter, nll: 67.020266, change: 0.029471, lapse: 0.290476\n",
      "2-th iter, nll: 67.020226, change: 0.000137, lapse: 0.266718\n",
      "1-th iter, nll: 67.019835, change: 0.040203, lapse: 0.254482\n",
      "2-th iter, nll: 67.019800, change: 0.000127, lapse: 0.264956\n",
      "1-th iter, nll: 67.020492, change: 0.035825, lapse: 0.275116\n",
      "2-th iter, nll: 67.020460, change: 0.000085, lapse: 0.263497\n",
      "1-th iter, nll: 67.020709, change: 0.020635, lapse: 0.278230\n",
      "2-th iter, nll: 67.020679, change: 0.000088, lapse: 0.266286\n",
      "1-th iter, nll: 67.020361, change: 0.022110, lapse: 0.287390\n",
      "2-th iter, nll: 67.020334, change: 0.000088, lapse: 0.273383\n",
      "1-th iter, nll: 67.020345, change: 0.027192, lapse: 0.286849\n",
      "2-th iter, nll: 67.020319, change: 0.000125, lapse: 0.254633\n",
      "1-th iter, nll: 67.019913, change: 0.020251, lapse: 0.286783\n",
      "2-th iter, nll: 67.019889, change: 0.000087, lapse: 0.265089\n",
      "1-th iter, nll: 67.019377, change: 0.040008, lapse: 0.341761\n",
      "2-th iter, nll: 67.019352, change: 0.000126, lapse: 0.254277\n",
      "1-th iter, nll: 67.020138, change: 0.034654, lapse: 0.287321\n",
      "2-th iter, nll: 67.020118, change: 0.000076, lapse: 0.265030\n",
      "1-th iter, nll: 67.020159, change: 0.028529, lapse: 0.319860\n",
      "2-th iter, nll: 67.020141, change: 0.000073, lapse: 0.254991\n",
      "1-th iter, nll: 67.019889, change: 0.012345, lapse: 0.290172\n",
      "2-th iter, nll: 67.019871, change: 0.000067, lapse: 0.254337\n",
      "1-th iter, nll: 67.019854, change: 0.018031, lapse: 0.286536\n",
      "2-th iter, nll: 67.019838, change: 0.000069, lapse: 0.254170\n",
      "1-th iter, nll: 67.020340, change: 0.018500, lapse: 0.255257\n",
      "2-th iter, nll: 67.020326, change: 0.000068, lapse: 0.255070\n",
      "1-th iter, nll: 67.020354, change: 0.011156, lapse: 0.233839\n",
      "2-th iter, nll: 67.020341, change: 0.000063, lapse: 0.234334\n",
      "1-th iter, nll: 67.020070, change: 0.014011, lapse: 0.267645\n",
      "2-th iter, nll: 67.020057, change: 0.000068, lapse: 0.255789\n",
      "1-th iter, nll: 67.020229, change: 0.021387, lapse: 0.244821\n",
      "2-th iter, nll: 67.020218, change: 0.000055, lapse: 0.235011\n",
      "1-th iter, nll: 67.020130, change: 0.014070, lapse: 0.253541\n",
      "2-th iter, nll: 67.020119, change: 0.000072, lapse: 0.254679\n",
      "1-th iter, nll: 67.020266, change: 0.015538, lapse: 0.253950\n",
      "2-th iter, nll: 67.020257, change: 0.000054, lapse: 0.231885\n",
      "1-th iter, nll: 67.019572, change: 0.023587, lapse: 0.297593\n",
      "2-th iter, nll: 67.019562, change: 0.000091, lapse: 0.243027\n",
      "1-th iter, nll: 67.019834, change: 0.036076, lapse: 0.276729\n",
      "2-th iter, nll: 67.019825, change: 0.000047, lapse: 0.233791\n",
      "1-th iter, nll: 67.019361, change: 0.026752, lapse: 0.289731\n",
      "2-th iter, nll: 67.019352, change: 0.000067, lapse: 0.235522\n",
      "1-th iter, nll: 67.019613, change: 0.041559, lapse: 0.298018\n",
      "2-th iter, nll: 67.019605, change: 0.000047, lapse: 0.254122\n",
      "1-th iter, nll: 67.019728, change: 0.028702, lapse: 0.308789\n",
      "2-th iter, nll: 67.019719, change: 0.000215, lapse: 0.253619\n"
     ]
    },
    {
     "name": "stdout",
     "output_type": "stream",
     "text": [
      "1-th iter, nll: 67.020072, change: 0.026879, lapse: 0.299041\n",
      "2-th iter, nll: 67.020065, change: 0.000044, lapse: 0.234054\n",
      "1-th iter, nll: 67.019873, change: 0.022542, lapse: 0.288136\n",
      "2-th iter, nll: 67.019866, change: 0.000083, lapse: 0.233600\n",
      "1-th iter, nll: 67.020143, change: 0.022190, lapse: 0.295584\n",
      "2-th iter, nll: 67.020137, change: 0.000040, lapse: 0.221663\n",
      "1-th iter, nll: 67.019356, change: 0.018754, lapse: 0.318936\n",
      "2-th iter, nll: 67.019349, change: 0.000089, lapse: 0.223825\n",
      "1-th iter, nll: 67.018935, change: 0.042226, lapse: 0.277500\n",
      "2-th iter, nll: 67.018927, change: 0.000086, lapse: 0.222918\n",
      "1-th iter, nll: 67.019641, change: 0.033894, lapse: 0.299649\n",
      "2-th iter, nll: 67.019635, change: 0.000057, lapse: 0.245924\n",
      "1-th iter, nll: 67.019941, change: 0.017202, lapse: 0.265481\n",
      "2-th iter, nll: 67.019937, change: 0.000027, lapse: 0.253964\n",
      "1-th iter, nll: 67.019946, change: 0.016095, lapse: 0.243249\n",
      "2-th iter, nll: 67.019942, change: 0.000058, lapse: 0.222301\n",
      "1-th iter, nll: 67.019923, change: 0.012581, lapse: 0.264894\n",
      "2-th iter, nll: 67.019919, change: 0.000042, lapse: 0.233314\n",
      "1-th iter, nll: 67.019635, change: 0.018654, lapse: 0.275656\n",
      "2-th iter, nll: 67.019631, change: 0.000072, lapse: 0.232486\n",
      "1-th iter, nll: 67.019420, change: 0.018764, lapse: 0.288220\n",
      "2-th iter, nll: 67.019416, change: 0.000050, lapse: 0.253830\n",
      "1-th iter, nll: 67.019649, change: 0.027752, lapse: 0.308586\n",
      "2-th iter, nll: 67.019645, change: 0.000064, lapse: 0.233652\n",
      "1-th iter, nll: 67.019636, change: 0.023946, lapse: 0.309298\n",
      "2-th iter, nll: 67.019632, change: 0.000125, lapse: 0.236272\n",
      "1-th iter, nll: 67.020077, change: 0.022035, lapse: 0.309707\n",
      "2-th iter, nll: 67.020074, change: 0.000037, lapse: 0.234501\n",
      "1-th iter, nll: 67.019467, change: 0.026748, lapse: 0.253560\n",
      "2-th iter, nll: 67.019463, change: 0.000087, lapse: 0.221848\n",
      "1-th iter, nll: 67.019703, change: 0.029748, lapse: 0.306772\n",
      "2-th iter, nll: 67.019699, change: 0.000090, lapse: 0.211990\n",
      "1-th iter, nll: 67.019914, change: 0.018263, lapse: 0.285794\n",
      "2-th iter, nll: 67.019911, change: 0.000054, lapse: 0.222250\n",
      "1-th iter, nll: 67.019318, change: 0.029074, lapse: 0.285680\n",
      "2-th iter, nll: 67.019314, change: 0.000096, lapse: 0.232769\n",
      "1-th iter, nll: 67.019724, change: 0.024464, lapse: 0.286839\n",
      "2-th iter, nll: 67.019721, change: 0.000053, lapse: 0.222890\n",
      "1-th iter, nll: 67.019505, change: 0.025985, lapse: 0.286940\n",
      "2-th iter, nll: 67.019503, change: 0.000070, lapse: 0.242833\n",
      "1-th iter, nll: 67.020029, change: 0.024430, lapse: 0.266932\n",
      "2-th iter, nll: 67.020027, change: 0.000032, lapse: 0.254892\n",
      "1-th iter, nll: 67.019304, change: 0.027262, lapse: 0.254468\n",
      "2-th iter, nll: 67.019302, change: 0.000059, lapse: 0.223086\n",
      "1-th iter, nll: 67.019716, change: 0.036685, lapse: 0.263620\n",
      "2-th iter, nll: 67.019714, change: 0.000051, lapse: 0.221330\n",
      "1-th iter, nll: 67.019261, change: 0.044633, lapse: 0.266510\n",
      "2-th iter, nll: 67.019258, change: 0.000072, lapse: 0.235119\n",
      "1-th iter, nll: 67.019831, change: 0.029739, lapse: 0.286087\n",
      "2-th iter, nll: 67.019829, change: 0.000055, lapse: 0.243735\n",
      "1-th iter, nll: 67.018737, change: 0.035686, lapse: 0.276635\n",
      "2-th iter, nll: 67.018733, change: 0.000116, lapse: 0.254460\n",
      "1-th iter, nll: 67.019586, change: 0.036830, lapse: 0.287193\n",
      "2-th iter, nll: 67.019583, change: 0.000077, lapse: 0.253224\n",
      "1-th iter, nll: 67.019922, change: 0.017610, lapse: 0.264389\n",
      "2-th iter, nll: 67.019921, change: 0.000042, lapse: 0.202666\n",
      "1-th iter, nll: 67.019985, change: 0.010638, lapse: 0.244422\n",
      "2-th iter, nll: 67.019984, change: 0.000026, lapse: 0.223346\n",
      "1-th iter, nll: 67.019855, change: 0.011908, lapse: 0.288987\n",
      "2-th iter, nll: 67.019854, change: 0.000035, lapse: 0.235298\n",
      "1-th iter, nll: 67.019635, change: 0.022518, lapse: 0.263359\n",
      "2-th iter, nll: 67.019634, change: 0.000056, lapse: 0.210191\n",
      "1-th iter, nll: 67.019392, change: 0.031099, lapse: 0.235068\n",
      "2-th iter, nll: 67.019390, change: 0.000077, lapse: 0.222991\n",
      "1-th iter, nll: 67.019625, change: 0.023792, lapse: 0.267215\n",
      "2-th iter, nll: 67.019623, change: 0.000065, lapse: 0.234674\n",
      "1-th iter, nll: 67.020061, change: 0.022052, lapse: 0.263109\n",
      "2-th iter, nll: 67.020060, change: 0.000020, lapse: 0.232544\n",
      "1-th iter, nll: 67.019669, change: 0.013682, lapse: 0.285467\n",
      "2-th iter, nll: 67.019668, change: 0.000055, lapse: 0.222703\n",
      "1-th iter, nll: 67.019386, change: 0.026772, lapse: 0.307598\n",
      "2-th iter, nll: 67.019384, change: 0.000092, lapse: 0.253059\n",
      "1-th iter, nll: 67.018956, change: 0.030871, lapse: 0.299042\n",
      "2-th iter, nll: 67.018953, change: 0.000106, lapse: 0.243906\n",
      "1-th iter, nll: 67.020001, change: 0.029052, lapse: 0.255580\n",
      "2-th iter, nll: 67.020000, change: 0.000024, lapse: 0.223253\n",
      "1-th iter, nll: 67.019780, change: 0.019468, lapse: 0.285098\n",
      "2-th iter, nll: 67.019779, change: 0.000057, lapse: 0.233051\n",
      "1-th iter, nll: 67.019846, change: 0.012633, lapse: 0.289224\n",
      "2-th iter, nll: 67.019845, change: 0.000040, lapse: 0.212753\n",
      "1-th iter, nll: 67.019946, change: 0.014736, lapse: 0.253328\n",
      "2-th iter, nll: 67.019945, change: 0.000040, lapse: 0.223277\n",
      "1-th iter, nll: 67.019733, change: 0.016973, lapse: 0.295917\n",
      "2-th iter, nll: 67.019732, change: 0.000034, lapse: 0.231896\n",
      "1-th iter, nll: 67.018020, change: 0.045576, lapse: 0.321030\n",
      "2-th iter, nll: 67.018015, change: 0.000137, lapse: 0.233050\n",
      "1-th iter, nll: 67.020027, change: 0.044102, lapse: 0.296142\n",
      "2-th iter, nll: 67.020026, change: 0.000040, lapse: 0.221563\n",
      "1-th iter, nll: 67.019814, change: 0.015970, lapse: 0.244159\n",
      "2-th iter, nll: 67.019813, change: 0.000046, lapse: 0.222868\n",
      "1-th iter, nll: 67.019792, change: 0.020402, lapse: 0.286453\n",
      "2-th iter, nll: 67.019791, change: 0.000064, lapse: 0.222577\n",
      "1-th iter, nll: 67.019670, change: 0.011609, lapse: 0.289029\n",
      "2-th iter, nll: 67.019669, change: 0.000047, lapse: 0.223082\n",
      "1-th iter, nll: 67.019570, change: 0.021367, lapse: 0.298295\n",
      "2-th iter, nll: 67.019569, change: 0.000073, lapse: 0.244301\n",
      "1-th iter, nll: 67.020008, change: 0.022078, lapse: 0.252720\n",
      "2-th iter, nll: 67.020007, change: 0.000031, lapse: 0.241728\n",
      "1-th iter, nll: 67.019704, change: 0.020420, lapse: 0.284587\n",
      "2-th iter, nll: 67.019703, change: 0.000043, lapse: 0.221795\n",
      "1-th iter, nll: 67.020021, change: 0.020750, lapse: 0.263701\n",
      "2-th iter, nll: 67.020020, change: 0.000024, lapse: 0.211184\n",
      "1-th iter, nll: 67.019519, change: 0.019612, lapse: 0.286949\n",
      "2-th iter, nll: 67.019517, change: 0.000053, lapse: 0.223726\n",
      "1-th iter, nll: 67.019313, change: 0.034111, lapse: 0.320563\n",
      "2-th iter, nll: 67.019310, change: 0.000123, lapse: 0.224044\n",
      "1-th iter, nll: 67.019585, change: 0.019569, lapse: 0.297328\n",
      "2-th iter, nll: 67.019584, change: 0.000053, lapse: 0.231841\n",
      "1-th iter, nll: 67.018974, change: 0.049364, lapse: 0.339806\n",
      "2-th iter, nll: 67.018971, change: 0.000097, lapse: 0.231664\n",
      "1-th iter, nll: 67.019513, change: 0.044650, lapse: 0.296657\n",
      "2-th iter, nll: 67.019511, change: 0.000068, lapse: 0.232826\n",
      "1-th iter, nll: 67.019401, change: 0.027772, lapse: 0.266144\n",
      "2-th iter, nll: 67.019400, change: 0.000068, lapse: 0.233407\n",
      "1-th iter, nll: 67.019976, change: 0.029793, lapse: 0.285565\n",
      "2-th iter, nll: 67.019976, change: 0.000064, lapse: 0.223405\n",
      "1-th iter, nll: 67.017950, change: 0.046940, lapse: 0.296953\n",
      "2-th iter, nll: 67.017944, change: 0.000167, lapse: 0.244156\n",
      "1-th iter, nll: 67.019078, change: 0.025972, lapse: 0.289159\n",
      "2-th iter, nll: 67.019074, change: 0.000086, lapse: 0.235202\n",
      "1-th iter, nll: 67.019726, change: 0.027801, lapse: 0.276247\n",
      "2-th iter, nll: 67.019725, change: 0.000035, lapse: 0.222534\n",
      "1-th iter, nll: 67.019232, change: 0.037867, lapse: 0.296927\n",
      "2-th iter, nll: 67.019231, change: 0.000043, lapse: 0.222313\n",
      "1-th iter, nll: 67.019608, change: 0.028562, lapse: 0.275011\n",
      "2-th iter, nll: 67.019606, change: 0.000067, lapse: 0.231588\n",
      "1-th iter, nll: 67.019599, change: 0.030452, lapse: 0.278444\n",
      "2-th iter, nll: 67.019598, change: 0.000055, lapse: 0.264564\n",
      "1-th iter, nll: 67.018519, change: 0.041382, lapse: 0.266985\n",
      "2-th iter, nll: 67.018516, change: 0.000088, lapse: 0.244686\n",
      "1-th iter, nll: 67.018634, change: 0.042786, lapse: 0.352975\n",
      "2-th iter, nll: 67.018630, change: 0.000105, lapse: 0.233799\n",
      "1-th iter, nll: 67.019364, change: 0.041584, lapse: 0.340653\n",
      "2-th iter, nll: 67.019362, change: 0.000081, lapse: 0.221704\n",
      "1-th iter, nll: 67.019753, change: 0.017950, lapse: 0.274581\n",
      "2-th iter, nll: 67.019751, change: 0.000066, lapse: 0.251792\n"
     ]
    },
    {
     "name": "stdout",
     "output_type": "stream",
     "text": [
      "1-th iter, nll: 67.019746, change: 0.018546, lapse: 0.264114\n",
      "2-th iter, nll: 67.019745, change: 0.000058, lapse: 0.231638\n",
      "1-th iter, nll: 67.019871, change: 0.018293, lapse: 0.253901\n",
      "2-th iter, nll: 67.019870, change: 0.000046, lapse: 0.222712\n",
      "1-th iter, nll: 67.019823, change: 0.022927, lapse: 0.266678\n",
      "2-th iter, nll: 67.019822, change: 0.000096, lapse: 0.212138\n",
      "1-th iter, nll: 67.019941, change: 0.011318, lapse: 0.233557\n",
      "2-th iter, nll: 67.019940, change: 0.000058, lapse: 0.214110\n",
      "1-th iter, nll: 67.019321, change: 0.027951, lapse: 0.266052\n",
      "2-th iter, nll: 67.019319, change: 0.000072, lapse: 0.234185\n",
      "1-th iter, nll: 67.019727, change: 0.025149, lapse: 0.299217\n",
      "2-th iter, nll: 67.019725, change: 0.000043, lapse: 0.256139\n",
      "1-th iter, nll: 67.019670, change: 0.017610, lapse: 0.267376\n",
      "2-th iter, nll: 67.019669, change: 0.000064, lapse: 0.223010\n",
      "1-th iter, nll: 67.019245, change: 0.029978, lapse: 0.287711\n",
      "2-th iter, nll: 67.019243, change: 0.000065, lapse: 0.245573\n",
      "1-th iter, nll: 67.019544, change: 0.031339, lapse: 0.276837\n",
      "2-th iter, nll: 67.019543, change: 0.000076, lapse: 0.233260\n",
      "1-th iter, nll: 67.019546, change: 0.031787, lapse: 0.286473\n",
      "2-th iter, nll: 67.019545, change: 0.000052, lapse: 0.233714\n",
      "1-th iter, nll: 67.020045, change: 0.019339, lapse: 0.254780\n",
      "2-th iter, nll: 67.020045, change: 0.000017, lapse: 0.222551\n",
      "1-th iter, nll: 67.019911, change: 0.010377, lapse: 0.266750\n",
      "2-th iter, nll: 67.019911, change: 0.000032, lapse: 0.212649\n",
      "1-th iter, nll: 67.019490, change: 0.028978, lapse: 0.286152\n",
      "2-th iter, nll: 67.019488, change: 0.000086, lapse: 0.221819\n",
      "1-th iter, nll: 67.019302, change: 0.035279, lapse: 0.246121\n",
      "2-th iter, nll: 67.019301, change: 0.000064, lapse: 0.232977\n",
      "1-th iter, nll: 67.019294, change: 0.022717, lapse: 0.277292\n",
      "2-th iter, nll: 67.019292, change: 0.000072, lapse: 0.223208\n",
      "1-th iter, nll: 67.019666, change: 0.018461, lapse: 0.255134\n",
      "2-th iter, nll: 67.019665, change: 0.000043, lapse: 0.233336\n",
      "1-th iter, nll: 67.019264, change: 0.026395, lapse: 0.264098\n",
      "2-th iter, nll: 67.019262, change: 0.000074, lapse: 0.242147\n",
      "1-th iter, nll: 67.019986, change: 0.023732, lapse: 0.233900\n",
      "2-th iter, nll: 67.019985, change: 0.000037, lapse: 0.226815\n",
      "1-th iter, nll: 67.020008, change: 0.010170, lapse: 0.223611\n",
      "2-th iter, nll: 67.020008, change: 0.000024, lapse: 0.212290\n",
      "1-th iter, nll: 67.019707, change: 0.014176, lapse: 0.255776\n",
      "2-th iter, nll: 67.019706, change: 0.000039, lapse: 0.243364\n",
      "1-th iter, nll: 67.019922, change: 0.010067, lapse: 0.253447\n",
      "2-th iter, nll: 67.019921, change: 0.000037, lapse: 0.211522\n",
      "1-th iter, nll: 67.020006, change: 0.008729, lapse: 0.273973\n",
      "2-th iter, nll: 67.020006, change: 0.000033, lapse: 0.210500\n",
      "1-th iter, nll: 67.019930, change: 0.010410, lapse: 0.244278\n",
      "2-th iter, nll: 67.019930, change: 0.000043, lapse: 0.201532\n",
      "1-th iter, nll: 67.019359, change: 0.025532, lapse: 0.310917\n",
      "2-th iter, nll: 67.019357, change: 0.000051, lapse: 0.213135\n",
      "1-th iter, nll: 67.019210, change: 0.040461, lapse: 0.289731\n",
      "2-th iter, nll: 67.019209, change: 0.000058, lapse: 0.233033\n",
      "1-th iter, nll: 67.019880, change: 0.031837, lapse: 0.297284\n",
      "2-th iter, nll: 67.019879, change: 0.000098, lapse: 0.212310\n",
      "1-th iter, nll: 67.020030, change: 0.016342, lapse: 0.286718\n",
      "2-th iter, nll: 67.020029, change: 0.000020, lapse: 0.191404\n",
      "1-th iter, nll: 67.019315, change: 0.025303, lapse: 0.296571\n",
      "2-th iter, nll: 67.019312, change: 0.000089, lapse: 0.211495\n",
      "1-th iter, nll: 67.018754, change: 0.033778, lapse: 0.319360\n",
      "2-th iter, nll: 67.018751, change: 0.000083, lapse: 0.223705\n",
      "1-th iter, nll: 67.019862, change: 0.024913, lapse: 0.286983\n",
      "2-th iter, nll: 67.019861, change: 0.000036, lapse: 0.223295\n",
      "1-th iter, nll: 67.020031, change: 0.012241, lapse: 0.276717\n",
      "2-th iter, nll: 67.020031, change: 0.000018, lapse: 0.233945\n",
      "1-th iter, nll: 67.019806, change: 0.016080, lapse: 0.252324\n",
      "2-th iter, nll: 67.019806, change: 0.000060, lapse: 0.232207\n",
      "1-th iter, nll: 67.019741, change: 0.015595, lapse: 0.275473\n",
      "2-th iter, nll: 67.019741, change: 0.000060, lapse: 0.200474\n",
      "1-th iter, nll: 67.019513, change: 0.027228, lapse: 0.297241\n",
      "2-th iter, nll: 67.019512, change: 0.000056, lapse: 0.232242\n",
      "1-th iter, nll: 67.019568, change: 0.019820, lapse: 0.297223\n",
      "2-th iter, nll: 67.019567, change: 0.000069, lapse: 0.244142\n",
      "1-th iter, nll: 67.019507, change: 0.017512, lapse: 0.288460\n",
      "2-th iter, nll: 67.019506, change: 0.000056, lapse: 0.223211\n",
      "1-th iter, nll: 67.019036, change: 0.034939, lapse: 0.308975\n",
      "2-th iter, nll: 67.019034, change: 0.000080, lapse: 0.244364\n",
      "1-th iter, nll: 67.019555, change: 0.040403, lapse: 0.297917\n",
      "2-th iter, nll: 67.019554, change: 0.000040, lapse: 0.242595\n",
      "1-th iter, nll: 67.019753, change: 0.033705, lapse: 0.275101\n",
      "2-th iter, nll: 67.019752, change: 0.000052, lapse: 0.222913\n",
      "1-th iter, nll: 67.019924, change: 0.016232, lapse: 0.233353\n",
      "2-th iter, nll: 67.019923, change: 0.000060, lapse: 0.212097\n",
      "1-th iter, nll: 67.019591, change: 0.024115, lapse: 0.309832\n",
      "2-th iter, nll: 67.019590, change: 0.000080, lapse: 0.243590\n",
      "1-th iter, nll: 67.018705, change: 0.043555, lapse: 0.342034\n",
      "2-th iter, nll: 67.018702, change: 0.000099, lapse: 0.253923\n",
      "1-th iter, nll: 67.019736, change: 0.036806, lapse: 0.298045\n",
      "2-th iter, nll: 67.019735, change: 0.000061, lapse: 0.255478\n",
      "1-th iter, nll: 67.019647, change: 0.016878, lapse: 0.289813\n",
      "2-th iter, nll: 67.019646, change: 0.000063, lapse: 0.253799\n",
      "1-th iter, nll: 67.019402, change: 0.035475, lapse: 0.329849\n",
      "2-th iter, nll: 67.019401, change: 0.000063, lapse: 0.242973\n",
      "1-th iter, nll: 67.019182, change: 0.036414, lapse: 0.330773\n",
      "2-th iter, nll: 67.019180, change: 0.000103, lapse: 0.233680\n",
      "1-th iter, nll: 67.019965, change: 0.028758, lapse: 0.275603\n",
      "2-th iter, nll: 67.019964, change: 0.000030, lapse: 0.222342\n",
      "1-th iter, nll: 67.019594, change: 0.015240, lapse: 0.266023\n",
      "2-th iter, nll: 67.019593, change: 0.000054, lapse: 0.233195\n",
      "1-th iter, nll: 67.019934, change: 0.015566, lapse: 0.276533\n",
      "2-th iter, nll: 67.019933, change: 0.000046, lapse: 0.232378\n",
      "1-th iter, nll: 67.019009, change: 0.025408, lapse: 0.288386\n",
      "2-th iter, nll: 67.019006, change: 0.000079, lapse: 0.244041\n",
      "1-th iter, nll: 67.019759, change: 0.036549, lapse: 0.299283\n",
      "2-th iter, nll: 67.019758, change: 0.000049, lapse: 0.276652\n",
      "1-th iter, nll: 67.019506, change: 0.016852, lapse: 0.274618\n",
      "2-th iter, nll: 67.019505, change: 0.000058, lapse: 0.233145\n",
      "1-th iter, nll: 67.020022, change: 0.023847, lapse: 0.276429\n",
      "2-th iter, nll: 67.020021, change: 0.000019, lapse: 0.201985\n",
      "1-th iter, nll: 67.019281, change: 0.030386, lapse: 0.300676\n",
      "2-th iter, nll: 67.019280, change: 0.000073, lapse: 0.234633\n",
      "1-th iter, nll: 67.019903, change: 0.029943, lapse: 0.265546\n",
      "2-th iter, nll: 67.019902, change: 0.000044, lapse: 0.211735\n",
      "1-th iter, nll: 67.019861, change: 0.015122, lapse: 0.242453\n",
      "2-th iter, nll: 67.019860, change: 0.000031, lapse: 0.222713\n",
      "1-th iter, nll: 67.019513, change: 0.029457, lapse: 0.244068\n",
      "2-th iter, nll: 67.019512, change: 0.000068, lapse: 0.211671\n",
      "1-th iter, nll: 67.020005, change: 0.027229, lapse: 0.222659\n",
      "2-th iter, nll: 67.020004, change: 0.000033, lapse: 0.222409\n",
      "1-th iter, nll: 67.019679, change: 0.015289, lapse: 0.297159\n",
      "2-th iter, nll: 67.019678, change: 0.000073, lapse: 0.245183\n",
      "1-th iter, nll: 67.019698, change: 0.024779, lapse: 0.297681\n",
      "2-th iter, nll: 67.019697, change: 0.000078, lapse: 0.243204\n",
      "1-th iter, nll: 67.019314, change: 0.019260, lapse: 0.307897\n",
      "2-th iter, nll: 67.019312, change: 0.000071, lapse: 0.233337\n",
      "1-th iter, nll: 67.019467, change: 0.042798, lapse: 0.331284\n",
      "2-th iter, nll: 67.019465, change: 0.000119, lapse: 0.223050\n",
      "1-th iter, nll: 67.020048, change: 0.023867, lapse: 0.285809\n",
      "2-th iter, nll: 67.020048, change: 0.000013, lapse: 0.234986\n",
      "1-th iter, nll: 67.019481, change: 0.020193, lapse: 0.275088\n",
      "2-th iter, nll: 67.019480, change: 0.000063, lapse: 0.252753\n",
      "1-th iter, nll: 67.019541, change: 0.026353, lapse: 0.300595\n",
      "2-th iter, nll: 67.019539, change: 0.000092, lapse: 0.255493\n",
      "1-th iter, nll: 67.019188, change: 0.020726, lapse: 0.312900\n",
      "2-th iter, nll: 67.019186, change: 0.000086, lapse: 0.278878\n",
      "1-th iter, nll: 67.019349, change: 0.023041, lapse: 0.287988\n",
      "2-th iter, nll: 67.019347, change: 0.000084, lapse: 0.254123\n",
      "1-th iter, nll: 67.019570, change: 0.026064, lapse: 0.297361\n",
      "2-th iter, nll: 67.019569, change: 0.000073, lapse: 0.222424\n"
     ]
    },
    {
     "name": "stdout",
     "output_type": "stream",
     "text": [
      "1-th iter, nll: 67.019821, change: 0.025906, lapse: 0.296288\n",
      "2-th iter, nll: 67.019819, change: 0.000090, lapse: 0.203193\n"
     ]
    }
   ],
   "source": [
    "Omegas_perm = np.zeros([num_perm, 2*num_time, 2*num_time])\n",
    "Sigmas_perm = np.zeros([num_perm, 2*num_time, 2*num_time])\n",
    "\n",
    "for iter_perm in range(num_perm):    \n",
    "    while True:\n",
    "        with np.errstate(all='raise'):\n",
    "            try:\n",
    "                start_perm = time.time()\n",
    "                \n",
    "                # random sample\n",
    "                trial_sample = np.random.choice(num_trial, num_trial, False)\n",
    "                data_bst = [data[0], data[1][:,:,trial_sample]]\n",
    "\n",
    "                # permutation\n",
    "                Omega_perm, Sigma_perm, latent_perm, weight_perm \\\n",
    "                = ldn.fit(data_bst, lambda_diag, lambda_cross, offset_cross,\n",
    "                          lambda_auto, offset_auto, \n",
    "                          ths_glasso=1e-6, ths_lasso=1e-6, verbose=True,\n",
    "                          **init_arg)\n",
    "        \n",
    "                \n",
    "            except FloatingPointError:\n",
    "                sys.__stdout__.write(\"%d-th permutation encountered FloatingPointError, lapse:%.3fsec.\\n\"\n",
    "                                     %(iter_perm+1, time.time()-start_perm))\n",
    "                sys.__stdout__.write(\"Retrying...\\n\")\n",
    "                sys.__stdout__.flush()\n",
    "                continue\n",
    "                \n",
    "            init_arg = {'Omega_init':Omega_perm, 'weight_init':weight_perm}\n",
    "                        \n",
    "            # save result\n",
    "            Omegas_perm[iter_perm] = Omega_perm\n",
    "            Sigmas_perm[iter_perm] = Sigma_perm\n",
    "            \n",
    "            sys.__stdout__.write(\"%d-th permutation finished, lapse: %.3fsec.\\n\"\n",
    "                          %(iter_perm+1, time.time()-start_perm))\n",
    "            sys.__stdout__.flush()\n",
    "            break"
   ]
  },
  {
   "cell_type": "markdown",
   "metadata": {},
   "source": [
    "# 3. Inference by STAR"
   ]
  },
  {
   "cell_type": "code",
   "execution_count": 104,
   "metadata": {},
   "outputs": [],
   "source": [
    "alpha = 0.1\n",
    "roi = (np.abs(np.subtract(*np.where(\n",
    "    np.full([num_time,num_time],True)))\n",
    "       .reshape([num_time,num_time])) < offset_cross-1)"
   ]
  },
  {
   "cell_type": "code",
   "execution_count": 59,
   "metadata": {},
   "outputs": [],
   "source": [
    "dspr_est = 2*Omega_est - Omega_est @ Sigma_est @ Omega_est\n",
    "dsprs_perm = 2*Omegas_perm - Omegas_perm @ Sigmas_perm @ Omegas_perm"
   ]
  },
  {
   "cell_type": "code",
   "execution_count": 108,
   "metadata": {},
   "outputs": [],
   "source": [
    "dist_dspr_est = (dspr_est[:num_time,num_time:] / np.std(dsprs_perm[:,:num_time,num_time:],0))\n",
    "dist_dspr_perm = (dsprs_perm[:,:num_time,num_time:]\n",
    "                 / np.std(dsprs_perm[:,:num_time,num_time:],0))"
   ]
  },
  {
   "cell_type": "code",
   "execution_count": 110,
   "metadata": {},
   "outputs": [],
   "source": [
    "pval_est = np.full(dist_dspr_est.shape, 0.5)\n",
    "pval_est[roi] = np.clip(2*stats.norm.cdf(-np.abs(dist_dspr_est[roi])), 1e-10, 1-1e-10)"
   ]
  },
  {
   "cell_type": "code",
   "execution_count": 114,
   "metadata": {},
   "outputs": [],
   "source": [
    "R, fdp, score, mask = \\\n",
    "    inf.STAR_seq_step(pval_est, prop_carve = 0.05, alphas = [alpha],\n",
    "                      sigma=1, mux_init=-np.log(alpha), roi=roi)\n",
    "rej_STAR = mask[0]"
   ]
  },
  {
   "cell_type": "markdown",
   "metadata": {},
   "source": [
    "## plots"
   ]
  },
  {
   "cell_type": "code",
   "execution_count": 128,
   "metadata": {},
   "outputs": [
    {
     "data": {
      "text/plain": [
       "Text(0.5, 0, 'series 2 at time $s$')"
      ]
     },
     "execution_count": 128,
     "metadata": {},
     "output_type": "execute_result"
    },
    {
     "data": {
      "image/png": "[encoded data removed]",
      "text/plain": [
       "<Figure size 288x216 with 1 Axes>"
      ]
     },
     "metadata": {
      "needs_background": "light"
     },
     "output_type": "display_data"
    }
   ],
   "source": [
    "plt.figure(figsize=(4,3))\n",
    "ldn.imshow(pval_est > 0.01, cmap='gray', vmin=0, vmax=0.01, time=rec_time, identity=True)\n",
    "plt.fill_between((b_time[offset_cross], rec_time[1]), \n",
    "                (rec_time[0], rec_time[0]), \n",
    "                (rec_time[0], rec_time[1]-b_time[offset_cross]+rec_time[0]), color='lightgray')\n",
    "plt.fill_between((rec_time[0], rec_time[1]-b_time[offset_cross]+rec_time[0]), \n",
    "                (b_time[offset_cross], rec_time[1]), \n",
    "                (rec_time[1], rec_time[1]), color='lightgray')\n",
    "\n",
    "#cbar = plt.colorbar(ticks=[0, 0.01])\n",
    "#cbar.ax.set_yticklabels(['0.00','$>$ 0.01'])\n",
    "plt.ylabel(r'series 1 at time $t$'); plt.xlabel(r'series 2 at time $s$')\n",
    "# plt.yticks([0.0, 0.1, 0.2, 0.3, 0.4, 0.5], ['','','','','','',''])"
   ]
  },
  {
   "cell_type": "code",
   "execution_count": 117,
   "metadata": {},
   "outputs": [
    {
     "data": {
      "text/plain": [
       "([<matplotlib.axis.YTick at 0x7fd033fa6050>,\n",
       "  <matplotlib.axis.YTick at 0x7fd033fa6150>,\n",
       "  <matplotlib.axis.YTick at 0x7fd033efbfd0>,\n",
       "  <matplotlib.axis.YTick at 0x7fd0349bfe10>,\n",
       "  <matplotlib.axis.YTick at 0x7fd0349b85d0>,\n",
       "  <matplotlib.axis.YTick at 0x7fd0349b8b50>],\n",
       " <a list of 6 Text yticklabel objects>)"
      ]
     },
     "execution_count": 117,
     "metadata": {},
     "output_type": "execute_result"
    },
    {
     "data": {
      "image/png": "[encoded data removed]",
      "text/plain": [
       "<Figure size 216x216 with 1 Axes>"
      ]
     },
     "metadata": {
      "needs_background": "light"
     },
     "output_type": "display_data"
    }
   ],
   "source": [
    "fig, ax = plt.subplots(figsize=(3,3))\n",
    "ldn.imshow(rej_STAR, time=rec_time, identity=True)\n",
    "\n",
    "ax.fill_between((b_time[offset_cross], rec_time[1]), \n",
    "                (rec_time[0], rec_time[0]), \n",
    "                (rec_time[0], rec_time[1]-b_time[offset_cross]+rec_time[0]), color='lightgray')\n",
    "ax.fill_between((rec_time[0], rec_time[1]-b_time[offset_cross]+rec_time[0]), \n",
    "                (b_time[offset_cross], rec_time[1]), \n",
    "                (rec_time[1], rec_time[1]), color='lightgray')\n",
    "plt.clim(-0.001,0.001); # cbar = plt.colorbar(ticks=[-0.010, -0.005, 0.0, 0.005, 0.01])\n",
    "# cbar.ax.set_yticklabels([r'$<$ -0.010','-0.005','0.000','0.005',r'$>$ 0.010'])\n",
    "ax.set_xlim(rec_time[0], rec_time[1]), ax.set_ylim(rec_time[1], rec_time[0])\n",
    "ax.set_xlabel(r\" \")\n",
    "plt.yticks([0.0, 0.1, 0.2, 0.3, 0.4, 0.5], ['','','','','','',''])"
   ]
  },
  {
   "cell_type": "code",
   "execution_count": 127,
   "metadata": {},
   "outputs": [
    {
     "data": {
      "text/plain": [
       "[Text(1, 0, '-12e-3'),\n",
       " Text(1, 0, '-6e-3'),\n",
       " Text(1, 0, '0'),\n",
       " Text(1, 0, '6e-3'),\n",
       " Text(1, 0, '12e-3')]"
      ]
     },
     "execution_count": 127,
     "metadata": {},
     "output_type": "execute_result"
    },
    {
     "data": {
      "image/png": "[encoded data removed]",
      "text/plain": [
       "<Figure size 288x216 with 2 Axes>"
      ]
     },
     "metadata": {
      "needs_background": "light"
     },
     "output_type": "display_data"
    }
   ],
   "source": [
    "plt.figure(figsize=(4,3))\n",
    "ldn.imshow(rej_STAR * dspr_est[:num_time,num_time:], time=rec_time, identity=True)\n",
    "plt.fill_between((b_time[offset_cross], rec_time[1]), \n",
    "                (rec_time[0], rec_time[0]), \n",
    "                (rec_time[0], rec_time[1]-b_time[offset_cross]+rec_time[0]), color='lightgray')\n",
    "plt.fill_between((rec_time[0], rec_time[1]-b_time[offset_cross]+rec_time[0]), \n",
    "                (b_time[offset_cross], rec_time[1]), \n",
    "                (rec_time[1], rec_time[1]), color='lightgray')\n",
    "plt.xlim(rec_time[0], rec_time[1]); plt.ylim(rec_time[1], rec_time[0])\n",
    "plt.ylabel(r'series 1 at time $t$'); plt.xlabel(r'series 2 at time $s$')\n",
    "cbar = plt.colorbar(ticks=[-0.012, -0.006, 0.0, 0.006, 0.012])\n",
    "cbar.ax.set_yticklabels([r'-12e-3','-6e-3','0','6e-3',r'12e-3'])"
   ]
  },
  {
   "cell_type": "markdown",
   "metadata": {},
   "source": [
    "# 4. Inference by excursion test"
   ]
  },
  {
   "cell_type": "code",
   "execution_count": 85,
   "metadata": {},
   "outputs": [],
   "source": [
    "ths_nv = 0.05"
   ]
  },
  {
   "cell_type": "code",
   "execution_count": 86,
   "metadata": {},
   "outputs": [],
   "source": [
    "rej_nv_est = pval_est < ths_nv\n",
    "rejs_nv_perm = pvals_perm < ths_nv"
   ]
  },
  {
   "cell_type": "code",
   "execution_count": 87,
   "metadata": {},
   "outputs": [],
   "source": [
    "rbs_nv_perm = np.zeros((num_perm, num_time, num_time))\n",
    "nbs_nv_perm = np.zeros((num_perm,))\n",
    "\n",
    "for iter_perm in range(num_perm):\n",
    "    mask_cp = rejs_nv_perm[iter_perm].copy(); iter_blob = 0\n",
    "    while np.any(mask_cp):\n",
    "        iter_blob += 1\n",
    "        queue = [tuple(np.transpose(np.where(mask_cp))[0])]\n",
    "        mask_cp[queue[0]] = False\n",
    "        while len(queue) > 0:\n",
    "            cur = queue.pop(0)\n",
    "            rbs_nv_perm[iter_perm, cur[0], cur[1]] = iter_blob\n",
    "            if cur[0] > 0:\n",
    "                if mask_cp[cur[0]-1, cur[1]]:\n",
    "                    queue.append((cur[0]-1, cur[1]))\n",
    "                    mask_cp[cur[0]-1, cur[1]] = False\n",
    "            if cur[0] < num_time-1:\n",
    "                if mask_cp[cur[0]+1, cur[1]]:\n",
    "                    queue.append((cur[0]+1, cur[1]))\n",
    "                    mask_cp[cur[0]+1, cur[1]] = False\n",
    "            if cur[1] > 0:\n",
    "                if mask_cp[cur[0], cur[1]-1]:\n",
    "                    queue.append((cur[0], cur[1]-1))\n",
    "                    mask_cp[cur[0], cur[1]-1] = False\n",
    "            if cur[1] < num_time-1:\n",
    "                if mask_cp[cur[0], cur[1]+1]:\n",
    "                    queue.append((cur[0], cur[1]+1))\n",
    "                    mask_cp[cur[0], cur[1]+1] = False\n",
    "    nbs_nv_perm[iter_perm] = iter_blob"
   ]
  },
  {
   "cell_type": "code",
   "execution_count": 88,
   "metadata": {
    "scrolled": true
   },
   "outputs": [],
   "source": [
    "mrois_nv_perm = np.zeros(num_perm)\n",
    "for iter_perm, (pval, rej_b, num_b) \\\n",
    "in enumerate(zip(pvals_perm, rbs_nv_perm, nbs_nv_perm)):\n",
    "    rois = np.zeros(int(num_b+1))\n",
    "    for iter_blob in range(1, int(num_b+1)):\n",
    "        rois[iter_blob] = np.sum(-np.log(\n",
    "            pvals_perm[iter_perm][rej_b == iter_blob]))\n",
    "    mrois_nv_perm[iter_perm] = np.max(rois)"
   ]
  },
  {
   "cell_type": "code",
   "execution_count": 89,
   "metadata": {},
   "outputs": [],
   "source": [
    "ths_roi_nv = np.quantile(mrois_nv_perm, 0.95)"
   ]
  },
  {
   "cell_type": "code",
   "execution_count": 90,
   "metadata": {},
   "outputs": [
    {
     "data": {
      "text/plain": [
       "<matplotlib.lines.Line2D at 0x7fd03414eb90>"
      ]
     },
     "execution_count": 90,
     "metadata": {},
     "output_type": "execute_result"
    },
    {
     "data": {
      "image/png": "[encoded data removed]",
      "text/plain": [
       "<Figure size 432x288 with 1 Axes>"
      ]
     },
     "metadata": {
      "needs_background": "light"
     },
     "output_type": "display_data"
    }
   ],
   "source": [
    "plt.hist(mrois_nv_perm, bins=20)\n",
    "plt.axvline(x=ths_roi_nv, color='red')"
   ]
  },
  {
   "cell_type": "code",
   "execution_count": 92,
   "metadata": {},
   "outputs": [],
   "source": [
    "rb_nv_est = np.zeros((num_time, num_time))\n",
    "\n",
    "mask_cp = rej_nv_est.copy(); iter_blob = 0\n",
    "while np.any(mask_cp):\n",
    "    iter_blob += 1\n",
    "    queue = [tuple(np.transpose(np.where(mask_cp))[0])]\n",
    "    mask_cp[queue[0]] = False\n",
    "    while len(queue) > 0:\n",
    "        cur = queue.pop(0)\n",
    "        rb_nv_est[cur[0], cur[1]] = iter_blob\n",
    "        if cur[0] > 0:\n",
    "            if mask_cp[cur[0]-1, cur[1]]:\n",
    "                queue.append((cur[0]-1, cur[1]))\n",
    "                mask_cp[cur[0]-1, cur[1]] = False\n",
    "        if cur[0] < num_time-1:\n",
    "            if mask_cp[cur[0]+1, cur[1]]:\n",
    "                queue.append((cur[0]+1, cur[1]))\n",
    "                mask_cp[cur[0]+1, cur[1]] = False\n",
    "        if cur[1] > 0:\n",
    "            if mask_cp[cur[0], cur[1]-1]:\n",
    "                queue.append((cur[0], cur[1]-1))\n",
    "                mask_cp[cur[0], cur[1]-1] = False\n",
    "        if cur[1] < num_time-1:\n",
    "            if mask_cp[cur[0], cur[1]+1]:\n",
    "                queue.append((cur[0], cur[1]+1))\n",
    "                mask_cp[cur[0], cur[1]+1] = False\n",
    "nb_nv_est = iter_blob"
   ]
  },
  {
   "cell_type": "code",
   "execution_count": 93,
   "metadata": {},
   "outputs": [],
   "source": [
    "rois_nv_est = np.zeros(nb_nv_est+1)\n",
    "for iter_blob in range(1, nb_nv_est+1):\n",
    "    rois_nv_est[iter_blob] = np.sum(-np.log(pval_est[rb_nv_est == iter_blob]))"
   ]
  },
  {
   "cell_type": "code",
   "execution_count": 94,
   "metadata": {},
   "outputs": [
    {
     "data": {
      "text/plain": [
       "<matplotlib.lines.Line2D at 0x7fd0340693d0>"
      ]
     },
     "execution_count": 94,
     "metadata": {},
     "output_type": "execute_result"
    },
    {
     "data": {
      "image/png": "[encoded data removed]",
      "text/plain": [
       "<Figure size 432x288 with 1 Axes>"
      ]
     },
     "metadata": {
      "needs_background": "light"
     },
     "output_type": "display_data"
    }
   ],
   "source": [
    "plt.hist(rois_nv_est, bins=20)\n",
    "plt.axvline(x=ths_roi_nv, color='red')"
   ]
  },
  {
   "cell_type": "code",
   "execution_count": 97,
   "metadata": {
    "scrolled": true
   },
   "outputs": [
    {
     "data": {
      "text/plain": [
       "array([1.   , 0.   , 0.47 , 1.   , 1.   , 0.98 , 0.005, 0.99 , 0.995,\n",
       "       0.   , 0.97 , 1.   , 0.   , 0.99 , 1.   ])"
      ]
     },
     "execution_count": 97,
     "metadata": {},
     "output_type": "execute_result"
    }
   ],
   "source": [
    "np.mean(rois_nv <= mrois_nv_perm[:,None], 0)"
   ]
  },
  {
   "cell_type": "markdown",
   "metadata": {},
   "source": [
    "## plot"
   ]
  },
  {
   "cell_type": "code",
   "execution_count": 96,
   "metadata": {},
   "outputs": [
    {
     "data": {
      "text/plain": [
       "Text(0.5, 0, 'series 2 at time $s$')"
      ]
     },
     "execution_count": 96,
     "metadata": {},
     "output_type": "execute_result"
    },
    {
     "data": {
      "image/png": "[encoded data removed]",
      "text/plain": [
       "<Figure size 216x216 with 1 Axes>"
      ]
     },
     "metadata": {
      "needs_background": "light"
     },
     "output_type": "display_data"
    }
   ],
   "source": [
    "plt.figure(figsize=(3,3))\n",
    "ldn.imshow(np.isin(rej_blobs, np.where(rois_nv > ths_roi)[0]), time=[rec_time[0], rec_time[1]], identity=True)\n",
    "plt.fill_between((b_time[offset_cross], rec_time[1]), \n",
    "                (rec_time[0], rec_time[0]), \n",
    "                (rec_time[0], rec_time[1]-b_time[offset_cross]+rec_time[0]), color='lightgray')\n",
    "plt.fill_between((rec_time[0], rec_time[1]-b_time[offset_cross]+rec_time[0]), \n",
    "                (b_time[offset_cross], rec_time[1]), \n",
    "                (rec_time[1], rec_time[1]), color='lightgray')\n",
    "plt.xlim(rec_time[0], rec_time[1]), plt.ylim(rec_time[1], rec_time[0])\n",
    "plt.ylabel(r'series 1 at time $t$'); plt.xlabel(r'series 2 at time $s$')\n"
   ]
  }
 ],
 "metadata": {
  "kernelspec": {
   "display_name": "Python 3",
   "language": "python",
   "name": "python3"
  },
  "language_info": {
   "codemirror_mode": {
    "name": "ipython",
    "version": 3
   },
   "file_extension": ".py",
   "mimetype": "text/x-python",
   "name": "python",
   "nbconvert_exporter": "python",
   "pygments_lexer": "ipython3",
   "version": "3.7.4"
  }
 },
 "nbformat": 4,
 "nbformat_minor": 2
}
