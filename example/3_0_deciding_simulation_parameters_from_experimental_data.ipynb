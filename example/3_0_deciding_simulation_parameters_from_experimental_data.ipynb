{
 "cells": [
  {
   "cell_type": "code",
   "execution_count": 1,
   "metadata": {},
   "outputs": [],
   "source": [
    "# from IPython.core.display import display,HTML\n",
    "# display(HTML('<style> div.prompt {display:default} </style>'))"
   ]
  },
  {
   "cell_type": "code",
   "execution_count": 1,
   "metadata": {},
   "outputs": [],
   "source": [
    "import os, importlib, sys, time, h5py"
   ]
  },
  {
   "cell_type": "code",
   "execution_count": 2,
   "metadata": {},
   "outputs": [],
   "source": [
    "import numpy as np\n",
    "from scipy import linalg, stats, ndimage, io\n",
    "from scipy.sparse import diags"
   ]
  },
  {
   "cell_type": "code",
   "execution_count": 3,
   "metadata": {},
   "outputs": [],
   "source": [
    "import matplotlib.pyplot as plt\n",
    "from matplotlib import rc\n",
    "rc('font',**{'family':'sans-serif','sans-serif':['Helvetica'], 'size':13})\n",
    "## for Palatino and other serif fonts use:\n",
    "# rc('font',**{'family':'serif','serif':['Palatino']})\n",
    "rc('text', usetex=True)"
   ]
  },
  {
   "cell_type": "code",
   "execution_count": 4,
   "metadata": {},
   "outputs": [],
   "source": [
    "import ladyns as ldn\n",
    "import ladyns.inference as inf\n",
    "import ladyns.optimize.core as core"
   ]
  },
  {
   "cell_type": "code",
   "execution_count": 5,
   "metadata": {},
   "outputs": [
    {
     "data": {
      "text/plain": [
       "<module 'ladyns.optimize.core' from '/home/hbong/miniconda3/lib/python3.7/site-packages/ladyns/optimize/core.cpython-37m-x86_64-linux-gnu.so'>"
      ]
     },
     "execution_count": 5,
     "metadata": {},
     "output_type": "execute_result"
    }
   ],
   "source": [
    "importlib.reload(ldn)\n",
    "importlib.reload(inf)\n",
    "importlib.reload(core)"
   ]
  },
  {
   "cell_type": "markdown",
   "metadata": {},
   "source": [
    "# 0. Load data"
   ]
  },
  {
   "cell_type": "code",
   "execution_count": 6,
   "metadata": {},
   "outputs": [],
   "source": [
    "data_dir = \"../data\"\n",
    "file_name = ['lfp_bred_1.mat', 'lfp_bred_2.mat', 'lfp_bred_3.mat']\n",
    "rec_time = [0, 0.5]"
   ]
  },
  {
   "cell_type": "code",
   "execution_count": 7,
   "metadata": {},
   "outputs": [],
   "source": [
    "data = [\n",
    "    np.concatenate([io.loadmat('%s/%s'%(data_dir, fname))['v4_bred']\n",
    "                    for fname in file_name], 0)[:,:,:100:2].T,\n",
    "    np.concatenate([io.loadmat('%s/%s'%(data_dir, fname))['pfc_bred']\n",
    "                    for fname in file_name], 0)[:,:,:100:2].T]"
   ]
  },
  {
   "cell_type": "code",
   "execution_count": 8,
   "metadata": {},
   "outputs": [
    {
     "data": {
      "text/plain": [
       "((50, 25, 3000), (50, 25, 3000))"
      ]
     },
     "execution_count": 8,
     "metadata": {},
     "output_type": "execute_result"
    }
   ],
   "source": [
    "data[0].shape, data[1].shape"
   ]
  },
  {
   "cell_type": "code",
   "execution_count": 14,
   "metadata": {},
   "outputs": [],
   "source": [
    "dims = [data[0].shape[1], data[1].shape[1]]\n",
    "num_time = data[0].shape[0]\n",
    "num_trial = data[0].shape[2]"
   ]
  },
  {
   "cell_type": "markdown",
   "metadata": {},
   "source": [
    "# 1. parameter calibration"
   ]
  },
  {
   "cell_type": "code",
   "execution_count": 10,
   "metadata": {},
   "outputs": [],
   "source": [
    "offset_cross=10\n",
    "offset_auto=10\n",
    "lambdas= np.vstack([\n",
    "    np.exp(np.linspace(np.log(0.1), np.log(0.001), 11)), #np.full((11,), 0.06), ## lambdas_cross\n",
    "    np.zeros(11), ## lambdas_auto\n",
    "    np.full((11,), 0.5), ## lambdas_diag\n",
    "    np.zeros(11)]) ## lambdas_ridge"
   ]
  },
  {
   "cell_type": "code",
   "execution_count": 11,
   "metadata": {},
   "outputs": [],
   "source": [
    "time_graph_cross = (np.abs(np.subtract(*np.where(\n",
    "    np.full([num_time,num_time],True)))\n",
    "       .reshape([num_time,num_time])) < offset_cross)\n",
    "time_graph_auto = (np.abs(np.subtract(*np.where(\n",
    "    np.full([num_time,num_time],True)))\n",
    "       .reshape([num_time,num_time])) < offset_auto)"
   ]
  },
  {
   "cell_type": "markdown",
   "metadata": {},
   "source": [
    "## calibration by permutation"
   ]
  },
  {
   "cell_type": "code",
   "execution_count": 12,
   "metadata": {},
   "outputs": [],
   "source": [
    "num_cv = 10"
   ]
  },
  {
   "cell_type": "code",
   "execution_count": 16,
   "metadata": {
    "scrolled": true
   },
   "outputs": [
    {
     "name": "stdout",
     "output_type": "stream",
     "text": [
      "1-th iter, nll: 67.675621, change: 0.097901, lapse: 0.490762\n",
      "2-th iter, nll: 67.595802, change: 0.009610, lapse: 0.466719\n",
      "3-th iter, nll: 67.532208, change: 0.006338, lapse: 0.457017\n",
      "4-th iter, nll: 67.479300, change: 0.005463, lapse: 0.444379\n",
      "5-th iter, nll: 67.434212, change: 0.004936, lapse: 0.467529\n",
      "6-th iter, nll: 67.395191, change: 0.004582, lapse: 0.441321\n",
      "7-th iter, nll: 67.361042, change: 0.004318, lapse: 0.431388\n",
      "8-th iter, nll: 67.330908, change: 0.004081, lapse: 0.420522\n",
      "9-th iter, nll: 67.304145, change: 0.003854, lapse: 0.403874\n",
      "10-th iter, nll: 67.280253, change: 0.003635, lapse: 0.401167\n",
      "11-th iter, nll: 67.258832, change: 0.003424, lapse: 0.395791\n",
      "12-th iter, nll: 67.239557, change: 0.003224, lapse: 0.397429\n",
      "13-th iter, nll: 67.222158, change: 0.003042, lapse: 0.446156\n",
      "14-th iter, nll: 67.206409, change: 0.002884, lapse: 0.460013\n",
      "15-th iter, nll: 67.192117, change: 0.002733, lapse: 0.387981\n",
      "16-th iter, nll: 67.179120, change: 0.002589, lapse: 0.391730\n",
      "17-th iter, nll: 67.167277, change: 0.002452, lapse: 0.383647\n",
      "18-th iter, nll: 67.156465, change: 0.002322, lapse: 0.391956\n",
      "19-th iter, nll: 67.146580, change: 0.002199, lapse: 0.379005\n",
      "20-th iter, nll: 67.137527, change: 0.002083, lapse: 0.379672\n",
      "21-th iter, nll: 67.129225, change: 0.001974, lapse: 0.367323\n",
      "22-th iter, nll: 67.121603, change: 0.001882, lapse: 0.441688\n",
      "23-th iter, nll: 67.114596, change: 0.001795, lapse: 0.391195\n",
      "24-th iter, nll: 67.108147, change: 0.001712, lapse: 0.371872\n",
      "25-th iter, nll: 67.102206, change: 0.001633, lapse: 0.384275\n",
      "26-th iter, nll: 67.096727, change: 0.001558, lapse: 0.351208\n",
      "27-th iter, nll: 67.091669, change: 0.001488, lapse: 0.357125\n",
      "28-th iter, nll: 67.086995, change: 0.001421, lapse: 0.358126\n",
      "29-th iter, nll: 67.082673, change: 0.001358, lapse: 0.342639\n",
      "30-th iter, nll: 67.078673, change: 0.001299, lapse: 0.337389\n",
      "31-th iter, nll: 67.074966, change: 0.001243, lapse: 0.354485\n",
      "32-th iter, nll: 67.071530, change: 0.001191, lapse: 0.340785\n",
      "33-th iter, nll: 67.068341, change: 0.001145, lapse: 0.337655\n",
      "34-th iter, nll: 67.065380, change: 0.001102, lapse: 0.336340\n",
      "35-th iter, nll: 67.062628, change: 0.001061, lapse: 0.340715\n",
      "36-th iter, nll: 67.060068, change: 0.001021, lapse: 0.332981\n",
      "37-th iter, nll: 67.057686, change: 0.000984, lapse: 0.347923\n",
      "1-th iter, nll: 67.055466, change: 0.000948, lapse: 0.352080\n",
      "1-th iter, nll: 67.053398, change: 0.000913, lapse: 0.370048\n",
      "1-th iter, nll: 67.051415, change: 0.008676, lapse: 0.336093\n",
      "2-th iter, nll: 67.049612, change: 0.000849, lapse: 0.318582\n",
      "1-th iter, nll: 67.047718, change: 0.009332, lapse: 0.317500\n",
      "2-th iter, nll: 67.046142, change: 0.000790, lapse: 0.316376\n",
      "1-th iter, nll: 67.044241, change: 0.006323, lapse: 0.311490\n",
      "2-th iter, nll: 67.042860, change: 0.000736, lapse: 0.308208\n",
      "1-th iter, nll: 67.040940, change: 0.004461, lapse: 0.325921\n",
      "2-th iter, nll: 67.039725, change: 0.000690, lapse: 0.321684\n",
      "1-th iter, nll: 67.037856, change: 0.003291, lapse: 0.308351\n",
      "2-th iter, nll: 67.036786, change: 0.000643, lapse: 0.324014\n",
      "1-th iter, nll: 67.035074, change: 0.002877, lapse: 0.325650\n",
      "2-th iter, nll: 67.034129, change: 0.000601, lapse: 0.307068\n",
      "1-th iter, nll: 67.032615, change: 0.002175, lapse: 0.325851\n",
      "2-th iter, nll: 67.031779, change: 0.000564, lapse: 0.321898\n",
      "1-th iter, nll: 67.030467, change: 0.001509, lapse: 0.309762\n",
      "2-th iter, nll: 67.029726, change: 0.000530, lapse: 0.320934\n",
      "1-th iter, nll: 67.055466, change: 0.000948, lapse: 0.344301\n",
      "1-th iter, nll: 67.053398, change: 0.000913, lapse: 0.321564\n",
      "1-th iter, nll: 67.051467, change: 0.001499, lapse: 0.337921\n",
      "2-th iter, nll: 67.049665, change: 0.000849, lapse: 0.321170\n",
      "1-th iter, nll: 67.047718, change: 0.020978, lapse: 0.323076\n",
      "2-th iter, nll: 67.046142, change: 0.000790, lapse: 0.321834\n",
      "1-th iter, nll: 67.043995, change: 0.036899, lapse: 0.313957\n",
      "2-th iter, nll: 67.042609, change: 0.000734, lapse: 0.323543\n",
      "1-th iter, nll: 67.040391, change: 0.047442, lapse: 0.310244\n",
      "2-th iter, nll: 67.039167, change: 0.000681, lapse: 0.423632\n",
      "1-th iter, nll: 67.037128, change: 0.055092, lapse: 0.352009\n",
      "2-th iter, nll: 67.036045, change: 0.000631, lapse: 0.304474\n",
      "1-th iter, nll: 67.034262, change: 0.060593, lapse: 0.345809\n",
      "2-th iter, nll: 67.033302, change: 0.000583, lapse: 0.301293\n",
      "1-th iter, nll: 67.031731, change: 0.064231, lapse: 0.338606\n",
      "2-th iter, nll: 67.030879, change: 0.000538, lapse: 0.299886\n",
      "1-th iter, nll: 67.029523, change: 0.065559, lapse: 0.348870\n",
      "2-th iter, nll: 67.028764, change: 0.000500, lapse: 0.311871\n",
      "1-th iter, nll: 67.027626, change: 0.065910, lapse: 0.382444\n",
      "2-th iter, nll: 67.026947, change: 0.000465, lapse: 0.296566\n",
      "1-th iter, nll: 67.055466, change: 0.000948, lapse: 0.320870\n",
      "1-th iter, nll: 67.053398, change: 0.000913, lapse: 0.322234\n",
      "1-th iter, nll: 67.051298, change: 0.014867, lapse: 0.319988\n",
      "2-th iter, nll: 67.049494, change: 0.000849, lapse: 0.325392\n",
      "1-th iter, nll: 67.047183, change: 0.026022, lapse: 0.332865\n",
      "2-th iter, nll: 67.045603, change: 0.000790, lapse: 0.327951\n",
      "1-th iter, nll: 67.043153, change: 0.030028, lapse: 0.360239\n",
      "2-th iter, nll: 67.041761, change: 0.000735, lapse: 0.337925\n",
      "1-th iter, nll: 67.039299, change: 0.032692, lapse: 0.343369\n",
      "2-th iter, nll: 67.038070, change: 0.000687, lapse: 0.314943\n",
      "1-th iter, nll: 67.035647, change: 0.035585, lapse: 0.364976\n",
      "2-th iter, nll: 67.034560, change: 0.000638, lapse: 0.312871\n",
      "1-th iter, nll: 67.032360, change: 0.040402, lapse: 0.351161\n",
      "2-th iter, nll: 67.031395, change: 0.000593, lapse: 0.306013\n",
      "1-th iter, nll: 67.029487, change: 0.043489, lapse: 0.355735\n",
      "2-th iter, nll: 67.028629, change: 0.000554, lapse: 0.313715\n",
      "1-th iter, nll: 67.027031, change: 0.045481, lapse: 0.367882\n",
      "2-th iter, nll: 67.026266, change: 0.000517, lapse: 0.297438\n",
      "1-th iter, nll: 67.024955, change: 0.046776, lapse: 0.383937\n",
      "2-th iter, nll: 67.024270, change: 0.000483, lapse: 0.310583\n",
      "1-th iter, nll: 67.055466, change: 0.000948, lapse: 0.335792\n",
      "1-th iter, nll: 67.053398, change: 0.000913, lapse: 0.354048\n",
      "1-th iter, nll: 67.051429, change: 0.008204, lapse: 0.315862\n",
      "2-th iter, nll: 67.049630, change: 0.000849, lapse: 0.329218\n",
      "1-th iter, nll: 67.047627, change: 0.022196, lapse: 0.350330\n",
      "2-th iter, nll: 67.046061, change: 0.000792, lapse: 0.326328\n",
      "1-th iter, nll: 67.044030, change: 0.030270, lapse: 0.316902\n",
      "2-th iter, nll: 67.042662, change: 0.000743, lapse: 0.311816\n",
      "1-th iter, nll: 67.040655, change: 0.037009, lapse: 0.324916\n",
      "2-th iter, nll: 67.039454, change: 0.000700, lapse: 0.312657\n",
      "1-th iter, nll: 67.037503, change: 0.044371, lapse: 0.416691\n",
      "2-th iter, nll: 67.036445, change: 0.000656, lapse: 0.412061\n",
      "1-th iter, nll: 67.034593, change: 0.048875, lapse: 0.399368\n",
      "2-th iter, nll: 67.033659, change: 0.000617, lapse: 0.316879\n",
      "1-th iter, nll: 67.031972, change: 0.052218, lapse: 0.326788\n",
      "2-th iter, nll: 67.031143, change: 0.000585, lapse: 0.304187\n",
      "1-th iter, nll: 67.029690, change: 0.053898, lapse: 0.337170\n",
      "2-th iter, nll: 67.028953, change: 0.000557, lapse: 0.288062\n",
      "1-th iter, nll: 67.027743, change: 0.055128, lapse: 0.331939\n",
      "2-th iter, nll: 67.027086, change: 0.000530, lapse: 0.302019\n",
      "1-th iter, nll: 67.055466, change: 0.000948, lapse: 0.341275\n",
      "1-th iter, nll: 67.053398, change: 0.000913, lapse: 0.324208\n",
      "1-th iter, nll: 67.051468, change: 0.000880, lapse: 0.339968\n",
      "1-th iter, nll: 67.047725, change: 0.015044, lapse: 0.317114\n",
      "2-th iter, nll: 67.046148, change: 0.000792, lapse: 0.322941\n",
      "1-th iter, nll: 67.043967, change: 0.024582, lapse: 0.337769\n",
      "2-th iter, nll: 67.042583, change: 0.000741, lapse: 0.318228\n",
      "1-th iter, nll: 67.040463, change: 0.034745, lapse: 0.327196\n",
      "2-th iter, nll: 67.039246, change: 0.000695, lapse: 0.304046\n",
      "1-th iter, nll: 67.037327, change: 0.041026, lapse: 0.353666\n",
      "2-th iter, nll: 67.036251, change: 0.000651, lapse: 0.328858\n",
      "1-th iter, nll: 67.034463, change: 0.045108, lapse: 0.323510\n",
      "2-th iter, nll: 67.033510, change: 0.000613, lapse: 0.305749\n",
      "1-th iter, nll: 67.031920, change: 0.048545, lapse: 0.332737\n",
      "2-th iter, nll: 67.031072, change: 0.000578, lapse: 0.299719\n",
      "1-th iter, nll: 67.029680, change: 0.050859, lapse: 0.351784\n",
      "2-th iter, nll: 67.028925, change: 0.000546, lapse: 0.296001\n",
      "1-th iter, nll: 67.027717, change: 0.052453, lapse: 0.334867\n",
      "2-th iter, nll: 67.027041, change: 0.000516, lapse: 0.293436\n"
     ]
    },
    {
     "name": "stdout",
     "output_type": "stream",
     "text": [
      "1-th iter, nll: 67.055466, change: 0.000948, lapse: 0.323193\n",
      "1-th iter, nll: 67.053398, change: 0.000913, lapse: 0.322923\n",
      "1-th iter, nll: 67.051253, change: 0.017785, lapse: 0.326607\n",
      "2-th iter, nll: 67.049451, change: 0.000849, lapse: 0.321344\n",
      "1-th iter, nll: 67.047146, change: 0.033389, lapse: 0.319031\n",
      "2-th iter, nll: 67.045570, change: 0.000789, lapse: 0.322467\n",
      "1-th iter, nll: 67.043043, change: 0.044415, lapse: 0.344476\n",
      "2-th iter, nll: 67.041658, change: 0.000734, lapse: 0.316064\n",
      "1-th iter, nll: 67.039098, change: 0.052791, lapse: 0.348523\n",
      "2-th iter, nll: 67.037880, change: 0.000686, lapse: 0.342504\n",
      "1-th iter, nll: 67.035417, change: 0.058341, lapse: 0.346699\n",
      "2-th iter, nll: 67.034340, change: 0.000644, lapse: 0.321895\n",
      "1-th iter, nll: 67.032159, change: 0.060818, lapse: 0.347769\n",
      "2-th iter, nll: 67.031203, change: 0.000608, lapse: 0.302498\n",
      "1-th iter, nll: 67.029369, change: 0.062658, lapse: 0.365032\n",
      "2-th iter, nll: 67.028516, change: 0.000579, lapse: 0.302122\n",
      "1-th iter, nll: 67.027025, change: 0.063843, lapse: 0.421131\n",
      "2-th iter, nll: 67.026263, change: 0.000552, lapse: 0.298753\n",
      "1-th iter, nll: 67.025054, change: 0.064952, lapse: 0.368789\n",
      "2-th iter, nll: 67.024370, change: 0.000527, lapse: 0.299302\n",
      "1-th iter, nll: 67.055466, change: 0.000948, lapse: 0.318776\n",
      "1-th iter, nll: 67.053398, change: 0.000913, lapse: 0.323110\n",
      "1-th iter, nll: 67.051468, change: 0.000880, lapse: 0.323941\n",
      "1-th iter, nll: 67.047555, change: 0.018776, lapse: 0.331908\n",
      "2-th iter, nll: 67.045985, change: 0.000789, lapse: 0.319362\n",
      "1-th iter, nll: 67.043550, change: 0.034019, lapse: 0.321679\n",
      "2-th iter, nll: 67.042178, change: 0.000732, lapse: 0.311260\n",
      "1-th iter, nll: 67.039788, change: 0.045056, lapse: 0.320978\n",
      "2-th iter, nll: 67.038589, change: 0.000678, lapse: 0.309230\n",
      "1-th iter, nll: 67.036356, change: 0.052466, lapse: 0.328734\n",
      "2-th iter, nll: 67.035304, change: 0.000625, lapse: 0.298441\n",
      "1-th iter, nll: 67.033130, change: 0.057315, lapse: 0.320909\n",
      "2-th iter, nll: 67.032202, change: 0.000578, lapse: 0.303823\n",
      "1-th iter, nll: 67.030246, change: 0.060427, lapse: 0.327777\n",
      "2-th iter, nll: 67.029423, change: 0.000535, lapse: 0.300409\n",
      "1-th iter, nll: 67.027780, change: 0.062438, lapse: 0.363047\n",
      "2-th iter, nll: 67.027049, change: 0.000499, lapse: 0.355765\n",
      "1-th iter, nll: 67.025702, change: 0.063750, lapse: 0.344585\n",
      "2-th iter, nll: 67.025050, change: 0.000465, lapse: 0.296270\n",
      "1-th iter, nll: 67.055466, change: 0.000948, lapse: 0.319927\n",
      "1-th iter, nll: 67.053398, change: 0.000913, lapse: 0.320392\n",
      "1-th iter, nll: 67.051468, change: 0.000880, lapse: 0.338301\n",
      "1-th iter, nll: 67.047786, change: 0.013127, lapse: 0.320808\n",
      "2-th iter, nll: 67.046217, change: 0.000789, lapse: 0.326599\n",
      "1-th iter, nll: 67.043867, change: 0.023273, lapse: 0.318707\n",
      "2-th iter, nll: 67.042498, change: 0.000738, lapse: 0.306790\n",
      "1-th iter, nll: 67.040139, change: 0.032126, lapse: 0.323190\n",
      "2-th iter, nll: 67.038940, change: 0.000691, lapse: 0.316702\n",
      "1-th iter, nll: 67.036820, change: 0.039231, lapse: 0.324418\n",
      "2-th iter, nll: 67.035763, change: 0.000640, lapse: 0.302513\n",
      "1-th iter, nll: 67.033925, change: 0.043634, lapse: 0.357265\n",
      "2-th iter, nll: 67.032992, change: 0.000593, lapse: 0.314216\n",
      "1-th iter, nll: 67.031423, change: 0.046338, lapse: 0.392471\n",
      "2-th iter, nll: 67.030596, change: 0.000552, lapse: 0.327831\n",
      "1-th iter, nll: 67.029249, change: 0.047971, lapse: 0.360080\n",
      "2-th iter, nll: 67.028513, change: 0.000516, lapse: 0.295519\n",
      "1-th iter, nll: 67.027353, change: 0.048931, lapse: 0.375943\n",
      "2-th iter, nll: 67.026697, change: 0.000483, lapse: 0.296738\n",
      "1-th iter, nll: 67.055466, change: 0.000948, lapse: 0.326638\n",
      "1-th iter, nll: 67.053398, change: 0.000913, lapse: 0.334155\n",
      "1-th iter, nll: 67.051446, change: 0.006219, lapse: 0.334668\n",
      "2-th iter, nll: 67.049644, change: 0.000849, lapse: 0.320923\n",
      "1-th iter, nll: 67.047526, change: 0.019975, lapse: 0.318344\n",
      "2-th iter, nll: 67.045953, change: 0.000788, lapse: 0.350022\n",
      "1-th iter, nll: 67.043708, change: 0.027700, lapse: 0.331908\n",
      "2-th iter, nll: 67.042332, change: 0.000731, lapse: 0.318322\n",
      "1-th iter, nll: 67.040053, change: 0.031065, lapse: 0.343823\n",
      "2-th iter, nll: 67.038847, change: 0.000675, lapse: 0.337198\n",
      "1-th iter, nll: 67.036574, change: 0.031658, lapse: 0.326110\n",
      "2-th iter, nll: 67.035510, change: 0.000622, lapse: 0.328459\n",
      "1-th iter, nll: 67.033397, change: 0.031671, lapse: 0.336946\n",
      "2-th iter, nll: 67.032455, change: 0.000575, lapse: 0.315946\n",
      "1-th iter, nll: 67.030595, change: 0.031855, lapse: 0.337790\n",
      "2-th iter, nll: 67.029758, change: 0.000532, lapse: 0.306484\n",
      "1-th iter, nll: 67.028191, change: 0.032333, lapse: 0.346148\n",
      "2-th iter, nll: 67.027445, change: 0.000500, lapse: 0.296289\n",
      "1-th iter, nll: 67.026161, change: 0.032793, lapse: 0.380063\n",
      "2-th iter, nll: 67.025494, change: 0.000471, lapse: 0.290730\n",
      "1-th iter, nll: 67.055466, change: 0.000948, lapse: 0.324537\n",
      "1-th iter, nll: 67.053398, change: 0.000913, lapse: 0.331286\n",
      "1-th iter, nll: 67.051303, change: 0.013236, lapse: 0.319374\n",
      "2-th iter, nll: 67.049498, change: 0.000850, lapse: 0.316462\n",
      "1-th iter, nll: 67.046881, change: 0.023777, lapse: 0.324459\n",
      "2-th iter, nll: 67.045296, change: 0.000792, lapse: 0.338214\n",
      "1-th iter, nll: 67.042445, change: 0.032682, lapse: 0.312700\n",
      "2-th iter, nll: 67.041049, change: 0.000739, lapse: 0.310763\n",
      "1-th iter, nll: 67.037981, change: 0.037264, lapse: 0.319717\n",
      "2-th iter, nll: 67.036747, change: 0.000691, lapse: 0.365035\n",
      "1-th iter, nll: 67.033722, change: 0.039262, lapse: 0.435858\n",
      "2-th iter, nll: 67.032626, change: 0.000644, lapse: 0.396336\n",
      "1-th iter, nll: 67.029944, change: 0.042063, lapse: 0.350001\n",
      "2-th iter, nll: 67.028969, change: 0.000603, lapse: 0.299137\n",
      "1-th iter, nll: 67.026736, change: 0.045145, lapse: 0.356219\n",
      "2-th iter, nll: 67.025865, change: 0.000566, lapse: 0.297602\n",
      "1-th iter, nll: 67.024048, change: 0.047130, lapse: 0.377285\n",
      "2-th iter, nll: 67.023268, change: 0.000532, lapse: 0.297378\n",
      "1-th iter, nll: 67.021825, change: 0.048420, lapse: 0.379323\n",
      "2-th iter, nll: 67.021126, change: 0.000500, lapse: 0.302812\n"
     ]
    }
   ],
   "source": [
    "Omegas_cv = np.zeros([num_cv, lambdas.shape[-1], 2*num_time, 2*num_time])\n",
    "weights_cv = []\n",
    "\n",
    "for iter_cv in np.arange(num_cv):\n",
    "    start_cv = time.time()\n",
    "    \n",
    "    # random sample\n",
    "    trial_sample = np.random.choice(num_trial, num_trial, False)\n",
    "    data_bst = [data[0], data[1][:,:,trial_sample]]\n",
    "\n",
    "    for iter_est, (lambda_cross, lambda_auto, lambda_diag, lambda_ridge) \\\n",
    "    in enumerate(zip(*lambdas)): \n",
    "        if iter_cv > 0:\n",
    "            init_arg = {'Omega_init': Omegas_cv[0,iter_est],\n",
    "                        'weight_init': weights_cv[iter_est]}\n",
    "        elif iter_est > 0:\n",
    "            init_arg = {'Omega_init': Omegas_cv[0,iter_est-1],\n",
    "                        'weight_init': weights_cv[iter_est-1]}\n",
    "        else:\n",
    "            init_arg = dict()\n",
    "\n",
    "        Omega_est, Sigma_est, latent_est, weight_est \\\n",
    "        = ldn.fit(data_bst, lambda_diag, lambda_cross, offset_cross,\n",
    "                   lambda_auto, offset_auto, \n",
    "                   ths_glasso=1e-6, ths_lasso=1e-6, verbose=True,\n",
    "                   **init_arg)\n",
    "        \n",
    "        # save result\n",
    "        Omegas_cv[iter_cv, iter_est] = Omega_est\n",
    "        if iter_cv == 0:\n",
    "            weights_cv.append(weight_est)\n",
    "\n",
    "    sys.__stdout__.write(\"%d-th cv finished, lapse: %.3fsec.\\n\"\n",
    "                         %(iter_cv+1, time.time()-start_cv))\n",
    "    sys.__stdout__.flush()"
   ]
  },
  {
   "cell_type": "code",
   "execution_count": 17,
   "metadata": {},
   "outputs": [
    {
     "data": {
      "image/png": "[encoded data removed]",
      "text/plain": [
       "<Figure size 864x648 with 11 Axes>"
      ]
     },
     "metadata": {
      "needs_background": "light"
     },
     "output_type": "display_data"
    }
   ],
   "source": [
    "plt.figure(figsize=(12,3*np.ceil(lambdas.shape[-1]/4)))\n",
    "for iter_lambda, (lambda_cross, lambda_auto, lambda_diag, lambda_ridge) \\\n",
    "in enumerate(zip(*lambdas)):\n",
    "    plt.subplot(np.ceil(lambdas.shape[-1]/4), 4, iter_lambda+1)\n",
    "    ldn.imshow(Omegas_cv[0, iter_lambda,:num_time,num_time:], identity=True)\n",
    "    plt.title(r'$\\lambda_{cross} = %f$'%lambda_cross)"
   ]
  },
  {
   "cell_type": "code",
   "execution_count": 18,
   "metadata": {},
   "outputs": [],
   "source": [
    "fds_cv = np.sum(Omegas_cv[:,:,:num_time,num_time:]!=0,(0,-2,-1))/num_cv\n",
    "fdrs_cv = np.sum(Omegas_cv[:,:,:num_time,num_time:]!=0,(0,-2,-1))/np.sum(time_graph_cross)/num_cv"
   ]
  },
  {
   "cell_type": "code",
   "execution_count": 19,
   "metadata": {
    "scrolled": true
   },
   "outputs": [
    {
     "data": {
      "text/plain": [
       "Text(0, 0.5, 'mean false discovery')"
      ]
     },
     "execution_count": 19,
     "metadata": {},
     "output_type": "execute_result"
    },
    {
     "data": {
      "image/png": "[encoded data removed]",
      "text/plain": [
       "<Figure size 360x288 with 1 Axes>"
      ]
     },
     "metadata": {
      "needs_background": "light"
     },
     "output_type": "display_data"
    }
   ],
   "source": [
    "plt.figure(figsize=(5,4))\n",
    "plt.plot(lambdas[0], fds_cv)\n",
    "plt.plot(lambdas[0], np.full(lambdas[0].shape, 0.05*np.sum(time_graph_cross)), color='black', linestyle=':')\n",
    "plt.xlabel(r\"$\\lambda_{cross}$\")\n",
    "plt.ylabel(r\"mean false discovery\")"
   ]
  },
  {
   "cell_type": "markdown",
   "metadata": {},
   "source": [
    "# cv result"
   ]
  },
  {
   "cell_type": "code",
   "execution_count": 20,
   "metadata": {},
   "outputs": [],
   "source": [
    "id_cv = np.argmax(fdrs_cv[fdrs_cv < 0.05])"
   ]
  },
  {
   "cell_type": "code",
   "execution_count": 21,
   "metadata": {},
   "outputs": [
    {
     "data": {
      "text/plain": [
       "(0.025118864315095805, 0.0, 0.5, 0.0)"
      ]
     },
     "execution_count": 21,
     "metadata": {},
     "output_type": "execute_result"
    }
   ],
   "source": [
    "lambda_cross, lambda_auto, lambda_diag, lambda_ridge = lambdas.T[id_cv]\n",
    "lambda_cross, lambda_auto, lambda_diag, lambda_ridge"
   ]
  },
  {
   "cell_type": "markdown",
   "metadata": {},
   "source": [
    "## LaDynS estimate"
   ]
  },
  {
   "cell_type": "code",
   "execution_count": 16,
   "metadata": {
    "scrolled": true
   },
   "outputs": [
    {
     "name": "stdout",
     "output_type": "stream",
     "text": [
      "1-th iter, nll: 67.671307, change: 0.097901, lapse: 0.601090\n",
      "2-th iter, nll: 67.591409, change: 0.009539, lapse: 0.569860\n",
      "3-th iter, nll: 67.527741, change: 0.006285, lapse: 0.715627\n",
      "4-th iter, nll: 67.474768, change: 0.005465, lapse: 0.542899\n",
      "5-th iter, nll: 67.429632, change: 0.004933, lapse: 0.531161\n",
      "6-th iter, nll: 67.390578, change: 0.004577, lapse: 0.527145\n",
      "7-th iter, nll: 67.356413, change: 0.004311, lapse: 0.559462\n",
      "8-th iter, nll: 67.326277, change: 0.004072, lapse: 0.503991\n",
      "9-th iter, nll: 67.299524, change: 0.003844, lapse: 0.551614\n",
      "10-th iter, nll: 67.275652, change: 0.003624, lapse: 0.486654\n",
      "11-th iter, nll: 67.254259, change: 0.003414, lapse: 0.487320\n",
      "12-th iter, nll: 67.235018, change: 0.003213, lapse: 0.474926\n",
      "13-th iter, nll: 67.217657, change: 0.003030, lapse: 0.488309\n",
      "14-th iter, nll: 67.201949, change: 0.002873, lapse: 0.478708\n",
      "15-th iter, nll: 67.187700, change: 0.002722, lapse: 0.472510\n",
      "16-th iter, nll: 67.174747, change: 0.002579, lapse: 0.472023\n",
      "17-th iter, nll: 67.162949, change: 0.002443, lapse: 0.459581\n",
      "18-th iter, nll: 67.152181, change: 0.002314, lapse: 0.458382\n",
      "19-th iter, nll: 67.142339, change: 0.002192, lapse: 0.458860\n",
      "20-th iter, nll: 67.133329, change: 0.002076, lapse: 0.457825\n",
      "21-th iter, nll: 67.125068, change: 0.001968, lapse: 0.446623\n",
      "22-th iter, nll: 67.117484, change: 0.001877, lapse: 0.443489\n",
      "23-th iter, nll: 67.110514, change: 0.001790, lapse: 0.445475\n",
      "24-th iter, nll: 67.104101, change: 0.001708, lapse: 0.442023\n",
      "25-th iter, nll: 67.098193, change: 0.001630, lapse: 0.433624\n",
      "26-th iter, nll: 67.092746, change: 0.001556, lapse: 0.440567\n",
      "27-th iter, nll: 67.087718, change: 0.001486, lapse: 0.432288\n",
      "28-th iter, nll: 67.083072, change: 0.001420, lapse: 0.428909\n",
      "29-th iter, nll: 67.078776, change: 0.001358, lapse: 0.418730\n",
      "30-th iter, nll: 67.074799, change: 0.001299, lapse: 0.417751\n",
      "31-th iter, nll: 67.071115, change: 0.001243, lapse: 0.422878\n",
      "32-th iter, nll: 67.067699, change: 0.001191, lapse: 0.417089\n",
      "33-th iter, nll: 67.064530, change: 0.001146, lapse: 0.415328\n",
      "34-th iter, nll: 67.061586, change: 0.001104, lapse: 0.417138\n",
      "35-th iter, nll: 67.058850, change: 0.001063, lapse: 0.411282\n",
      "36-th iter, nll: 67.056305, change: 0.001024, lapse: 0.403051\n",
      "37-th iter, nll: 67.053935, change: 0.000986, lapse: 0.406856\n"
     ]
    }
   ],
   "source": [
    "Omega_est, Sigma_est, latent_est, weight_est \\\n",
    "= ldn.fit(data, lambda_diag, lambda_cross, offset_cross,\n",
    "           lambda_auto, offset_auto, \n",
    "           ths_glasso=1e-6, ths_lasso=1e-6, verbose=True)"
   ]
  },
  {
   "cell_type": "code",
   "execution_count": 202,
   "metadata": {},
   "outputs": [],
   "source": [
    "# np.savez('result_exp.npz',\n",
    "#          Omega_est = Omega_est, Sigma_est = Sigma_est,\n",
    "#          latent_est = latent_est, weight_est = weight_est)"
   ]
  },
  {
   "cell_type": "code",
   "execution_count": 28,
   "metadata": {},
   "outputs": [],
   "source": [
    "roi = (np.abs(np.subtract(*np.where(\n",
    "    np.full([num_time,num_time],True)))\n",
    "       .reshape([num_time,num_time])) < offset_cross-1)"
   ]
  },
  {
   "cell_type": "code",
   "execution_count": 34,
   "metadata": {},
   "outputs": [],
   "source": [
    "dspr_est = 2*Omega_est - Omega_est @ Sigma_est @ Omega_est"
   ]
  },
  {
   "cell_type": "code",
   "execution_count": 36,
   "metadata": {},
   "outputs": [
    {
     "data": {
      "text/plain": [
       "<matplotlib.colorbar.Colorbar at 0x7fde4c36c710>"
      ]
     },
     "execution_count": 36,
     "metadata": {},
     "output_type": "execute_result"
    },
    {
     "data": {
      "image/png": "[encoded data removed]",
      "text/plain": [
       "<Figure size 432x288 with 2 Axes>"
      ]
     },
     "metadata": {
      "needs_background": "light"
     },
     "output_type": "display_data"
    }
   ],
   "source": [
    "ldn.imshow(dspr_est[:num_time,num_time:] * roi, time=[0, 50], identity=True)\n",
    "plt.colorbar()"
   ]
  },
  {
   "cell_type": "code",
   "execution_count": 37,
   "metadata": {},
   "outputs": [
    {
     "data": {
      "text/plain": [
       "0.006202517694265846"
      ]
     },
     "execution_count": 37,
     "metadata": {},
     "output_type": "execute_result"
    }
   ],
   "source": [
    "np.max(np.abs(dspr_est[:num_time,num_time:])*roi)"
   ]
  },
  {
   "cell_type": "markdown",
   "metadata": {},
   "source": [
    "# 1. Key statistics"
   ]
  },
  {
   "cell_type": "markdown",
   "metadata": {},
   "source": [
    "## auto-correlation"
   ]
  },
  {
   "cell_type": "code",
   "execution_count": 18,
   "metadata": {},
   "outputs": [],
   "source": [
    "sighat = Sigma_est.copy()\n",
    "sighat_1 = sighat[:num_time,:num_time]\n",
    "sighat_2 = sighat[num_time:,num_time:]"
   ]
  },
  {
   "cell_type": "code",
   "execution_count": 19,
   "metadata": {},
   "outputs": [],
   "source": [
    "Y_mm_1 = np.concatenate([[0], np.cumsum(np.sqrt(-2*np.log(\n",
    "    sighat_1[np.arange(1,num_time), np.arange(0,num_time-1)])))])\n",
    "Y_mm_2 = np.concatenate([[0], np.cumsum(np.sqrt(-2*np.log(\n",
    "    sighat_2[np.arange(1,num_time), np.arange(0,num_time-1)])))])"
   ]
  },
  {
   "cell_type": "code",
   "execution_count": 20,
   "metadata": {},
   "outputs": [],
   "source": [
    "sigmm_1 = np.exp(-(np.square(Y_mm_1[:,None] - Y_mm_1[None,:])/2))\n",
    "sigmm_2 = np.exp(-(np.square(Y_mm_2[:,None] - Y_mm_2[None,:])/2))"
   ]
  },
  {
   "cell_type": "code",
   "execution_count": 21,
   "metadata": {},
   "outputs": [
    {
     "data": {
      "image/png": "[encoded data removed]",
      "text/plain": [
       "<Figure size 648x432 with 6 Axes>"
      ]
     },
     "metadata": {
      "needs_background": "light"
     },
     "output_type": "display_data"
    }
   ],
   "source": [
    "%matplotlib inline\n",
    "plt.figure(figsize=(9,6))\n",
    "plt.subplot(2,3,1); ldn.imshow(sighat_1, vmax=1)\n",
    "plt.subplot(2,3,2); ldn.imshow(sigmm_1, vmax=1)\n",
    "plt.subplot(2,3,3); ldn.imshow(sigmm_1 - sighat_1, vmax=1)\n",
    "plt.subplot(2,3,4); ldn.imshow(sighat_2, vmax=1)\n",
    "plt.subplot(2,3,5); ldn.imshow(sigmm_2, vmax=1)\n",
    "plt.subplot(2,3,6); ldn.imshow(sigmm_2 - sighat_2, vmax=1)"
   ]
  },
  {
   "cell_type": "code",
   "execution_count": 22,
   "metadata": {
    "scrolled": true
   },
   "outputs": [
    {
     "data": {
      "text/plain": [
       "(0.14842451792365774, 0.16333313075591857)"
      ]
     },
     "execution_count": 22,
     "metadata": {},
     "output_type": "execute_result"
    }
   ],
   "source": [
    "Y_mm_1[-1]/(num_time-1), Y_mm_2[-1]/(num_time-1)"
   ]
  },
  {
   "cell_type": "markdown",
   "metadata": {},
   "source": [
    "## cross-correlation"
   ]
  },
  {
   "cell_type": "code",
   "execution_count": 26,
   "metadata": {},
   "outputs": [
    {
     "data": {
      "text/plain": [
       "0.0944295398057583"
      ]
     },
     "execution_count": 26,
     "metadata": {},
     "output_type": "execute_result"
    }
   ],
   "source": [
    "np.max(Sigma_est[:num_time,num_time:])"
   ]
  },
  {
   "cell_type": "markdown",
   "metadata": {},
   "source": [
    "# 2. simulation "
   ]
  },
  {
   "cell_type": "markdown",
   "metadata": {},
   "source": [
    "## cross precision"
   ]
  },
  {
   "cell_type": "code",
   "execution_count": 50,
   "metadata": {},
   "outputs": [],
   "source": [
    "num_blobs = 3"
   ]
  },
  {
   "cell_type": "code",
   "execution_count": 51,
   "metadata": {},
   "outputs": [],
   "source": [
    "times = np.array([[1, 1, 12], [22, 22, 6], [33, 33, 9]])"
   ]
  },
  {
   "cell_type": "code",
   "execution_count": 142,
   "metadata": {},
   "outputs": [],
   "source": [
    "H0 = np.zeros((times.shape[0], num_time, num_time))\n",
    "for i, (time_0, time_1, duration) in enumerate(times):\n",
    "    H0[i, time_0:time_0+duration, time_1:time_1+duration] \\\n",
    "    = np.abs(np.arange(duration)-np.arange(duration)[:,None]) < 2"
   ]
  },
  {
   "cell_type": "code",
   "execution_count": 143,
   "metadata": {},
   "outputs": [
    {
     "data": {
      "text/plain": [
       "(0.0, 1.0, 0.0, 1.0)"
      ]
     },
     "execution_count": 143,
     "metadata": {},
     "output_type": "execute_result"
    },
    {
     "data": {
      "image/png": "[encoded data removed]",
      "text/plain": [
       "<Figure size 288x216 with 2 Axes>"
      ]
     },
     "metadata": {
      "needs_background": "light"
     },
     "output_type": "display_data"
    }
   ],
   "source": [
    "import matplotlib.gridspec as gridspec\n",
    "plt.figure(figsize=(4,3))\n",
    "gridspec.GridSpec(1,4); plt.subplot2grid((1,4), (0,0), colspan=3, rowspan=1)\n",
    "ldn.imshow(np.sum(H0, 0), time=[0,50], identity=True, vmax=1)\n",
    "plt.ylabel(r'series 1 at time $t$'); plt.xlabel(r'series 2 at time $s$')\n",
    "ax = plt.subplot2grid((1,4), (0,3))\n",
    "ax.axis('off')"
   ]
  },
  {
   "cell_type": "markdown",
   "metadata": {},
   "source": [
    "## latent direction"
   ]
  },
  {
   "cell_type": "code",
   "execution_count": 258,
   "metadata": {},
   "outputs": [],
   "source": [
    "mu = [np.mean(dat, -1) for dat in data]\n",
    "covs = [\n",
    "    np.matmul(dat - m[...,None], dat - m[...,None], axes=[(1,2),(2,1),(1,2)])/obs_trial\n",
    "    for dat, m in zip(data, mu)]"
   ]
  },
  {
   "cell_type": "code",
   "execution_count": 259,
   "metadata": {},
   "outputs": [],
   "source": [
    "weights_est = [np.array(weight_est[:num_time]),\n",
    "               np.array(weight_est[num_time:])]"
   ]
  },
  {
   "cell_type": "code",
   "execution_count": 260,
   "metadata": {},
   "outputs": [],
   "source": [
    "betas_est = [(cov @ w[...,None])[...,0] for cov ,w in zip(covs, weights_est)]"
   ]
  },
  {
   "cell_type": "markdown",
   "metadata": {},
   "source": [
    "## latent precision"
   ]
  },
  {
   "cell_type": "code",
   "execution_count": 261,
   "metadata": {},
   "outputs": [],
   "source": [
    "precs_auto = [linalg.inv(S + lambda_diag * np.eye(num_time))\n",
    "              for S in [sigmm_1, sigmm_2]] "
   ]
  },
  {
   "cell_type": "code",
   "execution_count": 262,
   "metadata": {},
   "outputs": [],
   "source": [
    "snr = 0.006\n",
    "prec_latent = np.array(np.block([\n",
    "    [precs_auto[0], -snr*np.sum(H0,0)],\n",
    "    [-snr*np.sum(H0,0).T, precs_auto[1]]\n",
    "]))\n",
    "cov_latent = linalg.inv(prec_latent)"
   ]
  },
  {
   "cell_type": "code",
   "execution_count": 263,
   "metadata": {},
   "outputs": [],
   "source": [
    "cov_latent = cov_latent + (np.min(linalg.eig(Sigma_est)[0]) - np.min(linalg.eig(cov_latent)[0]))*np.eye(2*num_time)\n",
    "sd_latent = np.sqrt(np.diag(cov_latent))\n",
    "corr_latent = cov_latent / sd_latent / sd_latent[:,None]\n",
    "chol_latent = linalg.cholesky(corr_latent)"
   ]
  },
  {
   "cell_type": "code",
   "execution_count": 264,
   "metadata": {},
   "outputs": [
    {
     "data": {
      "image/png": "[encoded data removed]",
      "text/plain": [
       "<Figure size 432x288 with 1 Axes>"
      ]
     },
     "metadata": {
      "needs_background": "light"
     },
     "output_type": "display_data"
    }
   ],
   "source": [
    "ldn.imshow(corr_latent)"
   ]
  },
  {
   "cell_type": "code",
   "execution_count": 265,
   "metadata": {
    "scrolled": true
   },
   "outputs": [
    {
     "data": {
      "text/plain": [
       "<matplotlib.colorbar.Colorbar at 0x7fde44f63d10>"
      ]
     },
     "execution_count": 265,
     "metadata": {},
     "output_type": "execute_result"
    },
    {
     "data": {
      "image/png": "[encoded data removed]",
      "text/plain": [
       "<Figure size 432x288 with 2 Axes>"
      ]
     },
     "metadata": {
      "needs_background": "light"
     },
     "output_type": "display_data"
    }
   ],
   "source": [
    "ldn.imshow(np.linalg.inv(corr_latent + lambda_diag*np.eye(2*num_time))[:num_time,num_time:]); plt.colorbar()"
   ]
  },
  {
   "cell_type": "code",
   "execution_count": 266,
   "metadata": {},
   "outputs": [],
   "source": [
    "# corr_latent[:num_time, num_time:] = corr_latent[:num_time, num_time:].copy()*0.5\n",
    "# corr_latent[num_time:, :num_time] = corr_latent[num_time:, :num_time].copy()*0.5\n",
    "# chol_latent = linalg.cholesky(corr_latent)"
   ]
  },
  {
   "cell_type": "code",
   "execution_count": 267,
   "metadata": {},
   "outputs": [
    {
     "data": {
      "text/plain": [
       "<matplotlib.colorbar.Colorbar at 0x7fde44e86d10>"
      ]
     },
     "execution_count": 267,
     "metadata": {},
     "output_type": "execute_result"
    },
    {
     "data": {
      "image/png": "[encoded data removed]",
      "text/plain": [
       "<Figure size 432x288 with 2 Axes>"
      ]
     },
     "metadata": {
      "needs_background": "light"
     },
     "output_type": "display_data"
    }
   ],
   "source": [
    "ldn.imshow(Sigma_est[:num_time,num_time:]); plt.colorbar()"
   ]
  },
  {
   "cell_type": "code",
   "execution_count": 268,
   "metadata": {},
   "outputs": [
    {
     "data": {
      "text/plain": [
       "<matplotlib.colorbar.Colorbar at 0x7fde44dbbc10>"
      ]
     },
     "execution_count": 268,
     "metadata": {},
     "output_type": "execute_result"
    },
    {
     "data": {
      "image/png": "[encoded data removed]",
      "text/plain": [
       "<Figure size 432x288 with 2 Axes>"
      ]
     },
     "metadata": {
      "needs_background": "light"
     },
     "output_type": "display_data"
    }
   ],
   "source": [
    "ldn.imshow(corr_latent[:num_time,num_time:]); plt.colorbar()"
   ]
  },
  {
   "cell_type": "markdown",
   "metadata": {},
   "source": [
    "## simulate"
   ]
  },
  {
   "cell_type": "code",
   "execution_count": 269,
   "metadata": {},
   "outputs": [],
   "source": [
    "obs_trial = data[0].shape[2]\n",
    "num_trial = 3000"
   ]
  },
  {
   "cell_type": "code",
   "execution_count": 270,
   "metadata": {},
   "outputs": [],
   "source": [
    "dummy = [dat[:,:,np.random.choice(obs_trial, num_trial, replace=False)]\n",
    "         for dat, dim in zip(data, dims)]\n",
    "ldummy = [np.squeeze(np.matmul(dir_i[:,None,:], dumm - np.mean(dumm, -1, keepdims=True)))\n",
    "          for dir_i, dumm in zip(weights_est, dummy)]\n",
    "\n",
    "# cov_ldummy = np.cov(ldummy[0], ldummy[1])\n",
    "# sd_ldummy = np.sqrt(np.diag(cov_ldummy))\n",
    "\n",
    "latent_variables = (chol_latent.T @ np.random.normal(0, 1, (2*num_time, num_trial)))\n",
    "\n",
    "pops = [dummy[0] + betas_est[0][:,:,None] * (latent_variables[:num_time,None,:]-ldummy[0][:,None,:]),\n",
    "        dummy[1] + betas_est[1][:,:,None] * (latent_variables[num_time:,None,:]-ldummy[1][:,None,:])]"
   ]
  },
  {
   "cell_type": "code",
   "execution_count": 273,
   "metadata": {},
   "outputs": [],
   "source": [
    "# mchols = [np.array([linalg.cholesky(0.5*np.cov(dat_t, bias=True)) for dat_t in dat])\n",
    "#           for dat in data]\n",
    "\n",
    "# dummy = [dat[:,:,np.random.choice(obs_trial, num_trial, replace=True)]\n",
    "#          + np.matmul(mchol.transpose([0,2,1]), np.random.normal(size=(num_time,dim,num_trial)))\n",
    "#          for dat, dim, mchol in zip(data, dims, mchols)]\n",
    "# ldummy = [np.squeeze(np.matmul(dir_i[:,None,:], dumm - np.mean(dumm, -1, keepdims=True)))\n",
    "#           for dir_i, dumm in zip(weights_est, dummy)]\n",
    "\n",
    "# cov_ldummy = np.cov(ldummy[0], ldummy[1])\n",
    "# sd_ldummy = np.sqrt(np.diag(cov_ldummy))\n",
    "\n",
    "# latent_variables = (chol_latent.T @ np.random.normal(0, 1, (2*num_time, num_trial)))\n",
    "\n",
    "# pops = [dummy[0] + betas_est[0][:,:,None] * (sd_ldummy[:num_time,None,None]*latent_variables[:num_time,None,:]-ldummy[0][:,None,:]),\n",
    "#         dummy[1] + betas_est[1][:,:,None] * (sd_ldummy[num_time:,None,None]*latent_variables[num_time:,None,:]-ldummy[1][:,None,:])]"
   ]
  },
  {
   "cell_type": "code",
   "execution_count": 274,
   "metadata": {},
   "outputs": [
    {
     "data": {
      "text/plain": [
       "<matplotlib.colorbar.Colorbar at 0x7fde44cf2550>"
      ]
     },
     "execution_count": 274,
     "metadata": {},
     "output_type": "execute_result"
    },
    {
     "data": {
      "image/png": "[encoded data removed]",
      "text/plain": [
       "<Figure size 576x288 with 4 Axes>"
      ]
     },
     "metadata": {
      "needs_background": "light"
     },
     "output_type": "display_data"
    }
   ],
   "source": [
    "plt.figure(figsize=(8,4))\n",
    "plt.subplot(1,2,1); ldn.imshow(np.cov(ldummy[0],ldummy[1], bias=True)); plt.colorbar()\n",
    "plt.subplot(1,2,2); ldn.imshow(np.cov(latent_variables, bias=True)); plt.colorbar()"
   ]
  },
  {
   "cell_type": "code",
   "execution_count": 276,
   "metadata": {},
   "outputs": [
    {
     "data": {
      "text/plain": [
       "(1.0, -740.0751334589147)"
      ]
     },
     "execution_count": 276,
     "metadata": {},
     "output_type": "execute_result"
    }
   ],
   "source": [
    "np.linalg.slogdet(np.corrcoef(ldummy[0],ldummy[1]))"
   ]
  },
  {
   "cell_type": "code",
   "execution_count": 277,
   "metadata": {},
   "outputs": [
    {
     "data": {
      "text/plain": [
       "((1-0j), -472.59623094920755)"
      ]
     },
     "execution_count": 277,
     "metadata": {},
     "output_type": "execute_result"
    }
   ],
   "source": [
    "np.linalg.slogdet(np.corrcoef(latent_variables))"
   ]
  },
  {
   "cell_type": "code",
   "execution_count": 278,
   "metadata": {},
   "outputs": [
    {
     "data": {
      "text/plain": [
       "<matplotlib.colorbar.Colorbar at 0x7fde44bdf950>"
      ]
     },
     "execution_count": 278,
     "metadata": {},
     "output_type": "execute_result"
    },
    {
     "data": {
      "image/png": "[encoded data removed]",
      "text/plain": [
       "<Figure size 432x288 with 2 Axes>"
      ]
     },
     "metadata": {
      "needs_background": "light"
     },
     "output_type": "display_data"
    }
   ],
   "source": [
    "ldn.imshow(linalg.inv(np.corrcoef(latent_variables) + lambda_diag * np.eye(2*num_time))[:num_time,num_time:]); plt.colorbar()"
   ]
  }
 ],
 "metadata": {
  "kernelspec": {
   "display_name": "Python 3",
   "language": "python",
   "name": "python3"
  },
  "language_info": {
   "codemirror_mode": {
    "name": "ipython",
    "version": 3
   },
   "file_extension": ".py",
   "mimetype": "text/x-python",
   "name": "python",
   "nbconvert_exporter": "python",
   "pygments_lexer": "ipython3",
   "version": "3.7.4"
  }
 },
 "nbformat": 4,
 "nbformat_minor": 2
}
