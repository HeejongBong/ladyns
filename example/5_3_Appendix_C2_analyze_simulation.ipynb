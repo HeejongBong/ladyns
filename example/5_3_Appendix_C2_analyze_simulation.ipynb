{
 "cells": [
  {
   "cell_type": "code",
   "execution_count": 1,
   "metadata": {},
   "outputs": [],
   "source": [
    "import os, importlib, sys, time, glob"
   ]
  },
  {
   "cell_type": "code",
   "execution_count": 2,
   "metadata": {},
   "outputs": [],
   "source": [
    "import numpy as np\n",
    "from scipy import linalg, stats, ndimage\n",
    "from scipy.sparse import diags\n",
    "import matplotlib.pyplot as plt"
   ]
  },
  {
   "cell_type": "code",
   "execution_count": 3,
   "metadata": {},
   "outputs": [],
   "source": [
    "import ladyns as ldn\n",
    "import ladyns.optimize.core as core"
   ]
  },
  {
   "cell_type": "markdown",
   "metadata": {},
   "source": [
    "# 0. simulation from LFM"
   ]
  },
  {
   "cell_type": "code",
   "execution_count": 5,
   "metadata": {},
   "outputs": [],
   "source": [
    "save_dir = \"../temp/Appendix_C2\"\n",
    "if not os.path.exists(save_dir):\n",
    "    os.makedirs(save_dir)"
   ]
  },
  {
   "cell_type": "code",
   "execution_count": 6,
   "metadata": {},
   "outputs": [],
   "source": [
    "num_time = 50"
   ]
  },
  {
   "cell_type": "markdown",
   "metadata": {},
   "source": [
    "## cross precision"
   ]
  },
  {
   "cell_type": "code",
   "execution_count": 7,
   "metadata": {},
   "outputs": [],
   "source": [
    "num_blobs = 3"
   ]
  },
  {
   "cell_type": "code",
   "execution_count": 8,
   "metadata": {},
   "outputs": [],
   "source": [
    "times = np.array([[1, 1, 12], [21, 18, 6], [32, 37, 9]])"
   ]
  },
  {
   "cell_type": "code",
   "execution_count": 9,
   "metadata": {},
   "outputs": [],
   "source": [
    "H0 = np.zeros((times.shape[0], num_time, num_time))\n",
    "for i, (time_0, time_1, duration) in enumerate(times):\n",
    "    H0[i, time_0:time_0+duration, time_1:time_1+duration] \\\n",
    "    = np.abs(np.arange(duration)-np.arange(duration)[:,None]) < 2"
   ]
  },
  {
   "cell_type": "code",
   "execution_count": 10,
   "metadata": {},
   "outputs": [
    {
     "data": {
      "image/png": "[encoded data removed]",
      "text/plain": [
       "<Figure size 432x288 with 1 Axes>"
      ]
     },
     "metadata": {
      "needs_background": "light"
     },
     "output_type": "display_data"
    }
   ],
   "source": [
    "ldn.imshow(np.sum(H0, 0))"
   ]
  },
  {
   "cell_type": "code",
   "execution_count": 11,
   "metadata": {},
   "outputs": [],
   "source": [
    "rhos = [0.148, 0.163]\n",
    "precs_auto = [linalg.inv(\n",
    "    np.exp(-np.square((np.arange(num_time)[:,None]-np.arange(num_time))*rho))\n",
    "    + 1 * np.eye(num_time))\n",
    "    for rho in rhos] "
   ]
  },
  {
   "cell_type": "code",
   "execution_count": 12,
   "metadata": {},
   "outputs": [],
   "source": [
    "snr = 0.4\n",
    "prec_latent = np.array(np.block([\n",
    "    [precs_auto[0]+snr*np.eye(num_time)*np.sum(H0,(0,2)), -snr*np.sum(H0,0)],\n",
    "    [-snr*np.sum(H0,0).T, precs_auto[1]+snr*np.eye(num_time)*np.sum(H0,(0,1))]\n",
    "]))"
   ]
  },
  {
   "cell_type": "code",
   "execution_count": 13,
   "metadata": {},
   "outputs": [],
   "source": [
    "cov_latent = linalg.inv(prec_latent)\n",
    "sd_latent = np.sqrt(np.diag(cov_latent))\n",
    "corr_latent = cov_latent / sd_latent / sd_latent[:,None]\n",
    "chol_latent = linalg.cholesky(corr_latent)"
   ]
  },
  {
   "cell_type": "markdown",
   "metadata": {},
   "source": [
    "# 1. analysis on simulated estimation "
   ]
  },
  {
   "cell_type": "code",
   "execution_count": 14,
   "metadata": {},
   "outputs": [],
   "source": [
    "snrs = np.array([0.2, 0.4, 0.6, 0.8, 1.0])"
   ]
  },
  {
   "cell_type": "code",
   "execution_count": 15,
   "metadata": {},
   "outputs": [],
   "source": [
    "num_bst = 200"
   ]
  },
  {
   "cell_type": "code",
   "execution_count": 16,
   "metadata": {},
   "outputs": [],
   "source": [
    "num_sim = np.min([len(glob.glob(\"%s/result_sim_%.1d_*.npz\"%(save_dir, i))) \n",
    "                  for i, snr in enumerate(snrs)])"
   ]
  },
  {
   "cell_type": "code",
   "execution_count": 17,
   "metadata": {},
   "outputs": [
    {
     "data": {
      "text/plain": [
       "60"
      ]
     },
     "execution_count": 17,
     "metadata": {},
     "output_type": "execute_result"
    }
   ],
   "source": [
    "num_sim"
   ]
  },
  {
   "cell_type": "code",
   "execution_count": 18,
   "metadata": {},
   "outputs": [],
   "source": [
    "offset_cross = 10\n",
    "offset_auto = 10\n",
    "lambda_diag=0"
   ]
  },
  {
   "cell_type": "code",
   "execution_count": 19,
   "metadata": {},
   "outputs": [],
   "source": [
    "time_graph_cross = (np.abs(np.subtract(*np.where(\n",
    "    np.full([num_time,num_time],True)))\n",
    "       .reshape([num_time,num_time])) < offset_cross)\n",
    "time_graph_auto = (np.abs(np.subtract(*np.where(\n",
    "    np.full([num_time,num_time],True)))\n",
    "       .reshape([num_time,num_time])) < offset_auto)"
   ]
  },
  {
   "cell_type": "markdown",
   "metadata": {},
   "source": [
    "## true desparsified precision"
   ]
  },
  {
   "cell_type": "code",
   "execution_count": 22,
   "metadata": {},
   "outputs": [],
   "source": [
    "IOmega_latent = corr_latent.copy()\n",
    "Omega_latent = np.linalg.inv(IOmega_latent)"
   ]
  },
  {
   "cell_type": "code",
   "execution_count": 23,
   "metadata": {},
   "outputs": [],
   "source": [
    "core.glasso(Omega_latent, IOmega_latent, corr_latent, lambda_graph)"
   ]
  },
  {
   "cell_type": "code",
   "execution_count": 24,
   "metadata": {},
   "outputs": [],
   "source": [
    "dspr_latent = 2*Omega_latent - Omega_latent @ corr_latent @ Omega_latent"
   ]
  },
  {
   "cell_type": "markdown",
   "metadata": {},
   "source": [
    "## plots"
   ]
  },
  {
   "cell_type": "code",
   "execution_count": 25,
   "metadata": {},
   "outputs": [
    {
     "data": {
      "text/plain": [
       "<matplotlib.colorbar.Colorbar at 0x7fab84ec3050>"
      ]
     },
     "execution_count": 25,
     "metadata": {},
     "output_type": "execute_result"
    },
    {
     "data": {
      "image/png": "[encoded data removed]",
      "text/plain": [
       "<Figure size 576x216 with 4 Axes>"
      ]
     },
     "metadata": {
      "needs_background": "light"
     },
     "output_type": "display_data"
    }
   ],
   "source": [
    "plt.figure(figsize=(8, 3))\n",
    "plt.subplot(1,2,1); ldn.imshow(prec_latent[:num_time,num_time:]); plt.colorbar()\n",
    "plt.subplot(1,2,2); ldn.imshow(dspr_latent[:num_time,num_time:]); plt.colorbar()"
   ]
  },
  {
   "cell_type": "code",
   "execution_count": 26,
   "metadata": {},
   "outputs": [
    {
     "data": {
      "text/plain": [
       "Text(0, 0.5, 'series 1 at time $t$')"
      ]
     },
     "execution_count": 26,
     "metadata": {},
     "output_type": "execute_result"
    },
    {
     "data": {
      "image/png": "[encoded data removed]",
      "text/plain": [
       "<Figure size 216x216 with 1 Axes>"
      ]
     },
     "metadata": {
      "needs_background": "light"
     },
     "output_type": "display_data"
    }
   ],
   "source": [
    "plt.figure(figsize=(3,3))\n",
    "ldn.imshow(dspr_latent[:num_time,num_time:],\n",
    "           vmax=0.4, time=[0,50], identity=True)\n",
    "plt.xlabel(r\"series 2 at time $s$\"); plt.ylabel(r\"series 1 at time $t$\")"
   ]
  },
  {
   "cell_type": "markdown",
   "metadata": {},
   "source": [
    "## load simulation results"
   ]
  },
  {
   "cell_type": "code",
   "execution_count": 27,
   "metadata": {
    "scrolled": true
   },
   "outputs": [
    {
     "name": "stdout",
     "output_type": "stream",
     "text": [
      "1-1-th simulation\n",
      "1-2-th simulation\n",
      "1-3-th simulation\n",
      "1-4-th simulation\n",
      "1-5-th simulation\n",
      "1-6-th simulation\n",
      "1-7-th simulation\n",
      "1-8-th simulation\n",
      "1-9-th simulation\n",
      "1-10-th simulation\n",
      "1-11-th simulation\n",
      "1-12-th simulation\n",
      "1-13-th simulation\n",
      "1-14-th simulation\n",
      "1-15-th simulation\n",
      "1-16-th simulation\n",
      "1-17-th simulation\n",
      "1-18-th simulation\n",
      "1-19-th simulation\n",
      "1-20-th simulation\n",
      "1-21-th simulation\n",
      "1-22-th simulation\n",
      "1-23-th simulation\n",
      "1-24-th simulation\n",
      "1-25-th simulation\n",
      "1-26-th simulation\n",
      "1-27-th simulation\n",
      "1-28-th simulation\n",
      "1-29-th simulation\n",
      "1-30-th simulation\n",
      "1-31-th simulation\n",
      "1-32-th simulation\n",
      "1-33-th simulation\n",
      "1-34-th simulation\n",
      "1-35-th simulation\n",
      "1-36-th simulation\n",
      "1-37-th simulation\n",
      "1-38-th simulation\n",
      "1-39-th simulation\n",
      "1-40-th simulation\n",
      "1-41-th simulation\n",
      "1-42-th simulation\n",
      "1-43-th simulation\n",
      "1-44-th simulation\n",
      "1-45-th simulation\n",
      "1-46-th simulation\n",
      "1-47-th simulation\n",
      "1-48-th simulation\n",
      "1-49-th simulation\n",
      "1-50-th simulation\n",
      "1-51-th simulation\n",
      "1-52-th simulation\n",
      "1-53-th simulation\n",
      "1-54-th simulation\n",
      "1-55-th simulation\n",
      "1-56-th simulation\n",
      "1-57-th simulation\n",
      "1-58-th simulation\n",
      "1-59-th simulation\n",
      "1-60-th simulation\n",
      "2-1-th simulation\n",
      "2-2-th simulation\n",
      "2-3-th simulation\n",
      "2-4-th simulation\n",
      "2-5-th simulation\n",
      "2-6-th simulation\n",
      "2-7-th simulation\n",
      "2-8-th simulation\n",
      "2-9-th simulation\n",
      "2-10-th simulation\n",
      "2-11-th simulation\n",
      "2-12-th simulation\n",
      "2-13-th simulation\n",
      "2-14-th simulation\n",
      "2-15-th simulation\n",
      "2-16-th simulation\n",
      "2-17-th simulation\n",
      "2-18-th simulation\n",
      "2-19-th simulation\n",
      "2-20-th simulation\n",
      "2-21-th simulation\n",
      "2-22-th simulation\n",
      "2-23-th simulation\n",
      "2-24-th simulation\n",
      "2-25-th simulation\n",
      "2-26-th simulation\n",
      "2-27-th simulation\n",
      "2-28-th simulation\n",
      "2-29-th simulation\n",
      "2-30-th simulation\n",
      "2-31-th simulation\n",
      "2-32-th simulation\n",
      "2-33-th simulation\n",
      "2-34-th simulation\n",
      "2-35-th simulation\n",
      "2-36-th simulation\n",
      "2-37-th simulation\n",
      "2-38-th simulation\n",
      "2-39-th simulation\n",
      "2-40-th simulation\n",
      "2-41-th simulation\n",
      "2-42-th simulation\n",
      "2-43-th simulation\n",
      "2-44-th simulation\n",
      "2-45-th simulation\n",
      "2-46-th simulation\n",
      "2-47-th simulation\n",
      "2-48-th simulation\n",
      "2-49-th simulation\n",
      "2-50-th simulation\n",
      "2-51-th simulation\n",
      "2-52-th simulation\n",
      "2-53-th simulation\n",
      "2-54-th simulation\n",
      "2-55-th simulation\n",
      "2-56-th simulation\n",
      "2-57-th simulation\n",
      "2-58-th simulation\n",
      "2-59-th simulation\n",
      "2-60-th simulation\n",
      "3-1-th simulation\n",
      "3-2-th simulation\n",
      "3-3-th simulation\n",
      "3-4-th simulation\n",
      "3-5-th simulation\n",
      "3-6-th simulation\n",
      "3-7-th simulation\n",
      "3-8-th simulation\n",
      "3-9-th simulation\n",
      "3-10-th simulation\n",
      "3-11-th simulation\n",
      "3-12-th simulation\n",
      "3-13-th simulation\n",
      "3-14-th simulation\n",
      "3-15-th simulation\n",
      "3-16-th simulation\n",
      "3-17-th simulation\n",
      "3-18-th simulation\n",
      "3-19-th simulation\n",
      "3-20-th simulation\n",
      "3-21-th simulation\n",
      "3-22-th simulation\n",
      "3-23-th simulation\n",
      "3-24-th simulation\n",
      "3-25-th simulation\n",
      "3-26-th simulation\n",
      "3-27-th simulation\n",
      "3-28-th simulation\n",
      "3-29-th simulation\n",
      "3-30-th simulation\n",
      "3-31-th simulation\n",
      "3-32-th simulation\n",
      "3-33-th simulation\n",
      "3-34-th simulation\n",
      "3-35-th simulation\n",
      "3-36-th simulation\n",
      "3-37-th simulation\n",
      "3-38-th simulation\n",
      "3-39-th simulation\n",
      "3-40-th simulation\n",
      "3-41-th simulation\n",
      "3-42-th simulation\n",
      "3-43-th simulation\n",
      "3-44-th simulation\n",
      "3-45-th simulation\n",
      "3-46-th simulation\n",
      "3-47-th simulation\n",
      "3-48-th simulation\n",
      "3-49-th simulation\n",
      "3-50-th simulation\n",
      "3-51-th simulation\n",
      "3-52-th simulation\n",
      "3-53-th simulation\n",
      "3-54-th simulation\n",
      "3-55-th simulation\n",
      "3-56-th simulation\n",
      "3-57-th simulation\n",
      "3-58-th simulation\n",
      "3-59-th simulation\n",
      "3-60-th simulation\n",
      "4-1-th simulation\n",
      "4-2-th simulation\n",
      "4-3-th simulation\n",
      "4-4-th simulation\n",
      "4-5-th simulation\n",
      "4-6-th simulation\n",
      "4-7-th simulation\n",
      "4-8-th simulation\n",
      "4-9-th simulation\n",
      "4-10-th simulation\n",
      "4-11-th simulation\n",
      "4-12-th simulation\n",
      "4-13-th simulation\n",
      "4-14-th simulation\n",
      "4-15-th simulation\n",
      "4-16-th simulation\n",
      "4-17-th simulation\n",
      "4-18-th simulation\n",
      "4-19-th simulation\n",
      "4-20-th simulation\n",
      "4-21-th simulation\n",
      "4-22-th simulation\n",
      "4-23-th simulation\n",
      "4-24-th simulation\n",
      "4-25-th simulation\n",
      "4-26-th simulation\n",
      "4-27-th simulation\n",
      "4-28-th simulation\n",
      "4-29-th simulation\n",
      "4-30-th simulation\n",
      "4-31-th simulation\n",
      "4-32-th simulation\n",
      "4-33-th simulation\n",
      "4-34-th simulation\n",
      "4-35-th simulation\n",
      "4-36-th simulation\n",
      "4-37-th simulation\n",
      "4-38-th simulation\n",
      "4-39-th simulation\n",
      "4-40-th simulation\n",
      "4-41-th simulation\n",
      "4-42-th simulation\n",
      "4-43-th simulation\n",
      "4-44-th simulation\n",
      "4-45-th simulation\n",
      "4-46-th simulation\n",
      "4-47-th simulation\n",
      "4-48-th simulation\n",
      "4-49-th simulation\n",
      "4-50-th simulation\n",
      "4-51-th simulation\n",
      "4-52-th simulation\n",
      "4-53-th simulation\n",
      "4-54-th simulation\n",
      "4-55-th simulation\n",
      "4-56-th simulation\n",
      "4-57-th simulation\n",
      "4-58-th simulation\n",
      "4-59-th simulation\n",
      "4-60-th simulation\n",
      "5-1-th simulation\n",
      "5-2-th simulation\n",
      "5-3-th simulation\n",
      "5-4-th simulation\n",
      "5-5-th simulation\n",
      "5-6-th simulation\n",
      "5-7-th simulation\n",
      "5-8-th simulation\n",
      "5-9-th simulation\n",
      "5-10-th simulation\n",
      "5-11-th simulation\n",
      "5-12-th simulation\n",
      "5-13-th simulation\n",
      "5-14-th simulation\n",
      "5-15-th simulation\n",
      "5-16-th simulation\n",
      "5-17-th simulation\n",
      "5-18-th simulation\n",
      "5-19-th simulation\n",
      "5-20-th simulation\n",
      "5-21-th simulation\n",
      "5-22-th simulation\n",
      "5-23-th simulation\n",
      "5-24-th simulation\n",
      "5-25-th simulation\n",
      "5-26-th simulation\n",
      "5-27-th simulation\n",
      "5-28-th simulation\n",
      "5-29-th simulation\n",
      "5-30-th simulation\n",
      "5-31-th simulation\n",
      "5-32-th simulation\n",
      "5-33-th simulation\n",
      "5-34-th simulation\n",
      "5-35-th simulation\n",
      "5-36-th simulation\n",
      "5-37-th simulation\n",
      "5-38-th simulation\n",
      "5-39-th simulation\n",
      "5-40-th simulation\n",
      "5-41-th simulation\n",
      "5-42-th simulation\n",
      "5-43-th simulation\n",
      "5-44-th simulation\n",
      "5-45-th simulation\n",
      "5-46-th simulation\n",
      "5-47-th simulation\n",
      "5-48-th simulation\n",
      "5-49-th simulation\n",
      "5-50-th simulation\n",
      "5-51-th simulation\n",
      "5-52-th simulation\n",
      "5-53-th simulation\n",
      "5-54-th simulation\n",
      "5-55-th simulation\n",
      "5-56-th simulation\n",
      "5-57-th simulation\n",
      "5-58-th simulation\n",
      "5-59-th simulation\n",
      "5-60-th simulation\n"
     ]
    }
   ],
   "source": [
    "Omegas_sim = np.zeros((len(snrs), num_sim, 2*num_time, 2*num_time))\n",
    "Sigmas_sim = np.zeros((len(snrs), num_sim, 2*num_time, 2*num_time))\n",
    "\n",
    "for iter_snr, snr in enumerate(snrs):\n",
    "    for iter_sim in range(num_sim):\n",
    "        sys.__stdout__.write(\"%d-%d-th simulation\\n\"%(iter_snr+1, iter_sim+1))\n",
    "        sys.__stdout__.flush()\n",
    "\n",
    "        result = np.load(\"%s/result_sim_%.1d_%.3d.npz\"\n",
    "                         %(save_dir,iter_snr,iter_sim))\n",
    "        Omega_est = result[\"Omega_est\"]; Sigma_est=result[\"Sigma_est\"]\n",
    "\n",
    "        Omegas_sim[iter_snr, iter_sim] = Omega_est\n",
    "        Sigmas_sim[iter_snr, iter_sim] = Sigma_est\n",
    "\n",
    "Omegas_bst = result[\"Omegas_bst\"]\n",
    "Sigmas_bst = result[\"Sigmas_bst\"]"
   ]
  },
  {
   "cell_type": "markdown",
   "metadata": {},
   "source": [
    "## simulation result"
   ]
  },
  {
   "cell_type": "code",
   "execution_count": 28,
   "metadata": {},
   "outputs": [],
   "source": [
    "Omegas_sim, Sigmas_sim = adj_sign(Omegas_sim, Sigmas_sim)"
   ]
  },
  {
   "cell_type": "code",
   "execution_count": 29,
   "metadata": {},
   "outputs": [],
   "source": [
    "dsprs_sim = 2*Omegas_sim - Omegas_sim @ Sigmas_sim @ Omegas_sim\n",
    "std_dspr_sim = np.std(dsprs_sim, 1)"
   ]
  },
  {
   "cell_type": "code",
   "execution_count": 31,
   "metadata": {},
   "outputs": [],
   "source": [
    "dsprs_bst = 2*Omegas_bst - Omegas_bst @ Sigmas_bst @ Omegas_bst\n",
    "std_dspr_bst = np.std(dsprs_bst, 0)"
   ]
  },
  {
   "cell_type": "markdown",
   "metadata": {},
   "source": [
    "## plots"
   ]
  },
  {
   "cell_type": "code",
   "execution_count": 209,
   "metadata": {},
   "outputs": [
    {
     "data": {
      "text/plain": [
       "(-0.4, 0.0)"
      ]
     },
     "execution_count": 209,
     "metadata": {},
     "output_type": "execute_result"
    },
    {
     "data": {
      "image/png": "[encoded data removed]",
      "text/plain": [
       "<Figure size 288x216 with 2 Axes>"
      ]
     },
     "metadata": {
      "needs_background": "light"
     },
     "output_type": "display_data"
    }
   ],
   "source": [
    "plt.figure(figsize=(4,3))\n",
    "ldn.imshow(np.mean(dsprs_sim, 1)[1,:num_time,num_time:],\n",
    "           vmax=0.4, time=[0,50], identity=True)\n",
    "plt.xlabel(r\"series 2 at time $s$\"); plt.ylabel(r\"series 1 at time $t$\")\n",
    "cbar = plt.colorbar()\n",
    "cbar.ax.set_ylim(-0.4,0)#; cbar.formatter.set_powerlimits((0, 0))"
   ]
  },
  {
   "cell_type": "code",
   "execution_count": 38,
   "metadata": {},
   "outputs": [
    {
     "data": {
      "text/plain": [
       "Text(0.5, 0, 'series 2 at time $s$')"
      ]
     },
     "execution_count": 38,
     "metadata": {},
     "output_type": "execute_result"
    },
    {
     "data": {
      "image/png": "[encoded data removed]",
      "text/plain": [
       "<Figure size 216x216 with 1 Axes>"
      ]
     },
     "metadata": {
      "needs_background": "light"
     },
     "output_type": "display_data"
    }
   ],
   "source": [
    "plt.figure(figsize=(3,3))\n",
    "ldn.imshow(std_dspr_bst[:num_time,num_time:], time=[0,num_time], identity=True, vmax=0.25)\n",
    "# plt.colorbar()\n",
    "plt.ylabel(r'series 1 at time $t$'); plt.xlabel(r'series 2 at time $s$')"
   ]
  },
  {
   "cell_type": "code",
   "execution_count": 212,
   "metadata": {},
   "outputs": [
    {
     "data": {
      "text/plain": [
       "(0.0, 0.25)"
      ]
     },
     "execution_count": 212,
     "metadata": {},
     "output_type": "execute_result"
    },
    {
     "data": {
      "image/png": "[encoded data removed]",
      "text/plain": [
       "<Figure size 288x216 with 2 Axes>"
      ]
     },
     "metadata": {
      "needs_background": "light"
     },
     "output_type": "display_data"
    }
   ],
   "source": [
    "plt.figure(figsize=(4,3))\n",
    "ldn.imshow(std_dspr_sim[-1,:num_time,num_time:], time=[0,num_time], identity=True, vmax=0.25)\n",
    "# plt.colorbar()\n",
    "plt.ylabel(r'series 1 at time $t$'); plt.xlabel(r'series 2 at time $s$')\n",
    "cbar = plt.colorbar()\n",
    "cbar.ax.set_ylim(0,0.25)#; cbar.formatter.set_powerlimits((0, 0))"
   ]
  },
  {
   "cell_type": "code",
   "execution_count": 40,
   "metadata": {},
   "outputs": [
    {
     "data": {
      "text/plain": [
       "Text(0.5, 0, 'series 2 at time $s$')"
      ]
     },
     "execution_count": 40,
     "metadata": {},
     "output_type": "execute_result"
    },
    {
     "data": {
      "image/png": "[encoded data removed]",
      "text/plain": [
       "<Figure size 288x216 with 2 Axes>"
      ]
     },
     "metadata": {
      "needs_background": "light"
     },
     "output_type": "display_data"
    }
   ],
   "source": [
    "plt.figure(figsize=(4,3))\n",
    "ldn.imshow(std_dspr_bst[:num_time,num_time:] - std_dspr_sim[-1,:num_time,num_time:], time=[0,num_time], identity=True, vmax=0.25)\n",
    "plt.colorbar()\n",
    "plt.title(r'$\\hat{\\sigma}_{bst} - \\hat{\\sigma}_{sim}$');plt.ylabel(r'series 1 at time $t$'); plt.xlabel(r'series 2 at time $s$')"
   ]
  },
  {
   "cell_type": "code",
   "execution_count": 41,
   "metadata": {
    "scrolled": true
   },
   "outputs": [
    {
     "data": {
      "text/plain": [
       "Text(0.5, 1.0, '')"
      ]
     },
     "execution_count": 41,
     "metadata": {},
     "output_type": "execute_result"
    },
    {
     "data": {
      "image/png": "[encoded data removed]",
      "text/plain": [
       "<Figure size 216x216 with 1 Axes>"
      ]
     },
     "metadata": {
      "needs_background": "light"
     },
     "output_type": "display_data"
    }
   ],
   "source": [
    "# import matplotlib.gridspec as gridspec\n",
    "plt.figure(figsize=(3,3))\n",
    "# gridspec.GridSpec(1,4); plt.subplot2grid((1,4), (0,0), colspan=3, rowspan=1)\n",
    "stats.probplot(np.square(std_dspr_bst[:num_time,num_time:]/std_dspr_sim[-1,:num_time,num_time:]).flatten(),\n",
    "                dist='f', sparams=(num_bst-1, num_sim-1), plot=plt)\n",
    "plt.ylabel(r' ', fontsize=12); plt.xlabel(r' ', fontsize=12); plt.title('')\n",
    "# ax = plt.subplot2grid((1,4), (0,3))\n",
    "# ax.axis('off')"
   ]
  },
  {
   "cell_type": "markdown",
   "metadata": {},
   "source": [
    "# check normality"
   ]
  },
  {
   "cell_type": "code",
   "execution_count": 42,
   "metadata": {},
   "outputs": [],
   "source": [
    "x_grid = np.linspace(-4, 4, 41)\n",
    "dnorm_grid = stats.norm(0,1).pdf(x_grid)"
   ]
  },
  {
   "cell_type": "code",
   "execution_count": 45,
   "metadata": {},
   "outputs": [],
   "source": [
    "rand_inds = np.concatenate([\n",
    "    np.random.choice(np.where(np.sum(H0,0).flatten() == 0)[0], 3, False),\n",
    "    np.random.choice(np.where(np.sum(H0,0).flatten() != 0)[0], 3, False)\n",
    "])"
   ]
  },
  {
   "cell_type": "code",
   "execution_count": 46,
   "metadata": {},
   "outputs": [
    {
     "data": {
      "text/plain": [
       "Text(0, 0.5, 'connection')"
      ]
     },
     "execution_count": 46,
     "metadata": {},
     "output_type": "execute_result"
    },
    {
     "data": {
      "image/png": "[encoded data removed]",
      "text/plain": [
       "<Figure size 648x432 with 6 Axes>"
      ]
     },
     "metadata": {},
     "output_type": "display_data"
    }
   ],
   "source": [
    "fig, axes = plt.subplots(2, 3, sharey=True, sharex=True, figsize=[9.0, 6.0],\n",
    "                         facecolor='white')\n",
    "for label, ax in zip(rand_inds, axes.flatten()):\n",
    "    ax.hist(((dsprs_sim[...,int(label/num_time),num_time+label%num_time]\n",
    "              - np.mean(dsprs_sim,1)[:,None,int(label/num_time),num_time+label%num_time])\n",
    "             / std_dspr_sim[:,None,int(label/num_time),num_time+label%num_time]).flatten(),\n",
    "             density=True)\n",
    "    ax.plot(x_grid, dnorm_grid)\n",
    "    ax.set_title(r'standardized $\\Omega_{cr}(%d,%d)$'\n",
    "                  %(int(label/num_time),num_time+label%num_time))\n",
    "axes[0,0].set_ylabel('no connection')\n",
    "axes[1,0].set_ylabel('connection')"
   ]
  },
  {
   "cell_type": "code",
   "execution_count": 47,
   "metadata": {},
   "outputs": [
    {
     "data": {
      "text/plain": [
       "Text(0.5, 0, 'quantiles of $N(0,1)$')"
      ]
     },
     "execution_count": 47,
     "metadata": {},
     "output_type": "execute_result"
    },
    {
     "data": {
      "image/png": "[encoded data removed]",
      "text/plain": [
       "<Figure size 792x216 with 3 Axes>"
      ]
     },
     "metadata": {},
     "output_type": "display_data"
    }
   ],
   "source": [
    "fig, axes = plt.subplots(1, 3, #sharey=True, sharex=True,\n",
    "                         figsize=[11.0, 3.0], facecolor='white')\n",
    "plt.subplots_adjust(wspace=0.35)\n",
    "for label, ax in zip(rand_inds[:3], axes.flatten()):\n",
    "    stats.probplot(((dsprs_sim[...,int(label/num_time),num_time+label%num_time]\n",
    "                   - np.mean(dsprs_sim,1)[:,None,int(label/num_time),num_time+label%num_time])\n",
    "                   / std_dspr_sim[:,None,int(label/num_time),num_time+label%num_time]).flatten(),\n",
    "                   dist='norm', fit=False, plot=ax)\n",
    "    # ax.plot((-3,3),(-3,3), color='black')\n",
    "    ax.set_xlabel(r''); ax.set_ylabel(r'normalized $\\Omega_{12}^{(t,s)}$')\n",
    "    ax.set_title('')\n",
    "\n",
    "axes[1].set_xlabel(r'quantiles of $N(0,1)$')\n",
    "#     ax.set_title(r'Q-Q $\\Omega_{12}^{(%d,%d)}$ vs. norm'\n",
    "#                   %(int(label/num_time),num_time+label%num_time))\n",
    "# axes[0,0].set_ylabel('no connection')\n",
    "# axes[1,0].set_ylabel('connection')"
   ]
  },
  {
   "cell_type": "markdown",
   "metadata": {},
   "source": [
    "# 3. FDR from estimated variance"
   ]
  },
  {
   "cell_type": "markdown",
   "metadata": {},
   "source": [
    "## p-values"
   ]
  },
  {
   "cell_type": "code",
   "execution_count": 53,
   "metadata": {},
   "outputs": [
    {
     "name": "stdout",
     "output_type": "stream",
     "text": [
      "1-1-th simulation\n",
      "1-2-th simulation\n",
      "1-3-th simulation\n",
      "1-4-th simulation\n",
      "1-5-th simulation\n",
      "1-6-th simulation\n",
      "1-7-th simulation\n",
      "1-8-th simulation\n",
      "1-9-th simulation\n",
      "1-10-th simulation\n",
      "1-11-th simulation\n",
      "1-12-th simulation\n",
      "1-13-th simulation\n",
      "1-14-th simulation\n",
      "1-15-th simulation\n",
      "1-16-th simulation\n",
      "1-17-th simulation\n",
      "1-18-th simulation\n",
      "1-19-th simulation\n",
      "1-20-th simulation\n",
      "1-21-th simulation\n",
      "1-22-th simulation\n",
      "1-23-th simulation\n",
      "1-24-th simulation\n",
      "1-25-th simulation\n",
      "1-26-th simulation\n",
      "1-27-th simulation\n",
      "1-28-th simulation\n",
      "1-29-th simulation\n",
      "1-30-th simulation\n",
      "1-31-th simulation\n",
      "1-32-th simulation\n",
      "1-33-th simulation\n",
      "1-34-th simulation\n",
      "1-35-th simulation\n",
      "1-36-th simulation\n",
      "1-37-th simulation\n",
      "1-38-th simulation\n",
      "1-39-th simulation\n",
      "1-40-th simulation\n",
      "1-41-th simulation\n",
      "1-42-th simulation\n",
      "1-43-th simulation\n",
      "1-44-th simulation\n",
      "1-45-th simulation\n",
      "1-46-th simulation\n",
      "1-47-th simulation\n",
      "1-48-th simulation\n",
      "1-49-th simulation\n",
      "1-50-th simulation\n",
      "1-51-th simulation\n",
      "1-52-th simulation\n",
      "1-53-th simulation\n",
      "1-54-th simulation\n",
      "1-55-th simulation\n",
      "1-56-th simulation\n",
      "1-57-th simulation\n",
      "1-58-th simulation\n",
      "1-59-th simulation\n",
      "1-60-th simulation\n",
      "2-1-th simulation\n",
      "2-2-th simulation\n",
      "2-3-th simulation\n",
      "2-4-th simulation\n",
      "2-5-th simulation\n",
      "2-6-th simulation\n",
      "2-7-th simulation\n",
      "2-8-th simulation\n",
      "2-9-th simulation\n",
      "2-10-th simulation\n",
      "2-11-th simulation\n",
      "2-12-th simulation\n",
      "2-13-th simulation\n",
      "2-14-th simulation\n",
      "2-15-th simulation\n",
      "2-16-th simulation\n",
      "2-17-th simulation\n",
      "2-18-th simulation\n",
      "2-19-th simulation\n",
      "2-20-th simulation\n",
      "2-21-th simulation\n",
      "2-22-th simulation\n",
      "2-23-th simulation\n",
      "2-24-th simulation\n",
      "2-25-th simulation\n",
      "2-26-th simulation\n",
      "2-27-th simulation\n",
      "2-28-th simulation\n",
      "2-29-th simulation\n",
      "2-30-th simulation\n",
      "2-31-th simulation\n",
      "2-32-th simulation\n",
      "2-33-th simulation\n",
      "2-34-th simulation\n",
      "2-35-th simulation\n",
      "2-36-th simulation\n",
      "2-37-th simulation\n",
      "2-38-th simulation\n",
      "2-39-th simulation\n",
      "2-40-th simulation\n",
      "2-41-th simulation\n",
      "2-42-th simulation\n",
      "2-43-th simulation\n",
      "2-44-th simulation\n",
      "2-45-th simulation\n",
      "2-46-th simulation\n",
      "2-47-th simulation\n",
      "2-48-th simulation\n",
      "2-49-th simulation\n",
      "2-50-th simulation\n",
      "2-51-th simulation\n",
      "2-52-th simulation\n",
      "2-53-th simulation\n",
      "2-54-th simulation\n",
      "2-55-th simulation\n",
      "2-56-th simulation\n",
      "2-57-th simulation\n",
      "2-58-th simulation\n",
      "2-59-th simulation\n",
      "2-60-th simulation\n",
      "3-1-th simulation\n",
      "3-2-th simulation\n",
      "3-3-th simulation\n",
      "3-4-th simulation\n",
      "3-5-th simulation\n",
      "3-6-th simulation\n",
      "3-7-th simulation\n",
      "3-8-th simulation\n",
      "3-9-th simulation\n",
      "3-10-th simulation\n",
      "3-11-th simulation\n",
      "3-12-th simulation\n",
      "3-13-th simulation\n",
      "3-14-th simulation\n",
      "3-15-th simulation\n",
      "3-16-th simulation\n",
      "3-17-th simulation\n",
      "3-18-th simulation\n",
      "3-19-th simulation\n",
      "3-20-th simulation\n",
      "3-21-th simulation\n",
      "3-22-th simulation\n",
      "3-23-th simulation\n",
      "3-24-th simulation\n",
      "3-25-th simulation\n",
      "3-26-th simulation\n",
      "3-27-th simulation\n",
      "3-28-th simulation\n",
      "3-29-th simulation\n",
      "3-30-th simulation\n",
      "3-31-th simulation\n",
      "3-32-th simulation\n",
      "3-33-th simulation\n",
      "3-34-th simulation\n",
      "3-35-th simulation\n",
      "3-36-th simulation\n",
      "3-37-th simulation\n",
      "3-38-th simulation\n",
      "3-39-th simulation\n",
      "3-40-th simulation\n",
      "3-41-th simulation\n",
      "3-42-th simulation\n",
      "3-43-th simulation\n",
      "3-44-th simulation\n",
      "3-45-th simulation\n",
      "3-46-th simulation\n",
      "3-47-th simulation\n",
      "3-48-th simulation\n",
      "3-49-th simulation\n",
      "3-50-th simulation\n",
      "3-51-th simulation\n",
      "3-52-th simulation\n",
      "3-53-th simulation\n",
      "3-54-th simulation\n",
      "3-55-th simulation\n",
      "3-56-th simulation\n",
      "3-57-th simulation\n",
      "3-58-th simulation\n",
      "3-59-th simulation\n",
      "3-60-th simulation\n",
      "4-1-th simulation\n",
      "4-2-th simulation\n",
      "4-3-th simulation\n",
      "4-4-th simulation\n",
      "4-5-th simulation\n",
      "4-6-th simulation\n",
      "4-7-th simulation\n",
      "4-8-th simulation\n",
      "4-9-th simulation\n",
      "4-10-th simulation\n",
      "4-11-th simulation\n",
      "4-12-th simulation\n",
      "4-13-th simulation\n",
      "4-14-th simulation\n",
      "4-15-th simulation\n",
      "4-16-th simulation\n",
      "4-17-th simulation\n",
      "4-18-th simulation\n",
      "4-19-th simulation\n",
      "4-20-th simulation\n",
      "4-21-th simulation\n",
      "4-22-th simulation\n",
      "4-23-th simulation\n",
      "4-24-th simulation\n",
      "4-25-th simulation\n",
      "4-26-th simulation\n",
      "4-27-th simulation\n",
      "4-28-th simulation\n",
      "4-29-th simulation\n",
      "4-30-th simulation\n",
      "4-31-th simulation\n",
      "4-32-th simulation\n",
      "4-33-th simulation\n",
      "4-34-th simulation\n",
      "4-35-th simulation\n",
      "4-36-th simulation\n",
      "4-37-th simulation\n",
      "4-38-th simulation\n",
      "4-39-th simulation\n",
      "4-40-th simulation\n",
      "4-41-th simulation\n",
      "4-42-th simulation\n",
      "4-43-th simulation\n",
      "4-44-th simulation\n",
      "4-45-th simulation\n",
      "4-46-th simulation\n",
      "4-47-th simulation\n",
      "4-48-th simulation\n",
      "4-49-th simulation\n",
      "4-50-th simulation\n",
      "4-51-th simulation\n",
      "4-52-th simulation\n",
      "4-53-th simulation\n",
      "4-54-th simulation\n",
      "4-55-th simulation\n",
      "4-56-th simulation\n",
      "4-57-th simulation\n",
      "4-58-th simulation\n",
      "4-59-th simulation\n",
      "4-60-th simulation\n",
      "5-1-th simulation\n",
      "5-2-th simulation\n",
      "5-3-th simulation\n",
      "5-4-th simulation\n",
      "5-5-th simulation\n",
      "5-6-th simulation\n",
      "5-7-th simulation\n",
      "5-8-th simulation\n",
      "5-9-th simulation\n",
      "5-10-th simulation\n",
      "5-11-th simulation\n",
      "5-12-th simulation\n",
      "5-13-th simulation\n",
      "5-14-th simulation\n",
      "5-15-th simulation\n",
      "5-16-th simulation\n",
      "5-17-th simulation\n",
      "5-18-th simulation\n",
      "5-19-th simulation\n",
      "5-20-th simulation\n",
      "5-21-th simulation\n",
      "5-22-th simulation\n",
      "5-23-th simulation\n",
      "5-24-th simulation\n",
      "5-25-th simulation\n",
      "5-26-th simulation\n",
      "5-27-th simulation\n",
      "5-28-th simulation\n",
      "5-29-th simulation\n",
      "5-30-th simulation\n",
      "5-31-th simulation\n",
      "5-32-th simulation\n",
      "5-33-th simulation\n",
      "5-34-th simulation\n",
      "5-35-th simulation\n",
      "5-36-th simulation\n",
      "5-37-th simulation\n",
      "5-38-th simulation\n",
      "5-39-th simulation\n",
      "5-40-th simulation\n",
      "5-41-th simulation\n",
      "5-42-th simulation\n",
      "5-43-th simulation\n",
      "5-44-th simulation\n",
      "5-45-th simulation\n",
      "5-46-th simulation\n",
      "5-47-th simulation\n",
      "5-48-th simulation\n",
      "5-49-th simulation\n",
      "5-50-th simulation\n",
      "5-51-th simulation\n",
      "5-52-th simulation\n",
      "5-53-th simulation\n",
      "5-54-th simulation\n",
      "5-55-th simulation\n",
      "5-56-th simulation\n",
      "5-57-th simulation\n",
      "5-58-th simulation\n",
      "5-59-th simulation\n",
      "5-60-th simulation\n"
     ]
    }
   ],
   "source": [
    "# pvals_bst = np.zeros((len(snrs), num_sim, num_time, num_time))\n",
    "pvals_bst_norm = np.zeros((len(snrs), num_sim, num_time, num_time))\n",
    "\n",
    "for iter_snr, snr in enumerate(snrs):\n",
    "    for iter_sim in range(num_sim):\n",
    "        sys.__stdout__.write(\"%d-%d-th simulation\\n\"%(iter_snr+1, iter_sim+1))\n",
    "        sys.__stdout__.flush()\n",
    "\n",
    "        result = np.load(\"%s/result_sim_%.1d_%.3d.npz\"%(save_dir,iter_snr, iter_sim))\n",
    "        Omega_est=result[\"Omega_est\"]; Sigma_est=result[\"Sigma_est\"]\n",
    "        Omegas_bst=result[\"Omegas_bst\"]; Sigmas_bst=result[\"Sigmas_bst\"]\n",
    "\n",
    "        dspr_est = 2*Omega_est - Omega_est@Sigma_est@Omega_est\n",
    "        dsprs_bst = 2*Omegas_bst - Omegas_bst@Sigmas_bst@Omegas_bst\n",
    "        std_dspr_bst = np.std(dsprs_bst, 0)\n",
    "        \n",
    "#         dist_dspr_est = (np.abs(np.mean(dsprs_bst,0))[:num_time,num_time:]\n",
    "#                          /std_dspr_bst[:num_time,num_time:]).flatten()\n",
    "#         dist_dspr_bst = (np.abs(dsprs_bst)[:,:num_time,num_time:]\n",
    "#                          /std_dspr_bst[:num_time,num_time:]).flatten()\n",
    "        \n",
    "#         map_sort = np.argsort(np.concatenate([dist_dspr_est, dist_dspr_bst]))\n",
    "#         inv_sort = np.argsort(map_sort)\n",
    "#         cdf_bst = np.reshape(np.cumsum(\n",
    "#                 np.concatenate([np.zeros(dist_dspr_est.shape), \n",
    "#                                 np.ones(dist_dspr_bst.shape)])[map_sort]\n",
    "#             )[inv_sort[:dist_dspr_est.shape[0]]] / dist_dspr_bst.shape[0], \n",
    "#             (num_time, num_time))\n",
    "        \n",
    "#         pvals_bst[iter_snr, iter_sim] = np.clip(1-cdf_bst, 1e-10, 1-1e-10)\n",
    "        \n",
    "#         pvals_bst_norm[iter_snr, iter_sim] = np.clip(2*stats.norm.cdf(\n",
    "#             -np.abs(dspr_est) \n",
    "#             #-np.abs(np.mean(dsprs_bst,0))\n",
    "#             /std_dspr_bst)[:num_time,num_time:], 1e-10, 1-1e-10)\n",
    "        \n",
    "        pvals_bst_norm[iter_snr,iter_sim] = np.clip(stats.norm.cdf(\n",
    "            dspr_est\n",
    "            /np.std(dsprs_bst,0))[:num_time,num_time:], 1e-10, 1-1e-10)"
   ]
  },
  {
   "cell_type": "markdown",
   "metadata": {},
   "source": [
    "## get discoveries"
   ]
  },
  {
   "cell_type": "code",
   "execution_count": 54,
   "metadata": {},
   "outputs": [],
   "source": [
    "alphas = np.linspace(0, 0.2, 11)"
   ]
  },
  {
   "cell_type": "code",
   "execution_count": 55,
   "metadata": {},
   "outputs": [
    {
     "name": "stdout",
     "output_type": "stream",
     "text": [
      "1-1-th simulation\n",
      "1-2-th simulation\n",
      "1-3-th simulation\n",
      "1-4-th simulation\n",
      "1-5-th simulation\n",
      "1-6-th simulation\n",
      "1-7-th simulation\n",
      "1-8-th simulation\n",
      "1-9-th simulation\n",
      "1-10-th simulation\n",
      "1-11-th simulation\n",
      "1-12-th simulation\n",
      "1-13-th simulation\n",
      "1-14-th simulation\n",
      "1-15-th simulation\n",
      "1-16-th simulation\n",
      "1-17-th simulation\n",
      "1-18-th simulation\n",
      "1-19-th simulation\n",
      "1-20-th simulation\n",
      "1-21-th simulation\n",
      "1-22-th simulation\n",
      "1-23-th simulation\n",
      "1-24-th simulation\n",
      "1-25-th simulation\n",
      "1-26-th simulation\n",
      "1-27-th simulation\n",
      "1-28-th simulation\n",
      "1-29-th simulation\n",
      "1-30-th simulation\n",
      "1-31-th simulation\n",
      "1-32-th simulation\n",
      "1-33-th simulation\n",
      "1-34-th simulation\n",
      "1-35-th simulation\n",
      "1-36-th simulation\n",
      "1-37-th simulation\n",
      "1-38-th simulation\n",
      "1-39-th simulation\n",
      "1-40-th simulation\n",
      "1-41-th simulation\n",
      "1-42-th simulation\n",
      "1-43-th simulation\n",
      "1-44-th simulation\n",
      "1-45-th simulation\n",
      "1-46-th simulation\n",
      "1-47-th simulation\n",
      "1-48-th simulation\n",
      "1-49-th simulation\n",
      "1-50-th simulation\n",
      "1-51-th simulation\n",
      "1-52-th simulation\n",
      "1-53-th simulation\n",
      "1-54-th simulation\n",
      "1-55-th simulation\n",
      "1-56-th simulation\n",
      "1-57-th simulation\n",
      "1-58-th simulation\n",
      "1-59-th simulation\n",
      "1-60-th simulation\n",
      "2-1-th simulation\n",
      "2-2-th simulation\n",
      "2-3-th simulation\n",
      "2-4-th simulation\n",
      "2-5-th simulation\n",
      "2-6-th simulation\n",
      "2-7-th simulation\n",
      "2-8-th simulation\n",
      "2-9-th simulation\n",
      "2-10-th simulation\n",
      "2-11-th simulation\n",
      "2-12-th simulation\n",
      "2-13-th simulation\n",
      "2-14-th simulation\n",
      "2-15-th simulation\n",
      "2-16-th simulation\n",
      "2-17-th simulation\n",
      "2-18-th simulation\n",
      "2-19-th simulation\n",
      "2-20-th simulation\n",
      "2-21-th simulation\n",
      "2-22-th simulation\n",
      "2-23-th simulation\n",
      "2-24-th simulation\n",
      "2-25-th simulation\n",
      "2-26-th simulation\n",
      "2-27-th simulation\n",
      "2-28-th simulation\n",
      "2-29-th simulation\n",
      "2-30-th simulation\n",
      "2-31-th simulation\n",
      "2-32-th simulation\n",
      "2-33-th simulation\n",
      "2-34-th simulation\n",
      "2-35-th simulation\n",
      "2-36-th simulation\n",
      "2-37-th simulation\n",
      "2-38-th simulation\n",
      "2-39-th simulation\n",
      "2-40-th simulation\n",
      "2-41-th simulation\n",
      "2-42-th simulation\n",
      "2-43-th simulation\n",
      "2-44-th simulation\n",
      "2-45-th simulation\n",
      "2-46-th simulation\n",
      "2-47-th simulation\n",
      "2-48-th simulation\n",
      "2-49-th simulation\n",
      "2-50-th simulation\n",
      "2-51-th simulation\n",
      "2-52-th simulation\n",
      "2-53-th simulation\n",
      "2-54-th simulation\n",
      "2-55-th simulation\n",
      "2-56-th simulation\n",
      "2-57-th simulation\n",
      "2-58-th simulation\n",
      "2-59-th simulation\n",
      "2-60-th simulation\n",
      "3-1-th simulation\n",
      "3-2-th simulation\n",
      "3-3-th simulation\n",
      "3-4-th simulation\n",
      "3-5-th simulation\n",
      "3-6-th simulation\n",
      "3-7-th simulation\n",
      "3-8-th simulation\n",
      "3-9-th simulation\n",
      "3-10-th simulation\n",
      "3-11-th simulation\n",
      "3-12-th simulation\n",
      "3-13-th simulation\n",
      "3-14-th simulation\n",
      "3-15-th simulation\n",
      "3-16-th simulation\n",
      "3-17-th simulation\n",
      "3-18-th simulation\n",
      "3-19-th simulation\n",
      "3-20-th simulation\n",
      "3-21-th simulation\n",
      "3-22-th simulation\n",
      "3-23-th simulation\n",
      "3-24-th simulation\n",
      "3-25-th simulation\n",
      "3-26-th simulation\n",
      "3-27-th simulation\n",
      "3-28-th simulation\n",
      "3-29-th simulation\n",
      "3-30-th simulation\n",
      "3-31-th simulation\n",
      "3-32-th simulation\n",
      "3-33-th simulation\n",
      "3-34-th simulation\n",
      "3-35-th simulation\n",
      "3-36-th simulation\n",
      "3-37-th simulation\n",
      "3-38-th simulation\n",
      "3-39-th simulation\n",
      "3-40-th simulation\n",
      "3-41-th simulation\n",
      "3-42-th simulation\n",
      "3-43-th simulation\n",
      "3-44-th simulation\n",
      "3-45-th simulation\n",
      "3-46-th simulation\n",
      "3-47-th simulation\n",
      "3-48-th simulation\n",
      "3-49-th simulation\n",
      "3-50-th simulation\n",
      "3-51-th simulation\n",
      "3-52-th simulation\n",
      "3-53-th simulation\n",
      "3-54-th simulation\n",
      "3-55-th simulation\n",
      "3-56-th simulation\n",
      "3-57-th simulation\n",
      "3-58-th simulation\n",
      "3-59-th simulation\n",
      "3-60-th simulation\n",
      "4-1-th simulation\n",
      "4-2-th simulation\n",
      "4-3-th simulation\n",
      "4-4-th simulation\n",
      "4-5-th simulation\n",
      "4-6-th simulation\n",
      "4-7-th simulation\n",
      "4-8-th simulation\n",
      "4-9-th simulation\n",
      "4-10-th simulation\n",
      "4-11-th simulation\n",
      "4-12-th simulation\n",
      "4-13-th simulation\n",
      "4-14-th simulation\n",
      "4-15-th simulation\n",
      "4-16-th simulation\n",
      "4-17-th simulation\n",
      "4-18-th simulation\n",
      "4-19-th simulation\n",
      "4-20-th simulation\n",
      "4-21-th simulation\n",
      "4-22-th simulation\n",
      "4-23-th simulation\n",
      "4-24-th simulation\n",
      "4-25-th simulation\n",
      "4-26-th simulation\n",
      "4-27-th simulation\n",
      "4-28-th simulation\n",
      "4-29-th simulation\n",
      "4-30-th simulation\n",
      "4-31-th simulation\n",
      "4-32-th simulation\n",
      "4-33-th simulation\n",
      "4-34-th simulation\n",
      "4-35-th simulation\n",
      "4-36-th simulation\n",
      "4-37-th simulation\n",
      "4-38-th simulation\n",
      "4-39-th simulation\n",
      "4-40-th simulation\n",
      "4-41-th simulation\n",
      "4-42-th simulation\n",
      "4-43-th simulation\n",
      "4-44-th simulation\n",
      "4-45-th simulation\n",
      "4-46-th simulation\n",
      "4-47-th simulation\n",
      "4-48-th simulation\n",
      "4-49-th simulation\n",
      "4-50-th simulation\n",
      "4-51-th simulation\n",
      "4-52-th simulation\n",
      "4-53-th simulation\n",
      "4-54-th simulation\n",
      "4-55-th simulation\n",
      "4-56-th simulation\n",
      "4-57-th simulation\n",
      "4-58-th simulation\n",
      "4-59-th simulation\n",
      "4-60-th simulation\n",
      "5-1-th simulation\n",
      "5-2-th simulation\n",
      "5-3-th simulation\n",
      "5-4-th simulation\n",
      "5-5-th simulation\n",
      "5-6-th simulation\n",
      "5-7-th simulation\n",
      "5-8-th simulation\n",
      "5-9-th simulation\n",
      "5-10-th simulation\n",
      "5-11-th simulation\n",
      "5-12-th simulation\n",
      "5-13-th simulation\n",
      "5-14-th simulation\n",
      "5-15-th simulation\n",
      "5-16-th simulation\n",
      "5-17-th simulation\n",
      "5-18-th simulation\n",
      "5-19-th simulation\n",
      "5-20-th simulation\n",
      "5-21-th simulation\n",
      "5-22-th simulation\n",
      "5-23-th simulation\n",
      "5-24-th simulation\n",
      "5-25-th simulation\n",
      "5-26-th simulation\n",
      "5-27-th simulation\n",
      "5-28-th simulation\n",
      "5-29-th simulation\n",
      "5-30-th simulation\n",
      "5-31-th simulation\n",
      "5-32-th simulation\n",
      "5-33-th simulation\n",
      "5-34-th simulation\n",
      "5-35-th simulation\n",
      "5-36-th simulation\n",
      "5-37-th simulation\n",
      "5-38-th simulation\n",
      "5-39-th simulation\n",
      "5-40-th simulation\n",
      "5-41-th simulation\n",
      "5-42-th simulation\n",
      "5-43-th simulation\n",
      "5-44-th simulation\n",
      "5-45-th simulation\n",
      "5-46-th simulation\n",
      "5-47-th simulation\n",
      "5-48-th simulation\n",
      "5-49-th simulation\n",
      "5-50-th simulation\n",
      "5-51-th simulation\n",
      "5-52-th simulation\n",
      "5-53-th simulation\n",
      "5-54-th simulation\n",
      "5-55-th simulation\n",
      "5-56-th simulation\n",
      "5-57-th simulation\n",
      "5-58-th simulation\n",
      "5-59-th simulation\n",
      "5-60-th simulation\n"
     ]
    }
   ],
   "source": [
    "rejs_STAR_bst = np.full((len(snrs), num_sim,) + alphas.shape + (num_time, num_time), False)\n",
    "rejs_BH_bst = np.full((len(snrs), num_sim,) + alphas.shape + (num_time, num_time), False)\n",
    "\n",
    "for iter_snr, snr in enumerate(snrs):\n",
    "    for iter_sim in range(num_sim):\n",
    "        sys.__stdout__.write('%d-%d-th simulation\\n'%(iter_snr+1, iter_sim+1))\n",
    "        sys.__stdout__.flush()  \n",
    "        \n",
    "        # STAR process\n",
    "        _, _, _, rej_sim = \\\n",
    "        inf.STAR_seq_step(pvals_bst_norm[iter_snr, iter_sim], prop_carve=0.05, alphas=alphas,\n",
    "                          sigma=1.0, mux_init=-np.log(0.01), roi=time_graph_cross)\n",
    "        rejs_STAR_bst[iter_snr, iter_sim] = rej_sim\n",
    "        \n",
    "        # BH process\n",
    "        p_sorted = np.concatenate([[0], np.sort(pvals_bst_norm[iter_snr, iter_sim].flatten())])\n",
    "        for iter_alpha, alpha in enumerate(alphas):\n",
    "            k_hat = np.max(np.where(np.linspace(0, alpha, num_time**2+1) >= p_sorted))        \n",
    "            rejs_BH_bst[iter_snr, iter_sim, iter_alpha] \\\n",
    "            = pvals_bst_norm[iter_snr, iter_sim] <= k_hat * alpha / num_time**2"
   ]
  },
  {
   "cell_type": "markdown",
   "metadata": {},
   "source": [
    "## get rejected blobs"
   ]
  },
  {
   "cell_type": "code",
   "execution_count": 56,
   "metadata": {},
   "outputs": [],
   "source": [
    "rej_blobs_STAR_bst = np.zeros((len(snrs), num_sim,) + alphas.shape + (num_time, num_time))\n",
    "num_blobs_STAR_bst = np.zeros((len(snrs), num_sim,) + alphas.shape)\n",
    "\n",
    "for iter_snr, snr in enumerate(snrs):\n",
    "    for iter_sim in range(num_sim):\n",
    "        for iter_alpha, alpha in enumerate(alphas):\n",
    "            mask_cp = rejs_STAR_bst[iter_snr, iter_sim, iter_alpha].copy()\n",
    "            iter_blob = 0\n",
    "            while np.any(mask_cp):\n",
    "                iter_blob += 1\n",
    "                queue = [tuple(np.transpose(np.where(mask_cp))[0])]\n",
    "                mask_cp[queue[0]] = False\n",
    "                while len(queue) > 0:\n",
    "                    cur = queue.pop(0)\n",
    "                    rej_blobs_STAR_bst[iter_snr, iter_sim, iter_alpha,\n",
    "                                        cur[0], cur[1]] = iter_blob\n",
    "                    if cur[0] > 0:\n",
    "                        if mask_cp[cur[0]-1, cur[1]]:\n",
    "                            queue.append((cur[0]-1, cur[1]))\n",
    "                            mask_cp[cur[0]-1, cur[1]] = False\n",
    "                    if cur[0] < num_time-1:\n",
    "                        if mask_cp[cur[0]+1, cur[1]]:\n",
    "                            queue.append((cur[0]+1, cur[1]))\n",
    "                            mask_cp[cur[0]+1, cur[1]] = False\n",
    "                    if cur[1] > 0:\n",
    "                        if mask_cp[cur[0], cur[1]-1]:\n",
    "                            queue.append((cur[0], cur[1]-1))\n",
    "                            mask_cp[cur[0], cur[1]-1] = False\n",
    "                    if cur[1] < num_time-1:\n",
    "                        if mask_cp[cur[0], cur[1]+1]:\n",
    "                            queue.append((cur[0], cur[1]+1))\n",
    "                            mask_cp[cur[0], cur[1]+1] = False\n",
    "            num_blobs_STAR_bst[iter_snr, iter_sim, iter_alpha] = iter_blob"
   ]
  },
  {
   "cell_type": "markdown",
   "metadata": {},
   "source": [
    "## calculate fdrs"
   ]
  },
  {
   "cell_type": "code",
   "execution_count": 57,
   "metadata": {},
   "outputs": [],
   "source": [
    "H0_sm = np.array([np.sum(H0,0) > 0 for _ in enumerate(snrs)])"
   ]
  },
  {
   "cell_type": "code",
   "execution_count": 59,
   "metadata": {},
   "outputs": [
    {
     "data": {
      "image/png": "[encoded data removed]",
      "text/plain": [
       "<Figure size 648x432 with 5 Axes>"
      ]
     },
     "metadata": {
      "needs_background": "light"
     },
     "output_type": "display_data"
    }
   ],
   "source": [
    "plt.figure(figsize=(9,6))\n",
    "for i, H0_i_sm in enumerate(H0_sm):\n",
    "    plt.subplot(2,3,i+1); ldn.imshow(H0_i_sm)"
   ]
  },
  {
   "cell_type": "code",
   "execution_count": 60,
   "metadata": {},
   "outputs": [],
   "source": [
    "fdps_BH_bst = np.sum(rejs_BH_bst > H0_sm[:,None,None], (-2,-1)) \\\n",
    "           / np.maximum(np.sum(rejs_BH_bst, (-2,-1)), 1)  \n",
    "\n",
    "fnps_BH_bst = np.sum(rejs_BH_bst < H0_sm[:,None,None], (-2,-1)) \\\n",
    "            / np.maximum(np.sum(H0_sm,(-1,-2)), 1)[:,None,None]"
   ]
  },
  {
   "cell_type": "markdown",
   "metadata": {},
   "source": [
    "## plots"
   ]
  },
  {
   "cell_type": "code",
   "execution_count": 66,
   "metadata": {},
   "outputs": [
    {
     "data": {
      "image/png": "[encoded data removed]",
      "text/plain": [
       "<Figure size 216x216 with 1 Axes>"
      ]
     },
     "metadata": {
      "needs_background": "light"
     },
     "output_type": "display_data"
    }
   ],
   "source": [
    "plt.figure(figsize=(3,3))\n",
    "for iter_snr, snr in enumerate(snrs):\n",
    "    plt.plot(alphas, np.mean(fdps_BH_bst[iter_snr], 0), color=(50*iter_snr/256, 0, 0), label=r\"snr = %.1f\"%snr)\n",
    "plt.plot(alphas, alphas, linestyle=':', color='black')\n",
    "plt.xlabel(r\"Target FDR\"); plt.ylabel(r\"$\\widehat{FDR}_{BH}$\");# plt.legend()"
   ]
  },
  {
   "cell_type": "code",
   "execution_count": 70,
   "metadata": {},
   "outputs": [
    {
     "data": {
      "text/plain": [
       "<matplotlib.legend.Legend at 0x7fab64c20450>"
      ]
     },
     "execution_count": 70,
     "metadata": {},
     "output_type": "execute_result"
    },
    {
     "data": {
      "image/png": "[encoded data removed]",
      "text/plain": [
       "<Figure size 216x216 with 1 Axes>"
      ]
     },
     "metadata": {
      "needs_background": "light"
     },
     "output_type": "display_data"
    }
   ],
   "source": [
    "plt.figure(figsize=(3,3))\n",
    "for iter_snr, snr in enumerate(snrs):\n",
    "    plt.plot(alphas, np.mean(fnps_BH_bst[iter_snr], 0), color=(50*iter_snr/256, 0, 0), label=r\"r = %.1f\"%snr)\n",
    "plt.xlabel(r\"Target FDR\"); plt.ylabel(r\"$\\widehat{FNR}_{BH}$\"); plt.legend()"
   ]
  },
  {
   "cell_type": "markdown",
   "metadata": {},
   "source": [
    "# 4. excursion test"
   ]
  },
  {
   "cell_type": "code",
   "execution_count": 170,
   "metadata": {},
   "outputs": [],
   "source": [
    "a_BH = 0.05"
   ]
  },
  {
   "cell_type": "code",
   "execution_count": 172,
   "metadata": {
    "scrolled": true
   },
   "outputs": [
    {
     "name": "stdout",
     "output_type": "stream",
     "text": [
      "1-1-th simulation\n",
      "1-2-th simulation\n",
      "1-3-th simulation\n",
      "1-4-th simulation\n",
      "1-5-th simulation\n",
      "1-6-th simulation\n",
      "1-7-th simulation\n",
      "1-8-th simulation\n",
      "1-9-th simulation\n",
      "1-10-th simulation\n",
      "1-11-th simulation\n",
      "1-12-th simulation\n",
      "1-13-th simulation\n",
      "1-14-th simulation\n",
      "1-15-th simulation\n",
      "1-16-th simulation\n",
      "1-17-th simulation\n",
      "1-18-th simulation\n",
      "1-19-th simulation\n",
      "1-20-th simulation\n",
      "1-21-th simulation\n",
      "1-22-th simulation\n",
      "1-23-th simulation\n",
      "1-24-th simulation\n",
      "1-25-th simulation\n",
      "1-26-th simulation\n",
      "1-27-th simulation\n",
      "1-28-th simulation\n",
      "1-29-th simulation\n",
      "1-30-th simulation\n",
      "1-31-th simulation\n",
      "1-32-th simulation\n",
      "1-33-th simulation\n",
      "1-34-th simulation\n",
      "1-35-th simulation\n",
      "1-36-th simulation\n",
      "1-37-th simulation\n",
      "1-38-th simulation\n",
      "1-39-th simulation\n",
      "1-40-th simulation\n",
      "1-41-th simulation\n",
      "1-42-th simulation\n",
      "1-43-th simulation\n",
      "1-44-th simulation\n",
      "1-45-th simulation\n",
      "1-46-th simulation\n",
      "1-47-th simulation\n",
      "1-48-th simulation\n",
      "1-49-th simulation\n",
      "1-50-th simulation\n",
      "1-51-th simulation\n",
      "1-52-th simulation\n",
      "1-53-th simulation\n",
      "1-54-th simulation\n",
      "1-55-th simulation\n",
      "1-56-th simulation\n",
      "1-57-th simulation\n",
      "1-58-th simulation\n",
      "1-59-th simulation\n",
      "1-60-th simulation\n",
      "2-1-th simulation\n",
      "2-2-th simulation\n",
      "2-3-th simulation\n",
      "2-4-th simulation\n",
      "2-5-th simulation\n",
      "2-6-th simulation\n",
      "2-7-th simulation\n",
      "2-8-th simulation\n",
      "2-9-th simulation\n",
      "2-10-th simulation\n",
      "2-11-th simulation\n",
      "2-12-th simulation\n",
      "2-13-th simulation\n",
      "2-14-th simulation\n",
      "2-15-th simulation\n",
      "2-16-th simulation\n",
      "2-17-th simulation\n",
      "2-18-th simulation\n",
      "2-19-th simulation\n",
      "2-20-th simulation\n",
      "2-21-th simulation\n",
      "2-22-th simulation\n",
      "2-23-th simulation\n",
      "2-24-th simulation\n",
      "2-25-th simulation\n",
      "2-26-th simulation\n",
      "2-27-th simulation\n",
      "2-28-th simulation\n",
      "2-29-th simulation\n",
      "2-30-th simulation\n",
      "2-31-th simulation\n",
      "2-32-th simulation\n",
      "2-33-th simulation\n",
      "2-34-th simulation\n",
      "2-35-th simulation\n",
      "2-36-th simulation\n",
      "2-37-th simulation\n",
      "2-38-th simulation\n",
      "2-39-th simulation\n",
      "2-40-th simulation\n",
      "2-41-th simulation\n",
      "2-42-th simulation\n",
      "2-43-th simulation\n",
      "2-44-th simulation\n",
      "2-45-th simulation\n",
      "2-46-th simulation\n",
      "2-47-th simulation\n",
      "2-48-th simulation\n",
      "2-49-th simulation\n",
      "2-50-th simulation\n",
      "2-51-th simulation\n",
      "2-52-th simulation\n",
      "2-53-th simulation\n",
      "2-54-th simulation\n",
      "2-55-th simulation\n",
      "2-56-th simulation\n",
      "2-57-th simulation\n",
      "2-58-th simulation\n",
      "2-59-th simulation\n",
      "2-60-th simulation\n",
      "3-1-th simulation\n",
      "3-2-th simulation\n",
      "3-3-th simulation\n",
      "3-4-th simulation\n",
      "3-5-th simulation\n",
      "3-6-th simulation\n",
      "3-7-th simulation\n",
      "3-8-th simulation\n",
      "3-9-th simulation\n",
      "3-10-th simulation\n",
      "3-11-th simulation\n",
      "3-12-th simulation\n",
      "3-13-th simulation\n",
      "3-14-th simulation\n",
      "3-15-th simulation\n",
      "3-16-th simulation\n",
      "3-17-th simulation\n",
      "3-18-th simulation\n",
      "3-19-th simulation\n",
      "3-20-th simulation\n",
      "3-21-th simulation\n",
      "3-22-th simulation\n",
      "3-23-th simulation\n",
      "3-24-th simulation\n",
      "3-25-th simulation\n",
      "3-26-th simulation\n",
      "3-27-th simulation\n",
      "3-28-th simulation\n",
      "3-29-th simulation\n",
      "3-30-th simulation\n",
      "3-31-th simulation\n",
      "3-32-th simulation\n",
      "3-33-th simulation\n",
      "3-34-th simulation\n",
      "3-35-th simulation\n",
      "3-36-th simulation\n",
      "3-37-th simulation\n",
      "3-38-th simulation\n",
      "3-39-th simulation\n",
      "3-40-th simulation\n",
      "3-41-th simulation\n",
      "3-42-th simulation\n",
      "3-43-th simulation\n",
      "3-44-th simulation\n",
      "3-45-th simulation\n",
      "3-46-th simulation\n",
      "3-47-th simulation\n",
      "3-48-th simulation\n",
      "3-49-th simulation\n",
      "3-50-th simulation\n",
      "3-51-th simulation\n",
      "3-52-th simulation\n",
      "3-53-th simulation\n",
      "3-54-th simulation\n",
      "3-55-th simulation\n",
      "3-56-th simulation\n",
      "3-57-th simulation\n",
      "3-58-th simulation\n",
      "3-59-th simulation\n",
      "3-60-th simulation\n",
      "4-1-th simulation\n",
      "4-2-th simulation\n",
      "4-3-th simulation\n",
      "4-4-th simulation\n",
      "4-5-th simulation\n",
      "4-6-th simulation\n",
      "4-7-th simulation\n",
      "4-8-th simulation\n",
      "4-9-th simulation\n",
      "4-10-th simulation\n",
      "4-11-th simulation\n",
      "4-12-th simulation\n",
      "4-13-th simulation\n",
      "4-14-th simulation\n",
      "4-15-th simulation\n",
      "4-16-th simulation\n",
      "4-17-th simulation\n",
      "4-18-th simulation\n",
      "4-19-th simulation\n",
      "4-20-th simulation\n",
      "4-21-th simulation\n",
      "4-22-th simulation\n",
      "4-23-th simulation\n",
      "4-24-th simulation\n",
      "4-25-th simulation\n",
      "4-26-th simulation\n",
      "4-27-th simulation\n",
      "4-28-th simulation\n",
      "4-29-th simulation\n",
      "4-30-th simulation\n",
      "4-31-th simulation\n",
      "4-32-th simulation\n",
      "4-33-th simulation\n",
      "4-34-th simulation\n",
      "4-35-th simulation\n",
      "4-36-th simulation\n",
      "4-37-th simulation\n",
      "4-38-th simulation\n",
      "4-39-th simulation\n",
      "4-40-th simulation\n",
      "4-41-th simulation\n",
      "4-42-th simulation\n",
      "4-43-th simulation\n",
      "4-44-th simulation\n",
      "4-45-th simulation\n",
      "4-46-th simulation\n",
      "4-47-th simulation\n",
      "4-48-th simulation\n",
      "4-49-th simulation\n",
      "4-50-th simulation\n",
      "4-51-th simulation\n",
      "4-52-th simulation\n",
      "4-53-th simulation\n",
      "4-54-th simulation\n",
      "4-55-th simulation\n",
      "4-56-th simulation\n",
      "4-57-th simulation\n",
      "4-58-th simulation\n",
      "4-59-th simulation\n",
      "4-60-th simulation\n",
      "5-1-th simulation\n",
      "5-2-th simulation\n",
      "5-3-th simulation\n",
      "5-4-th simulation\n",
      "5-5-th simulation\n",
      "5-6-th simulation\n",
      "5-7-th simulation\n",
      "5-8-th simulation\n",
      "5-9-th simulation\n",
      "5-10-th simulation\n",
      "5-11-th simulation\n",
      "5-12-th simulation\n",
      "5-13-th simulation\n",
      "5-14-th simulation\n",
      "5-15-th simulation\n",
      "5-16-th simulation\n",
      "5-17-th simulation\n",
      "5-18-th simulation\n",
      "5-19-th simulation\n",
      "5-20-th simulation\n",
      "5-21-th simulation\n",
      "5-22-th simulation\n",
      "5-23-th simulation\n",
      "5-24-th simulation\n",
      "5-25-th simulation\n",
      "5-26-th simulation\n",
      "5-27-th simulation\n",
      "5-28-th simulation\n",
      "5-29-th simulation\n",
      "5-30-th simulation\n",
      "5-31-th simulation\n",
      "5-32-th simulation\n",
      "5-33-th simulation\n",
      "5-34-th simulation\n",
      "5-35-th simulation\n",
      "5-36-th simulation\n",
      "5-37-th simulation\n",
      "5-38-th simulation\n",
      "5-39-th simulation\n",
      "5-40-th simulation\n",
      "5-41-th simulation\n",
      "5-42-th simulation\n",
      "5-43-th simulation\n",
      "5-44-th simulation\n",
      "5-45-th simulation\n",
      "5-46-th simulation\n",
      "5-47-th simulation\n",
      "5-48-th simulation\n",
      "5-49-th simulation\n",
      "5-50-th simulation\n",
      "5-51-th simulation\n",
      "5-52-th simulation\n",
      "5-53-th simulation\n",
      "5-54-th simulation\n",
      "5-55-th simulation\n",
      "5-56-th simulation\n",
      "5-57-th simulation\n",
      "5-58-th simulation\n",
      "5-59-th simulation\n",
      "5-60-th simulation\n"
     ]
    }
   ],
   "source": [
    "pvals_exc_blob = np.full((len(snrs), num_sim, num_blobs), 0.5)\n",
    "pvals_exc_null = np.full((len(snrs), num_sim), None, dtype=object)\n",
    "rbs_pexc = np.zeros((len(snrs), num_sim,) + alphas.shape + (num_time, num_time))\n",
    "nbs_pexc = np.zeros((len(snrs), num_sim,) + alphas.shape)\n",
    "\n",
    "for iter_snr, snr in enumerate(snrs):\n",
    "    for iter_sim in range(num_sim):\n",
    "        sys.__stdout__.write(\"%d-%d-th simulation\\n\"%(iter_snr+1, iter_sim+1))\n",
    "        sys.__stdout__.flush()\n",
    "\n",
    "        result = np.load(\"%s/result_sim_%.1d_%.3d.npz\"%(save_dir,iter_snr, iter_sim))\n",
    "        Omega_est=result[\"Omega_est\"]; Sigma_est=result[\"Sigma_est\"]\n",
    "        Omegas_perm=result[\"Omegas_bst\"]; Sigmas_perm=result[\"Sigmas_bst\"]\n",
    "\n",
    "        dspr_est = 2*Omega_est - Omega_est@(Sigma_est + lambda_diag*np.eye(2*num_time))@Omega_est\n",
    "        dsprs_perm = 2*Omegas_perm - Omegas_perm@(Sigmas_perm + lambda_diag*np.eye(2*num_time))@Omegas_perm\n",
    "        dist_dspr_est = (dspr_est[:num_time,num_time:] / np.std(dsprs_perm[:,:num_time,num_time:],0))\n",
    "        dist_dspr_perm = (dsprs_perm[:,:num_time,num_time:]\n",
    "                         / np.std(dsprs_perm[:,:num_time,num_time:],0))\n",
    "        \n",
    "        temp = np.argsort(np.concatenate([\n",
    "            np.abs(dist_dspr_est[roi]),\n",
    "            np.abs(dist_dspr_perm[:,roi]).flatten()]))\n",
    "\n",
    "        ranks = np.empty_like(temp)\n",
    "        ranks[temp] = np.cumsum(temp > np.sum(roi))\n",
    "        \n",
    "        pval_est = np.full(dist_dspr_est.shape, 0.5)\n",
    "        pvals_perm = np.full(dist_dspr_perm.shape, 0.5)\n",
    "        pval_est[roi] = np.clip(2*stats.norm.cdf(-np.abs(dist_dspr_est[roi])), 1e-10, 1-1e-10)\n",
    "        pvals_perm[:,roi] = np.clip(2*stats.norm.cdf(-np.abs(dist_dspr_perm[:,roi])), 1e-10, 1-1e-10)\n",
    "        \n",
    "#         pval_est[roi] = 1-(ranks[:np.sum(roi)]/len(temp) - 1/(2*len(temp)))\n",
    "#         pvals_perm[:,roi] = 1-(ranks[np.sum(roi):].reshape((num_perm,np.sum(roi)))/len(temp) - 1/(2*len(temp)))\n",
    "\n",
    "        # BH procedure\n",
    "        p_sorted = np.concatenate([[0], np.sort(pval_est[roi].flatten())])\n",
    "        k_hat = np.max(np.where(np.linspace(0, a_BH, len(p_sorted)) >= p_sorted))        \n",
    "        rej_BH_est = pval_est <= k_hat * a_BH / (len(p_sorted)-1)\n",
    "\n",
    "#         p_sorted = np.concatenate([[0], np.sort(pvals_perm[:,roi].flatten())])   \n",
    "#         k_hat = np.max(np.where(np.linspace(0, a_BH, len(p_sorted)) >= p_sorted))        \n",
    "        rejs_BH_perm = pvals_perm <= k_hat * a_BH / (len(p_sorted)-1)\n",
    "\n",
    "        rb_BH_est = np.zeros((num_time, num_time))\n",
    "        mask_cp = rej_BH_est.copy(); iter_blob = 0\n",
    "        while np.any(mask_cp):\n",
    "            iter_blob += 1\n",
    "            queue = [tuple(np.transpose(np.where(mask_cp))[0])]\n",
    "            mask_cp[queue[0]] = False\n",
    "            while len(queue) > 0:\n",
    "                cur = queue.pop(0)\n",
    "                rb_BH_est[cur[0], cur[1]] = iter_blob\n",
    "                if cur[0] > 0:\n",
    "                    if mask_cp[cur[0]-1, cur[1]]:\n",
    "                        queue.append((cur[0]-1, cur[1]))\n",
    "                        mask_cp[cur[0]-1, cur[1]] = False\n",
    "                if cur[0] < num_time-1:\n",
    "                    if mask_cp[cur[0]+1, cur[1]]:\n",
    "                        queue.append((cur[0]+1, cur[1]))\n",
    "                        mask_cp[cur[0]+1, cur[1]] = False\n",
    "                if cur[1] > 0:\n",
    "                    if mask_cp[cur[0], cur[1]-1]:\n",
    "                        queue.append((cur[0], cur[1]-1))\n",
    "                        mask_cp[cur[0], cur[1]-1] = False\n",
    "                if cur[1] < num_time-1:\n",
    "                    if mask_cp[cur[0], cur[1]+1]:\n",
    "                        queue.append((cur[0], cur[1]+1))\n",
    "                        mask_cp[cur[0], cur[1]+1] = False\n",
    "        nb_BH_est = iter_blob\n",
    "\n",
    "        rbs_BH_perm = np.zeros((num_perm, num_time, num_time))\n",
    "        nbs_BH_perm = np.zeros((num_perm,))\n",
    "        for iter_perm in range(num_perm):\n",
    "            mask_cp = rejs_BH_perm[iter_perm].copy(); iter_blob = 0\n",
    "            while np.any(mask_cp):\n",
    "                iter_blob += 1\n",
    "                queue = [tuple(np.transpose(np.where(mask_cp))[0])]\n",
    "                mask_cp[queue[0]] = False\n",
    "                while len(queue) > 0:\n",
    "                    cur = queue.pop(0)\n",
    "                    rbs_BH_perm[iter_perm, cur[0], cur[1]] = iter_blob\n",
    "                    if cur[0] > 0:\n",
    "                        if mask_cp[cur[0]-1, cur[1]]:\n",
    "                            queue.append((cur[0]-1, cur[1]))\n",
    "                            mask_cp[cur[0]-1, cur[1]] = False\n",
    "                    if cur[0] < num_time-1:\n",
    "                        if mask_cp[cur[0]+1, cur[1]]:\n",
    "                            queue.append((cur[0]+1, cur[1]))\n",
    "                            mask_cp[cur[0]+1, cur[1]] = False\n",
    "                    if cur[1] > 0:\n",
    "                        if mask_cp[cur[0], cur[1]-1]:\n",
    "                            queue.append((cur[0], cur[1]-1))\n",
    "                            mask_cp[cur[0], cur[1]-1] = False\n",
    "                    if cur[1] < num_time-1:\n",
    "                        if mask_cp[cur[0], cur[1]+1]:\n",
    "                            queue.append((cur[0], cur[1]+1))\n",
    "                            mask_cp[cur[0], cur[1]+1] = False\n",
    "            nbs_BH_perm[iter_perm] = iter_blob\n",
    "\n",
    "        mrois_BH_perm = np.zeros(num_perm)\n",
    "        for iter_perm, (pval, rej_b, num_b) \\\n",
    "        in enumerate(zip(pvals_perm, rbs_BH_perm, nbs_BH_perm)):\n",
    "            rois = np.zeros(int(num_b+1))\n",
    "            for iter_blob in range(1, int(num_b+1)):\n",
    "                rois[iter_blob] = np.sum(-np.log(pval[rej_b == iter_blob]))\n",
    "            mrois_BH_perm[iter_perm] = np.max(rois)\n",
    "\n",
    "        rois_BH_est = np.zeros(nb_BH_est+1)\n",
    "        for iter_blob in range(1, nb_BH_est+1):\n",
    "            rois_BH_est[iter_blob] = np.sum(-np.log(pval_est[rb_BH_est == iter_blob]))\n",
    "        p_rois_BH = np.mean(rois_BH_est <= mrois_BH_perm[:,None], 0)\n",
    "        \n",
    "        for iter_alpha, alpha in enumerate(alphas):\n",
    "            temp = np.array(\n",
    "                [rb_BH_est == i for i in range(int(nb_BH_est+1))]\n",
    "            ).reshape([-1,num_time,num_time])\n",
    "            nbs_pexc[iter_snr,iter_sim,iter_alpha] = np.sum(p_rois_BH < alpha)\n",
    "            rbs_pexc[iter_snr,iter_sim,iter_alpha] = np.sum(temp[p_rois_BH < alpha] \\\n",
    "                * np.arange(1,np.sum(p_rois_BH < alpha)+1)[:,None,None], 0)\n",
    "            \n",
    "        for i, H0_i in enumerate(H0):\n",
    "            pvals_exc_blob[iter_snr,iter_sim,i] \\\n",
    "            = np.min(np.concatenate([[1],\n",
    "                 p_rois_BH[rb_BH_est[np.logical_and(H0[i]>0, rb_BH_est>0)].astype(int)]]))\n",
    "            \n",
    "        pvals_exc_null[iter_snr,iter_sim] \\\n",
    "        = np.min(p_rois_BH[~np.isin(np.arange(nb_BH_est+1),\n",
    "                        rb_BH_est[np.logical_and(np.sum(H0,0)>0, rb_BH_est>0)].astype(int))])\n",
    "            \n",
    "#         for iter_blob in np.arange(num_blobs):\n",
    "#             rbs_H0 = rb_BH_est[H0[iter_blob] == 1]\n",
    "#             if np.sum(rbs_H0!=0) <=1:\n",
    "#                 pvals_exc_blob[iter_snr,iter_sim,iter_blob] = np.nan\n",
    "#             else:\n",
    "#                 urbs, urbs_counts = np.unique(rbs_H0[rbs_H0!=0], return_counts=True)\n",
    "#                 pvals_exc_blob[iter_snr,iter_sim,iter_blob] = \\\n",
    "#                     p_rois_BH[int(urbs[urbs_counts.argmax()])]\n",
    "        \n",
    "#         pvals_exc_null[iter_snr,iter_sim] = \\\n",
    "#             p_rois_BH[\n",
    "#                 ~np.isin(np.arange(nb_BH_est+1),np.unique(np.sum(H0, 0) * rb_BH_est))]"
   ]
  },
  {
   "cell_type": "code",
   "execution_count": 176,
   "metadata": {
    "scrolled": false
   },
   "outputs": [
    {
     "data": {
      "image/png": "[encoded data removed]",
      "text/plain": [
       "<Figure size 864x432 with 6 Axes>"
      ]
     },
     "metadata": {},
     "output_type": "display_data"
    }
   ],
   "source": [
    "fig, axes = plt.subplots(2, 3, #sharey=True, sharex=True,\n",
    "                         figsize=[12.0, 6.0], facecolor='white')\n",
    "plt.subplots_adjust(wspace=0.35)\n",
    "for iter_snr, (snr, ax) in enumerate(zip(snrs, axes.flatten())):\n",
    "    ax.hist(pvals_exc_blob[iter_snr].flatten(), range=(0,1))"
   ]
  },
  {
   "cell_type": "code",
   "execution_count": 177,
   "metadata": {},
   "outputs": [
    {
     "data": {
      "image/png": "[encoded data removed]",
      "text/plain": [
       "<Figure size 648x432 with 6 Axes>"
      ]
     },
     "metadata": {},
     "output_type": "display_data"
    }
   ],
   "source": [
    "fig, axes = plt.subplots(2, 3, #sharey=True, sharex=True,\n",
    "                         figsize=[9.0, 6.0], facecolor='white')\n",
    "plt.subplots_adjust(wspace=0.35)\n",
    "for iter_snr, (snr, ax) in enumerate(zip(snrs, axes.flatten())):\n",
    "    stats.probplot(pvals_exc_null[iter_snr], dist='uniform', fit=False, plot=ax)\n",
    "    ax.plot((0,1),(0,1), color='black')\n",
    "    ax.set_xlabel(r''); ax.set_ylabel(r'')\n",
    "    ax.set_title('')"
   ]
  },
  {
   "cell_type": "code",
   "execution_count": 179,
   "metadata": {},
   "outputs": [
    {
     "data": {
      "text/plain": [
       "Text(0, 0.5, 'Ordered p-values of \\n null clusters')"
      ]
     },
     "execution_count": 179,
     "metadata": {},
     "output_type": "execute_result"
    },
    {
     "data": {
      "image/png": "[encoded data removed]",
      "text/plain": [
       "<Figure size 216x216 with 1 Axes>"
      ]
     },
     "metadata": {
      "needs_background": "light"
     },
     "output_type": "display_data"
    }
   ],
   "source": [
    "plt.figure(figsize=(3,3))\n",
    "stats.probplot(pvals_exc_null.flatten(), dist='uniform', fit=False, plot=plt)\n",
    "plt.plot((0,1),(0,1), color='black')\n",
    "plt.title(\"\")\n",
    "plt.xlabel(\"Uniform quantiles\"); plt.ylabel(\"Ordered p-values of \\n null clusters\")"
   ]
  },
  {
   "cell_type": "code",
   "execution_count": 180,
   "metadata": {},
   "outputs": [],
   "source": [
    "p_nominal = np.linspace(0, 1, 2001)\n",
    "TPR = np.mean(pvals_exc_blob[...,None] < p_nominal, (1,2))\n",
    "FPR = np.mean(pvals_exc_null[...,None] < p_nominal, (1))"
   ]
  },
  {
   "cell_type": "code",
   "execution_count": 181,
   "metadata": {},
   "outputs": [
    {
     "data": {
      "text/plain": [
       "<matplotlib.legend.Legend at 0x7fab4ff8c190>"
      ]
     },
     "execution_count": 181,
     "metadata": {},
     "output_type": "execute_result"
    },
    {
     "data": {
      "image/png": "[encoded data removed]",
      "text/plain": [
       "<Figure size 216x216 with 1 Axes>"
      ]
     },
     "metadata": {
      "needs_background": "light"
     },
     "output_type": "display_data"
    }
   ],
   "source": [
    "plt.figure(figsize=(3,3))\n",
    "for iter_snr, snr in enumerate(snrs):\n",
    "    plt.plot(FPR[iter_snr], TPR[iter_snr], color=(50*iter_snr/256, 0, 0), label=r\"r = %.1f\"%snr)\n",
    "plt.plot([0,1],[0,1], color='red', ls=':')\n",
    "plt.xlabel(\"False Positive Rate\"); plt.ylabel(\"True Positive Rate\"); plt.legend()"
   ]
  },
  {
   "cell_type": "code",
   "execution_count": 182,
   "metadata": {},
   "outputs": [
    {
     "data": {
      "text/plain": [
       "Text(0, 0.5, 'True Positive Rate')"
      ]
     },
     "execution_count": 182,
     "metadata": {},
     "output_type": "execute_result"
    },
    {
     "data": {
      "image/png": "[encoded data removed]",
      "text/plain": [
       "<Figure size 216x216 with 1 Axes>"
      ]
     },
     "metadata": {
      "needs_background": "light"
     },
     "output_type": "display_data"
    }
   ],
   "source": [
    "plt.figure(figsize=(3,3))\n",
    "plt.plot(np.mean(FPR,0), np.mean(TPR,0), color='black')\n",
    "plt.plot([0,1],[0,1], color='red', ls=':')\n",
    "plt.xlabel(\"False Positive Rate\"); plt.ylabel(\"True Positive Rate\")"
   ]
  },
  {
   "cell_type": "code",
   "execution_count": 183,
   "metadata": {},
   "outputs": [
    {
     "data": {
      "text/plain": [
       "0.9766666666666666"
      ]
     },
     "execution_count": 183,
     "metadata": {},
     "output_type": "execute_result"
    }
   ],
   "source": [
    "np.sum((np.mean(TPR,0)[1:]+np.mean(TPR,0)[:-1]) \n",
    "       * (np.mean(FPR,0)[1:]-np.mean(FPR,0)[:-1]),0) / 2"
   ]
  },
  {
   "cell_type": "markdown",
   "metadata": {},
   "source": [
    "## calculate fdrs"
   ]
  },
  {
   "cell_type": "code",
   "execution_count": 196,
   "metadata": {},
   "outputs": [],
   "source": [
    "rejs_pexc = np.minimum(rbs_pexc, 1)"
   ]
  },
  {
   "cell_type": "code",
   "execution_count": 197,
   "metadata": {},
   "outputs": [],
   "source": [
    "fdps_pexc = np.sum(rejs_pexc > H0_sm[:,None,None], (-2,-1)) \\\n",
    "           / np.maximum(np.sum(rejs_pexc, (-2,-1)), 1)   \n",
    "\n",
    "fnps_pexc = np.sum(rejs_pexc < H0_sm[:,None,None], (-2,-1)) \\\n",
    "               / np.maximum(np.sum(H0_sm,(-1,-2)), 1)[:,None,None]"
   ]
  },
  {
   "cell_type": "code",
   "execution_count": 198,
   "metadata": {},
   "outputs": [],
   "source": [
    "fcds_pexc = nbs_pexc.copy()\n",
    "for iter_snr, snr in enumerate(snrs):\n",
    "    for iter_sim in range(num_sim):\n",
    "        for iter_alpha, _ in enumerate(alphas):\n",
    "            fcds_pexc[iter_snr, iter_sim, iter_alpha] -= np.sum(np.unique(\n",
    "                rbs_pexc[iter_snr, iter_sim, iter_alpha, np.any(H0,0)])> 0)\n",
    "        \n",
    "fcdps_pexc = fcds_pexc / np.maximum(nbs_pexc, 1)"
   ]
  },
  {
   "cell_type": "code",
   "execution_count": 199,
   "metadata": {},
   "outputs": [],
   "source": [
    "fcnps_pexc = np.sum(np.all(\n",
    "    np.logical_or((rejs_pexc[...,None,:,:] < H0), np.logical_not(H0))\n",
    "    , (-2,-1)), -1) /np.maximum(H0.shape[0], 1)"
   ]
  },
  {
   "cell_type": "markdown",
   "metadata": {},
   "source": [
    "## plots"
   ]
  },
  {
   "cell_type": "code",
   "execution_count": 203,
   "metadata": {},
   "outputs": [
    {
     "data": {
      "image/png": "[encoded data removed]",
      "text/plain": [
       "<Figure size 216x216 with 1 Axes>"
      ]
     },
     "metadata": {
      "needs_background": "light"
     },
     "output_type": "display_data"
    }
   ],
   "source": [
    "plt.figure(figsize=(3,3))\n",
    "for iter_snr, snr in enumerate(snrs):\n",
    "    plt.plot(alphas, np.mean(fcdps_pexc[iter_snr], 0), color=(50*iter_snr/256, 0, 0), label=r\"snr = %.1f\"%snr)\n",
    "plt.plot(alphas, alphas, linestyle=':', color='black')\n",
    "plt.xlabel(r\"Target FDR\"); plt.ylabel(r\"$\\widehat\\mathrm{FCDR}_\\mathrm{BH+exc}$\"); #plt.legend()"
   ]
  },
  {
   "cell_type": "code",
   "execution_count": 207,
   "metadata": {},
   "outputs": [
    {
     "data": {
      "text/plain": [
       "<matplotlib.legend.Legend at 0x7fab580b0b10>"
      ]
     },
     "execution_count": 207,
     "metadata": {},
     "output_type": "execute_result"
    },
    {
     "data": {
      "image/png": "[encoded data removed]",
      "text/plain": [
       "<Figure size 216x216 with 1 Axes>"
      ]
     },
     "metadata": {
      "needs_background": "light"
     },
     "output_type": "display_data"
    }
   ],
   "source": [
    "plt.figure(figsize=(3,3))\n",
    "for iter_snr, snr in enumerate(snrs):\n",
    "    plt.plot(alphas, np.mean(fcnps_pexc[iter_snr], 0), color=(50*iter_snr/256, 0, 0), label=r\"r = %.1f\"%snr)\n",
    "plt.xlabel(r\"Target FDR\"); plt.ylabel(r\"$\\widehat\\mathrm{FCNR}_\\mathrm{BH+exc}$\"); plt.legend()"
   ]
  },
  {
   "cell_type": "code",
   "execution_count": null,
   "metadata": {},
   "outputs": [],
   "source": []
  }
 ],
 "metadata": {
  "kernelspec": {
   "display_name": "Python 3 (ipykernel)",
   "language": "python",
   "name": "python3"
  },
  "language_info": {
   "codemirror_mode": {
    "name": "ipython",
    "version": 3
   },
   "file_extension": ".py",
   "mimetype": "text/x-python",
   "name": "python",
   "nbconvert_exporter": "python",
   "pygments_lexer": "ipython3",
   "version": "3.7.7"
  }
 },
 "nbformat": 4,
 "nbformat_minor": 2
}
