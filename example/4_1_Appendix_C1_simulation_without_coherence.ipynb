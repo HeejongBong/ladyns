{
 "cells": [
  {
   "cell_type": "code",
   "execution_count": 3,
   "metadata": {},
   "outputs": [],
   "source": [
    "import os, importlib, sys, time, h5py"
   ]
  },
  {
   "cell_type": "code",
   "execution_count": 4,
   "metadata": {},
   "outputs": [],
   "source": [
    "import numpy as np\n",
    "from scipy import io, linalg, stats, ndimage, signal\n",
    "from scipy.sparse import diags"
   ]
  },
  {
   "cell_type": "code",
   "execution_count": 5,
   "metadata": {},
   "outputs": [],
   "source": [
    "import matplotlib.pyplot as plt\n",
    "from matplotlib import rc\n",
    "# rc('font',**{'family':'sans-serif','sans-serif':['Helvetica'], 'size':12})\n",
    "## for Palatino and other serif fonts use:\n",
    "rc('font',**{'family':'serif','serif':['Palatino'], 'size':12})\n",
    "# rc('text', usetex=False)"
   ]
  },
  {
   "cell_type": "code",
   "execution_count": 6,
   "metadata": {},
   "outputs": [],
   "source": [
    "import ladyns as ldn\n",
    "import ladyns.inference as inf"
   ]
  },
  {
   "cell_type": "code",
   "execution_count": 8,
   "metadata": {},
   "outputs": [],
   "source": [
    "save_dir = \"../temp/Appendix_C1\"\n",
    "if not os.path.exists(save_dir):\n",
    "    os.makedirs(save_dir)"
   ]
  },
  {
   "cell_type": "markdown",
   "metadata": {},
   "source": [
    "# 0. simulate data"
   ]
  },
  {
   "cell_type": "code",
   "execution_count": 9,
   "metadata": {},
   "outputs": [],
   "source": [
    "dims = [25, 25]\n",
    "num_rtime = 500\n",
    "num_trial = 1000"
   ]
  },
  {
   "cell_type": "code",
   "execution_count": 10,
   "metadata": {},
   "outputs": [],
   "source": [
    "rec_time = [0, 500]"
   ]
  },
  {
   "cell_type": "markdown",
   "metadata": {},
   "source": [
    "## cross precision"
   ]
  },
  {
   "cell_type": "code",
   "execution_count": 11,
   "metadata": {},
   "outputs": [],
   "source": [
    "num_blobs = 3"
   ]
  },
  {
   "cell_type": "code",
   "execution_count": 12,
   "metadata": {},
   "outputs": [],
   "source": [
    "f_beta = 18\n",
    "cwt_omega = 3\n",
    "cwt_scale = cwt_omega * 1000 / (2 * f_beta * np.pi)\n",
    "filter_map = signal.morlet2(num_rtime, cwt_scale, cwt_omega)"
   ]
  },
  {
   "cell_type": "code",
   "execution_count": 13,
   "metadata": {},
   "outputs": [],
   "source": [
    "ts_sig = [80, 200, 400]\n",
    "ss_sig = [1250, 1250, 1250]\n",
    "pbts = [np.exp(-np.square(np.arange(num_rtime) - t)/s)\n",
    "       for t, s in zip(ts_sig, ss_sig)]"
   ]
  },
  {
   "cell_type": "code",
   "execution_count": 14,
   "metadata": {},
   "outputs": [],
   "source": [
    "lags = [[0, 30, 30],\n",
    "        [30, 0, 0]]"
   ]
  },
  {
   "cell_type": "markdown",
   "metadata": {},
   "source": [
    "## auto precision"
   ]
  },
  {
   "cell_type": "code",
   "execution_count": 15,
   "metadata": {},
   "outputs": [],
   "source": [
    "alpha = 1.4\n",
    "f = np.linspace(0, np.pi, num_rtime//2+1)[1:-1]\n",
    "psd = 1/(f**alpha)"
   ]
  },
  {
   "cell_type": "code",
   "execution_count": 16,
   "metadata": {},
   "outputs": [],
   "source": [
    "coords_S = [np.array(np.where(np.full((5,5), True))).T for _ in np.arange(2)]\n",
    "sigmas_S = [0.8, 0.8]\n",
    "covs_S = [np.exp(-np.sum((cd[:,None,:] - cd[None,:,:])**2,-1)\n",
    "                 / (2 * sigma**2))\n",
    "          for cd, sigma in zip(coords_S, sigmas_S)]"
   ]
  },
  {
   "cell_type": "markdown",
   "metadata": {},
   "source": [
    "## latent direction"
   ]
  },
  {
   "cell_type": "code",
   "execution_count": 17,
   "metadata": {},
   "outputs": [],
   "source": [
    "ctrs = [[(1, 1), (3, 3), (2, 2)],\n",
    "        [(3, 3), (1, 1), (2, 2)]]"
   ]
  },
  {
   "cell_type": "code",
   "execution_count": 18,
   "metadata": {},
   "outputs": [],
   "source": [
    "betas = [[np.exp(-np.sum((cd-ct)**2,-1)/(2*sig**2))\n",
    "          for ct in ctr]\n",
    "         for cd, ctr, sig in zip(coords_S, ctrs, sigmas_S)] "
   ]
  },
  {
   "cell_type": "markdown",
   "metadata": {},
   "source": [
    "## true factor loadings"
   ]
  },
  {
   "cell_type": "code",
   "execution_count": 19,
   "metadata": {},
   "outputs": [],
   "source": [
    "fpbts = [\n",
    "    signal.convolve(pbt, np.abs(signal.convolve(filter_map, filter_map, mode='same')))\n",
    "    for pbt in pbts\n",
    "]\n",
    "betas_true = np.array([\n",
    "    beta[0] * fpbts[0][num_rtime//2-lag[0]:-num_rtime//2-lag[0]+1:10,None]\n",
    "    + beta[1] * fpbts[1][num_rtime//2-lag[1]:-num_rtime//2-lag[1]+1:10,None]\n",
    "    + beta[2] * fpbts[2][num_rtime//2-lag[2]:-num_rtime//2-lag[2]+1:10,None]\n",
    "    for beta, lag in zip(betas, lags)\n",
    "])"
   ]
  },
  {
   "cell_type": "code",
   "execution_count": 20,
   "metadata": {},
   "outputs": [
    {
     "name": "stderr",
     "output_type": "stream",
     "text": [
      "findfont: Font family ['serif'] not found. Falling back to DejaVu Sans.\n",
      "findfont: Generic family 'serif' not found because none of the following families were found: Palatino\n"
     ]
    },
    {
     "data": {
      "image/png": "[encoded data removed]",
      "text/plain": [
       "<Figure size 432x288 with 2 Axes>"
      ]
     },
     "metadata": {
      "needs_background": "light"
     },
     "output_type": "display_data"
    }
   ],
   "source": [
    "plt.subplot(1,2,1); ldn.imshow(betas_true[0])\n",
    "plt.subplot(1,2,2); ldn.imshow(betas_true[1])"
   ]
  },
  {
   "cell_type": "markdown",
   "metadata": {},
   "source": [
    "## simulation function"
   ]
  },
  {
   "cell_type": "code",
   "execution_count": 21,
   "metadata": {},
   "outputs": [],
   "source": [
    "num_time = num_rtime // 10"
   ]
  },
  {
   "cell_type": "code",
   "execution_count": 22,
   "metadata": {},
   "outputs": [],
   "source": [
    "def generate_sim(w):\n",
    "    # generate white noise\n",
    "    Ws = [np.sqrt(0.5 * psd)[:,None] * \n",
    "          np.random.multivariate_normal(np.zeros(d), cov, \n",
    "                size=(num_trial, num_rtime//2-1))\n",
    "          for d, cov in zip(dims, covs_S)]\n",
    "    RZs = [np.concatenate([\n",
    "           np.random.multivariate_normal(np.zeros(d), cov, \n",
    "               size=(num_trial,1)), \n",
    "           W, \n",
    "           np.random.multivariate_normal(np.zeros(d), cov, \n",
    "               size=(num_trial,1)), \n",
    "           np.flip(W, axis=1)], axis=1)\n",
    "           for d, W, cov in zip(dims, Ws, covs_S)]\n",
    "    Ws = [np.sqrt(0.5 * psd)[:,None] * \n",
    "          np.random.multivariate_normal(np.zeros(d), cov, \n",
    "                size=(num_trial, num_rtime//2-1))\n",
    "          for d, cov in zip(dims, covs_S)]\n",
    "    IZs = [np.concatenate([\n",
    "           np.zeros((num_trial,1,d)), \n",
    "           W, \n",
    "           np.zeros((num_trial,1,d)), \n",
    "           np.flip(W, axis=1)], axis=1)\n",
    "           for W, cov, d in zip(Ws, covs_S, dims)]\n",
    "    etas = [np.fft.irfft(RZ+ 1j*IZ, num_rtime, axis=1)\n",
    "            for RZ, IZ in zip(RZs, IZs)]\n",
    "#     sys.stdout.write(\"noise generated \\n\")\n",
    "#     sys.stdout.flush()\n",
    "    \n",
    "    # generate signals\n",
    "    cwt_omega = 3\n",
    "    cwt_scale = cwt_omega * 1000 / (2 * f_beta * np.pi)\n",
    "    filter_map = signal.morlet2(num_rtime, cwt_scale, cwt_omega)\n",
    "    \n",
    "    Ws = [np.random.normal(scale=pbt, size=(num_trial,num_rtime))\n",
    "          for pbt in pbts]\n",
    "    sigs =  [signal.convolve(W, filter_map[None,:])\n",
    "             for W in Ws]\n",
    "#     sys.stdout.write(\"signal generated \\n\")\n",
    "#     sys.stdout.flush()\n",
    "    \n",
    "    # generate data\n",
    "    obss = [eta + np.exp(2j*np.pi*np.random.uniform(size=1000)[:,None,None]) * w * beta[0] * sigs[0][:,num_rtime//2-lag[0]:-num_rtime//2-lag[0]+1,None]\n",
    "                + np.exp(2j*np.pi*np.random.uniform(size=1000)[:,None,None]) * w * beta[1] * sigs[1][:,num_rtime//2-lag[1]:-num_rtime//2-lag[1]+1,None]\n",
    "                + np.exp(2j*np.pi*np.random.uniform(size=1000)[:,None,None]) * w * beta[2] * sigs[2][:,num_rtime//2-lag[2]:-num_rtime//2-lag[2]+1,None]\n",
    "            for eta, beta, lag in zip(etas, betas, lags)]\n",
    "#     sys.stdout.write(\"observation generated \\n\")\n",
    "#     sys.stdout.flush()\n",
    "    \n",
    "    return obss"
   ]
  },
  {
   "cell_type": "code",
   "execution_count": 23,
   "metadata": {},
   "outputs": [],
   "source": [
    "def preprocess(data_raw):\n",
    "    cwt_omega = 3 \n",
    "    cwt_scale = cwt_omega * 1000 / (2 * f_beta * np.pi)\n",
    "    filter_map = signal.morlet2(num_rtime, cwt_scale, cwt_omega)\n",
    "    \n",
    "    data = [np.zeros((num_time, d , num_trial), dtype=np.cdouble)\n",
    "            for d in dims]\n",
    "    \n",
    "    for l, d in enumerate(dims):\n",
    "        for i in np.arange(d):\n",
    "#             sys.stdout.write(\"CWT on channel %d-%d \\n\"%(l, i))\n",
    "#             sys.stdout.flush()\n",
    "            data[l][:,i,:] = (signal.convolve(data_raw[l][:,:,i], \n",
    "                filter_map[None,:], mode='same')[:,::10]).T\n",
    "            \n",
    "    return data"
   ]
  },
  {
   "cell_type": "markdown",
   "metadata": {},
   "source": [
    "## test"
   ]
  },
  {
   "cell_type": "code",
   "execution_count": 26,
   "metadata": {},
   "outputs": [],
   "source": [
    "data_raw = generate_sim(np.sqrt(0.006))"
   ]
  },
  {
   "cell_type": "code",
   "execution_count": 27,
   "metadata": {},
   "outputs": [],
   "source": [
    "data = preprocess(data_raw)"
   ]
  },
  {
   "cell_type": "code",
   "execution_count": 28,
   "metadata": {},
   "outputs": [],
   "source": [
    "weight_true = [\n",
    "    btrue[:,None,:] \n",
    "    @ np.array([np.linalg.inv(np.cov(d)) for d in np.abs(dat)])\n",
    "    for dat, btrue in zip(data, betas_true)]"
   ]
  },
  {
   "cell_type": "code",
   "execution_count": 29,
   "metadata": {},
   "outputs": [],
   "source": [
    "Sigma_true = np.corrcoef(np.concatenate([ np.squeeze(\n",
    "    btrue[:,None,:] \n",
    "    @ np.array([np.linalg.inv(np.cov(d)) for d in np.abs(dat)])\n",
    "    @ np.abs(dat)) for dat, btrue in zip(data, betas_true)], 0))\n",
    "\n",
    "Omega_true = np.linalg.inv(Sigma_true + lambda_diag * np.eye(2*num_time))\n",
    "\n",
    "Coh_true = np.abs(np.corrcoef(np.concatenate([ np.squeeze(\n",
    "    btrue[:,None,:] \n",
    "    @ np.array([np.linalg.inv(np.cov(d)) for d in np.abs(dat)])\n",
    "    @ dat) for dat, btrue in zip(data, betas_true)])))"
   ]
  },
  {
   "cell_type": "code",
   "execution_count": 30,
   "metadata": {},
   "outputs": [
    {
     "data": {
      "image/png": "[encoded data removed]",
      "text/plain": [
       "<Figure size 216x216 with 1 Axes>"
      ]
     },
     "metadata": {
      "needs_background": "light"
     },
     "output_type": "display_data"
    }
   ],
   "source": [
    "plt.figure(figsize=(3,3))\n",
    "ldn.imshow(Coh_true[:num_time,num_time:], time=rec_time, identity=True, vmax=0.6)"
   ]
  },
  {
   "cell_type": "code",
   "execution_count": 31,
   "metadata": {},
   "outputs": [
    {
     "data": {
      "text/plain": [
       "<matplotlib.colorbar.Colorbar at 0x7f47056b8790>"
      ]
     },
     "execution_count": 31,
     "metadata": {},
     "output_type": "execute_result"
    },
    {
     "data": {
      "image/png": "[encoded data removed]",
      "text/plain": [
       "<Figure size 288x216 with 2 Axes>"
      ]
     },
     "metadata": {
      "needs_background": "light"
     },
     "output_type": "display_data"
    }
   ],
   "source": [
    "plt.figure(figsize=(4,3))\n",
    "ldn.imshow(Sigma_true[:num_time,num_time:], time=rec_time, identity=True, vmax=0.6)\n",
    "plt.colorbar()"
   ]
  },
  {
   "cell_type": "code",
   "execution_count": 32,
   "metadata": {},
   "outputs": [
    {
     "data": {
      "text/plain": [
       "<matplotlib.colorbar.Colorbar at 0x7f47055ac550>"
      ]
     },
     "execution_count": 32,
     "metadata": {},
     "output_type": "execute_result"
    },
    {
     "data": {
      "image/png": "[encoded data removed]",
      "text/plain": [
       "<Figure size 288x216 with 2 Axes>"
      ]
     },
     "metadata": {
      "needs_background": "light"
     },
     "output_type": "display_data"
    }
   ],
   "source": [
    "plt.figure(figsize=(4,3))\n",
    "ldn.imshow(Omega_true[:num_time,num_time:], time=rec_time, identity=True)\n",
    "plt.colorbar()"
   ]
  },
  {
   "cell_type": "markdown",
   "metadata": {},
   "source": [
    "# 1. iterate simulation"
   ]
  },
  {
   "cell_type": "code",
   "execution_count": 33,
   "metadata": {},
   "outputs": [],
   "source": [
    "num_sim = 200"
   ]
  },
  {
   "cell_type": "code",
   "execution_count": 34,
   "metadata": {
    "scrolled": true
   },
   "outputs": [
    {
     "name": "stdout",
     "output_type": "stream",
     "text": [
      "1-th data generation finished, lapse: 2.365sec.\n",
      "1-th preprocess finished, lapse: 4.177sec.\n",
      "2-th data generation finished, lapse: 2.350sec.\n",
      "2-th preprocess finished, lapse: 4.158sec.\n",
      "3-th data generation finished, lapse: 2.348sec.\n",
      "3-th preprocess finished, lapse: 4.161sec.\n",
      "4-th data generation finished, lapse: 2.320sec.\n",
      "4-th preprocess finished, lapse: 4.120sec.\n",
      "5-th data generation finished, lapse: 2.348sec.\n",
      "5-th preprocess finished, lapse: 4.161sec.\n",
      "6-th data generation finished, lapse: 2.320sec.\n",
      "6-th preprocess finished, lapse: 4.123sec.\n",
      "7-th data generation finished, lapse: 2.351sec.\n",
      "7-th preprocess finished, lapse: 4.164sec.\n",
      "8-th data generation finished, lapse: 2.319sec.\n",
      "8-th preprocess finished, lapse: 4.126sec.\n",
      "9-th data generation finished, lapse: 2.348sec.\n",
      "9-th preprocess finished, lapse: 4.158sec.\n",
      "10-th data generation finished, lapse: 2.322sec.\n",
      "10-th preprocess finished, lapse: 4.120sec.\n",
      "11-th data generation finished, lapse: 2.348sec.\n",
      "11-th preprocess finished, lapse: 4.154sec.\n",
      "12-th data generation finished, lapse: 2.319sec.\n",
      "12-th preprocess finished, lapse: 4.117sec.\n",
      "13-th data generation finished, lapse: 2.349sec.\n",
      "13-th preprocess finished, lapse: 4.160sec.\n",
      "14-th data generation finished, lapse: 2.318sec.\n",
      "14-th preprocess finished, lapse: 4.117sec.\n",
      "15-th data generation finished, lapse: 2.348sec.\n",
      "15-th preprocess finished, lapse: 4.155sec.\n",
      "16-th data generation finished, lapse: 2.319sec.\n",
      "16-th preprocess finished, lapse: 4.120sec.\n",
      "17-th data generation finished, lapse: 2.350sec.\n",
      "17-th preprocess finished, lapse: 4.160sec.\n",
      "18-th data generation finished, lapse: 2.320sec.\n",
      "18-th preprocess finished, lapse: 4.117sec.\n",
      "19-th data generation finished, lapse: 2.351sec.\n",
      "19-th preprocess finished, lapse: 4.162sec.\n",
      "20-th data generation finished, lapse: 2.317sec.\n",
      "20-th preprocess finished, lapse: 4.113sec.\n",
      "21-th data generation finished, lapse: 2.407sec.\n",
      "21-th preprocess finished, lapse: 4.215sec.\n",
      "22-th data generation finished, lapse: 2.318sec.\n",
      "22-th preprocess finished, lapse: 4.117sec.\n",
      "23-th data generation finished, lapse: 2.353sec.\n",
      "23-th preprocess finished, lapse: 4.163sec.\n",
      "24-th data generation finished, lapse: 2.320sec.\n",
      "24-th preprocess finished, lapse: 4.119sec.\n",
      "25-th data generation finished, lapse: 2.349sec.\n",
      "25-th preprocess finished, lapse: 4.158sec.\n",
      "26-th data generation finished, lapse: 2.320sec.\n",
      "26-th preprocess finished, lapse: 4.115sec.\n",
      "27-th data generation finished, lapse: 2.351sec.\n",
      "27-th preprocess finished, lapse: 4.164sec.\n",
      "28-th data generation finished, lapse: 2.320sec.\n",
      "28-th preprocess finished, lapse: 4.126sec.\n",
      "29-th data generation finished, lapse: 2.352sec.\n",
      "29-th preprocess finished, lapse: 4.160sec.\n",
      "30-th data generation finished, lapse: 2.327sec.\n",
      "30-th preprocess finished, lapse: 4.129sec.\n",
      "31-th data generation finished, lapse: 2.352sec.\n",
      "31-th preprocess finished, lapse: 4.157sec.\n",
      "32-th data generation finished, lapse: 2.319sec.\n",
      "32-th preprocess finished, lapse: 4.115sec.\n",
      "33-th data generation finished, lapse: 2.349sec.\n",
      "33-th preprocess finished, lapse: 4.164sec.\n",
      "34-th data generation finished, lapse: 2.319sec.\n",
      "34-th preprocess finished, lapse: 4.117sec.\n",
      "35-th data generation finished, lapse: 2.355sec.\n",
      "35-th preprocess finished, lapse: 4.165sec.\n",
      "36-th data generation finished, lapse: 2.320sec.\n",
      "36-th preprocess finished, lapse: 4.119sec.\n",
      "37-th data generation finished, lapse: 2.351sec.\n",
      "37-th preprocess finished, lapse: 4.161sec.\n",
      "38-th data generation finished, lapse: 2.321sec.\n",
      "38-th preprocess finished, lapse: 4.121sec.\n",
      "39-th data generation finished, lapse: 2.354sec.\n",
      "39-th preprocess finished, lapse: 4.158sec.\n",
      "40-th data generation finished, lapse: 2.320sec.\n",
      "40-th preprocess finished, lapse: 4.115sec.\n",
      "41-th data generation finished, lapse: 2.355sec.\n",
      "41-th preprocess finished, lapse: 4.166sec.\n",
      "42-th data generation finished, lapse: 2.321sec.\n",
      "42-th preprocess finished, lapse: 4.125sec.\n",
      "43-th data generation finished, lapse: 2.350sec.\n",
      "43-th preprocess finished, lapse: 4.163sec.\n",
      "44-th data generation finished, lapse: 2.319sec.\n",
      "44-th preprocess finished, lapse: 4.119sec.\n",
      "45-th data generation finished, lapse: 2.353sec.\n",
      "45-th preprocess finished, lapse: 4.163sec.\n",
      "46-th data generation finished, lapse: 2.321sec.\n",
      "46-th preprocess finished, lapse: 4.119sec.\n",
      "47-th data generation finished, lapse: 2.350sec.\n",
      "47-th preprocess finished, lapse: 4.157sec.\n",
      "48-th data generation finished, lapse: 2.320sec.\n",
      "48-th preprocess finished, lapse: 4.122sec.\n",
      "49-th data generation finished, lapse: 2.350sec.\n",
      "49-th preprocess finished, lapse: 4.161sec.\n",
      "50-th data generation finished, lapse: 2.318sec.\n",
      "50-th preprocess finished, lapse: 4.117sec.\n",
      "51-th data generation finished, lapse: 2.351sec.\n",
      "51-th preprocess finished, lapse: 4.163sec.\n",
      "52-th data generation finished, lapse: 2.320sec.\n",
      "52-th preprocess finished, lapse: 4.122sec.\n",
      "53-th data generation finished, lapse: 2.354sec.\n",
      "53-th preprocess finished, lapse: 4.165sec.\n",
      "54-th data generation finished, lapse: 2.323sec.\n",
      "54-th preprocess finished, lapse: 4.133sec.\n",
      "55-th data generation finished, lapse: 2.394sec.\n",
      "55-th preprocess finished, lapse: 4.336sec.\n",
      "56-th data generation finished, lapse: 2.325sec.\n",
      "56-th preprocess finished, lapse: 4.134sec.\n",
      "57-th data generation finished, lapse: 2.343sec.\n",
      "57-th preprocess finished, lapse: 4.160sec.\n",
      "58-th data generation finished, lapse: 2.309sec.\n",
      "58-th preprocess finished, lapse: 4.109sec.\n",
      "59-th data generation finished, lapse: 2.343sec.\n",
      "59-th preprocess finished, lapse: 4.181sec.\n",
      "60-th data generation finished, lapse: 2.307sec.\n",
      "60-th preprocess finished, lapse: 4.100sec.\n",
      "61-th data generation finished, lapse: 2.341sec.\n",
      "61-th preprocess finished, lapse: 4.148sec.\n",
      "62-th data generation finished, lapse: 2.309sec.\n",
      "62-th preprocess finished, lapse: 4.102sec.\n",
      "63-th data generation finished, lapse: 2.340sec.\n",
      "63-th preprocess finished, lapse: 4.147sec.\n",
      "64-th data generation finished, lapse: 2.306sec.\n",
      "64-th preprocess finished, lapse: 4.102sec.\n",
      "65-th data generation finished, lapse: 2.339sec.\n",
      "65-th preprocess finished, lapse: 4.149sec.\n",
      "66-th data generation finished, lapse: 2.308sec.\n",
      "66-th preprocess finished, lapse: 4.106sec.\n",
      "67-th data generation finished, lapse: 2.340sec.\n",
      "67-th preprocess finished, lapse: 4.146sec.\n",
      "68-th data generation finished, lapse: 2.366sec.\n",
      "68-th preprocess finished, lapse: 4.163sec.\n",
      "69-th data generation finished, lapse: 2.371sec.\n",
      "69-th preprocess finished, lapse: 4.184sec.\n",
      "70-th data generation finished, lapse: 2.317sec.\n",
      "70-th preprocess finished, lapse: 4.116sec.\n",
      "71-th data generation finished, lapse: 2.348sec.\n",
      "71-th preprocess finished, lapse: 4.158sec.\n",
      "72-th data generation finished, lapse: 2.316sec.\n",
      "72-th preprocess finished, lapse: 4.115sec.\n",
      "73-th data generation finished, lapse: 2.349sec.\n",
      "73-th preprocess finished, lapse: 4.159sec.\n",
      "74-th data generation finished, lapse: 2.316sec.\n",
      "74-th preprocess finished, lapse: 4.116sec.\n",
      "75-th data generation finished, lapse: 2.350sec.\n",
      "75-th preprocess finished, lapse: 4.161sec.\n",
      "76-th data generation finished, lapse: 2.316sec.\n",
      "76-th preprocess finished, lapse: 4.117sec.\n",
      "77-th data generation finished, lapse: 2.349sec.\n",
      "77-th preprocess finished, lapse: 4.158sec.\n",
      "78-th data generation finished, lapse: 2.316sec.\n",
      "78-th preprocess finished, lapse: 4.117sec.\n",
      "79-th data generation finished, lapse: 2.349sec.\n",
      "79-th preprocess finished, lapse: 4.159sec.\n",
      "80-th data generation finished, lapse: 2.316sec.\n",
      "80-th preprocess finished, lapse: 4.116sec.\n",
      "81-th data generation finished, lapse: 2.352sec.\n",
      "81-th preprocess finished, lapse: 4.176sec.\n",
      "82-th data generation finished, lapse: 2.353sec.\n",
      "82-th preprocess finished, lapse: 4.193sec.\n",
      "83-th data generation finished, lapse: 2.621sec.\n",
      "83-th preprocess finished, lapse: 4.481sec.\n",
      "84-th data generation finished, lapse: 2.988sec.\n",
      "84-th preprocess finished, lapse: 4.809sec.\n",
      "85-th data generation finished, lapse: 2.367sec.\n",
      "85-th preprocess finished, lapse: 4.187sec.\n",
      "86-th data generation finished, lapse: 2.332sec.\n",
      "86-th preprocess finished, lapse: 4.155sec.\n",
      "87-th data generation finished, lapse: 2.364sec.\n",
      "87-th preprocess finished, lapse: 4.190sec.\n",
      "88-th data generation finished, lapse: 2.331sec.\n",
      "88-th preprocess finished, lapse: 4.148sec.\n",
      "89-th data generation finished, lapse: 2.366sec.\n"
     ]
    },
    {
     "name": "stdout",
     "output_type": "stream",
     "text": [
      "89-th preprocess finished, lapse: 4.187sec.\n",
      "90-th data generation finished, lapse: 2.331sec.\n",
      "90-th preprocess finished, lapse: 4.143sec.\n",
      "91-th data generation finished, lapse: 2.350sec.\n",
      "91-th preprocess finished, lapse: 4.163sec.\n",
      "92-th data generation finished, lapse: 2.317sec.\n",
      "92-th preprocess finished, lapse: 4.121sec.\n",
      "93-th data generation finished, lapse: 2.354sec.\n",
      "93-th preprocess finished, lapse: 4.169sec.\n",
      "94-th data generation finished, lapse: 2.318sec.\n",
      "94-th preprocess finished, lapse: 4.124sec.\n",
      "95-th data generation finished, lapse: 2.351sec.\n",
      "95-th preprocess finished, lapse: 4.162sec.\n",
      "96-th data generation finished, lapse: 2.318sec.\n",
      "96-th preprocess finished, lapse: 4.123sec.\n",
      "97-th data generation finished, lapse: 2.385sec.\n",
      "97-th preprocess finished, lapse: 4.226sec.\n",
      "98-th data generation finished, lapse: 2.354sec.\n",
      "98-th preprocess finished, lapse: 4.187sec.\n",
      "99-th data generation finished, lapse: 2.405sec.\n",
      "99-th preprocess finished, lapse: 4.245sec.\n",
      "100-th data generation finished, lapse: 2.397sec.\n",
      "100-th preprocess finished, lapse: 4.311sec.\n",
      "101-th data generation finished, lapse: 2.589sec.\n",
      "101-th preprocess finished, lapse: 4.540sec.\n",
      "102-th data generation finished, lapse: 2.612sec.\n",
      "102-th preprocess finished, lapse: 4.484sec.\n",
      "103-th data generation finished, lapse: 2.408sec.\n",
      "103-th preprocess finished, lapse: 4.298sec.\n",
      "104-th data generation finished, lapse: 2.543sec.\n",
      "104-th preprocess finished, lapse: 4.433sec.\n",
      "105-th data generation finished, lapse: 2.797sec.\n",
      "105-th preprocess finished, lapse: 4.679sec.\n",
      "106-th data generation finished, lapse: 2.656sec.\n",
      "106-th preprocess finished, lapse: 4.545sec.\n",
      "107-th data generation finished, lapse: 2.508sec.\n",
      "107-th preprocess finished, lapse: 4.398sec.\n",
      "108-th data generation finished, lapse: 2.504sec.\n",
      "108-th preprocess finished, lapse: 4.439sec.\n",
      "109-th data generation finished, lapse: 2.524sec.\n",
      "109-th preprocess finished, lapse: 4.422sec.\n",
      "110-th data generation finished, lapse: 2.509sec.\n",
      "110-th preprocess finished, lapse: 4.386sec.\n",
      "111-th data generation finished, lapse: 3.005sec.\n",
      "111-th preprocess finished, lapse: 4.910sec.\n",
      "112-th data generation finished, lapse: 2.610sec.\n",
      "112-th preprocess finished, lapse: 4.489sec.\n",
      "113-th data generation finished, lapse: 2.571sec.\n",
      "113-th preprocess finished, lapse: 4.452sec.\n",
      "114-th data generation finished, lapse: 2.360sec.\n",
      "114-th preprocess finished, lapse: 4.232sec.\n",
      "115-th data generation finished, lapse: 2.520sec.\n",
      "115-th preprocess finished, lapse: 4.408sec.\n",
      "116-th data generation finished, lapse: 2.790sec.\n",
      "116-th preprocess finished, lapse: 4.667sec.\n",
      "117-th data generation finished, lapse: 2.762sec.\n",
      "117-th preprocess finished, lapse: 4.648sec.\n",
      "118-th data generation finished, lapse: 2.718sec.\n",
      "118-th preprocess finished, lapse: 4.589sec.\n",
      "119-th data generation finished, lapse: 2.574sec.\n",
      "119-th preprocess finished, lapse: 4.509sec.\n",
      "120-th data generation finished, lapse: 2.624sec.\n",
      "120-th preprocess finished, lapse: 4.512sec.\n",
      "121-th data generation finished, lapse: 2.747sec.\n",
      "121-th preprocess finished, lapse: 4.636sec.\n",
      "122-th data generation finished, lapse: 2.553sec.\n",
      "122-th preprocess finished, lapse: 4.438sec.\n",
      "123-th data generation finished, lapse: 2.406sec.\n",
      "123-th preprocess finished, lapse: 4.307sec.\n",
      "124-th data generation finished, lapse: 2.456sec.\n",
      "124-th preprocess finished, lapse: 4.336sec.\n",
      "125-th data generation finished, lapse: 2.638sec.\n",
      "125-th preprocess finished, lapse: 4.542sec.\n",
      "126-th data generation finished, lapse: 2.371sec.\n",
      "126-th preprocess finished, lapse: 4.260sec.\n",
      "127-th data generation finished, lapse: 2.720sec.\n",
      "127-th preprocess finished, lapse: 4.623sec.\n",
      "128-th data generation finished, lapse: 2.481sec.\n",
      "128-th preprocess finished, lapse: 4.337sec.\n",
      "129-th data generation finished, lapse: 2.667sec.\n",
      "129-th preprocess finished, lapse: 4.551sec.\n",
      "130-th data generation finished, lapse: 2.454sec.\n",
      "130-th preprocess finished, lapse: 4.328sec.\n",
      "131-th data generation finished, lapse: 2.447sec.\n",
      "131-th preprocess finished, lapse: 4.342sec.\n",
      "132-th data generation finished, lapse: 2.505sec.\n",
      "132-th preprocess finished, lapse: 4.373sec.\n",
      "133-th data generation finished, lapse: 2.467sec.\n",
      "133-th preprocess finished, lapse: 4.355sec.\n",
      "134-th data generation finished, lapse: 2.386sec.\n",
      "134-th preprocess finished, lapse: 4.258sec.\n",
      "135-th data generation finished, lapse: 2.742sec.\n",
      "135-th preprocess finished, lapse: 4.629sec.\n",
      "136-th data generation finished, lapse: 2.563sec.\n",
      "136-th preprocess finished, lapse: 4.434sec.\n",
      "137-th data generation finished, lapse: 2.381sec.\n",
      "137-th preprocess finished, lapse: 4.254sec.\n",
      "138-th data generation finished, lapse: 2.366sec.\n",
      "138-th preprocess finished, lapse: 4.229sec.\n",
      "139-th data generation finished, lapse: 2.428sec.\n",
      "139-th preprocess finished, lapse: 4.300sec.\n",
      "140-th data generation finished, lapse: 2.444sec.\n",
      "140-th preprocess finished, lapse: 4.319sec.\n",
      "141-th data generation finished, lapse: 2.496sec.\n",
      "141-th preprocess finished, lapse: 4.396sec.\n",
      "142-th data generation finished, lapse: 2.374sec.\n",
      "142-th preprocess finished, lapse: 4.262sec.\n",
      "143-th data generation finished, lapse: 2.470sec.\n",
      "143-th preprocess finished, lapse: 4.367sec.\n",
      "144-th data generation finished, lapse: 2.445sec.\n",
      "144-th preprocess finished, lapse: 4.334sec.\n",
      "145-th data generation finished, lapse: 2.502sec.\n",
      "145-th preprocess finished, lapse: 4.396sec.\n",
      "146-th data generation finished, lapse: 2.441sec.\n",
      "146-th preprocess finished, lapse: 4.310sec.\n",
      "147-th data generation finished, lapse: 2.433sec.\n",
      "147-th preprocess finished, lapse: 4.320sec.\n",
      "148-th data generation finished, lapse: 2.510sec.\n",
      "148-th preprocess finished, lapse: 4.382sec.\n",
      "149-th data generation finished, lapse: 3.108sec.\n",
      "149-th preprocess finished, lapse: 4.995sec.\n",
      "150-th data generation finished, lapse: 2.591sec.\n",
      "150-th preprocess finished, lapse: 4.480sec.\n",
      "151-th data generation finished, lapse: 2.594sec.\n",
      "151-th preprocess finished, lapse: 4.473sec.\n",
      "152-th data generation finished, lapse: 2.349sec.\n",
      "152-th preprocess finished, lapse: 4.217sec.\n",
      "153-th data generation finished, lapse: 2.389sec.\n",
      "153-th preprocess finished, lapse: 4.269sec.\n",
      "154-th data generation finished, lapse: 2.352sec.\n",
      "154-th preprocess finished, lapse: 4.220sec.\n",
      "155-th data generation finished, lapse: 2.397sec.\n",
      "155-th preprocess finished, lapse: 4.285sec.\n",
      "156-th data generation finished, lapse: 2.460sec.\n",
      "156-th preprocess finished, lapse: 4.347sec.\n",
      "157-th data generation finished, lapse: 2.494sec.\n",
      "157-th preprocess finished, lapse: 4.403sec.\n",
      "158-th data generation finished, lapse: 2.533sec.\n",
      "158-th preprocess finished, lapse: 4.414sec.\n",
      "159-th data generation finished, lapse: 2.477sec.\n",
      "159-th preprocess finished, lapse: 4.362sec.\n",
      "160-th data generation finished, lapse: 2.800sec.\n",
      "160-th preprocess finished, lapse: 4.672sec.\n",
      "161-th data generation finished, lapse: 2.505sec.\n",
      "161-th preprocess finished, lapse: 4.396sec.\n",
      "162-th data generation finished, lapse: 2.371sec.\n",
      "162-th preprocess finished, lapse: 4.245sec.\n",
      "163-th data generation finished, lapse: 2.475sec.\n",
      "163-th preprocess finished, lapse: 4.360sec.\n",
      "164-th data generation finished, lapse: 2.360sec.\n",
      "164-th preprocess finished, lapse: 4.239sec.\n",
      "165-th data generation finished, lapse: 2.524sec.\n",
      "165-th preprocess finished, lapse: 4.411sec.\n",
      "166-th data generation finished, lapse: 2.389sec.\n",
      "166-th preprocess finished, lapse: 4.267sec.\n",
      "167-th data generation finished, lapse: 2.398sec.\n",
      "167-th preprocess finished, lapse: 4.288sec.\n",
      "168-th data generation finished, lapse: 2.369sec.\n",
      "168-th preprocess finished, lapse: 4.236sec.\n",
      "169-th data generation finished, lapse: 2.483sec.\n",
      "169-th preprocess finished, lapse: 4.362sec.\n",
      "170-th data generation finished, lapse: 2.436sec.\n",
      "170-th preprocess finished, lapse: 4.300sec.\n",
      "171-th data generation finished, lapse: 2.449sec.\n",
      "171-th preprocess finished, lapse: 4.326sec.\n",
      "172-th data generation finished, lapse: 2.628sec.\n",
      "172-th preprocess finished, lapse: 4.503sec.\n",
      "173-th data generation finished, lapse: 2.561sec.\n",
      "173-th preprocess finished, lapse: 4.442sec.\n",
      "174-th data generation finished, lapse: 2.808sec.\n",
      "174-th preprocess finished, lapse: 4.688sec.\n",
      "175-th data generation finished, lapse: 2.743sec.\n",
      "175-th preprocess finished, lapse: 4.627sec.\n"
     ]
    },
    {
     "name": "stdout",
     "output_type": "stream",
     "text": [
      "176-th data generation finished, lapse: 2.645sec.\n",
      "176-th preprocess finished, lapse: 4.537sec.\n",
      "177-th data generation finished, lapse: 2.557sec.\n",
      "177-th preprocess finished, lapse: 4.445sec.\n",
      "178-th data generation finished, lapse: 2.355sec.\n",
      "178-th preprocess finished, lapse: 4.231sec.\n",
      "179-th data generation finished, lapse: 2.418sec.\n",
      "179-th preprocess finished, lapse: 4.302sec.\n",
      "180-th data generation finished, lapse: 2.480sec.\n",
      "180-th preprocess finished, lapse: 4.358sec.\n",
      "181-th data generation finished, lapse: 2.521sec.\n",
      "181-th preprocess finished, lapse: 4.401sec.\n",
      "182-th data generation finished, lapse: 2.385sec.\n",
      "182-th preprocess finished, lapse: 4.253sec.\n",
      "183-th data generation finished, lapse: 2.644sec.\n",
      "183-th preprocess finished, lapse: 4.569sec.\n",
      "184-th data generation finished, lapse: 2.535sec.\n",
      "184-th preprocess finished, lapse: 4.397sec.\n",
      "185-th data generation finished, lapse: 2.419sec.\n",
      "185-th preprocess finished, lapse: 4.302sec.\n",
      "186-th data generation finished, lapse: 2.759sec.\n",
      "186-th preprocess finished, lapse: 4.645sec.\n",
      "187-th data generation finished, lapse: 2.618sec.\n",
      "187-th preprocess finished, lapse: 4.504sec.\n",
      "188-th data generation finished, lapse: 2.679sec.\n",
      "188-th preprocess finished, lapse: 4.547sec.\n",
      "189-th data generation finished, lapse: 2.389sec.\n",
      "189-th preprocess finished, lapse: 4.268sec.\n",
      "190-th data generation finished, lapse: 2.356sec.\n",
      "190-th preprocess finished, lapse: 4.222sec.\n",
      "191-th data generation finished, lapse: 2.388sec.\n",
      "191-th preprocess finished, lapse: 4.267sec.\n",
      "192-th data generation finished, lapse: 2.354sec.\n",
      "192-th preprocess finished, lapse: 4.221sec.\n",
      "193-th data generation finished, lapse: 2.386sec.\n",
      "193-th preprocess finished, lapse: 4.267sec.\n",
      "194-th data generation finished, lapse: 3.841sec.\n",
      "194-th preprocess finished, lapse: 6.148sec.\n",
      "195-th data generation finished, lapse: 3.680sec.\n",
      "195-th preprocess finished, lapse: 5.961sec.\n",
      "196-th data generation finished, lapse: 2.933sec.\n",
      "196-th preprocess finished, lapse: 5.251sec.\n",
      "197-th data generation finished, lapse: 2.680sec.\n",
      "197-th preprocess finished, lapse: 4.927sec.\n",
      "198-th data generation finished, lapse: 2.631sec.\n",
      "198-th preprocess finished, lapse: 4.864sec.\n",
      "199-th data generation finished, lapse: 3.089sec.\n",
      "199-th preprocess finished, lapse: 4.988sec.\n",
      "200-th data generation finished, lapse: 2.553sec.\n",
      "200-th preprocess finished, lapse: 4.440sec.\n"
     ]
    }
   ],
   "source": [
    "Sigmas_true = np.zeros([num_sim, 2*num_time, 2*num_time])\n",
    "Omegas_true = np.zeros([num_sim, 2*num_time, 2*num_time])\n",
    "Cohs_true = np.zeros([num_sim, 2*num_time, 2*num_time], dtype=np.cdouble)\n",
    "for iter_sim in range(num_sim): \n",
    "    start_sim = time.time()\n",
    "    \n",
    "    # data simulation\n",
    "    obss = generate_sim(np.sqrt(0.006))\n",
    "    sys.__stdout__.write(\"%d-th data generation finished, lapse: %.3fsec.\\n\"\n",
    "                         %(iter_sim+1, time.time()-start_sim))\n",
    "    sys.__stdout__.flush()\n",
    "\n",
    "    data = preprocess(obss)\n",
    "    sys.__stdout__.write(\"%d-th preprocess finished, lapse: %.3fsec.\\n\"\n",
    "                         %(iter_sim+1, time.time()-start_sim))\n",
    "    sys.__stdout__.flush()\n",
    "    \n",
    "    Sigmas_true[iter_sim] = np.corrcoef(np.concatenate([ np.squeeze(\n",
    "        btrue[:,None,:] \n",
    "        @ np.array([np.linalg.inv(np.cov(d)) for d in np.abs(dat)])\n",
    "        @ np.abs(dat)) for dat, btrue in zip(data, betas_true)], 0))\n",
    "\n",
    "    Omegas_true[iter_sim] = np.linalg.inv(Sigmas_true[iter_sim] + lambda_diag * np.eye(2*num_time))\n",
    "\n",
    "    Cohs_true[iter_sim] = np.corrcoef(np.concatenate([ np.squeeze(\n",
    "        btrue[:,None,:] \n",
    "        @ np.array([np.linalg.inv(np.cov(d)) for d in np.abs(dat)])\n",
    "        @ dat) for dat, btrue in zip(data, betas_true)]))"
   ]
  },
  {
   "cell_type": "markdown",
   "metadata": {},
   "source": [
    "## plots"
   ]
  },
  {
   "cell_type": "code",
   "execution_count": 35,
   "metadata": {},
   "outputs": [
    {
     "data": {
      "text/plain": [
       "Text(0, 0.5, 'series 1 at time $t$ ms')"
      ]
     },
     "execution_count": 35,
     "metadata": {},
     "output_type": "execute_result"
    },
    {
     "data": {
      "image/png": "[encoded data removed]",
      "text/plain": [
       "<Figure size 216x216 with 1 Axes>"
      ]
     },
     "metadata": {
      "needs_background": "light"
     },
     "output_type": "display_data"
    }
   ],
   "source": [
    "plt.figure(figsize=(3,3))\n",
    "ldn.imshow(np.abs(np.mean(Cohs_true, 0))[:num_time,num_time:], time=[0,500], identity=True, vmax = 0.6)\n",
    "plt.xlabel(r\"series 2 at time $s$ ms\"); plt.ylabel(r\"series 1 at time $t$ ms\")"
   ]
  },
  {
   "cell_type": "code",
   "execution_count": 44,
   "metadata": {},
   "outputs": [
    {
     "data": {
      "text/plain": [
       "([], [])"
      ]
     },
     "execution_count": 44,
     "metadata": {},
     "output_type": "execute_result"
    },
    {
     "data": {
      "image/png": "[encoded data removed]",
      "text/plain": [
       "<Figure size 288x216 with 2 Axes>"
      ]
     },
     "metadata": {
      "needs_background": "light"
     },
     "output_type": "display_data"
    }
   ],
   "source": [
    "plt.figure(figsize=(4,3))\n",
    "ldn.imshow(np.mean(Sigmas_true, 0)[:num_time,num_time:], time=[0,500], identity=True, vmax=0.6)\n",
    "plt.xlabel(r\"series 2 at time $s$ ms\"); # plt.ylabel(r\"series 1 at time $t$ ms\")\n",
    "cbar = plt.colorbar()\n",
    "cbar.ax.set_ylim(0,0.6)#; cbar.formatter.set_powerlimits((0, 0))\n",
    "plt.yticks([],[])"
   ]
  },
  {
   "cell_type": "code",
   "execution_count": 42,
   "metadata": {},
   "outputs": [
    {
     "data": {
      "image/png": "[encoded data removed]",
      "text/plain": [
       "<Figure size 288x216 with 2 Axes>"
      ]
     },
     "metadata": {
      "needs_background": "light"
     },
     "output_type": "display_data"
    }
   ],
   "source": [
    "plt.figure(figsize=(4,3))\n",
    "ldn.imshow(np.mean(Omegas_true, 0)[:num_time,num_time:], vmax=0.0006, time=[0,500], identity=True)\n",
    "plt.xlabel(r\"series 2 at time $s$ ms\"); # plt.ylabel(r\"series 1 at time $t$ ms\")\n",
    "plt.yticks([],[])\n",
    "cbar = plt.colorbar()\n",
    "cbar.ax.set_ylim(-6e-4,0); cbar.formatter.set_powerlimits((0, 0))"
   ]
  },
  {
   "cell_type": "code",
   "execution_count": null,
   "metadata": {},
   "outputs": [],
   "source": []
  }
 ],
 "metadata": {
  "kernelspec": {
   "display_name": "Python 3 (ipykernel)",
   "language": "python",
   "name": "python3"
  },
  "language_info": {
   "codemirror_mode": {
    "name": "ipython",
    "version": 3
   },
   "file_extension": ".py",
   "mimetype": "text/x-python",
   "name": "python",
   "nbconvert_exporter": "python",
   "pygments_lexer": "ipython3",
   "version": "3.7.7"
  }
 },
 "nbformat": 4,
 "nbformat_minor": 2
}
