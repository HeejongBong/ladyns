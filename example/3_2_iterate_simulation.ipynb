{
 "cells": [
  {
   "cell_type": "code",
   "execution_count": 1,
   "metadata": {},
   "outputs": [
    {
     "data": {
      "text/html": [
       "<style> div.prompt {display:default} </style>"
      ],
      "text/plain": [
       "<IPython.core.display.HTML object>"
      ]
     },
     "metadata": {},
     "output_type": "display_data"
    }
   ],
   "source": [
    "# from IPython.core.display import display,HTML\n",
    "# display(HTML('<style> div.prompt {display:default} </style>'))"
   ]
  },
  {
   "cell_type": "code",
   "execution_count": 1,
   "metadata": {},
   "outputs": [],
   "source": [
    "import os, importlib, sys, time, h5py"
   ]
  },
  {
   "cell_type": "code",
   "execution_count": 2,
   "metadata": {},
   "outputs": [],
   "source": [
    "import numpy as np\n",
    "from scipy import linalg, stats, ndimage, io\n",
    "from scipy.sparse import diags"
   ]
  },
  {
   "cell_type": "code",
   "execution_count": 3,
   "metadata": {},
   "outputs": [],
   "source": [
    "import matplotlib.pyplot as plt\n",
    "from matplotlib import rc\n",
    "rc('font',**{'family':'sans-serif','sans-serif':['Helvetica'], 'size':13})\n",
    "## for Palatino and other serif fonts use:\n",
    "# rc('font',**{'family':'serif','serif':['Palatino']})\n",
    "rc('text', usetex=True)"
   ]
  },
  {
   "cell_type": "code",
   "execution_count": 4,
   "metadata": {},
   "outputs": [],
   "source": [
    "import ladyns as ldn\n",
    "import ladyns.inference as inf\n",
    "import ladyns.optimize.core as core"
   ]
  },
  {
   "cell_type": "code",
   "execution_count": 5,
   "metadata": {},
   "outputs": [
    {
     "data": {
      "text/plain": [
       "<module 'ladyns.optimize.core' from '/home/hbong/miniconda3/lib/python3.7/site-packages/ladyns/optimize/core.cpython-37m-x86_64-linux-gnu.so'>"
      ]
     },
     "execution_count": 5,
     "metadata": {},
     "output_type": "execute_result"
    }
   ],
   "source": [
    "importlib.reload(ldn)\n",
    "importlib.reload(inf)\n",
    "importlib.reload(core)"
   ]
  },
  {
   "cell_type": "markdown",
   "metadata": {},
   "source": [
    "# 0. load data"
   ]
  },
  {
   "cell_type": "code",
   "execution_count": 8,
   "metadata": {},
   "outputs": [],
   "source": [
    "save_dir = \"../temp\"\n",
    "if not os.path.exists(save_dir):\n",
    "    os.makedirs(save_dir)"
   ]
  },
  {
   "cell_type": "code",
   "execution_count": 9,
   "metadata": {},
   "outputs": [],
   "source": [
    "data_dir = \"../data\"\n",
    "file_name = ['lfp_bred_1.mat', 'lfp_bred_2.mat', 'lfp_bred_3.mat']\n",
    "rec_time = [0, 0.5]"
   ]
  },
  {
   "cell_type": "code",
   "execution_count": 10,
   "metadata": {},
   "outputs": [],
   "source": [
    "data = [\n",
    "    np.concatenate([io.loadmat('%s/%s'%(data_dir, fname))['v4_bred']\n",
    "                    for fname in file_name], 0)[:,:,:100:2].T,\n",
    "    np.concatenate([io.loadmat('%s/%s'%(data_dir, fname))['pfc_bred']\n",
    "                    for fname in file_name], 0)[:,:,:100:2].T]"
   ]
  },
  {
   "cell_type": "code",
   "execution_count": 11,
   "metadata": {},
   "outputs": [
    {
     "data": {
      "text/plain": [
       "((50, 25, 3000), (50, 25, 3000))"
      ]
     },
     "execution_count": 11,
     "metadata": {},
     "output_type": "execute_result"
    }
   ],
   "source": [
    "data[0].shape, data[1].shape"
   ]
  },
  {
   "cell_type": "code",
   "execution_count": 12,
   "metadata": {},
   "outputs": [],
   "source": [
    "dims = [data[0].shape[1], data[1].shape[1]]\n",
    "num_time = data[0].shape[0]\n",
    "obs_trial = data[0].shape[2]"
   ]
  },
  {
   "cell_type": "markdown",
   "metadata": {},
   "source": [
    "## load LaDynS run on data"
   ]
  },
  {
   "cell_type": "code",
   "execution_count": 13,
   "metadata": {},
   "outputs": [],
   "source": [
    "result_exp = np.load('result_exp.npz')\n",
    "Sigma_exp = result_exp['Sigma_est']\n",
    "weight_exp = result_exp['weight_est']"
   ]
  },
  {
   "cell_type": "markdown",
   "metadata": {},
   "source": [
    "## cross precision"
   ]
  },
  {
   "cell_type": "code",
   "execution_count": 14,
   "metadata": {},
   "outputs": [],
   "source": [
    "num_blobs = 3"
   ]
  },
  {
   "cell_type": "code",
   "execution_count": 15,
   "metadata": {},
   "outputs": [],
   "source": [
    "times = np.array([[1, 1, 12], [21, 18, 6], [32, 37, 9]])"
   ]
  },
  {
   "cell_type": "code",
   "execution_count": 16,
   "metadata": {},
   "outputs": [],
   "source": [
    "H0 = np.zeros((times.shape[0], num_time, num_time))\n",
    "for i, (time_0, time_1, duration) in enumerate(times):\n",
    "    H0[i, time_0:time_0+duration, time_1:time_1+duration] \\\n",
    "    = np.abs(np.arange(duration)-np.arange(duration)[:,None]) < 2"
   ]
  },
  {
   "cell_type": "code",
   "execution_count": 17,
   "metadata": {},
   "outputs": [
    {
     "data": {
      "text/plain": [
       "(0.0, 1.0, 0.0, 1.0)"
      ]
     },
     "execution_count": 17,
     "metadata": {},
     "output_type": "execute_result"
    },
    {
     "data": {
      "image/png": "[encoded data removed]",
      "text/plain": [
       "<Figure size 288x216 with 2 Axes>"
      ]
     },
     "metadata": {
      "needs_background": "light"
     },
     "output_type": "display_data"
    }
   ],
   "source": [
    "import matplotlib.gridspec as gridspec\n",
    "plt.figure(figsize=(4,3))\n",
    "gridspec.GridSpec(1,4); plt.subplot2grid((1,4), (0,0), colspan=3, rowspan=1)\n",
    "ldn.imshow(np.sum(H0, 0), time=[0,50], identity=True, vmax=1)\n",
    "plt.ylabel(r'series 1 at time $t$'); plt.xlabel(r'series 2 at time $s$')\n",
    "ax = plt.subplot2grid((1,4), (0,3))\n",
    "ax.axis('off')"
   ]
  },
  {
   "cell_type": "markdown",
   "metadata": {},
   "source": [
    "## latent direction"
   ]
  },
  {
   "cell_type": "code",
   "execution_count": 23,
   "metadata": {},
   "outputs": [],
   "source": [
    "mu = [np.mean(dat, -1) for dat in data]\n",
    "covs = [\n",
    "    np.matmul(dat - m[...,None], dat - m[...,None], axes=[(1,2),(2,1),(1,2)])/obs_trial\n",
    "    for dat, m in zip(data, mu)]"
   ]
  },
  {
   "cell_type": "code",
   "execution_count": 24,
   "metadata": {},
   "outputs": [],
   "source": [
    "weights_exp = [np.array(weight_exp[:num_time]),\n",
    "               np.array(weight_exp[num_time:])]\n",
    "betas_exp = [(cov @ w[...,None])[...,0] for cov ,w in zip(covs, weights_exp)]"
   ]
  },
  {
   "cell_type": "markdown",
   "metadata": {},
   "source": [
    "## latent precision"
   ]
  },
  {
   "cell_type": "code",
   "execution_count": 25,
   "metadata": {},
   "outputs": [],
   "source": [
    "sighat = Sigma_exp.copy()\n",
    "sighat_1 = sighat[:num_time,:num_time]\n",
    "sighat_2 = sighat[num_time:,num_time:]"
   ]
  },
  {
   "cell_type": "code",
   "execution_count": 26,
   "metadata": {},
   "outputs": [],
   "source": [
    "Y_mm_1 = np.concatenate([[0], np.cumsum(np.sqrt(-2*np.log(\n",
    "    sighat_1[np.arange(1,num_time), np.arange(0,num_time-1)])))])\n",
    "Y_mm_2 = np.concatenate([[0], np.cumsum(np.sqrt(-2*np.log(\n",
    "    sighat_2[np.arange(1,num_time), np.arange(0,num_time-1)])))])"
   ]
  },
  {
   "cell_type": "code",
   "execution_count": 27,
   "metadata": {},
   "outputs": [],
   "source": [
    "sigmm_1 = np.exp(-(np.square(Y_mm_1[:,None] - Y_mm_1[None,:])/2))\n",
    "sigmm_2 = np.exp(-(np.square(Y_mm_2[:,None] - Y_mm_2[None,:])/2))"
   ]
  },
  {
   "cell_type": "code",
   "execution_count": 28,
   "metadata": {},
   "outputs": [],
   "source": [
    "precs_auto = [linalg.inv(S + 0.5 * np.eye(num_time))\n",
    "              for S in [sigmm_1, sigmm_2]] "
   ]
  },
  {
   "cell_type": "markdown",
   "metadata": {},
   "source": [
    "## simulation function"
   ]
  },
  {
   "cell_type": "code",
   "execution_count": 31,
   "metadata": {},
   "outputs": [],
   "source": [
    "def generate_param(snr):\n",
    "    prec_latent = np.array(np.block([\n",
    "        [precs_auto[0], -snr*np.sum(H0,0)],\n",
    "        [-snr*np.sum(H0,0).T, precs_auto[1]]\n",
    "    ]))\n",
    "    cov_latent = linalg.inv(prec_latent)\n",
    "    cov_latent = cov_latent + np.real(np.min(linalg.eig(Sigma_exp)[0]) - np.min(linalg.eig(cov_latent)[0]))*np.eye(2*num_time)\n",
    "    sd_latent = np.sqrt(np.diag(cov_latent))\n",
    "    corr_latent = cov_latent / sd_latent / sd_latent[:,None]\n",
    "    chol_latent = linalg.cholesky(corr_latent)\n",
    "    \n",
    "    return chol_latent"
   ]
  },
  {
   "cell_type": "code",
   "execution_count": 32,
   "metadata": {},
   "outputs": [],
   "source": [
    "def generate_sim(num_trial, data, chol_latent):\n",
    "    obs_trial = data[0].shape[2]\n",
    "    \n",
    "    dummy = [dat[:,:,np.random.choice(obs_trial, num_trial, replace=False)]\n",
    "             for dat, dim in zip(data, dims)]\n",
    "    ldummy = [np.squeeze(np.matmul(dir_i[:,None,:], dumm - np.mean(dumm, -1, keepdims=True)))\n",
    "              for dir_i, dumm in zip(weights_exp, dummy)]\n",
    "\n",
    "    # cov_ldummy = np.cov(ldummy[0], ldummy[1])\n",
    "    # sd_ldummy = np.sqrt(np.diag(cov_ldummy))\n",
    "\n",
    "    latent_variables = (chol_latent.T @ np.random.normal(0, 1, (2*num_time, num_trial)))\n",
    "\n",
    "    pops = [dummy[0] + betas_exp[0][:,:,None] * (latent_variables[:num_time,None,:]-ldummy[0][:,None,:]),\n",
    "            dummy[1] + betas_exp[1][:,:,None] * (latent_variables[num_time:,None,:]-ldummy[1][:,None,:])]\n",
    "        \n",
    "    return pops"
   ]
  },
  {
   "cell_type": "markdown",
   "metadata": {},
   "source": [
    "# 1. simulation"
   ]
  },
  {
   "cell_type": "markdown",
   "metadata": {},
   "source": [
    "## preliminary parameters"
   ]
  },
  {
   "cell_type": "code",
   "execution_count": 36,
   "metadata": {},
   "outputs": [],
   "source": [
    "offset_cross=10\n",
    "offset_auto=10\n",
    "lambdas= np.vstack([\n",
    "    np.exp(np.linspace(np.log(0.1), np.log(0.001), 11)), #np.full((11,), 0.06), ## lambdas_cross\n",
    "    np.zeros(11), ## lambdas_auto\n",
    "    np.full((11,), 0.5), ## lambdas_diag\n",
    "    np.zeros(11)]) ## lambdas_ridge"
   ]
  },
  {
   "cell_type": "code",
   "execution_count": 37,
   "metadata": {},
   "outputs": [],
   "source": [
    "time_graph_cross = (np.abs(np.subtract(*np.where(\n",
    "    np.full([num_time,num_time],True)))\n",
    "       .reshape([num_time,num_time])) < offset_cross)\n",
    "time_graph_auto = (np.abs(np.subtract(*np.where(\n",
    "    np.full([num_time,num_time],True)))\n",
    "       .reshape([num_time,num_time])) < offset_auto)"
   ]
  },
  {
   "cell_type": "code",
   "execution_count": 39,
   "metadata": {},
   "outputs": [],
   "source": [
    "snrs = np.array([0.002, 0.004, 0.006, 0.008, 0.010])"
   ]
  },
  {
   "cell_type": "markdown",
   "metadata": {},
   "source": [
    "## iterate simulation"
   ]
  },
  {
   "cell_type": "code",
   "execution_count": 40,
   "metadata": {},
   "outputs": [],
   "source": [
    "num_cv = 10\n",
    "num_sim = 60\n",
    "num_bst = 200\n",
    "num_trial = 3000"
   ]
  },
  {
   "cell_type": "code",
   "execution_count": null,
   "metadata": {},
   "outputs": [],
   "source": [
    "for iter_sim in range(num_sim):\n",
    "    for iter_snr, snr in enumerate(snrs):   \n",
    "        if os.path.exists(\"%s/result_sim_%.1d_%.3d.npz\"%(save_dir, iter_snr, iter_sim)):\n",
    "            continue\n",
    "        \n",
    "        while True:\n",
    "            with np.errstate(all='raise'):\n",
    "                try:\n",
    "                    start_sim = time.time()\n",
    "\n",
    "                    # data simulation\n",
    "                    chol_latent = generate_param(snr)\n",
    "                    pops = generate_sim(num_trial, data, chol_latent)\n",
    "\n",
    "                    # choosing tuning parameter\n",
    "                    Omegas_cv = np.zeros([num_cv, lambdas.shape[-1], 2*num_time, 2*num_time])\n",
    "                    weights_cv = []\n",
    "                    for iter_cv in np.arange(num_cv):\n",
    "                        start_cv = time.time()\n",
    "\n",
    "                        # random sample\n",
    "                        trial_sample = np.random.choice(num_trial, num_trial, False)\n",
    "                        pops_bst = [pops[0], pops[1][:,:,trial_sample]]\n",
    "\n",
    "                        # estimate for each parameter set\n",
    "                        for iter_lambda, (lambda_cross, lambda_auto, lambda_diag, lambda_ridge) \\\n",
    "                        in enumerate(zip(*lambdas)): \n",
    "                            if iter_cv > 0:\n",
    "                                init_arg = {'Omega_init': Omegas_cv[0,iter_lambda],\n",
    "                                            'weight_init': weights_cv[iter_lambda]}\n",
    "                            elif iter_lambda > 0:\n",
    "                                init_arg = {'Omega_init': Omegas_cv[0,iter_lambda-1],\n",
    "                                            'weight_init': weights_cv[iter_lambda-1]}\n",
    "                            else:\n",
    "                                init_arg = dict()\n",
    "                                \n",
    "                            Omega_lambda, Sigma_lambda, latent_lambda, weight_lambda \\\n",
    "                            = ldn.fit(pops_bst, lambda_diag, lambda_cross, offset_cross,\n",
    "                                       lambda_auto, offset_auto, ths_glasso=1e-6, ths_lasso=1e-6,\n",
    "                                       **init_arg)\n",
    "\n",
    "                            # save result\n",
    "                            Omegas_cv[iter_cv, iter_lambda] = Omega_lambda\n",
    "                            if iter_cv == 0:\n",
    "                                weights_cv.append(weight_lambda)\n",
    "\n",
    "                        sys.__stdout__.write(\"%d-%d-%d-th cv finished, lapse: %.3fsec.\\n\"\n",
    "                                             %(iter_snr+1, iter_sim+1, iter_cv+1, time.time()-start_cv))\n",
    "                        sys.__stdout__.flush()\n",
    "                \n",
    "                except FloatingPointError:\n",
    "                    sys.__stdout__.write(\"%d-%d-%d-th cv encountered FloatingPointError, lapse:%.3fsec.\\n\"\n",
    "                                         %(iter_snr+1, iter_sim+1, iter_cv+1, time.time()-start_cv))\n",
    "                    sys.__stdout__.write(\"Retrying...\\n\")\n",
    "                    sys.__stdout__.flush()\n",
    "                    continue\n",
    "                \n",
    "                sys.__stdout__.write(\"%d-%d-th simulation cv finished, lapse:%.3fsec.\\n\"\n",
    "                                     %(iter_snr+1, iter_sim+1, time.time()-start_sim))\n",
    "                sys.__stdout__.flush()\n",
    "                break\n",
    "                     \n",
    "        # result tuning parameter\n",
    "        fdrs_cv = np.sum(Omegas_cv[:,:,:num_time,num_time:]!=0,(0,-2,-1))/np.sum(time_graph_cross)/num_cv\n",
    "        id_cv = np.argmax(fdrs_cv[fdrs_cv < 0.05])\n",
    "        lambda_cross, lambda_auto, lambda_diag, lambda_ridge = lambdas.T[id_cv]\n",
    "        \n",
    "        # original estimation\n",
    "        start_est = time.time()\n",
    "        \n",
    "        Omega_est, Sigma_est, latent_est, weight_est \\\n",
    "        = ldn.fit(pops, lambda_diag, lambda_cross, offset_cross,\n",
    "                  lambda_auto, offset_auto, ths_glasso=1e-6, ths_lasso=1e-6)\n",
    "        \n",
    "        sys.__stdout__.write(\"%d-%d-th estimation finished, lapse: %.3fsec.\\n\"\n",
    "                             %(iter_snr+1, iter_sim+1, time.time()-start_est))\n",
    "        sys.__stdout__.flush()\n",
    "        \n",
    "        # permutation test\n",
    "        Omegas_bst = np.zeros([num_bst, 2*num_time, 2*num_time])\n",
    "        Sigmas_bst = np.zeros([num_bst, 2*num_time, 2*num_time])\n",
    "        \n",
    "        init_arg = {'Omega_init': Omegas_cv[0,id_cv],\n",
    "                    'weight_init': weights_cv[id_cv]}\n",
    "        for iter_bst in range(num_bst):\n",
    "            while True:\n",
    "                with np.errstate(all='raise'):\n",
    "                    try:\n",
    "                        start_bst = time.time()\n",
    "\n",
    "                        # random sample\n",
    "                        trial_sample = np.random.choice(num_trial, num_trial, True)\n",
    "                        pops_bst = [pops[0], pops[1][:,:,trial_sample]]\n",
    "\n",
    "                        # bootstrap\n",
    "                        Omega_bst, Sigma_bst, latent_bst, weight_bst \\\n",
    "                        = ldn.fit(pops_bst, lambda_diag, lambda_cross, offset_cross,\n",
    "                                  lambda_auto, offset_auto, ths_glasso=1e-6, ths_lasso=1e-6,\n",
    "                                  **init_arg)\n",
    "                        \n",
    "                    except FloatingPointError:\n",
    "                        sys.__stdout__.write(\"%d-%d-%d-th bootstrap encountered FloatingPointError, lapse:%.3fsec.\\n\"\n",
    "                                             %(iter_snr+1, iter_sim+1, iter_bst+1, time.time()-start_bst))\n",
    "                        sys.__stdout__.write(\"Retrying...\\n\")\n",
    "                        sys.__stdout__.flush()\n",
    "                        continue\n",
    "\n",
    "                    # save result\n",
    "                    Omegas_bst[iter_bst] = Omega_bst\n",
    "                    Sigmas_bst[iter_bst] = Sigma_bst\n",
    "\n",
    "                    sys.__stdout__.write(\"%d-%d-%d-th bootstrap finished, lapse: %.3fsec.\\n\"\n",
    "                                  %(iter_snr+1, iter_sim+1, iter_bst+1, time.time()-start_bst))\n",
    "                    sys.__stdout__.flush()\n",
    "                    break\n",
    "        \n",
    "        np.savez(\"%s/result_sim_%.1d_%.3d\"%(save_dir, iter_snr, iter_sim),\n",
    "                 Omega_est=Omega_est, Sigma_est=Sigma_est,\n",
    "                 Omegas_perm=Omegas_bst, Sigmas_perm=Sigmas_bst)\n",
    "\n",
    "        sys.__stdout__.write(\"%d-th simulation finished, lapse: %.3fsec.\\n\"\n",
    "                              %(iter_sim+1, time.time()-start_sim))\n",
    "        sys.__stdout__.flush()  "
   ]
  }
 ],
 "metadata": {
  "kernelspec": {
   "display_name": "Python 3",
   "language": "python",
   "name": "python3"
  },
  "language_info": {
   "codemirror_mode": {
    "name": "ipython",
    "version": 3
   },
   "file_extension": ".py",
   "mimetype": "text/x-python",
   "name": "python",
   "nbconvert_exporter": "python",
   "pygments_lexer": "ipython3",
   "version": "3.7.4"
  }
 },
 "nbformat": 4,
 "nbformat_minor": 2
}
