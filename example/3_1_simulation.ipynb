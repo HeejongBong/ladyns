{
 "cells": [
  {
   "cell_type": "code",
   "execution_count": 3,
   "metadata": {},
   "outputs": [],
   "source": [
    "# from IPython.core.display import display,HTML\n",
    "# display(HTML('<style> div.prompt {display:default} </style>'))"
   ]
  },
  {
   "cell_type": "code",
   "execution_count": 1,
   "metadata": {},
   "outputs": [],
   "source": [
    "import os, importlib, sys, time, h5py"
   ]
  },
  {
   "cell_type": "code",
   "execution_count": 2,
   "metadata": {},
   "outputs": [],
   "source": [
    "import numpy as np\n",
    "from scipy import linalg, stats, ndimage, io\n",
    "from scipy.sparse import diags"
   ]
  },
  {
   "cell_type": "code",
   "execution_count": 3,
   "metadata": {},
   "outputs": [],
   "source": [
    "import matplotlib.pyplot as plt\n",
    "from matplotlib import rc\n",
    "rc('font',**{'family':'sans-serif','sans-serif':['Helvetica'], 'size':13})\n",
    "## for Palatino and other serif fonts use:\n",
    "# rc('font',**{'family':'serif','serif':['Palatino']})\n",
    "rc('text', usetex=True)"
   ]
  },
  {
   "cell_type": "code",
   "execution_count": 4,
   "metadata": {},
   "outputs": [],
   "source": [
    "import ladyns as ldn\n",
    "import ladyns.inference as inf\n",
    "import ladyns.optimize.core as core"
   ]
  },
  {
   "cell_type": "code",
   "execution_count": 5,
   "metadata": {
    "scrolled": true
   },
   "outputs": [
    {
     "data": {
      "text/plain": [
       "<module 'ladyns.optimize.core' from '/home/hbong/miniconda3/lib/python3.7/site-packages/ladyns/optimize/core.cpython-37m-x86_64-linux-gnu.so'>"
      ]
     },
     "execution_count": 5,
     "metadata": {},
     "output_type": "execute_result"
    }
   ],
   "source": [
    "importlib.reload(ldn)\n",
    "importlib.reload(inf)\n",
    "importlib.reload(core)"
   ]
  },
  {
   "cell_type": "markdown",
   "metadata": {},
   "source": [
    "# 0. simulation from model + LFP"
   ]
  },
  {
   "cell_type": "code",
   "execution_count": 45,
   "metadata": {},
   "outputs": [],
   "source": [
    "save_dir = \"../temp\"\n",
    "if not os.path.exists(save_dir):\n",
    "    os.makedirs(save_dir)"
   ]
  },
  {
   "cell_type": "markdown",
   "metadata": {},
   "source": [
    "## load data"
   ]
  },
  {
   "cell_type": "code",
   "execution_count": 7,
   "metadata": {},
   "outputs": [],
   "source": [
    "data_dir = \"../data/\"\n",
    "file_name = ['lfp_bred_1.mat', 'lfp_bred_2.mat', 'lfp_bred_3.mat']\n",
    "rec_time = [0, 0.5]"
   ]
  },
  {
   "cell_type": "code",
   "execution_count": 8,
   "metadata": {
    "scrolled": true
   },
   "outputs": [],
   "source": [
    "data = [\n",
    "    np.concatenate([io.loadmat('%s/%s'%(data_dir, fname))['v4_bred']\n",
    "                    for fname in file_name], 0)[:,:,:100:2].T,\n",
    "    np.concatenate([io.loadmat('%s/%s'%(data_dir, fname))['pfc_bred']\n",
    "                    for fname in file_name], 0)[:,:,:100:2].T]"
   ]
  },
  {
   "cell_type": "code",
   "execution_count": 9,
   "metadata": {},
   "outputs": [
    {
     "data": {
      "text/plain": [
       "((50, 25, 3000), (50, 25, 3000))"
      ]
     },
     "execution_count": 9,
     "metadata": {},
     "output_type": "execute_result"
    }
   ],
   "source": [
    "data[0].shape, data[1].shape"
   ]
  },
  {
   "cell_type": "code",
   "execution_count": 10,
   "metadata": {},
   "outputs": [],
   "source": [
    "dims = [data[0].shape[1], data[1].shape[1]]\n",
    "num_time = data[0].shape[0]\n",
    "obs_trial = data[0].shape[2]"
   ]
  },
  {
   "cell_type": "markdown",
   "metadata": {},
   "source": [
    "## load LaDynS run on data"
   ]
  },
  {
   "cell_type": "code",
   "execution_count": 11,
   "metadata": {},
   "outputs": [],
   "source": [
    "result_exp = np.load('%s/result_exp.npz'%save_dir)\n",
    "Sigma_exp = result_exp['Sigma_est']\n",
    "weight_exp = result_exp['weight_est']"
   ]
  },
  {
   "cell_type": "markdown",
   "metadata": {},
   "source": [
    "## cross precision"
   ]
  },
  {
   "cell_type": "code",
   "execution_count": 12,
   "metadata": {},
   "outputs": [],
   "source": [
    "num_blobs = 3"
   ]
  },
  {
   "cell_type": "code",
   "execution_count": 13,
   "metadata": {},
   "outputs": [],
   "source": [
    "times = np.array([[1, 1, 12], [21, 18, 6], [32, 37, 9]])"
   ]
  },
  {
   "cell_type": "code",
   "execution_count": 14,
   "metadata": {},
   "outputs": [],
   "source": [
    "H0 = np.zeros((times.shape[0], num_time, num_time))\n",
    "for i, (time_0, time_1, duration) in enumerate(times):\n",
    "    H0[i, time_0:time_0+duration, time_1:time_1+duration] \\\n",
    "    = np.abs(np.arange(duration)-np.arange(duration)[:,None]) < 2"
   ]
  },
  {
   "cell_type": "code",
   "execution_count": 16,
   "metadata": {},
   "outputs": [
    {
     "data": {
      "text/plain": [
       "Text(0.5, 0, 'series 2 at time $s$')"
      ]
     },
     "execution_count": 16,
     "metadata": {},
     "output_type": "execute_result"
    },
    {
     "data": {
      "image/png": "[encoded data removed]",
      "text/plain": [
       "<Figure size 216x216 with 1 Axes>"
      ]
     },
     "metadata": {
      "needs_background": "light"
     },
     "output_type": "display_data"
    }
   ],
   "source": [
    "plt.figure(figsize=(3,3))\n",
    "ldn.imshow(np.sum(H0, 0), time=[0,50], identity=True, vmax=1)\n",
    "plt.ylabel(r'series 1 at time $t$'); plt.xlabel(r'series 2 at time $s$')"
   ]
  },
  {
   "cell_type": "markdown",
   "metadata": {},
   "source": [
    "## latent direction"
   ]
  },
  {
   "cell_type": "code",
   "execution_count": 21,
   "metadata": {},
   "outputs": [],
   "source": [
    "mu = [np.mean(dat, -1) for dat in data]\n",
    "covs = [\n",
    "    np.matmul(dat - m[...,None], dat - m[...,None], axes=[(1,2),(2,1),(1,2)])/obs_trial\n",
    "    for dat, m in zip(data, mu)]"
   ]
  },
  {
   "cell_type": "code",
   "execution_count": 22,
   "metadata": {},
   "outputs": [],
   "source": [
    "weights_exp = [np.array(weight_exp[:num_time]),\n",
    "               np.array(weight_exp[num_time:])]\n",
    "betas_exp = [(cov @ w[...,None])[...,0] for cov ,w in zip(covs, weights_exp)]"
   ]
  },
  {
   "cell_type": "markdown",
   "metadata": {},
   "source": [
    "## latent precision"
   ]
  },
  {
   "cell_type": "code",
   "execution_count": 23,
   "metadata": {},
   "outputs": [],
   "source": [
    "sighat = Sigma_exp.copy()\n",
    "sighat_1 = sighat[:num_time,:num_time]\n",
    "sighat_2 = sighat[num_time:,num_time:]"
   ]
  },
  {
   "cell_type": "code",
   "execution_count": 24,
   "metadata": {},
   "outputs": [],
   "source": [
    "Y_mm_1 = np.concatenate([[0], np.cumsum(np.sqrt(-2*np.log(\n",
    "    sighat_1[np.arange(1,num_time), np.arange(0,num_time-1)])))])\n",
    "Y_mm_2 = np.concatenate([[0], np.cumsum(np.sqrt(-2*np.log(\n",
    "    sighat_2[np.arange(1,num_time), np.arange(0,num_time-1)])))])"
   ]
  },
  {
   "cell_type": "code",
   "execution_count": 25,
   "metadata": {},
   "outputs": [],
   "source": [
    "sigmm_1 = np.exp(-(np.square(Y_mm_1[:,None] - Y_mm_1[None,:])/2))\n",
    "sigmm_2 = np.exp(-(np.square(Y_mm_2[:,None] - Y_mm_2[None,:])/2))"
   ]
  },
  {
   "cell_type": "code",
   "execution_count": 26,
   "metadata": {},
   "outputs": [],
   "source": [
    "precs_auto = [linalg.inv(S + 0.5 * np.eye(num_time))\n",
    "              for S in [sigmm_1, sigmm_2]] "
   ]
  },
  {
   "cell_type": "code",
   "execution_count": 32,
   "metadata": {},
   "outputs": [],
   "source": [
    "snr = np.array([0.006, -0.006, 0.006])\n",
    "prec_latent = np.array(np.block([\n",
    "    [precs_auto[0], -np.sum(snr[:,None,None]*H0,0)],\n",
    "    [-np.sum(snr[:,None,None]*H0,0).T, precs_auto[1]]\n",
    "]))\n",
    "cov_latent = linalg.inv(prec_latent)"
   ]
  },
  {
   "cell_type": "code",
   "execution_count": 33,
   "metadata": {},
   "outputs": [],
   "source": [
    "cov_latent = cov_latent + np.real(np.min(linalg.eig(Sigma_exp)[0]) - np.min(linalg.eig(cov_latent)[0]))*np.eye(2*num_time)\n",
    "sd_latent = np.sqrt(np.diag(cov_latent))\n",
    "corr_latent = cov_latent / sd_latent / sd_latent[:,None]\n",
    "chol_latent = linalg.cholesky(corr_latent)"
   ]
  },
  {
   "cell_type": "code",
   "execution_count": 131,
   "metadata": {},
   "outputs": [
    {
     "data": {
      "text/plain": [
       "Text(0.5, 0, 'series 2 at time $s$')"
      ]
     },
     "execution_count": 131,
     "metadata": {},
     "output_type": "execute_result"
    },
    {
     "data": {
      "image/png": "[encoded data removed]",
      "text/plain": [
       "<Figure size 288x216 with 1 Axes>"
      ]
     },
     "metadata": {
      "needs_background": "light"
     },
     "output_type": "display_data"
    }
   ],
   "source": [
    "plt.figure(figsize=(4,3))\n",
    "ldn.imshow(-np.sum(snr[:,None,None]*H0,0), time=[0,50], identity=True)\n",
    "plt.clim(-0.012,0.012)\n",
    "#cbar = plt.colorbar(ticks=[-0.012, -0.006, 0.0, 0.006, 0.012])\n",
    "#cbar.ax.set_yticklabels([r'-12e-3','-6e-3','0','6e-3',r'12e-3'])\n",
    "plt.ylabel(r'series 1 at time $t$'); plt.xlabel(r'series 2 at time $s$')"
   ]
  },
  {
   "cell_type": "markdown",
   "metadata": {},
   "source": [
    "## simulate"
   ]
  },
  {
   "cell_type": "code",
   "execution_count": 37,
   "metadata": {},
   "outputs": [],
   "source": [
    "obs_trial = data[0].shape[2]\n",
    "num_trial = 3000"
   ]
  },
  {
   "cell_type": "code",
   "execution_count": 38,
   "metadata": {},
   "outputs": [],
   "source": [
    "dummy = [dat[:,:,np.random.choice(obs_trial, num_trial, replace=False)]\n",
    "         for dat, dim in zip(data, dims)]\n",
    "ldummy = [np.squeeze(np.matmul(dir_i[:,None,:], dumm - np.mean(dumm, -1, keepdims=True)))\n",
    "          for dir_i, dumm in zip(weights_exp, dummy)]\n",
    "\n",
    "# cov_ldummy = np.cov(ldummy[0], ldummy[1])\n",
    "# sd_ldummy = np.sqrt(np.diag(cov_ldummy))\n",
    "\n",
    "latent_variables = (chol_latent.T @ np.random.normal(0, 1, (2*num_time, num_trial)))\n",
    "\n",
    "pops = [dummy[0] + betas_exp[0][:,:,None] * (latent_variables[:num_time,None,:]-ldummy[0][:,None,:]),\n",
    "        dummy[1] + betas_exp[1][:,:,None] * (latent_variables[num_time:,None,:]-ldummy[1][:,None,:])]"
   ]
  },
  {
   "cell_type": "code",
   "execution_count": 42,
   "metadata": {
    "scrolled": true
   },
   "outputs": [
    {
     "data": {
      "text/plain": [
       "<matplotlib.colorbar.Colorbar at 0x7fc654373b90>"
      ]
     },
     "execution_count": 42,
     "metadata": {},
     "output_type": "execute_result"
    },
    {
     "data": {
      "image/png": "[encoded data removed]",
      "text/plain": [
       "<Figure size 864x288 with 5 Axes>"
      ]
     },
     "metadata": {
      "needs_background": "light"
     },
     "output_type": "display_data"
    }
   ],
   "source": [
    "plt.figure(figsize=(12, 4))\n",
    "plt.subplot(1,3,1); ldn.imshow(chol_latent.T @ chol_latent)\n",
    "plt.subplot(1,3,2); ldn.imshow(np.array(betas_exp[0])); plt.colorbar()\n",
    "plt.subplot(1,3,3); ldn.imshow(np.array(betas_exp[1])); plt.colorbar()"
   ]
  },
  {
   "cell_type": "code",
   "execution_count": 43,
   "metadata": {
    "scrolled": true
   },
   "outputs": [
    {
     "data": {
      "text/plain": [
       "[<matplotlib.lines.Line2D at 0x7fc6543198d0>]"
      ]
     },
     "execution_count": 43,
     "metadata": {},
     "output_type": "execute_result"
    },
    {
     "data": {
      "image/png": "[encoded data removed]",
      "text/plain": [
       "<Figure size 432x288 with 1 Axes>"
      ]
     },
     "metadata": {
      "needs_background": "light"
     },
     "output_type": "display_data"
    }
   ],
   "source": [
    "plt.plot(pops[0][:,0,0])\n",
    "plt.plot(pops[1][:,0,0])"
   ]
  },
  {
   "cell_type": "markdown",
   "metadata": {},
   "source": [
    "# 1. crossvalidation"
   ]
  },
  {
   "cell_type": "code",
   "execution_count": 46,
   "metadata": {},
   "outputs": [],
   "source": [
    "offset_cross=10\n",
    "offset_auto=10\n",
    "lambdas= np.vstack([\n",
    "    np.exp(np.linspace(np.log(0.1), np.log(0.001), 11)), #np.full((11,), 0.06), ## lambdas_cross\n",
    "    np.zeros(11), ## lambdas_auto\n",
    "    np.full((11,), 0.5), ## lambdas_diag\n",
    "    np.zeros(11)]) ## lambdas_ridge"
   ]
  },
  {
   "cell_type": "code",
   "execution_count": 47,
   "metadata": {},
   "outputs": [],
   "source": [
    "time_graph_cross = (np.abs(np.subtract(*np.where(\n",
    "    np.full([num_time,num_time],True)))\n",
    "       .reshape([num_time,num_time])) < offset_cross)\n",
    "time_graph_auto = (np.abs(np.subtract(*np.where(\n",
    "    np.full([num_time,num_time],True)))\n",
    "       .reshape([num_time,num_time])) < offset_auto)"
   ]
  },
  {
   "cell_type": "code",
   "execution_count": 48,
   "metadata": {},
   "outputs": [],
   "source": [
    "rec_time = [0,50]"
   ]
  },
  {
   "cell_type": "code",
   "execution_count": 49,
   "metadata": {},
   "outputs": [],
   "source": [
    "b_time = np.linspace(rec_time[0], rec_time[1], num_time)\n",
    "l_time = np.linspace(rec_time[0], rec_time[1], 2*num_time-1)"
   ]
  },
  {
   "cell_type": "markdown",
   "metadata": {},
   "source": [
    "## RIC"
   ]
  },
  {
   "cell_type": "code",
   "execution_count": 50,
   "metadata": {},
   "outputs": [],
   "source": [
    "num_cv = 10"
   ]
  },
  {
   "cell_type": "code",
   "execution_count": 51,
   "metadata": {},
   "outputs": [
    {
     "name": "stdout",
     "output_type": "stream",
     "text": [
      "1-th iter, nll: 67.550867, change: 0.081538, lapse: 1.552175\n",
      "2-th iter, nll: 67.465672, change: 0.007751, lapse: 1.518086\n",
      "3-th iter, nll: 67.401743, change: 0.004581, lapse: 1.526881\n",
      "4-th iter, nll: 67.350904, change: 0.003846, lapse: 1.538853\n",
      "5-th iter, nll: 67.309259, change: 0.003325, lapse: 1.509336\n",
      "6-th iter, nll: 67.274512, change: 0.002909, lapse: 1.545210\n",
      "7-th iter, nll: 67.245121, change: 0.002590, lapse: 1.384163\n",
      "8-th iter, nll: 67.219993, change: 0.002342, lapse: 1.337551\n",
      "9-th iter, nll: 67.198327, change: 0.002138, lapse: 1.354440\n",
      "10-th iter, nll: 67.179516, change: 0.001963, lapse: 1.325706\n",
      "11-th iter, nll: 67.163087, change: 0.001806, lapse: 1.304737\n",
      "12-th iter, nll: 67.148666, change: 0.001665, lapse: 1.292227\n",
      "13-th iter, nll: 67.135951, change: 0.001538, lapse: 1.269806\n",
      "14-th iter, nll: 67.124696, change: 0.001423, lapse: 1.264445\n",
      "15-th iter, nll: 67.114699, change: 0.001319, lapse: 1.252051\n",
      "16-th iter, nll: 67.105793, change: 0.001224, lapse: 1.264978\n",
      "17-th iter, nll: 67.097836, change: 0.001137, lapse: 1.268866\n",
      "18-th iter, nll: 67.090709, change: 0.001057, lapse: 1.260920\n",
      "19-th iter, nll: 67.084312, change: 0.000984, lapse: 1.230277\n",
      "1-th iter, nll: 67.078558, change: 0.000916, lapse: 1.234991\n",
      "1-th iter, nll: 67.073348, change: 0.006873, lapse: 1.487810\n",
      "2-th iter, nll: 67.068668, change: 0.000796, lapse: 1.451413\n",
      "1-th iter, nll: 67.064156, change: 0.014700, lapse: 1.473738\n",
      "2-th iter, nll: 67.060326, change: 0.000692, lapse: 1.299459\n",
      "1-th iter, nll: 67.056329, change: 0.009354, lapse: 1.288063\n",
      "2-th iter, nll: 67.053180, change: 0.000602, lapse: 1.326856\n",
      "1-th iter, nll: 67.049580, change: 0.005976, lapse: 1.371735\n",
      "2-th iter, nll: 67.046979, change: 0.000526, lapse: 1.357752\n",
      "1-th iter, nll: 67.043664, change: 0.005229, lapse: 1.384661\n",
      "2-th iter, nll: 67.041505, change: 0.000458, lapse: 1.352729\n",
      "1-th iter, nll: 67.038519, change: 0.003882, lapse: 1.361279\n",
      "2-th iter, nll: 67.036718, change: 0.000399, lapse: 1.363801\n",
      "1-th iter, nll: 67.034158, change: 0.002837, lapse: 1.341865\n",
      "2-th iter, nll: 67.032650, change: 0.000348, lapse: 1.249768\n",
      "1-th iter, nll: 67.030533, change: 0.001993, lapse: 1.220483\n",
      "2-th iter, nll: 67.029266, change: 0.000303, lapse: 1.253768\n",
      "1-th iter, nll: 67.027547, change: 0.001363, lapse: 1.303962\n",
      "2-th iter, nll: 67.026480, change: 0.000265, lapse: 1.351053\n",
      "1-th iter, nll: 67.078558, change: 0.000916, lapse: 1.506016\n",
      "1-th iter, nll: 67.073374, change: 0.000854, lapse: 1.499394\n",
      "1-th iter, nll: 67.064346, change: 0.012825, lapse: 1.227380\n",
      "2-th iter, nll: 67.060520, change: 0.000691, lapse: 1.298207\n",
      "1-th iter, nll: 67.056423, change: 0.027344, lapse: 1.268978\n",
      "2-th iter, nll: 67.053279, change: 0.000601, lapse: 1.247729\n",
      "1-th iter, nll: 67.049471, change: 0.035044, lapse: 1.243183\n",
      "2-th iter, nll: 67.046874, change: 0.000523, lapse: 1.227201\n",
      "1-th iter, nll: 67.043270, change: 0.041504, lapse: 1.250305\n",
      "2-th iter, nll: 67.041117, change: 0.000452, lapse: 1.227126\n",
      "1-th iter, nll: 67.037840, change: 0.046171, lapse: 1.276057\n",
      "2-th iter, nll: 67.036047, change: 0.000391, lapse: 1.209658\n",
      "1-th iter, nll: 67.033246, change: 0.050358, lapse: 1.294196\n",
      "2-th iter, nll: 67.031745, change: 0.000338, lapse: 1.185816\n",
      "1-th iter, nll: 67.029426, change: 0.052952, lapse: 1.298535\n",
      "2-th iter, nll: 67.028163, change: 0.000293, lapse: 1.159484\n",
      "1-th iter, nll: 67.026271, change: 0.054592, lapse: 1.260982\n",
      "2-th iter, nll: 67.025204, change: 0.000254, lapse: 1.290066\n",
      "1-th iter, nll: 67.023682, change: 0.055492, lapse: 1.282443\n",
      "2-th iter, nll: 67.022778, change: 0.000221, lapse: 1.151224\n",
      "1-th iter, nll: 67.078558, change: 0.000916, lapse: 1.332214\n",
      "1-th iter, nll: 67.073374, change: 0.000854, lapse: 1.328008\n",
      "1-th iter, nll: 67.064441, change: 0.006548, lapse: 1.312878\n",
      "2-th iter, nll: 67.060614, change: 0.000692, lapse: 1.292728\n",
      "1-th iter, nll: 67.056798, change: 0.019683, lapse: 1.311590\n",
      "2-th iter, nll: 67.053651, change: 0.000604, lapse: 1.289565\n",
      "1-th iter, nll: 67.050056, change: 0.028670, lapse: 1.285734\n",
      "2-th iter, nll: 67.047451, change: 0.000527, lapse: 1.277788\n",
      "1-th iter, nll: 67.044195, change: 0.038760, lapse: 1.235487\n",
      "2-th iter, nll: 67.042032, change: 0.000458, lapse: 1.278069\n",
      "1-th iter, nll: 67.039066, change: 0.045723, lapse: 1.262459\n",
      "2-th iter, nll: 67.037264, change: 0.000398, lapse: 1.238049\n",
      "1-th iter, nll: 67.034629, change: 0.050118, lapse: 1.268672\n",
      "2-th iter, nll: 67.033120, change: 0.000347, lapse: 1.248329\n",
      "1-th iter, nll: 67.030877, change: 0.052780, lapse: 1.269295\n",
      "2-th iter, nll: 67.029608, change: 0.000304, lapse: 1.217116\n",
      "1-th iter, nll: 67.027765, change: 0.054523, lapse: 1.280596\n",
      "2-th iter, nll: 67.026693, change: 0.000268, lapse: 1.185917\n",
      "1-th iter, nll: 67.025208, change: 0.055585, lapse: 1.290297\n",
      "2-th iter, nll: 67.024299, change: 0.000249, lapse: 1.172405\n",
      "1-th iter, nll: 67.078558, change: 0.000916, lapse: 1.559703\n",
      "1-th iter, nll: 67.073374, change: 0.000854, lapse: 1.563272\n",
      "1-th iter, nll: 67.064464, change: 0.006903, lapse: 1.616619\n",
      "2-th iter, nll: 67.060636, change: 0.000692, lapse: 1.470771\n",
      "1-th iter, nll: 67.057083, change: 0.021505, lapse: 1.481779\n",
      "2-th iter, nll: 67.053936, change: 0.000601, lapse: 1.448968\n",
      "1-th iter, nll: 67.050667, change: 0.031176, lapse: 1.454920\n",
      "2-th iter, nll: 67.048072, change: 0.000520, lapse: 1.441365\n",
      "1-th iter, nll: 67.044851, change: 0.037725, lapse: 1.440396\n",
      "2-th iter, nll: 67.042707, change: 0.000444, lapse: 1.438928\n",
      "1-th iter, nll: 67.039642, change: 0.044903, lapse: 1.180106\n",
      "2-th iter, nll: 67.037862, change: 0.000379, lapse: 1.348844\n",
      "1-th iter, nll: 67.035071, change: 0.049394, lapse: 1.470267\n",
      "2-th iter, nll: 67.033583, change: 0.000326, lapse: 1.365411\n",
      "1-th iter, nll: 67.031181, change: 0.052194, lapse: 1.336897\n",
      "2-th iter, nll: 67.029931, change: 0.000279, lapse: 0.997114\n",
      "1-th iter, nll: 67.027939, change: 0.053964, lapse: 1.198008\n",
      "2-th iter, nll: 67.026884, change: 0.000241, lapse: 1.209774\n",
      "1-th iter, nll: 67.025262, change: 0.055033, lapse: 1.339691\n",
      "2-th iter, nll: 67.024369, change: 0.000209, lapse: 1.238192\n",
      "1-th iter, nll: 67.078558, change: 0.000916, lapse: 1.370586\n",
      "1-th iter, nll: 67.073374, change: 0.000854, lapse: 1.345853\n",
      "1-th iter, nll: 67.064377, change: 0.008704, lapse: 1.278234\n",
      "2-th iter, nll: 67.060547, change: 0.000691, lapse: 0.860997\n",
      "1-th iter, nll: 67.056081, change: 0.023452, lapse: 0.930983\n",
      "2-th iter, nll: 67.052925, change: 0.000601, lapse: 1.130780\n",
      "1-th iter, nll: 67.048589, change: 0.031026, lapse: 1.048444\n",
      "2-th iter, nll: 67.045975, change: 0.000521, lapse: 1.224807\n",
      "1-th iter, nll: 67.042129, change: 0.036255, lapse: 1.214203\n",
      "2-th iter, nll: 67.039953, change: 0.000449, lapse: 1.214547\n",
      "1-th iter, nll: 67.036640, change: 0.042326, lapse: 1.244549\n",
      "2-th iter, nll: 67.034822, change: 0.000387, lapse: 1.167971\n",
      "1-th iter, nll: 67.032040, change: 0.046850, lapse: 1.237438\n",
      "2-th iter, nll: 67.030515, change: 0.000334, lapse: 1.169881\n",
      "1-th iter, nll: 67.028196, change: 0.049696, lapse: 1.237659\n",
      "2-th iter, nll: 67.026911, change: 0.000288, lapse: 1.139987\n",
      "1-th iter, nll: 67.025011, change: 0.051458, lapse: 1.256132\n",
      "2-th iter, nll: 67.023923, change: 0.000249, lapse: 1.152621\n",
      "1-th iter, nll: 67.022395, change: 0.052537, lapse: 1.280315\n",
      "2-th iter, nll: 67.021471, change: 0.000216, lapse: 1.160798\n",
      "1-th iter, nll: 67.078558, change: 0.000916, lapse: 1.301144\n",
      "1-th iter, nll: 67.073374, change: 0.000854, lapse: 1.261993\n",
      "1-th iter, nll: 67.064464, change: 0.006903, lapse: 1.268295\n",
      "2-th iter, nll: 67.060636, change: 0.000692, lapse: 1.218384\n",
      "1-th iter, nll: 67.057050, change: 0.017624, lapse: 1.326853\n",
      "2-th iter, nll: 67.053897, change: 0.000601, lapse: 1.222233\n",
      "1-th iter, nll: 67.050406, change: 0.021796, lapse: 1.429311\n",
      "2-th iter, nll: 67.047792, change: 0.000523, lapse: 1.212352\n",
      "1-th iter, nll: 67.044417, change: 0.033138, lapse: 1.249529\n",
      "2-th iter, nll: 67.042240, change: 0.000457, lapse: 1.193803\n",
      "1-th iter, nll: 67.039203, change: 0.040675, lapse: 1.192369\n",
      "2-th iter, nll: 67.037384, change: 0.000399, lapse: 1.189378\n",
      "1-th iter, nll: 67.034699, change: 0.045287, lapse: 1.204917\n",
      "2-th iter, nll: 67.033172, change: 0.000349, lapse: 1.201403\n",
      "1-th iter, nll: 67.030814, change: 0.048308, lapse: 1.241123\n",
      "2-th iter, nll: 67.029528, change: 0.000304, lapse: 1.157259\n",
      "1-th iter, nll: 67.027525, change: 0.050476, lapse: 1.240239\n"
     ]
    },
    {
     "name": "stdout",
     "output_type": "stream",
     "text": [
      "2-th iter, nll: 67.026437, change: 0.000266, lapse: 1.175334\n",
      "1-th iter, nll: 67.024786, change: 0.051957, lapse: 1.252309\n",
      "2-th iter, nll: 67.023862, change: 0.000233, lapse: 1.167641\n",
      "1-th iter, nll: 67.078558, change: 0.000916, lapse: 1.153101\n",
      "1-th iter, nll: 67.073374, change: 0.000854, lapse: 1.481762\n",
      "1-th iter, nll: 67.064464, change: 0.006903, lapse: 1.535015\n",
      "2-th iter, nll: 67.060636, change: 0.000692, lapse: 1.417883\n",
      "1-th iter, nll: 67.057069, change: 0.020658, lapse: 1.408698\n",
      "2-th iter, nll: 67.053913, change: 0.000600, lapse: 1.184988\n",
      "1-th iter, nll: 67.050565, change: 0.029586, lapse: 1.213659\n",
      "2-th iter, nll: 67.047945, change: 0.000519, lapse: 1.249043\n",
      "1-th iter, nll: 67.044863, change: 0.036095, lapse: 1.248089\n",
      "2-th iter, nll: 67.042679, change: 0.000446, lapse: 1.204922\n",
      "1-th iter, nll: 67.039853, change: 0.039509, lapse: 1.221651\n",
      "2-th iter, nll: 67.038026, change: 0.000389, lapse: 1.178314\n",
      "1-th iter, nll: 67.035440, change: 0.043940, lapse: 1.248735\n",
      "2-th iter, nll: 67.033904, change: 0.000337, lapse: 1.200908\n",
      "1-th iter, nll: 67.031644, change: 0.046848, lapse: 1.249031\n",
      "2-th iter, nll: 67.030347, change: 0.000292, lapse: 1.163140\n",
      "1-th iter, nll: 67.028435, change: 0.048896, lapse: 1.261122\n",
      "2-th iter, nll: 67.027336, change: 0.000254, lapse: 1.141424\n",
      "1-th iter, nll: 67.025762, change: 0.050346, lapse: 1.306135\n",
      "2-th iter, nll: 67.024828, change: 0.000233, lapse: 1.173926\n",
      "1-th iter, nll: 67.078558, change: 0.000916, lapse: 1.332234\n",
      "1-th iter, nll: 67.073374, change: 0.000854, lapse: 1.286937\n",
      "1-th iter, nll: 67.064464, change: 0.006903, lapse: 1.329897\n",
      "2-th iter, nll: 67.060636, change: 0.000692, lapse: 1.291787\n",
      "1-th iter, nll: 67.056984, change: 0.023691, lapse: 1.288492\n",
      "2-th iter, nll: 67.053834, change: 0.000601, lapse: 1.246306\n",
      "1-th iter, nll: 67.050243, change: 0.041173, lapse: 1.253140\n",
      "2-th iter, nll: 67.047642, change: 0.000522, lapse: 1.256174\n",
      "1-th iter, nll: 67.044119, change: 0.052828, lapse: 1.211919\n",
      "2-th iter, nll: 67.041961, change: 0.000454, lapse: 1.068609\n",
      "1-th iter, nll: 67.038695, change: 0.060161, lapse: 1.344257\n",
      "2-th iter, nll: 67.036896, change: 0.000395, lapse: 1.219477\n",
      "1-th iter, nll: 67.033963, change: 0.064770, lapse: 1.315516\n",
      "2-th iter, nll: 67.032456, change: 0.000344, lapse: 1.217762\n",
      "1-th iter, nll: 67.029973, change: 0.067662, lapse: 1.357055\n",
      "2-th iter, nll: 67.028704, change: 0.000300, lapse: 1.200373\n",
      "1-th iter, nll: 67.026671, change: 0.069468, lapse: 1.385344\n",
      "2-th iter, nll: 67.025600, change: 0.000262, lapse: 1.231299\n",
      "1-th iter, nll: 67.023967, change: 0.070588, lapse: 1.372969\n",
      "2-th iter, nll: 67.023059, change: 0.000230, lapse: 1.186585\n",
      "1-th iter, nll: 67.078558, change: 0.000916, lapse: 1.327263\n",
      "1-th iter, nll: 67.073374, change: 0.000854, lapse: 1.339075\n",
      "1-th iter, nll: 67.064123, change: 0.020331, lapse: 1.310262\n",
      "2-th iter, nll: 67.060290, change: 0.000691, lapse: 1.288442\n",
      "1-th iter, nll: 67.056083, change: 0.034097, lapse: 1.283432\n",
      "2-th iter, nll: 67.052928, change: 0.000601, lapse: 1.283539\n",
      "1-th iter, nll: 67.049150, change: 0.042456, lapse: 1.271193\n",
      "2-th iter, nll: 67.046539, change: 0.000523, lapse: 1.261731\n",
      "1-th iter, nll: 67.043217, change: 0.043828, lapse: 1.287486\n",
      "2-th iter, nll: 67.041039, change: 0.000456, lapse: 1.265689\n",
      "1-th iter, nll: 67.038086, change: 0.043795, lapse: 1.260856\n",
      "2-th iter, nll: 67.036261, change: 0.000398, lapse: 1.232236\n",
      "1-th iter, nll: 67.033697, change: 0.045112, lapse: 1.299087\n",
      "2-th iter, nll: 67.032162, change: 0.000371, lapse: 1.221456\n",
      "1-th iter, nll: 67.029994, change: 0.046363, lapse: 1.267879\n",
      "2-th iter, nll: 67.028698, change: 0.000357, lapse: 1.214096\n",
      "1-th iter, nll: 67.026879, change: 0.047416, lapse: 1.294106\n",
      "2-th iter, nll: 67.025781, change: 0.000340, lapse: 1.198042\n",
      "1-th iter, nll: 67.024291, change: 0.047842, lapse: 1.310860\n",
      "2-th iter, nll: 67.023357, change: 0.000323, lapse: 1.202997\n",
      "1-th iter, nll: 67.078558, change: 0.000916, lapse: 1.332750\n",
      "1-th iter, nll: 67.073374, change: 0.000854, lapse: 1.332591\n",
      "1-th iter, nll: 67.064437, change: 0.005554, lapse: 1.286628\n",
      "2-th iter, nll: 67.060612, change: 0.000692, lapse: 1.317017\n",
      "1-th iter, nll: 67.056683, change: 0.017175, lapse: 1.289386\n",
      "2-th iter, nll: 67.053547, change: 0.000602, lapse: 1.277537\n",
      "1-th iter, nll: 67.049395, change: 0.030071, lapse: 1.310425\n",
      "2-th iter, nll: 67.046806, change: 0.000525, lapse: 1.279623\n",
      "1-th iter, nll: 67.042834, change: 0.040721, lapse: 1.340114\n",
      "2-th iter, nll: 67.040686, change: 0.000458, lapse: 1.226055\n",
      "1-th iter, nll: 67.037150, change: 0.047487, lapse: 1.336929\n",
      "2-th iter, nll: 67.035360, change: 0.000399, lapse: 1.225056\n",
      "1-th iter, nll: 67.032408, change: 0.051665, lapse: 1.351626\n",
      "2-th iter, nll: 67.030910, change: 0.000347, lapse: 1.203613\n",
      "1-th iter, nll: 67.028503, change: 0.052024, lapse: 1.343760\n",
      "2-th iter, nll: 67.027243, change: 0.000303, lapse: 1.201610\n",
      "1-th iter, nll: 67.025306, change: 0.051795, lapse: 1.325560\n",
      "2-th iter, nll: 67.024241, change: 0.000290, lapse: 1.196043\n",
      "1-th iter, nll: 67.022688, change: 0.051571, lapse: 1.335503\n",
      "2-th iter, nll: 67.021783, change: 0.000283, lapse: 1.320640\n"
     ]
    }
   ],
   "source": [
    "Omegas_cv = np.zeros([num_cv, lambdas.shape[-1], 2*num_time, 2*num_time])\n",
    "weights_cv = []\n",
    "\n",
    "for iter_cv in np.arange(num_cv):\n",
    "    start_cv = time.time()\n",
    "    \n",
    "    # random sample\n",
    "    trial_sample = np.random.choice(num_trial, num_trial, False)\n",
    "    data_bst = [pops[0], pops[1][:,:,trial_sample]]\n",
    "\n",
    "    for iter_est, (lambda_cross, lambda_auto, lambda_diag, lambda_ridge) \\\n",
    "    in enumerate(zip(*lambdas)): \n",
    "        if iter_cv > 0:\n",
    "            init_arg = {'Omega_init': Omegas_cv[0,iter_est],\n",
    "                        'weight_init': weights_cv[iter_est]}\n",
    "        elif iter_est > 0:\n",
    "            init_arg = {'Omega_init': Omegas_cv[0,iter_est-1],\n",
    "                        'weight_init': weights_cv[iter_est-1]}\n",
    "        else:\n",
    "            init_arg = dict()\n",
    "\n",
    "        Omega_est, Sigma_est, latent_est, weight_est \\\n",
    "        = ldn.fit(data_bst, lambda_diag, lambda_cross, offset_cross,\n",
    "                   lambda_auto, offset_auto, \n",
    "                   ths_glasso=1e-6, ths_lasso=1e-6, verbose=True,\n",
    "                   **init_arg)\n",
    "        \n",
    "        # save result\n",
    "        Omegas_cv[iter_cv, iter_est] = Omega_est\n",
    "        if iter_cv == 0:\n",
    "            weights_cv.append(weight_est)\n",
    "\n",
    "    sys.__stdout__.write(\"%d-th cv finished, lapse: %.3fsec.\\n\"\n",
    "                         %(iter_cv+1, time.time()-start_cv))\n",
    "    sys.__stdout__.flush()"
   ]
  },
  {
   "cell_type": "code",
   "execution_count": 52,
   "metadata": {},
   "outputs": [
    {
     "data": {
      "image/png": "[encoded data removed]",
      "text/plain": [
       "<Figure size 864x648 with 11 Axes>"
      ]
     },
     "metadata": {
      "needs_background": "light"
     },
     "output_type": "display_data"
    }
   ],
   "source": [
    "plt.figure(figsize=(12,3*np.ceil(lambdas.shape[-1]/4)))\n",
    "for iter_lambda, (lambda_cross, lambda_auto, lambda_diag, lambda_ridge) \\\n",
    "in enumerate(zip(*lambdas)):\n",
    "    plt.subplot(np.ceil(lambdas.shape[-1]/4), 4, iter_lambda+1)\n",
    "    ldn.imshow(Omegas_cv[0, iter_lambda,:num_time,num_time:], identity=True)\n",
    "    plt.title(r'$\\lambda_{cross} = %f$'%lambda_cross)"
   ]
  },
  {
   "cell_type": "code",
   "execution_count": 53,
   "metadata": {},
   "outputs": [],
   "source": [
    "fds_cv = np.sum(Omegas_cv[:,:,:num_time,num_time:]!=0,(0,-2,-1))/num_cv\n",
    "fdrs_cv = np.sum(Omegas_cv[:,:,:num_time,num_time:]!=0,(0,-2,-1))/np.sum(time_graph_cross)/num_cv"
   ]
  },
  {
   "cell_type": "code",
   "execution_count": 54,
   "metadata": {},
   "outputs": [
    {
     "data": {
      "text/plain": [
       "Text(0, 0.5, 'mean false discovery')"
      ]
     },
     "execution_count": 54,
     "metadata": {},
     "output_type": "execute_result"
    },
    {
     "data": {
      "image/png": "[encoded data removed]",
      "text/plain": [
       "<Figure size 360x288 with 1 Axes>"
      ]
     },
     "metadata": {
      "needs_background": "light"
     },
     "output_type": "display_data"
    }
   ],
   "source": [
    "plt.figure(figsize=(5,4))\n",
    "plt.plot(lambdas[0], fds_cv)\n",
    "plt.plot(lambdas[0], np.full(lambdas[0].shape, 0.05*np.sum(time_graph_cross)), color='black', linestyle=':')\n",
    "plt.xlabel(r\"$\\lambda_{cross}$\")\n",
    "plt.ylabel(r\"mean false discovery\")"
   ]
  },
  {
   "cell_type": "markdown",
   "metadata": {},
   "source": [
    "# cv result"
   ]
  },
  {
   "cell_type": "code",
   "execution_count": 55,
   "metadata": {},
   "outputs": [],
   "source": [
    "id_cv = np.argmax(fdrs_cv[fdrs_cv < 0.05])"
   ]
  },
  {
   "cell_type": "code",
   "execution_count": 56,
   "metadata": {},
   "outputs": [
    {
     "data": {
      "text/plain": [
       "(0.025118864315095805, 0.0, 0.5, 0.0)"
      ]
     },
     "execution_count": 56,
     "metadata": {},
     "output_type": "execute_result"
    }
   ],
   "source": [
    "lambda_cross, lambda_auto, lambda_diag, lambda_ridge = lambdas.T[id_cv]\n",
    "lambda_cross, lambda_auto, lambda_diag, lambda_ridge"
   ]
  },
  {
   "cell_type": "code",
   "execution_count": 57,
   "metadata": {},
   "outputs": [],
   "source": [
    "lambda_graph = np.array(np.block(\n",
    "    [[(1+lambda_auto)*(time_graph_auto-np.eye(num_time)) + (1+lambda_diag)*np.eye(num_time), (1+lambda_cross)*time_graph_cross],\n",
    "     [(1+lambda_cross)*time_graph_cross, (1+lambda_auto)*(time_graph_auto-np.eye(num_time)) + (1+lambda_diag)*np.eye(num_time)]])) -1"
   ]
  },
  {
   "cell_type": "code",
   "execution_count": 58,
   "metadata": {},
   "outputs": [
    {
     "data": {
      "image/png": "[encoded data removed]",
      "text/plain": [
       "<Figure size 432x288 with 1 Axes>"
      ]
     },
     "metadata": {
      "needs_background": "light"
     },
     "output_type": "display_data"
    }
   ],
   "source": [
    "ldn.imshow(lambda_graph)"
   ]
  },
  {
   "cell_type": "code",
   "execution_count": 60,
   "metadata": {
    "scrolled": true
   },
   "outputs": [
    {
     "name": "stdout",
     "output_type": "stream",
     "text": [
      "1-th iter, nll: 67.518531, change: 0.081562, lapse: 1.532374\n",
      "2-th iter, nll: 67.431566, change: 0.007746, lapse: 1.760342\n",
      "3-th iter, nll: 67.366130, change: 0.004659, lapse: 1.725994\n",
      "4-th iter, nll: 67.314020, change: 0.003930, lapse: 1.518997\n",
      "5-th iter, nll: 67.271305, change: 0.003396, lapse: 1.540370\n",
      "6-th iter, nll: 67.235652, change: 0.002968, lapse: 1.480772\n",
      "7-th iter, nll: 67.205496, change: 0.002638, lapse: 1.462235\n",
      "8-th iter, nll: 67.179724, change: 0.002381, lapse: 1.433115\n",
      "9-th iter, nll: 67.157516, change: 0.002167, lapse: 1.401014\n",
      "10-th iter, nll: 67.138250, change: 0.001983, lapse: 1.397845\n",
      "11-th iter, nll: 67.121442, change: 0.001819, lapse: 1.399273\n",
      "12-th iter, nll: 67.106707, change: 0.001672, lapse: 1.359378\n",
      "13-th iter, nll: 67.093732, change: 0.001540, lapse: 1.379606\n",
      "14-th iter, nll: 67.082266, change: 0.001420, lapse: 1.408046\n",
      "15-th iter, nll: 67.072099, change: 0.001312, lapse: 1.572960\n",
      "16-th iter, nll: 67.063056, change: 0.001215, lapse: 1.472789\n",
      "17-th iter, nll: 67.054993, change: 0.001125, lapse: 1.566911\n",
      "18-th iter, nll: 67.047786, change: 0.001043, lapse: 1.143577\n",
      "19-th iter, nll: 67.041331, change: 0.000968, lapse: 1.364802\n"
     ]
    }
   ],
   "source": [
    "Omega_est, Sigma_est, latent_est, weight_est \\\n",
    "= ldn.fit(pops, lambda_diag, lambda_cross, offset_cross,\n",
    "          lambda_auto, offset_auto, \n",
    "          ths_glasso=1e-6, ths_lasso=1e-6, verbose=True)"
   ]
  },
  {
   "cell_type": "code",
   "execution_count": 62,
   "metadata": {},
   "outputs": [],
   "source": [
    "dspr_est = 2*Omega_est - Omega_est @ Sigma_est @ Omega_est"
   ]
  },
  {
   "cell_type": "markdown",
   "metadata": {},
   "source": [
    "## plots"
   ]
  },
  {
   "cell_type": "code",
   "execution_count": 65,
   "metadata": {},
   "outputs": [
    {
     "data": {
      "text/plain": [
       "Text(0.5, 0, 'series 2 at time $s$')"
      ]
     },
     "execution_count": 65,
     "metadata": {},
     "output_type": "execute_result"
    },
    {
     "data": {
      "image/png": "[encoded data removed]",
      "text/plain": [
       "<Figure size 288x216 with 2 Axes>"
      ]
     },
     "metadata": {
      "needs_background": "light"
     },
     "output_type": "display_data"
    }
   ],
   "source": [
    "plt.figure(figsize=(4,3))\n",
    "ldn.imshow(Omega_est[:num_time,num_time:], time=rec_time, identity=True)\n",
    "plt.fill_between((b_time[offset_cross], rec_time[1]), \n",
    "                (rec_time[0], rec_time[0]), \n",
    "                (rec_time[0], rec_time[1]-b_time[offset_cross]+rec_time[0]), color='lightgray')\n",
    "plt.fill_between((rec_time[0], rec_time[1]-b_time[offset_cross]+rec_time[0]), \n",
    "                (b_time[offset_cross], rec_time[1]), \n",
    "                (rec_time[1], rec_time[1]), color='lightgray')\n",
    "\n",
    "cbar = plt.colorbar(ticks=[-6e-3, -3e-3, 0, 3e-3, 6e-3,])\n",
    "cbar.ax.set_yticklabels(['-6e-3','-3e-3','0', '3e-3', '6e-3'])\n",
    "plt.ylabel(r'series 1 at time $t$'); plt.xlabel(r'series 2 at time $s$')"
   ]
  },
  {
   "cell_type": "code",
   "execution_count": 66,
   "metadata": {},
   "outputs": [
    {
     "data": {
      "text/plain": [
       "Text(0.5, 0, 'series 2 at time $s$')"
      ]
     },
     "execution_count": 66,
     "metadata": {},
     "output_type": "execute_result"
    },
    {
     "data": {
      "image/png": "[encoded data removed]",
      "text/plain": [
       "<Figure size 288x216 with 2 Axes>"
      ]
     },
     "metadata": {
      "needs_background": "light"
     },
     "output_type": "display_data"
    }
   ],
   "source": [
    "plt.figure(figsize=(4,3))\n",
    "ldn.imshow(dspr_est[:num_time,num_time:], time=rec_time, identity=True)\n",
    "plt.fill_between((b_time[offset_cross], rec_time[1]), \n",
    "                (rec_time[0], rec_time[0]), \n",
    "                (rec_time[0], rec_time[1]-b_time[offset_cross]+rec_time[0]), color='lightgray')\n",
    "plt.fill_between((rec_time[0], rec_time[1]-b_time[offset_cross]+rec_time[0]), \n",
    "                (b_time[offset_cross], rec_time[1]), \n",
    "                (rec_time[1], rec_time[1]), color='lightgray')\n",
    "\n",
    "plt.colorbar()\n",
    "# cbar = plt.colorbar(ticks=[-6e-3, -3e-3, 0, 3e-3, 6e-3,])\n",
    "# cbar.ax.set_yticklabels(['-6e-3','-3e-3','0', '3e-3', '6e-3'])\n",
    "\n",
    "plt.ylabel(r'series 1 at time $t$'); plt.xlabel(r'series 2 at time $s$')"
   ]
  },
  {
   "cell_type": "code",
   "execution_count": 67,
   "metadata": {},
   "outputs": [
    {
     "data": {
      "text/plain": [
       "<matplotlib.colorbar.Colorbar at 0x7fc65458e4d0>"
      ]
     },
     "execution_count": 67,
     "metadata": {},
     "output_type": "execute_result"
    },
    {
     "data": {
      "image/png": "[encoded data removed]",
      "text/plain": [
       "<Figure size 288x216 with 2 Axes>"
      ]
     },
     "metadata": {
      "needs_background": "light"
     },
     "output_type": "display_data"
    }
   ],
   "source": [
    "plt.figure(figsize=(4,3))\n",
    "ldn.imshow(Sigma_est[:num_time,num_time:], time=[0,50], identity=True)\n",
    "plt.ylabel(r'series 1 at time $t$'); plt.xlabel(r'series 2 at time $s$')\n",
    "plt.colorbar()"
   ]
  },
  {
   "cell_type": "markdown",
   "metadata": {},
   "source": [
    "# 2. Permutation test"
   ]
  },
  {
   "cell_type": "code",
   "execution_count": 68,
   "metadata": {},
   "outputs": [],
   "source": [
    "num_perm = 200"
   ]
  },
  {
   "cell_type": "code",
   "execution_count": 69,
   "metadata": {},
   "outputs": [],
   "source": [
    "init_arg = {'Omega_init': Omegas_cv[0,id_cv],\n",
    "            'weight_init': weights_cv[id_cv]}"
   ]
  },
  {
   "cell_type": "code",
   "execution_count": 70,
   "metadata": {
    "scrolled": true
   },
   "outputs": [
    {
     "name": "stdout",
     "output_type": "stream",
     "text": [
      "1-th iter, nll: 67.193318, change: 0.138525, lapse: 1.767269\n",
      "2-th iter, nll: 67.174472, change: 0.002981, lapse: 1.447206\n",
      "3-th iter, nll: 67.160325, change: 0.001814, lapse: 1.403445\n",
      "4-th iter, nll: 67.148610, change: 0.001665, lapse: 1.380488\n",
      "5-th iter, nll: 67.138515, change: 0.001644, lapse: 1.366795\n",
      "6-th iter, nll: 67.129629, change: 0.001627, lapse: 1.363249\n",
      "7-th iter, nll: 67.121699, change: 0.001603, lapse: 1.348669\n",
      "8-th iter, nll: 67.114555, change: 0.001563, lapse: 1.352028\n",
      "9-th iter, nll: 67.108075, change: 0.001514, lapse: 1.355350\n",
      "10-th iter, nll: 67.102167, change: 0.001460, lapse: 1.334562\n",
      "11-th iter, nll: 67.096759, change: 0.001405, lapse: 1.343373\n",
      "12-th iter, nll: 67.091794, change: 0.001349, lapse: 1.302384\n",
      "13-th iter, nll: 67.087222, change: 0.001295, lapse: 1.311366\n",
      "14-th iter, nll: 67.083004, change: 0.001244, lapse: 1.315280\n",
      "15-th iter, nll: 67.079104, change: 0.001195, lapse: 1.327246\n",
      "16-th iter, nll: 67.075492, change: 0.001149, lapse: 1.299331\n",
      "17-th iter, nll: 67.072142, change: 0.001108, lapse: 1.275128\n",
      "18-th iter, nll: 67.069031, change: 0.001068, lapse: 1.298968\n",
      "19-th iter, nll: 67.066138, change: 0.001031, lapse: 1.291005\n",
      "20-th iter, nll: 67.063445, change: 0.000995, lapse: 1.298697\n",
      "1-th iter, nll: 67.060942, change: 0.016380, lapse: 1.299721\n",
      "2-th iter, nll: 67.058601, change: 0.000924, lapse: 1.283190\n",
      "1-th iter, nll: 67.055860, change: 0.022842, lapse: 1.282860\n",
      "2-th iter, nll: 67.053816, change: 0.000864, lapse: 1.255198\n",
      "1-th iter, nll: 67.052136, change: 0.022667, lapse: 1.274410\n",
      "2-th iter, nll: 67.050349, change: 0.000808, lapse: 1.274522\n",
      "1-th iter, nll: 67.048476, change: 0.020975, lapse: 1.233857\n",
      "2-th iter, nll: 67.046909, change: 0.000758, lapse: 1.261168\n",
      "1-th iter, nll: 67.045713, change: 0.019819, lapse: 1.550989\n",
      "2-th iter, nll: 67.044320, change: 0.000713, lapse: 1.513616\n",
      "1-th iter, nll: 67.042534, change: 0.032811, lapse: 1.260114\n",
      "2-th iter, nll: 67.041308, change: 0.000668, lapse: 1.224495\n",
      "1-th iter, nll: 67.041008, change: 0.031129, lapse: 1.248203\n",
      "2-th iter, nll: 67.039925, change: 0.000629, lapse: 1.225396\n",
      "1-th iter, nll: 67.038668, change: 0.019275, lapse: 1.243437\n",
      "2-th iter, nll: 67.037704, change: 0.000592, lapse: 1.222498\n",
      "1-th iter, nll: 67.036750, change: 0.021787, lapse: 1.238259\n",
      "2-th iter, nll: 67.035892, change: 0.000564, lapse: 1.208846\n",
      "1-th iter, nll: 67.035174, change: 0.020259, lapse: 1.208956\n",
      "2-th iter, nll: 67.034407, change: 0.000522, lapse: 1.192902\n",
      "1-th iter, nll: 67.033740, change: 0.019675, lapse: 1.280484\n",
      "2-th iter, nll: 67.033061, change: 0.000489, lapse: 1.115268\n",
      "1-th iter, nll: 67.032219, change: 0.024090, lapse: 1.236736\n",
      "2-th iter, nll: 67.031614, change: 0.000466, lapse: 1.213923\n",
      "1-th iter, nll: 67.030025, change: 0.040498, lapse: 1.218603\n",
      "2-th iter, nll: 67.029479, change: 0.000429, lapse: 1.227286\n",
      "1-th iter, nll: 67.030408, change: 0.040581, lapse: 1.279168\n",
      "2-th iter, nll: 67.029920, change: 0.000408, lapse: 1.210329\n",
      "1-th iter, nll: 67.028478, change: 0.034245, lapse: 1.237183\n",
      "2-th iter, nll: 67.028039, change: 0.000393, lapse: 1.204874\n",
      "1-th iter, nll: 67.028015, change: 0.037540, lapse: 1.220108\n",
      "2-th iter, nll: 67.027617, change: 0.000377, lapse: 1.181776\n",
      "1-th iter, nll: 67.027012, change: 0.020337, lapse: 1.215196\n",
      "2-th iter, nll: 67.026651, change: 0.000341, lapse: 1.171329\n",
      "1-th iter, nll: 67.027124, change: 0.025696, lapse: 1.203757\n",
      "2-th iter, nll: 67.026803, change: 0.000330, lapse: 1.189024\n",
      "1-th iter, nll: 67.026193, change: 0.019337, lapse: 1.201922\n",
      "2-th iter, nll: 67.025902, change: 0.000309, lapse: 1.166384\n",
      "1-th iter, nll: 67.025869, change: 0.021087, lapse: 1.398722\n",
      "2-th iter, nll: 67.025607, change: 0.000293, lapse: 1.079385\n",
      "1-th iter, nll: 67.024913, change: 0.023665, lapse: 1.090930\n",
      "2-th iter, nll: 67.024674, change: 0.000278, lapse: 0.775696\n",
      "1-th iter, nll: 67.024434, change: 0.010094, lapse: 0.725615\n",
      "2-th iter, nll: 67.024218, change: 0.000262, lapse: 0.915983\n",
      "1-th iter, nll: 67.024209, change: 0.032705, lapse: 1.065894\n",
      "2-th iter, nll: 67.024014, change: 0.000247, lapse: 0.999481\n",
      "1-th iter, nll: 67.023898, change: 0.021787, lapse: 0.986129\n",
      "2-th iter, nll: 67.023720, change: 0.000233, lapse: 0.990164\n",
      "1-th iter, nll: 67.023558, change: 0.015319, lapse: 0.981614\n",
      "2-th iter, nll: 67.023397, change: 0.000219, lapse: 1.003371\n",
      "1-th iter, nll: 67.022774, change: 0.032654, lapse: 0.983078\n",
      "2-th iter, nll: 67.022628, change: 0.000221, lapse: 0.993079\n",
      "1-th iter, nll: 67.023010, change: 0.035870, lapse: 0.975806\n",
      "2-th iter, nll: 67.022878, change: 0.000193, lapse: 0.992927\n",
      "1-th iter, nll: 67.022076, change: 0.025252, lapse: 0.980844\n",
      "2-th iter, nll: 67.021958, change: 0.000188, lapse: 0.991371\n",
      "1-th iter, nll: 67.021892, change: 0.032716, lapse: 0.974533\n",
      "2-th iter, nll: 67.021779, change: 0.000187, lapse: 0.981557\n",
      "1-th iter, nll: 67.022456, change: 0.026553, lapse: 0.995096\n",
      "2-th iter, nll: 67.022354, change: 0.000170, lapse: 1.052393\n",
      "1-th iter, nll: 67.021465, change: 0.022255, lapse: 1.020696\n",
      "2-th iter, nll: 67.021373, change: 0.000166, lapse: 0.983125\n",
      "1-th iter, nll: 67.022133, change: 0.026605, lapse: 0.981508\n",
      "2-th iter, nll: 67.022048, change: 0.000156, lapse: 1.008077\n",
      "1-th iter, nll: 67.020960, change: 0.029826, lapse: 0.976368\n",
      "2-th iter, nll: 67.020878, change: 0.000155, lapse: 0.948023\n",
      "1-th iter, nll: 67.021699, change: 0.026703, lapse: 0.958192\n",
      "2-th iter, nll: 67.021626, change: 0.000142, lapse: 0.957044\n",
      "1-th iter, nll: 67.021542, change: 0.012984, lapse: 0.963779\n",
      "2-th iter, nll: 67.021476, change: 0.000141, lapse: 0.943681\n",
      "1-th iter, nll: 67.020350, change: 0.030688, lapse: 0.963328\n",
      "2-th iter, nll: 67.020289, change: 0.000143, lapse: 0.943403\n",
      "1-th iter, nll: 67.021206, change: 0.035150, lapse: 0.996517\n",
      "2-th iter, nll: 67.021151, change: 0.000124, lapse: 0.943233\n",
      "1-th iter, nll: 67.020031, change: 0.030821, lapse: 0.988873\n",
      "2-th iter, nll: 67.019974, change: 0.000126, lapse: 0.948831\n",
      "1-th iter, nll: 67.020937, change: 0.028758, lapse: 0.944862\n",
      "2-th iter, nll: 67.020890, change: 0.000114, lapse: 0.986306\n",
      "1-th iter, nll: 67.019888, change: 0.041589, lapse: 0.985047\n",
      "2-th iter, nll: 67.019843, change: 0.000112, lapse: 0.961617\n",
      "1-th iter, nll: 67.020900, change: 0.028254, lapse: 0.973772\n",
      "2-th iter, nll: 67.020861, change: 0.000100, lapse: 0.952953\n",
      "1-th iter, nll: 67.020909, change: 0.015080, lapse: 0.980662\n",
      "2-th iter, nll: 67.020872, change: 0.000103, lapse: 0.965138\n",
      "1-th iter, nll: 67.020550, change: 0.019551, lapse: 1.006747\n",
      "2-th iter, nll: 67.020517, change: 0.000100, lapse: 1.026486\n",
      "1-th iter, nll: 67.020522, change: 0.013021, lapse: 1.187365\n",
      "2-th iter, nll: 67.020490, change: 0.000093, lapse: 1.125879\n",
      "1-th iter, nll: 67.020738, change: 0.017269, lapse: 1.119691\n",
      "2-th iter, nll: 67.020710, change: 0.000094, lapse: 1.128597\n",
      "1-th iter, nll: 67.020113, change: 0.030518, lapse: 1.171480\n",
      "2-th iter, nll: 67.020088, change: 0.000090, lapse: 1.140468\n",
      "1-th iter, nll: 67.020692, change: 0.029322, lapse: 1.152395\n",
      "2-th iter, nll: 67.020668, change: 0.000084, lapse: 1.102025\n",
      "1-th iter, nll: 67.020278, change: 0.018371, lapse: 1.063004\n",
      "2-th iter, nll: 67.020255, change: 0.000084, lapse: 1.043688\n",
      "1-th iter, nll: 67.020587, change: 0.020031, lapse: 1.054385\n",
      "2-th iter, nll: 67.020566, change: 0.000075, lapse: 1.024541\n",
      "1-th iter, nll: 67.020391, change: 0.010586, lapse: 1.071793\n",
      "2-th iter, nll: 67.020372, change: 0.000076, lapse: 1.022275\n",
      "1-th iter, nll: 67.020465, change: 0.012015, lapse: 1.014949\n",
      "2-th iter, nll: 67.020447, change: 0.000074, lapse: 1.053757\n",
      "1-th iter, nll: 67.019923, change: 0.025051, lapse: 1.052674\n",
      "2-th iter, nll: 67.019906, change: 0.000087, lapse: 1.021180\n",
      "1-th iter, nll: 67.020418, change: 0.025553, lapse: 1.055512\n",
      "2-th iter, nll: 67.020403, change: 0.000067, lapse: 1.047462\n",
      "1-th iter, nll: 67.019986, change: 0.021514, lapse: 1.040247\n",
      "2-th iter, nll: 67.019972, change: 0.000064, lapse: 1.016310\n",
      "1-th iter, nll: 67.020008, change: 0.029093, lapse: 1.035791\n",
      "2-th iter, nll: 67.019995, change: 0.000085, lapse: 1.043787\n",
      "1-th iter, nll: 67.019708, change: 0.027563, lapse: 1.074239\n",
      "2-th iter, nll: 67.019695, change: 0.000064, lapse: 1.137141\n",
      "1-th iter, nll: 67.020123, change: 0.027100, lapse: 1.154273\n",
      "2-th iter, nll: 67.020112, change: 0.000058, lapse: 1.059819\n",
      "1-th iter, nll: 67.019815, change: 0.022282, lapse: 1.046978\n"
     ]
    },
    {
     "name": "stdout",
     "output_type": "stream",
     "text": [
      "2-th iter, nll: 67.019803, change: 0.000062, lapse: 0.997072\n",
      "1-th iter, nll: 67.019945, change: 0.020562, lapse: 1.034539\n",
      "2-th iter, nll: 67.019935, change: 0.000078, lapse: 1.021163\n",
      "1-th iter, nll: 67.018753, change: 0.043690, lapse: 1.065082\n",
      "2-th iter, nll: 67.018740, change: 0.000141, lapse: 1.034659\n",
      "1-th iter, nll: 67.020059, change: 0.037606, lapse: 1.061793\n",
      "2-th iter, nll: 67.020050, change: 0.000060, lapse: 1.014544\n",
      "1-th iter, nll: 67.020009, change: 0.018031, lapse: 1.058307\n",
      "2-th iter, nll: 67.020001, change: 0.000056, lapse: 0.996073\n",
      "1-th iter, nll: 67.019903, change: 0.021889, lapse: 1.040173\n",
      "2-th iter, nll: 67.019894, change: 0.000072, lapse: 1.024359\n",
      "1-th iter, nll: 67.019190, change: 0.031635, lapse: 1.083940\n",
      "2-th iter, nll: 67.019181, change: 0.000093, lapse: 1.052058\n",
      "1-th iter, nll: 67.019798, change: 0.031124, lapse: 1.037673\n",
      "2-th iter, nll: 67.019790, change: 0.000069, lapse: 1.008445\n",
      "1-th iter, nll: 67.019985, change: 0.019765, lapse: 1.075892\n",
      "2-th iter, nll: 67.019979, change: 0.000046, lapse: 1.045712\n",
      "1-th iter, nll: 67.019789, change: 0.014533, lapse: 1.057508\n",
      "2-th iter, nll: 67.019783, change: 0.000041, lapse: 1.009296\n",
      "1-th iter, nll: 67.019801, change: 0.024183, lapse: 1.046940\n",
      "2-th iter, nll: 67.019794, change: 0.000088, lapse: 0.988934\n",
      "1-th iter, nll: 67.019359, change: 0.026115, lapse: 1.070038\n",
      "2-th iter, nll: 67.019353, change: 0.000080, lapse: 1.022105\n",
      "1-th iter, nll: 67.019908, change: 0.022555, lapse: 1.078017\n",
      "2-th iter, nll: 67.019903, change: 0.000047, lapse: 1.054863\n",
      "1-th iter, nll: 67.018936, change: 0.024135, lapse: 1.084615\n",
      "2-th iter, nll: 67.018928, change: 0.000116, lapse: 1.051882\n",
      "1-th iter, nll: 67.019879, change: 0.034530, lapse: 1.098002\n",
      "2-th iter, nll: 67.019874, change: 0.000047, lapse: 1.068757\n",
      "1-th iter, nll: 67.019865, change: 0.019554, lapse: 1.068508\n",
      "2-th iter, nll: 67.019861, change: 0.000045, lapse: 1.066944\n",
      "1-th iter, nll: 67.019990, change: 0.020393, lapse: 1.080306\n",
      "2-th iter, nll: 67.019986, change: 0.000067, lapse: 1.044392\n",
      "1-th iter, nll: 67.019310, change: 0.029598, lapse: 1.080251\n",
      "2-th iter, nll: 67.019305, change: 0.000086, lapse: 1.061420\n",
      "1-th iter, nll: 67.019601, change: 0.029980, lapse: 1.087232\n",
      "2-th iter, nll: 67.019597, change: 0.000091, lapse: 1.026761\n",
      "1-th iter, nll: 67.019536, change: 0.035410, lapse: 1.083685\n",
      "2-th iter, nll: 67.019532, change: 0.000085, lapse: 1.036421\n",
      "1-th iter, nll: 67.019815, change: 0.023331, lapse: 1.075872\n",
      "2-th iter, nll: 67.019811, change: 0.000044, lapse: 1.062073\n",
      "1-th iter, nll: 67.020085, change: 0.015736, lapse: 1.056097\n",
      "2-th iter, nll: 67.020083, change: 0.000030, lapse: 0.982239\n",
      "1-th iter, nll: 67.020110, change: 0.006372, lapse: 1.033960\n",
      "2-th iter, nll: 67.020108, change: 0.000026, lapse: 0.996342\n",
      "1-th iter, nll: 67.019214, change: 0.026413, lapse: 1.086908\n",
      "2-th iter, nll: 67.019211, change: 0.000068, lapse: 1.049707\n",
      "1-th iter, nll: 67.019029, change: 0.033395, lapse: 1.119514\n",
      "2-th iter, nll: 67.019025, change: 0.000129, lapse: 1.024347\n",
      "1-th iter, nll: 67.019847, change: 0.039994, lapse: 1.096864\n",
      "2-th iter, nll: 67.019844, change: 0.000049, lapse: 1.036973\n",
      "1-th iter, nll: 67.018996, change: 0.029925, lapse: 1.109879\n",
      "2-th iter, nll: 67.018992, change: 0.000086, lapse: 1.033870\n",
      "1-th iter, nll: 67.018326, change: 0.052782, lapse: 1.075026\n",
      "2-th iter, nll: 67.018321, change: 0.000113, lapse: 1.030316\n",
      "1-th iter, nll: 67.020078, change: 0.044451, lapse: 1.065886\n",
      "2-th iter, nll: 67.020076, change: 0.000031, lapse: 1.030771\n",
      "1-th iter, nll: 67.019457, change: 0.025526, lapse: 1.100181\n",
      "2-th iter, nll: 67.019455, change: 0.000076, lapse: 1.064393\n",
      "1-th iter, nll: 67.019987, change: 0.025602, lapse: 1.310272\n",
      "2-th iter, nll: 67.019985, change: 0.000041, lapse: 1.064525\n",
      "1-th iter, nll: 67.018987, change: 0.033193, lapse: 1.124090\n",
      "2-th iter, nll: 67.018983, change: 0.000074, lapse: 1.020876\n",
      "1-th iter, nll: 67.016563, change: 0.048304, lapse: 1.294458\n",
      "2-th iter, nll: 67.016553, change: 0.000117, lapse: 1.115863\n",
      "1-th iter, nll: 67.020029, change: 0.050533, lapse: 1.217383\n",
      "2-th iter, nll: 67.020027, change: 0.000037, lapse: 1.133271\n",
      "1-th iter, nll: 67.020015, change: 0.009523, lapse: 1.052330\n",
      "2-th iter, nll: 67.020014, change: 0.000034, lapse: 1.058931\n",
      "1-th iter, nll: 67.019909, change: 0.013272, lapse: 1.059803\n",
      "2-th iter, nll: 67.019907, change: 0.000057, lapse: 1.059801\n",
      "1-th iter, nll: 67.018026, change: 0.029262, lapse: 1.243801\n",
      "2-th iter, nll: 67.018021, change: 0.000083, lapse: 1.063169\n",
      "1-th iter, nll: 67.019589, change: 0.040376, lapse: 1.222076\n",
      "2-th iter, nll: 67.019587, change: 0.000056, lapse: 1.068081\n",
      "1-th iter, nll: 67.019751, change: 0.023315, lapse: 0.835424\n",
      "2-th iter, nll: 67.019749, change: 0.000083, lapse: 0.939631\n",
      "1-th iter, nll: 67.019930, change: 0.022385, lapse: 1.166473\n",
      "2-th iter, nll: 67.019929, change: 0.000038, lapse: 0.974679\n",
      "1-th iter, nll: 67.019619, change: 0.021923, lapse: 1.195704\n",
      "2-th iter, nll: 67.019617, change: 0.000045, lapse: 1.038994\n",
      "1-th iter, nll: 67.019854, change: 0.013123, lapse: 1.295644\n",
      "2-th iter, nll: 67.019852, change: 0.000049, lapse: 1.005688\n",
      "1-th iter, nll: 67.019812, change: 0.017479, lapse: 1.210046\n",
      "2-th iter, nll: 67.019811, change: 0.000051, lapse: 0.988014\n",
      "1-th iter, nll: 67.020002, change: 0.013171, lapse: 1.045022\n",
      "2-th iter, nll: 67.020001, change: 0.000021, lapse: 0.930099\n",
      "1-th iter, nll: 67.019980, change: 0.010795, lapse: 1.112432\n",
      "2-th iter, nll: 67.019979, change: 0.000058, lapse: 0.932412\n",
      "1-th iter, nll: 67.019865, change: 0.010959, lapse: 1.212524\n",
      "2-th iter, nll: 67.019865, change: 0.000051, lapse: 0.948647\n",
      "1-th iter, nll: 67.019802, change: 0.008414, lapse: 1.043984\n",
      "2-th iter, nll: 67.019801, change: 0.000043, lapse: 1.029063\n",
      "1-th iter, nll: 67.019742, change: 0.017469, lapse: 1.050440\n",
      "2-th iter, nll: 67.019741, change: 0.000063, lapse: 1.042942\n",
      "1-th iter, nll: 67.019825, change: 0.021897, lapse: 1.090006\n",
      "2-th iter, nll: 67.019824, change: 0.000044, lapse: 0.971748\n",
      "1-th iter, nll: 67.020021, change: 0.019323, lapse: 1.001924\n",
      "2-th iter, nll: 67.020020, change: 0.000025, lapse: 0.907072\n",
      "1-th iter, nll: 67.019518, change: 0.020195, lapse: 1.040609\n",
      "2-th iter, nll: 67.019517, change: 0.000062, lapse: 0.947078\n",
      "1-th iter, nll: 67.019116, change: 0.028567, lapse: 1.189294\n",
      "2-th iter, nll: 67.019113, change: 0.000120, lapse: 0.997102\n",
      "1-th iter, nll: 67.019763, change: 0.027252, lapse: 1.113321\n",
      "2-th iter, nll: 67.019762, change: 0.000050, lapse: 1.039564\n",
      "1-th iter, nll: 67.019963, change: 0.014742, lapse: 1.039339\n",
      "2-th iter, nll: 67.019962, change: 0.000044, lapse: 0.999530\n",
      "1-th iter, nll: 67.019785, change: 0.013160, lapse: 1.063319\n",
      "2-th iter, nll: 67.019784, change: 0.000032, lapse: 0.993670\n",
      "1-th iter, nll: 67.019880, change: 0.015694, lapse: 1.032921\n",
      "2-th iter, nll: 67.019880, change: 0.000055, lapse: 0.929296\n",
      "1-th iter, nll: 67.019949, change: 0.015808, lapse: 1.066526\n",
      "2-th iter, nll: 67.019948, change: 0.000025, lapse: 0.935817\n",
      "1-th iter, nll: 67.019447, change: 0.021549, lapse: 1.141298\n",
      "2-th iter, nll: 67.019446, change: 0.000062, lapse: 1.041756\n",
      "1-th iter, nll: 67.019860, change: 0.022332, lapse: 1.167073\n",
      "2-th iter, nll: 67.019859, change: 0.000052, lapse: 0.987752\n",
      "1-th iter, nll: 67.019569, change: 0.019306, lapse: 1.030357\n",
      "2-th iter, nll: 67.019567, change: 0.000068, lapse: 1.002058\n",
      "1-th iter, nll: 67.019853, change: 0.022198, lapse: 1.101004\n",
      "2-th iter, nll: 67.019852, change: 0.000039, lapse: 1.014940\n",
      "1-th iter, nll: 67.019926, change: 0.016282, lapse: 1.048579\n",
      "2-th iter, nll: 67.019926, change: 0.000042, lapse: 1.012551\n",
      "1-th iter, nll: 67.019807, change: 0.017386, lapse: 1.053951\n",
      "2-th iter, nll: 67.019806, change: 0.000059, lapse: 0.975097\n",
      "1-th iter, nll: 67.019187, change: 0.024718, lapse: 1.032464\n",
      "2-th iter, nll: 67.019184, change: 0.000104, lapse: 1.034463\n",
      "1-th iter, nll: 67.018846, change: 0.042112, lapse: 1.062489\n",
      "2-th iter, nll: 67.018841, change: 0.000131, lapse: 1.028663\n",
      "1-th iter, nll: 67.018203, change: 0.045290, lapse: 1.208225\n",
      "2-th iter, nll: 67.018199, change: 0.000102, lapse: 1.023115\n",
      "1-th iter, nll: 67.019914, change: 0.024424, lapse: 1.156899\n",
      "2-th iter, nll: 67.019913, change: 0.000039, lapse: 0.993743\n",
      "1-th iter, nll: 67.019503, change: 0.032110, lapse: 1.214538\n",
      "2-th iter, nll: 67.019501, change: 0.000111, lapse: 1.012902\n"
     ]
    },
    {
     "name": "stdout",
     "output_type": "stream",
     "text": [
      "1-th iter, nll: 67.019882, change: 0.026934, lapse: 1.154446\n",
      "2-th iter, nll: 67.019881, change: 0.000040, lapse: 0.990470\n",
      "1-th iter, nll: 67.019421, change: 0.023904, lapse: 1.093343\n",
      "2-th iter, nll: 67.019419, change: 0.000071, lapse: 1.031755\n",
      "1-th iter, nll: 67.020043, change: 0.021061, lapse: 1.048084\n",
      "2-th iter, nll: 67.020042, change: 0.000017, lapse: 1.029771\n",
      "1-th iter, nll: 67.019046, change: 0.025985, lapse: 1.167231\n",
      "2-th iter, nll: 67.019044, change: 0.000082, lapse: 1.040805\n",
      "1-th iter, nll: 67.019990, change: 0.023166, lapse: 1.071048\n",
      "2-th iter, nll: 67.019990, change: 0.000026, lapse: 1.045703\n",
      "1-th iter, nll: 67.019452, change: 0.017760, lapse: 1.058580\n",
      "2-th iter, nll: 67.019451, change: 0.000053, lapse: 0.982572\n",
      "1-th iter, nll: 67.020025, change: 0.020525, lapse: 1.056847\n",
      "2-th iter, nll: 67.020025, change: 0.000023, lapse: 1.034619\n",
      "1-th iter, nll: 67.019830, change: 0.015837, lapse: 1.136322\n",
      "2-th iter, nll: 67.019830, change: 0.000076, lapse: 1.070358\n",
      "1-th iter, nll: 67.020001, change: 0.016309, lapse: 1.063794\n",
      "2-th iter, nll: 67.020000, change: 0.000037, lapse: 1.044434\n",
      "1-th iter, nll: 67.019346, change: 0.030993, lapse: 1.174407\n",
      "2-th iter, nll: 67.019345, change: 0.000096, lapse: 1.059726\n",
      "1-th iter, nll: 67.020043, change: 0.031587, lapse: 1.180034\n",
      "2-th iter, nll: 67.020042, change: 0.000017, lapse: 1.047536\n",
      "1-th iter, nll: 67.020022, change: 0.007014, lapse: 1.041616\n",
      "2-th iter, nll: 67.020022, change: 0.000024, lapse: 0.959564\n",
      "1-th iter, nll: 67.019961, change: 0.009530, lapse: 0.968874\n",
      "2-th iter, nll: 67.019961, change: 0.000043, lapse: 0.919977\n",
      "1-th iter, nll: 67.019956, change: 0.007281, lapse: 0.973833\n",
      "2-th iter, nll: 67.019955, change: 0.000033, lapse: 0.949671\n",
      "1-th iter, nll: 67.019787, change: 0.021228, lapse: 1.092993\n",
      "2-th iter, nll: 67.019786, change: 0.000032, lapse: 1.018123\n",
      "1-th iter, nll: 67.019806, change: 0.019477, lapse: 1.095441\n",
      "2-th iter, nll: 67.019806, change: 0.000044, lapse: 1.020021\n",
      "1-th iter, nll: 67.018965, change: 0.029868, lapse: 1.095097\n",
      "2-th iter, nll: 67.018961, change: 0.000119, lapse: 0.995809\n",
      "1-th iter, nll: 67.019425, change: 0.030516, lapse: 1.179712\n",
      "2-th iter, nll: 67.019423, change: 0.000139, lapse: 1.103761\n",
      "1-th iter, nll: 67.019641, change: 0.035803, lapse: 1.218312\n",
      "2-th iter, nll: 67.019639, change: 0.000154, lapse: 1.106133\n",
      "1-th iter, nll: 67.019786, change: 0.033728, lapse: 1.377676\n",
      "2-th iter, nll: 67.019785, change: 0.000053, lapse: 1.047704\n",
      "1-th iter, nll: 67.020010, change: 0.011823, lapse: 1.126906\n",
      "2-th iter, nll: 67.020010, change: 0.000022, lapse: 1.038126\n",
      "1-th iter, nll: 67.019656, change: 0.015470, lapse: 1.087834\n",
      "2-th iter, nll: 67.019655, change: 0.000057, lapse: 0.978795\n",
      "1-th iter, nll: 67.019774, change: 0.011708, lapse: 1.123479\n",
      "2-th iter, nll: 67.019773, change: 0.000049, lapse: 0.974281\n",
      "1-th iter, nll: 67.019855, change: 0.020455, lapse: 1.088908\n",
      "2-th iter, nll: 67.019854, change: 0.000040, lapse: 1.025713\n",
      "1-th iter, nll: 67.019534, change: 0.020014, lapse: 1.185818\n",
      "2-th iter, nll: 67.019533, change: 0.000058, lapse: 1.071822\n",
      "1-th iter, nll: 67.018671, change: 0.033369, lapse: 1.570996\n",
      "2-th iter, nll: 67.018668, change: 0.000072, lapse: 1.078559\n",
      "1-th iter, nll: 67.019881, change: 0.030110, lapse: 1.141193\n",
      "2-th iter, nll: 67.019880, change: 0.000038, lapse: 1.062502\n",
      "1-th iter, nll: 67.019130, change: 0.025984, lapse: 1.060600\n",
      "2-th iter, nll: 67.019126, change: 0.000112, lapse: 1.049805\n",
      "1-th iter, nll: 67.019846, change: 0.027648, lapse: 1.107450\n",
      "2-th iter, nll: 67.019845, change: 0.000059, lapse: 1.041487\n",
      "1-th iter, nll: 67.019734, change: 0.016637, lapse: 1.078657\n",
      "2-th iter, nll: 67.019733, change: 0.000047, lapse: 1.055769\n",
      "1-th iter, nll: 67.020035, change: 0.017088, lapse: 1.079808\n",
      "2-th iter, nll: 67.020035, change: 0.000022, lapse: 1.017135\n",
      "1-th iter, nll: 67.019550, change: 0.019839, lapse: 1.119393\n",
      "2-th iter, nll: 67.019548, change: 0.000058, lapse: 1.014240\n",
      "1-th iter, nll: 67.019214, change: 0.033811, lapse: 1.109724\n",
      "2-th iter, nll: 67.019212, change: 0.000101, lapse: 1.085491\n",
      "1-th iter, nll: 67.019741, change: 0.028916, lapse: 1.160548\n",
      "2-th iter, nll: 67.019740, change: 0.000076, lapse: 1.037035\n",
      "1-th iter, nll: 67.019511, change: 0.015137, lapse: 1.059508\n",
      "2-th iter, nll: 67.019510, change: 0.000051, lapse: 0.976146\n",
      "1-th iter, nll: 67.020047, change: 0.026504, lapse: 1.236473\n",
      "2-th iter, nll: 67.020047, change: 0.000012, lapse: 0.965983\n",
      "1-th iter, nll: 67.019107, change: 0.023680, lapse: 1.095236\n",
      "2-th iter, nll: 67.019105, change: 0.000067, lapse: 1.004447\n",
      "1-th iter, nll: 67.018399, change: 0.029096, lapse: 1.107364\n",
      "2-th iter, nll: 67.018394, change: 0.000160, lapse: 1.046600\n",
      "1-th iter, nll: 67.019940, change: 0.034339, lapse: 1.089091\n",
      "2-th iter, nll: 67.019938, change: 0.000029, lapse: 1.060470\n",
      "1-th iter, nll: 67.019500, change: 0.019328, lapse: 1.110047\n",
      "2-th iter, nll: 67.019498, change: 0.000129, lapse: 1.078967\n",
      "1-th iter, nll: 67.019938, change: 0.024255, lapse: 1.480423\n",
      "2-th iter, nll: 67.019937, change: 0.000040, lapse: 1.256452\n",
      "1-th iter, nll: 67.019835, change: 0.012395, lapse: 1.385364\n",
      "2-th iter, nll: 67.019835, change: 0.000049, lapse: 1.248989\n",
      "1-th iter, nll: 67.019324, change: 0.026649, lapse: 1.253511\n",
      "2-th iter, nll: 67.019322, change: 0.000059, lapse: 1.308862\n",
      "1-th iter, nll: 67.019150, change: 0.022015, lapse: 1.279466\n",
      "2-th iter, nll: 67.019148, change: 0.000068, lapse: 1.275965\n",
      "1-th iter, nll: 67.019738, change: 0.030054, lapse: 0.798136\n",
      "2-th iter, nll: 67.019737, change: 0.000057, lapse: 0.795480\n",
      "1-th iter, nll: 67.019729, change: 0.027404, lapse: 0.909524\n",
      "2-th iter, nll: 67.019728, change: 0.000075, lapse: 0.891026\n",
      "1-th iter, nll: 67.018762, change: 0.028451, lapse: 1.206101\n",
      "2-th iter, nll: 67.018759, change: 0.000081, lapse: 1.080381\n",
      "1-th iter, nll: 67.019932, change: 0.041459, lapse: 1.192623\n",
      "2-th iter, nll: 67.019931, change: 0.000033, lapse: 0.999794\n",
      "1-th iter, nll: 67.019849, change: 0.017379, lapse: 1.034895\n",
      "2-th iter, nll: 67.019849, change: 0.000033, lapse: 0.928699\n",
      "1-th iter, nll: 67.019442, change: 0.016264, lapse: 1.138169\n",
      "2-th iter, nll: 67.019440, change: 0.000068, lapse: 0.976020\n",
      "1-th iter, nll: 67.019779, change: 0.025332, lapse: 1.120045\n",
      "2-th iter, nll: 67.019778, change: 0.000050, lapse: 0.954607\n",
      "1-th iter, nll: 67.020036, change: 0.016111, lapse: 1.045451\n",
      "2-th iter, nll: 67.020036, change: 0.000018, lapse: 0.936990\n",
      "1-th iter, nll: 67.019528, change: 0.022082, lapse: 1.128778\n",
      "2-th iter, nll: 67.019527, change: 0.000045, lapse: 0.991109\n",
      "1-th iter, nll: 67.019913, change: 0.022120, lapse: 1.034258\n",
      "2-th iter, nll: 67.019913, change: 0.000067, lapse: 0.976537\n",
      "1-th iter, nll: 67.020026, change: 0.011451, lapse: 0.995094\n",
      "2-th iter, nll: 67.020025, change: 0.000020, lapse: 0.956083\n",
      "1-th iter, nll: 67.019865, change: 0.015687, lapse: 0.966186\n",
      "2-th iter, nll: 67.019865, change: 0.000045, lapse: 0.897383\n",
      "1-th iter, nll: 67.019872, change: 0.019046, lapse: 1.045650\n",
      "2-th iter, nll: 67.019872, change: 0.000042, lapse: 0.934520\n",
      "1-th iter, nll: 67.019740, change: 0.016009, lapse: 1.087962\n",
      "2-th iter, nll: 67.019740, change: 0.000044, lapse: 0.938645\n",
      "1-th iter, nll: 67.018347, change: 0.041267, lapse: 1.078270\n",
      "2-th iter, nll: 67.018344, change: 0.000086, lapse: 0.963186\n",
      "1-th iter, nll: 67.019908, change: 0.040551, lapse: 1.054183\n",
      "2-th iter, nll: 67.019908, change: 0.000038, lapse: 0.990689\n",
      "1-th iter, nll: 67.019914, change: 0.010862, lapse: 1.138806\n",
      "2-th iter, nll: 67.019913, change: 0.000027, lapse: 0.961087\n",
      "1-th iter, nll: 67.019861, change: 0.008022, lapse: 1.066181\n",
      "2-th iter, nll: 67.019861, change: 0.000035, lapse: 1.001401\n",
      "1-th iter, nll: 67.019585, change: 0.020811, lapse: 1.223053\n",
      "2-th iter, nll: 67.019584, change: 0.000071, lapse: 0.971038\n",
      "1-th iter, nll: 67.019545, change: 0.021061, lapse: 1.108942\n",
      "2-th iter, nll: 67.019544, change: 0.000074, lapse: 0.962067\n",
      "1-th iter, nll: 67.017852, change: 0.042594, lapse: 1.354402\n",
      "2-th iter, nll: 67.017848, change: 0.000105, lapse: 1.044858\n",
      "1-th iter, nll: 67.019672, change: 0.036124, lapse: 1.181176\n",
      "2-th iter, nll: 67.019670, change: 0.000069, lapse: 1.013321\n",
      "1-th iter, nll: 67.019744, change: 0.019393, lapse: 1.147967\n",
      "2-th iter, nll: 67.019743, change: 0.000049, lapse: 1.024974\n",
      "1-th iter, nll: 67.019620, change: 0.022930, lapse: 1.211412\n"
     ]
    },
    {
     "name": "stdout",
     "output_type": "stream",
     "text": [
      "2-th iter, nll: 67.019619, change: 0.000050, lapse: 1.179779\n",
      "1-th iter, nll: 67.019150, change: 0.022849, lapse: 1.161537\n",
      "2-th iter, nll: 67.019148, change: 0.000068, lapse: 1.276538\n",
      "1-th iter, nll: 67.019846, change: 0.032345, lapse: 1.165921\n",
      "2-th iter, nll: 67.019845, change: 0.000079, lapse: 1.045084\n",
      "1-th iter, nll: 67.018775, change: 0.031846, lapse: 1.203400\n",
      "2-th iter, nll: 67.018773, change: 0.000084, lapse: 1.054724\n",
      "1-th iter, nll: 67.018610, change: 0.043608, lapse: 1.186512\n",
      "2-th iter, nll: 67.018606, change: 0.000154, lapse: 1.090283\n",
      "1-th iter, nll: 67.019704, change: 0.039889, lapse: 1.169011\n",
      "2-th iter, nll: 67.019703, change: 0.000050, lapse: 1.222890\n",
      "1-th iter, nll: 67.019704, change: 0.020084, lapse: 1.153149\n",
      "2-th iter, nll: 67.019703, change: 0.000054, lapse: 1.043860\n"
     ]
    }
   ],
   "source": [
    "Omegas_perm = np.zeros([num_perm, 2*num_time, 2*num_time])\n",
    "Sigmas_perm = np.zeros([num_perm, 2*num_time, 2*num_time])\n",
    "\n",
    "for iter_perm in range(num_perm):    \n",
    "    while True:\n",
    "        with np.errstate(all='raise'):\n",
    "            try:\n",
    "                start_perm = time.time()\n",
    "                \n",
    "                # random sample\n",
    "                trial_sample = np.random.choice(num_trial, num_trial, False)\n",
    "                data_bst = [data[0], data[1][:,:,trial_sample]]\n",
    "\n",
    "                # permutation\n",
    "                Omega_perm, Sigma_perm, latent_perm, weight_perm \\\n",
    "                = ldn.fit(data_bst, lambda_diag, lambda_cross, offset_cross,\n",
    "                          lambda_auto, offset_auto, \n",
    "                          ths_glasso=1e-6, ths_lasso=1e-6, verbose=True,\n",
    "                          **init_arg)\n",
    "        \n",
    "                \n",
    "            except FloatingPointError:\n",
    "                sys.__stdout__.write(\"%d-th permutation encountered FloatingPointError, lapse:%.3fsec.\\n\"\n",
    "                                     %(iter_perm+1, time.time()-start_perm))\n",
    "                sys.__stdout__.write(\"Retrying...\\n\")\n",
    "                sys.__stdout__.flush()\n",
    "                continue\n",
    "                \n",
    "            init_arg = {'Omega_init':Omega_perm, 'weight_init':weight_perm}\n",
    "                        \n",
    "            # save result\n",
    "            Omegas_perm[iter_perm] = Omega_perm\n",
    "            Sigmas_perm[iter_perm] = Sigma_perm\n",
    "            \n",
    "            sys.__stdout__.write(\"%d-th permutation finished, lapse: %.3fsec.\\n\"\n",
    "                          %(iter_perm+1, time.time()-start_perm))\n",
    "            sys.__stdout__.flush()\n",
    "            break"
   ]
  },
  {
   "cell_type": "markdown",
   "metadata": {},
   "source": [
    "# 3. Inference by STAR"
   ]
  },
  {
   "cell_type": "code",
   "execution_count": 72,
   "metadata": {},
   "outputs": [],
   "source": [
    "alpha = 0.05\n",
    "roi = (np.abs(np.subtract(*np.where(\n",
    "       np.full([num_time,num_time],True)))\n",
    "       .reshape([num_time,num_time])) < offset_cross-1)"
   ]
  },
  {
   "cell_type": "code",
   "execution_count": 71,
   "metadata": {},
   "outputs": [],
   "source": [
    "dspr_est = 2*Omega_est - Omega_est @ Sigma_est @ Omega_est\n",
    "dsprs_perm = 2*Omegas_perm - Omegas_perm @ Sigmas_perm @ Omegas_perm"
   ]
  },
  {
   "cell_type": "code",
   "execution_count": 76,
   "metadata": {},
   "outputs": [],
   "source": [
    "dist_dspr_est = (dspr_est[:num_time,num_time:] / np.std(dsprs_perm[:,:num_time,num_time:],0))\n",
    "dist_dspr_perm = (dsprs_perm[:,:num_time,num_time:]\n",
    "                 / np.std(dsprs_perm[:,:num_time,num_time:],0))"
   ]
  },
  {
   "cell_type": "code",
   "execution_count": 79,
   "metadata": {},
   "outputs": [],
   "source": [
    "pval_est = np.full(dist_dspr_est.shape, 0.5)\n",
    "pval_est[roi] = np.clip(2*stats.norm.cdf(-np.abs(dist_dspr_est[roi])), 1e-10, 1-1e-10)"
   ]
  },
  {
   "cell_type": "code",
   "execution_count": 82,
   "metadata": {},
   "outputs": [],
   "source": [
    "R, fdp, score, mask = \\\n",
    "    inf.STAR_seq_step(pval_est, prop_carve = 0.05, alphas = [alpha],\n",
    "                      sigma=1, mux_init=-np.log(alpha), roi=roi)\n",
    "rej_STAR = mask[0]"
   ]
  },
  {
   "cell_type": "markdown",
   "metadata": {},
   "source": [
    "## plots"
   ]
  },
  {
   "cell_type": "code",
   "execution_count": 134,
   "metadata": {},
   "outputs": [
    {
     "data": {
      "text/plain": [
       "Text(0.5, 0, 'series 2 at time $s$')"
      ]
     },
     "execution_count": 134,
     "metadata": {},
     "output_type": "execute_result"
    },
    {
     "data": {
      "image/png": "[encoded data removed]",
      "text/plain": [
       "<Figure size 288x216 with 1 Axes>"
      ]
     },
     "metadata": {
      "needs_background": "light"
     },
     "output_type": "display_data"
    }
   ],
   "source": [
    "plt.figure(figsize=(4,3))\n",
    "ldn.imshow(pval_est > 0.01, cmap='gray', vmin=0, vmax=0.01, time=rec_time, identity=True)\n",
    "plt.fill_between((b_time[offset_cross], rec_time[1]), \n",
    "                (rec_time[0], rec_time[0]), \n",
    "                (rec_time[0], rec_time[1]-b_time[offset_cross]+rec_time[0]), color='lightgray')\n",
    "plt.fill_between((rec_time[0], rec_time[1]-b_time[offset_cross]+rec_time[0]), \n",
    "                (b_time[offset_cross], rec_time[1]), \n",
    "                (rec_time[1], rec_time[1]), color='lightgray')\n",
    "\n",
    "# cbar = plt.colorbar(ticks=[0, 0.01])\n",
    "# cbar.ax.set_yticklabels(['0.00','$>$ 0.01'])\n",
    "plt.ylabel(r'series 1 at time $t$'); plt.xlabel(r'series 2 at time $s$')\n",
    "# plt.yticks([0.0, 0.1, 0.2, 0.3, 0.4, 0.5], ['','','','','','',''])"
   ]
  },
  {
   "cell_type": "code",
   "execution_count": 129,
   "metadata": {},
   "outputs": [
    {
     "data": {
      "text/plain": [
       "[Text(1, 0, '-12e-3'),\n",
       " Text(1, 0, '-6e-3'),\n",
       " Text(1, 0, '0'),\n",
       " Text(1, 0, '6e-3'),\n",
       " Text(1, 0, '12e-3')]"
      ]
     },
     "execution_count": 129,
     "metadata": {},
     "output_type": "execute_result"
    },
    {
     "data": {
      "image/png": "[encoded data removed]",
      "text/plain": [
       "<Figure size 288x216 with 2 Axes>"
      ]
     },
     "metadata": {
      "needs_background": "light"
     },
     "output_type": "display_data"
    }
   ],
   "source": [
    "plt.figure(figsize=(4,3))\n",
    "ldn.imshow(rej_STAR * dspr_est[:num_time,num_time:], time=rec_time, identity=True)\n",
    "plt.fill_between((b_time[offset_cross], rec_time[1]), \n",
    "                (rec_time[0], rec_time[0]), \n",
    "                (rec_time[0], rec_time[1]-b_time[offset_cross]+rec_time[0]), color='lightgray')\n",
    "plt.fill_between((rec_time[0], rec_time[1]-b_time[offset_cross]+rec_time[0]), \n",
    "                (b_time[offset_cross], rec_time[1]), \n",
    "                (rec_time[1], rec_time[1]), color='lightgray')\n",
    "plt.xlim(rec_time[0], rec_time[1]); plt.ylim(rec_time[1], rec_time[0])\n",
    "plt.ylabel(r'series 1 at time $t$'); plt.xlabel(r'series 2 at time $s$')\n",
    "cbar = plt.colorbar(ticks=[-0.012, -0.006, 0.0, 0.006, 0.012])\n",
    "cbar.ax.set_yticklabels([r'-12e-3','-6e-3','0','6e-3',r'12e-3'])"
   ]
  },
  {
   "cell_type": "code",
   "execution_count": 86,
   "metadata": {},
   "outputs": [
    {
     "data": {
      "text/plain": [
       "Text(0, 0.5, 'V4 at time $s$ sec.')"
      ]
     },
     "execution_count": 86,
     "metadata": {},
     "output_type": "execute_result"
    },
    {
     "data": {
      "image/png": "[encoded data removed]",
      "text/plain": [
       "<Figure size 216x216 with 1 Axes>"
      ]
     },
     "metadata": {
      "needs_background": "light"
     },
     "output_type": "display_data"
    }
   ],
   "source": [
    "plt.figure(figsize=(3,3))\n",
    "ldn.imshow(rej_STAR * dspr_est[:num_time,num_time:], time=rec_time, identity=True)\n",
    "plt.xlabel(r\"PFC at time $t$ sec.\"); plt.ylabel(r\"V4 at time $s$ sec.\")"
   ]
  },
  {
   "cell_type": "markdown",
   "metadata": {},
   "source": [
    "# 4. Inference by excursion test"
   ]
  },
  {
   "cell_type": "code",
   "execution_count": 97,
   "metadata": {},
   "outputs": [],
   "source": [
    "ths_nv = 0.05"
   ]
  },
  {
   "cell_type": "code",
   "execution_count": 98,
   "metadata": {},
   "outputs": [],
   "source": [
    "rej_nv_est = pval_est < ths_nv\n",
    "rejs_nv_perm = pvals_perm < ths_nv"
   ]
  },
  {
   "cell_type": "code",
   "execution_count": 99,
   "metadata": {},
   "outputs": [],
   "source": [
    "rbs_nv_perm = np.zeros((num_perm, num_time, num_time))\n",
    "nbs_nv_perm = np.zeros((num_perm,))\n",
    "\n",
    "for iter_perm in range(num_perm):\n",
    "    mask_cp = rejs_nv_perm[iter_perm].copy(); iter_blob = 0\n",
    "    while np.any(mask_cp):\n",
    "        iter_blob += 1\n",
    "        queue = [tuple(np.transpose(np.where(mask_cp))[0])]\n",
    "        mask_cp[queue[0]] = False\n",
    "        while len(queue) > 0:\n",
    "            cur = queue.pop(0)\n",
    "            rbs_nv_perm[iter_perm, cur[0], cur[1]] = iter_blob\n",
    "            if cur[0] > 0:\n",
    "                if mask_cp[cur[0]-1, cur[1]]:\n",
    "                    queue.append((cur[0]-1, cur[1]))\n",
    "                    mask_cp[cur[0]-1, cur[1]] = False\n",
    "            if cur[0] < num_time-1:\n",
    "                if mask_cp[cur[0]+1, cur[1]]:\n",
    "                    queue.append((cur[0]+1, cur[1]))\n",
    "                    mask_cp[cur[0]+1, cur[1]] = False\n",
    "            if cur[1] > 0:\n",
    "                if mask_cp[cur[0], cur[1]-1]:\n",
    "                    queue.append((cur[0], cur[1]-1))\n",
    "                    mask_cp[cur[0], cur[1]-1] = False\n",
    "            if cur[1] < num_time-1:\n",
    "                if mask_cp[cur[0], cur[1]+1]:\n",
    "                    queue.append((cur[0], cur[1]+1))\n",
    "                    mask_cp[cur[0], cur[1]+1] = False\n",
    "    nbs_nv_perm[iter_perm] = iter_blob"
   ]
  },
  {
   "cell_type": "code",
   "execution_count": 100,
   "metadata": {
    "scrolled": true
   },
   "outputs": [],
   "source": [
    "mrois_nv_perm = np.zeros(num_perm)\n",
    "for iter_perm, (pval, rej_b, num_b) \\\n",
    "in enumerate(zip(pvals_perm, rbs_nv_perm, nbs_nv_perm)):\n",
    "    rois = np.zeros(int(num_b+1))\n",
    "    for iter_blob in range(1, int(num_b+1)):\n",
    "        rois[iter_blob] = np.sum(-np.log(\n",
    "            pvals_perm[iter_perm][rej_b == iter_blob]))\n",
    "    mrois_nv_perm[iter_perm] = np.max(rois)"
   ]
  },
  {
   "cell_type": "code",
   "execution_count": 101,
   "metadata": {},
   "outputs": [],
   "source": [
    "ths_roi_nv = np.quantile(mrois_nv_perm, 0.95)"
   ]
  },
  {
   "cell_type": "code",
   "execution_count": 102,
   "metadata": {},
   "outputs": [
    {
     "data": {
      "text/plain": [
       "<matplotlib.lines.Line2D at 0x7fc655f83610>"
      ]
     },
     "execution_count": 102,
     "metadata": {},
     "output_type": "execute_result"
    },
    {
     "data": {
      "image/png": "[encoded data removed]",
      "text/plain": [
       "<Figure size 432x288 with 1 Axes>"
      ]
     },
     "metadata": {
      "needs_background": "light"
     },
     "output_type": "display_data"
    }
   ],
   "source": [
    "plt.hist(mrois_nv_perm, bins=20)\n",
    "plt.axvline(x=ths_roi_nv, color='red')"
   ]
  },
  {
   "cell_type": "code",
   "execution_count": 103,
   "metadata": {},
   "outputs": [],
   "source": [
    "rb_nv_est = np.zeros((num_time, num_time))\n",
    "\n",
    "mask_cp = rej_nv_est.copy(); iter_blob = 0\n",
    "while np.any(mask_cp):\n",
    "    iter_blob += 1\n",
    "    queue = [tuple(np.transpose(np.where(mask_cp))[0])]\n",
    "    mask_cp[queue[0]] = False\n",
    "    while len(queue) > 0:\n",
    "        cur = queue.pop(0)\n",
    "        rb_nv_est[cur[0], cur[1]] = iter_blob\n",
    "        if cur[0] > 0:\n",
    "            if mask_cp[cur[0]-1, cur[1]]:\n",
    "                queue.append((cur[0]-1, cur[1]))\n",
    "                mask_cp[cur[0]-1, cur[1]] = False\n",
    "        if cur[0] < num_time-1:\n",
    "            if mask_cp[cur[0]+1, cur[1]]:\n",
    "                queue.append((cur[0]+1, cur[1]))\n",
    "                mask_cp[cur[0]+1, cur[1]] = False\n",
    "        if cur[1] > 0:\n",
    "            if mask_cp[cur[0], cur[1]-1]:\n",
    "                queue.append((cur[0], cur[1]-1))\n",
    "                mask_cp[cur[0], cur[1]-1] = False\n",
    "        if cur[1] < num_time-1:\n",
    "            if mask_cp[cur[0], cur[1]+1]:\n",
    "                queue.append((cur[0], cur[1]+1))\n",
    "                mask_cp[cur[0], cur[1]+1] = False\n",
    "nb_nv_est = iter_blob"
   ]
  },
  {
   "cell_type": "code",
   "execution_count": 104,
   "metadata": {},
   "outputs": [],
   "source": [
    "rois_nv_est = np.zeros(nb_nv_est+1)\n",
    "for iter_blob in range(1, nb_nv_est+1):\n",
    "    rois_nv_est[iter_blob] = np.sum(-np.log(pval_est[rb_nv_est == iter_blob]))"
   ]
  },
  {
   "cell_type": "code",
   "execution_count": 105,
   "metadata": {},
   "outputs": [
    {
     "data": {
      "text/plain": [
       "<matplotlib.lines.Line2D at 0x7fc64ce57f10>"
      ]
     },
     "execution_count": 105,
     "metadata": {},
     "output_type": "execute_result"
    },
    {
     "data": {
      "image/png": "[encoded data removed]",
      "text/plain": [
       "<Figure size 432x288 with 1 Axes>"
      ]
     },
     "metadata": {
      "needs_background": "light"
     },
     "output_type": "display_data"
    }
   ],
   "source": [
    "plt.hist(rois_nv_est, bins=20)\n",
    "plt.axvline(x=ths_roi_nv, color='red')"
   ]
  },
  {
   "cell_type": "code",
   "execution_count": 108,
   "metadata": {},
   "outputs": [
    {
     "data": {
      "text/plain": [
       "array([1.   , 0.   , 0.955, 1.   , 0.985, 0.99 , 0.995, 0.995, 0.   ,\n",
       "       0.99 , 0.   , 0.99 , 0.985])"
      ]
     },
     "execution_count": 108,
     "metadata": {},
     "output_type": "execute_result"
    }
   ],
   "source": [
    "p_rois_nv = np.mean(rois_nv_est <= mrois_nv_perm[:,None], 0); p_rois_nv"
   ]
  },
  {
   "cell_type": "markdown",
   "metadata": {},
   "source": [
    "## plot"
   ]
  },
  {
   "cell_type": "code",
   "execution_count": 107,
   "metadata": {},
   "outputs": [
    {
     "data": {
      "text/plain": [
       "Text(0.5, 0, 'series 2 at time $s$')"
      ]
     },
     "execution_count": 107,
     "metadata": {},
     "output_type": "execute_result"
    },
    {
     "data": {
      "image/png": "[encoded data removed]",
      "text/plain": [
       "<Figure size 216x216 with 1 Axes>"
      ]
     },
     "metadata": {
      "needs_background": "light"
     },
     "output_type": "display_data"
    }
   ],
   "source": [
    "plt.figure(figsize=(3,3))\n",
    "ldn.imshow(np.isin(rb_nv_est, np.where(rois_nv_est > ths_roi_nv)[0]), time=[rec_time[0], rec_time[1]], identity=True)\n",
    "plt.fill_between((b_time[offset_cross], rec_time[1]), \n",
    "                (rec_time[0], rec_time[0]), \n",
    "                (rec_time[0], rec_time[1]-b_time[offset_cross]+rec_time[0]), color='lightgray')\n",
    "plt.fill_between((rec_time[0], rec_time[1]-b_time[offset_cross]+rec_time[0]), \n",
    "                (b_time[offset_cross], rec_time[1]), \n",
    "                (rec_time[1], rec_time[1]), color='lightgray')\n",
    "plt.xlim(rec_time[0], rec_time[1]), plt.ylim(rec_time[1], rec_time[0])\n",
    "plt.ylabel(r'series 1 at time $t$'); plt.xlabel(r'series 2 at time $s$')"
   ]
  }
 ],
 "metadata": {
  "kernelspec": {
   "display_name": "Python 3",
   "language": "python",
   "name": "python3"
  },
  "language_info": {
   "codemirror_mode": {
    "name": "ipython",
    "version": 3
   },
   "file_extension": ".py",
   "mimetype": "text/x-python",
   "name": "python",
   "nbconvert_exporter": "python",
   "pygments_lexer": "ipython3",
   "version": "3.7.4"
  }
 },
 "nbformat": 4,
 "nbformat_minor": 2
}
